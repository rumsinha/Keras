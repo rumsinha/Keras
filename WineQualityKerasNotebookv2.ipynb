{
 "cells": [
  {
   "cell_type": "markdown",
   "metadata": {},
   "source": [
    "Importing libraries"
   ]
  },
  {
   "cell_type": "code",
   "execution_count": 62,
   "metadata": {},
   "outputs": [],
   "source": [
    "import warnings\n",
    "warnings.filterwarnings('ignore')"
   ]
  },
  {
   "cell_type": "code",
   "execution_count": 63,
   "metadata": {},
   "outputs": [],
   "source": [
    "import os, datetime\n",
    "\n",
    "import numpy as np \n",
    "import pandas as pd \n",
    "\n",
    "import seaborn as sns\n",
    "import matplotlib.pyplot as plt\n",
    "\n",
    "from sklearn.metrics import r2_score\n",
    "from sklearn.preprocessing import StandardScaler\n",
    "\n",
    "import tensorflow as tf\n",
    "\n",
    "from tensorflow import keras\n",
    "from tensorflow.keras import layers"
   ]
  },
  {
   "cell_type": "code",
   "execution_count": 64,
   "metadata": {},
   "outputs": [
    {
     "data": {
      "text/html": [
       "<div>\n",
       "<style scoped>\n",
       "    .dataframe tbody tr th:only-of-type {\n",
       "        vertical-align: middle;\n",
       "    }\n",
       "\n",
       "    .dataframe tbody tr th {\n",
       "        vertical-align: top;\n",
       "    }\n",
       "\n",
       "    .dataframe thead th {\n",
       "        text-align: right;\n",
       "    }\n",
       "</style>\n",
       "<table border=\"1\" class=\"dataframe\">\n",
       "  <thead>\n",
       "    <tr style=\"text-align: right;\">\n",
       "      <th></th>\n",
       "      <th>fixed acidity</th>\n",
       "      <th>volatile acidity</th>\n",
       "      <th>citric acid</th>\n",
       "      <th>residual sugar</th>\n",
       "      <th>chlorides</th>\n",
       "      <th>free sulfur dioxide</th>\n",
       "      <th>total sulfur dioxide</th>\n",
       "      <th>density</th>\n",
       "      <th>pH</th>\n",
       "      <th>sulphates</th>\n",
       "      <th>alcohol</th>\n",
       "      <th>quality</th>\n",
       "    </tr>\n",
       "  </thead>\n",
       "  <tbody>\n",
       "    <tr>\n",
       "      <th>1443</th>\n",
       "      <td>6.9</td>\n",
       "      <td>0.58</td>\n",
       "      <td>0.20</td>\n",
       "      <td>1.75</td>\n",
       "      <td>0.058</td>\n",
       "      <td>8.0</td>\n",
       "      <td>22.0</td>\n",
       "      <td>0.99322</td>\n",
       "      <td>3.38</td>\n",
       "      <td>0.49</td>\n",
       "      <td>11.7</td>\n",
       "      <td>5</td>\n",
       "    </tr>\n",
       "    <tr>\n",
       "      <th>701</th>\n",
       "      <td>7.0</td>\n",
       "      <td>0.65</td>\n",
       "      <td>0.02</td>\n",
       "      <td>2.10</td>\n",
       "      <td>0.066</td>\n",
       "      <td>8.0</td>\n",
       "      <td>25.0</td>\n",
       "      <td>0.99720</td>\n",
       "      <td>3.47</td>\n",
       "      <td>0.67</td>\n",
       "      <td>9.5</td>\n",
       "      <td>6</td>\n",
       "    </tr>\n",
       "    <tr>\n",
       "      <th>764</th>\n",
       "      <td>9.1</td>\n",
       "      <td>0.68</td>\n",
       "      <td>0.11</td>\n",
       "      <td>2.80</td>\n",
       "      <td>0.093</td>\n",
       "      <td>11.0</td>\n",
       "      <td>44.0</td>\n",
       "      <td>0.99888</td>\n",
       "      <td>3.31</td>\n",
       "      <td>0.55</td>\n",
       "      <td>9.5</td>\n",
       "      <td>6</td>\n",
       "    </tr>\n",
       "    <tr>\n",
       "      <th>895</th>\n",
       "      <td>7.1</td>\n",
       "      <td>0.59</td>\n",
       "      <td>0.01</td>\n",
       "      <td>2.30</td>\n",
       "      <td>0.080</td>\n",
       "      <td>27.0</td>\n",
       "      <td>43.0</td>\n",
       "      <td>0.99550</td>\n",
       "      <td>3.42</td>\n",
       "      <td>0.58</td>\n",
       "      <td>10.7</td>\n",
       "      <td>6</td>\n",
       "    </tr>\n",
       "    <tr>\n",
       "      <th>1245</th>\n",
       "      <td>7.4</td>\n",
       "      <td>0.55</td>\n",
       "      <td>0.19</td>\n",
       "      <td>1.80</td>\n",
       "      <td>0.082</td>\n",
       "      <td>15.0</td>\n",
       "      <td>34.0</td>\n",
       "      <td>0.99655</td>\n",
       "      <td>3.49</td>\n",
       "      <td>0.68</td>\n",
       "      <td>10.5</td>\n",
       "      <td>5</td>\n",
       "    </tr>\n",
       "  </tbody>\n",
       "</table>\n",
       "</div>"
      ],
      "text/plain": [
       "      fixed acidity  volatile acidity  citric acid  residual sugar  chlorides  \\\n",
       "1443            6.9              0.58         0.20            1.75      0.058   \n",
       "701             7.0              0.65         0.02            2.10      0.066   \n",
       "764             9.1              0.68         0.11            2.80      0.093   \n",
       "895             7.1              0.59         0.01            2.30      0.080   \n",
       "1245            7.4              0.55         0.19            1.80      0.082   \n",
       "\n",
       "      free sulfur dioxide  total sulfur dioxide  density    pH  sulphates  \\\n",
       "1443                  8.0                  22.0  0.99322  3.38       0.49   \n",
       "701                   8.0                  25.0  0.99720  3.47       0.67   \n",
       "764                  11.0                  44.0  0.99888  3.31       0.55   \n",
       "895                  27.0                  43.0  0.99550  3.42       0.58   \n",
       "1245                 15.0                  34.0  0.99655  3.49       0.68   \n",
       "\n",
       "      alcohol  quality  \n",
       "1443     11.7        5  \n",
       "701       9.5        6  \n",
       "764       9.5        6  \n",
       "895      10.7        6  \n",
       "1245     10.5        5  "
      ]
     },
     "execution_count": 64,
     "metadata": {},
     "output_type": "execute_result"
    }
   ],
   "source": [
    "data = pd.read_csv('winequality-red.csv')\n",
    "\n",
    "data.sample(5)"
   ]
  },
  {
   "cell_type": "code",
   "execution_count": 65,
   "metadata": {},
   "outputs": [
    {
     "data": {
      "text/plain": [
       "array([5, 6, 7, 4, 8, 3], dtype=int64)"
      ]
     },
     "execution_count": 65,
     "metadata": {},
     "output_type": "execute_result"
    }
   ],
   "source": [
    "data['quality'].unique()"
   ]
  },
  {
   "cell_type": "code",
   "execution_count": 66,
   "metadata": {},
   "outputs": [
    {
     "data": {
      "text/plain": [
       "(1599, 12)"
      ]
     },
     "execution_count": 66,
     "metadata": {},
     "output_type": "execute_result"
    }
   ],
   "source": [
    "data.shape"
   ]
  },
  {
   "cell_type": "code",
   "execution_count": 67,
   "metadata": {},
   "outputs": [
    {
     "name": "stdout",
     "output_type": "stream",
     "text": [
      "<class 'pandas.core.frame.DataFrame'>\n",
      "RangeIndex: 1599 entries, 0 to 1598\n",
      "Data columns (total 12 columns):\n",
      " #   Column                Non-Null Count  Dtype  \n",
      "---  ------                --------------  -----  \n",
      " 0   fixed acidity         1599 non-null   float64\n",
      " 1   volatile acidity      1599 non-null   float64\n",
      " 2   citric acid           1599 non-null   float64\n",
      " 3   residual sugar        1599 non-null   float64\n",
      " 4   chlorides             1599 non-null   float64\n",
      " 5   free sulfur dioxide   1599 non-null   float64\n",
      " 6   total sulfur dioxide  1599 non-null   float64\n",
      " 7   density               1599 non-null   float64\n",
      " 8   pH                    1599 non-null   float64\n",
      " 9   sulphates             1599 non-null   float64\n",
      " 10  alcohol               1599 non-null   float64\n",
      " 11  quality               1599 non-null   int64  \n",
      "dtypes: float64(11), int64(1)\n",
      "memory usage: 150.0 KB\n"
     ]
    }
   ],
   "source": [
    "data.info()"
   ]
  },
  {
   "cell_type": "code",
   "execution_count": 68,
   "metadata": {},
   "outputs": [
    {
     "data": {
      "text/plain": [
       "fixed acidity           0\n",
       "volatile acidity        0\n",
       "citric acid             0\n",
       "residual sugar          0\n",
       "chlorides               0\n",
       "free sulfur dioxide     0\n",
       "total sulfur dioxide    0\n",
       "density                 0\n",
       "pH                      0\n",
       "sulphates               0\n",
       "alcohol                 0\n",
       "quality                 0\n",
       "dtype: int64"
      ]
     },
     "execution_count": 68,
     "metadata": {},
     "output_type": "execute_result"
    }
   ],
   "source": [
    "data.isna().sum()"
   ]
  },
  {
   "cell_type": "code",
   "execution_count": 69,
   "metadata": {},
   "outputs": [
    {
     "data": {
      "text/plain": [
       "<AxesSubplot:xlabel='quality', ylabel='count'>"
      ]
     },
     "execution_count": 69,
     "metadata": {},
     "output_type": "execute_result"
    },
    {
     "data": {
      "image/png": "[encoded data removed]",
      "text/plain": [
       "<Figure size 432x288 with 1 Axes>"
      ]
     },
     "metadata": {
      "needs_background": "light"
     },
     "output_type": "display_data"
    }
   ],
   "source": [
    "sns.countplot(data['quality'])"
   ]
  },
  {
   "cell_type": "markdown",
   "metadata": {},
   "source": [
    "No Null features"
   ]
  },
  {
   "cell_type": "markdown",
   "metadata": {},
   "source": [
    "Data Visualization"
   ]
  },
  {
   "cell_type": "code",
   "execution_count": 70,
   "metadata": {},
   "outputs": [
    {
     "data": {
      "image/png": "[encoded data removed]",
      "text/plain": [
       "<Figure size 720x576 with 1 Axes>"
      ]
     },
     "metadata": {
      "needs_background": "light"
     },
     "output_type": "display_data"
    }
   ],
   "source": [
    "plt.figure(figsize=(10, 8))\n",
    "data.boxplot('quality')\n",
    "plt.show()"
   ]
  },
  {
   "cell_type": "code",
   "execution_count": 71,
   "metadata": {},
   "outputs": [
    {
     "data": {
      "image/png": "[encoded data removed]",
      "text/plain": [
       "<Figure size 720x576 with 1 Axes>"
      ]
     },
     "metadata": {
      "needs_background": "light"
     },
     "output_type": "display_data"
    }
   ],
   "source": [
    "plt.figure(figsize=(10, 8))\n",
    "data['quality'].plot.kde()\n",
    "plt.show()"
   ]
  },
  {
   "cell_type": "code",
   "execution_count": 72,
   "metadata": {},
   "outputs": [
    {
     "data": {
      "text/plain": [
       "<AxesSubplot:xlabel='quality', ylabel='count'>"
      ]
     },
     "execution_count": 72,
     "metadata": {},
     "output_type": "execute_result"
    },
    {
     "data": {
      "image/png": "[encoded data removed]",
      "text/plain": [
       "<Figure size 432x288 with 1 Axes>"
      ]
     },
     "metadata": {
      "needs_background": "light"
     },
     "output_type": "display_data"
    }
   ],
   "source": [
    "sns.countplot(x ='quality', data = data)"
   ]
  },
  {
   "cell_type": "code",
   "execution_count": 73,
   "metadata": {},
   "outputs": [
    {
     "data": {
      "text/plain": [
       "5    681\n",
       "6    638\n",
       "7    199\n",
       "4     53\n",
       "8     18\n",
       "3     10\n",
       "Name: quality, dtype: int64"
      ]
     },
     "execution_count": 73,
     "metadata": {},
     "output_type": "execute_result"
    }
   ],
   "source": [
    "data['quality'].value_counts()"
   ]
  },
  {
   "cell_type": "code",
   "execution_count": 74,
   "metadata": {},
   "outputs": [
    {
     "data": {
      "text/plain": [
       "<AxesSubplot:xlabel='quality', ylabel='alcohol'>"
      ]
     },
     "execution_count": 74,
     "metadata": {},
     "output_type": "execute_result"
    },
    {
     "data": {
      "image/png": "[encoded data removed]",
      "text/plain": [
       "<Figure size 432x288 with 1 Axes>"
      ]
     },
     "metadata": {
      "needs_background": "light"
     },
     "output_type": "display_data"
    }
   ],
   "source": [
    "sns.boxplot(x=\"quality\",y=\"alcohol\", data=data)"
   ]
  },
  {
   "cell_type": "code",
   "execution_count": 75,
   "metadata": {},
   "outputs": [
    {
     "data": {
      "text/plain": [
       "<AxesSubplot:xlabel='quality', ylabel='residual sugar'>"
      ]
     },
     "execution_count": 75,
     "metadata": {},
     "output_type": "execute_result"
    },
    {
     "data": {
      "image/png": "[encoded data removed]",
      "text/plain": [
       "<Figure size 1080x504 with 1 Axes>"
      ]
     },
     "metadata": {
      "needs_background": "light"
     },
     "output_type": "display_data"
    }
   ],
   "source": [
    "plot = plt.figure(figsize=(15,7))\n",
    "sns.boxplot(x=\"quality\",y=\"residual sugar\", data=data)"
   ]
  },
  {
   "cell_type": "code",
   "execution_count": 76,
   "metadata": {},
   "outputs": [
    {
     "data": {
      "text/plain": [
       "<AxesSubplot:xlabel='quality', ylabel='volatile acidity'>"
      ]
     },
     "execution_count": 76,
     "metadata": {},
     "output_type": "execute_result"
    },
    {
     "data": {
      "image/png": "[encoded data removed]",
      "text/plain": [
       "<Figure size 432x288 with 1 Axes>"
      ]
     },
     "metadata": {
      "needs_background": "light"
     },
     "output_type": "display_data"
    }
   ],
   "source": [
    "sns.boxplot(x=\"quality\",y=\"volatile acidity\", data=data)"
   ]
  },
  {
   "cell_type": "code",
   "execution_count": 77,
   "metadata": {},
   "outputs": [
    {
     "data": {
      "text/plain": [
       "<AxesSubplot:xlabel='quality', ylabel='pH'>"
      ]
     },
     "execution_count": 77,
     "metadata": {},
     "output_type": "execute_result"
    },
    {
     "data": {
      "image/png": "[encoded data removed]",
      "text/plain": [
       "<Figure size 1080x504 with 1 Axes>"
      ]
     },
     "metadata": {
      "needs_background": "light"
     },
     "output_type": "display_data"
    }
   ],
   "source": [
    "plot = plt.figure(figsize=(15,7))\n",
    "sns.boxplot(x=\"quality\",y=\"pH\", data=data)"
   ]
  },
  {
   "cell_type": "code",
   "execution_count": 78,
   "metadata": {},
   "outputs": [
    {
     "data": {
      "text/html": [
       "<div>\n",
       "<style scoped>\n",
       "    .dataframe tbody tr th:only-of-type {\n",
       "        vertical-align: middle;\n",
       "    }\n",
       "\n",
       "    .dataframe tbody tr th {\n",
       "        vertical-align: top;\n",
       "    }\n",
       "\n",
       "    .dataframe thead th {\n",
       "        text-align: right;\n",
       "    }\n",
       "</style>\n",
       "<table border=\"1\" class=\"dataframe\">\n",
       "  <thead>\n",
       "    <tr style=\"text-align: right;\">\n",
       "      <th></th>\n",
       "      <th>fixed acidity</th>\n",
       "      <th>volatile acidity</th>\n",
       "      <th>citric acid</th>\n",
       "      <th>residual sugar</th>\n",
       "      <th>chlorides</th>\n",
       "      <th>free sulfur dioxide</th>\n",
       "      <th>total sulfur dioxide</th>\n",
       "      <th>density</th>\n",
       "      <th>pH</th>\n",
       "      <th>sulphates</th>\n",
       "      <th>alcohol</th>\n",
       "      <th>quality</th>\n",
       "      <th>Quality</th>\n",
       "    </tr>\n",
       "  </thead>\n",
       "  <tbody>\n",
       "    <tr>\n",
       "      <th>0</th>\n",
       "      <td>7.4</td>\n",
       "      <td>0.70</td>\n",
       "      <td>0.00</td>\n",
       "      <td>1.9</td>\n",
       "      <td>0.076</td>\n",
       "      <td>11.0</td>\n",
       "      <td>34.0</td>\n",
       "      <td>0.9978</td>\n",
       "      <td>3.51</td>\n",
       "      <td>0.56</td>\n",
       "      <td>9.4</td>\n",
       "      <td>5</td>\n",
       "      <td>0</td>\n",
       "    </tr>\n",
       "    <tr>\n",
       "      <th>1</th>\n",
       "      <td>7.8</td>\n",
       "      <td>0.88</td>\n",
       "      <td>0.00</td>\n",
       "      <td>2.6</td>\n",
       "      <td>0.098</td>\n",
       "      <td>25.0</td>\n",
       "      <td>67.0</td>\n",
       "      <td>0.9968</td>\n",
       "      <td>3.20</td>\n",
       "      <td>0.68</td>\n",
       "      <td>9.8</td>\n",
       "      <td>5</td>\n",
       "      <td>0</td>\n",
       "    </tr>\n",
       "    <tr>\n",
       "      <th>2</th>\n",
       "      <td>7.8</td>\n",
       "      <td>0.76</td>\n",
       "      <td>0.04</td>\n",
       "      <td>2.3</td>\n",
       "      <td>0.092</td>\n",
       "      <td>15.0</td>\n",
       "      <td>54.0</td>\n",
       "      <td>0.9970</td>\n",
       "      <td>3.26</td>\n",
       "      <td>0.65</td>\n",
       "      <td>9.8</td>\n",
       "      <td>5</td>\n",
       "      <td>0</td>\n",
       "    </tr>\n",
       "    <tr>\n",
       "      <th>3</th>\n",
       "      <td>11.2</td>\n",
       "      <td>0.28</td>\n",
       "      <td>0.56</td>\n",
       "      <td>1.9</td>\n",
       "      <td>0.075</td>\n",
       "      <td>17.0</td>\n",
       "      <td>60.0</td>\n",
       "      <td>0.9980</td>\n",
       "      <td>3.16</td>\n",
       "      <td>0.58</td>\n",
       "      <td>9.8</td>\n",
       "      <td>6</td>\n",
       "      <td>0</td>\n",
       "    </tr>\n",
       "    <tr>\n",
       "      <th>4</th>\n",
       "      <td>7.4</td>\n",
       "      <td>0.70</td>\n",
       "      <td>0.00</td>\n",
       "      <td>1.9</td>\n",
       "      <td>0.076</td>\n",
       "      <td>11.0</td>\n",
       "      <td>34.0</td>\n",
       "      <td>0.9978</td>\n",
       "      <td>3.51</td>\n",
       "      <td>0.56</td>\n",
       "      <td>9.4</td>\n",
       "      <td>5</td>\n",
       "      <td>0</td>\n",
       "    </tr>\n",
       "  </tbody>\n",
       "</table>\n",
       "</div>"
      ],
      "text/plain": [
       "   fixed acidity  volatile acidity  citric acid  residual sugar  chlorides  \\\n",
       "0            7.4              0.70         0.00             1.9      0.076   \n",
       "1            7.8              0.88         0.00             2.6      0.098   \n",
       "2            7.8              0.76         0.04             2.3      0.092   \n",
       "3           11.2              0.28         0.56             1.9      0.075   \n",
       "4            7.4              0.70         0.00             1.9      0.076   \n",
       "\n",
       "   free sulfur dioxide  total sulfur dioxide  density    pH  sulphates  \\\n",
       "0                 11.0                  34.0   0.9978  3.51       0.56   \n",
       "1                 25.0                  67.0   0.9968  3.20       0.68   \n",
       "2                 15.0                  54.0   0.9970  3.26       0.65   \n",
       "3                 17.0                  60.0   0.9980  3.16       0.58   \n",
       "4                 11.0                  34.0   0.9978  3.51       0.56   \n",
       "\n",
       "   alcohol  quality  Quality  \n",
       "0      9.4        5        0  \n",
       "1      9.8        5        0  \n",
       "2      9.8        5        0  \n",
       "3      9.8        6        0  \n",
       "4      9.4        5        0  "
      ]
     },
     "execution_count": 78,
     "metadata": {},
     "output_type": "execute_result"
    }
   ],
   "source": [
    "data['Quality']=0\n",
    "data.loc[data['quality']>6, 'Quality']=1\n",
    "data.head()"
   ]
  },
  {
   "cell_type": "code",
   "execution_count": 79,
   "metadata": {},
   "outputs": [
    {
     "data": {
      "text/plain": [
       "<AxesSubplot:xlabel='Quality', ylabel='count'>"
      ]
     },
     "execution_count": 79,
     "metadata": {},
     "output_type": "execute_result"
    },
    {
     "data": {
      "image/png": "[encoded data removed]",
      "text/plain": [
       "<Figure size 432x288 with 1 Axes>"
      ]
     },
     "metadata": {
      "needs_background": "light"
     },
     "output_type": "display_data"
    }
   ],
   "source": [
    "sns.countplot(data['Quality'])"
   ]
  },
  {
   "cell_type": "code",
   "execution_count": 80,
   "metadata": {},
   "outputs": [],
   "source": [
    "data['Quality'].value_counts()\n",
    "data.drop('quality', axis=1, inplace=True)"
   ]
  },
  {
   "cell_type": "code",
   "execution_count": 81,
   "metadata": {},
   "outputs": [
    {
     "data": {
      "text/plain": [
       "<AxesSubplot:xlabel='Quality', ylabel='fixed acidity'>"
      ]
     },
     "execution_count": 81,
     "metadata": {},
     "output_type": "execute_result"
    },
    {
     "data": {
      "image/png": "[encoded data removed]",
      "text/plain": [
       "<Figure size 720x432 with 1 Axes>"
      ]
     },
     "metadata": {
      "needs_background": "light"
     },
     "output_type": "display_data"
    }
   ],
   "source": [
    "fig = plt.figure(figsize = (10,6))\n",
    "sns.barplot(x = 'Quality', y = 'fixed acidity', data = data)"
   ]
  },
  {
   "cell_type": "code",
   "execution_count": 82,
   "metadata": {},
   "outputs": [
    {
     "data": {
      "text/plain": [
       "<AxesSubplot:xlabel='Quality', ylabel='volatile acidity'>"
      ]
     },
     "execution_count": 82,
     "metadata": {},
     "output_type": "execute_result"
    },
    {
     "data": {
      "image/png": "[encoded data removed]",
      "text/plain": [
       "<Figure size 720x432 with 1 Axes>"
      ]
     },
     "metadata": {
      "needs_background": "light"
     },
     "output_type": "display_data"
    }
   ],
   "source": [
    "fig = plt.figure(figsize = (10,6))\n",
    "sns.barplot(x = 'Quality', y = 'volatile acidity', data = data)"
   ]
  },
  {
   "cell_type": "code",
   "execution_count": 83,
   "metadata": {},
   "outputs": [
    {
     "data": {
      "text/plain": [
       "<AxesSubplot:xlabel='Quality', ylabel='chlorides'>"
      ]
     },
     "execution_count": 83,
     "metadata": {},
     "output_type": "execute_result"
    },
    {
     "data": {
      "image/png": "[encoded data removed]",
      "text/plain": [
       "<Figure size 720x432 with 1 Axes>"
      ]
     },
     "metadata": {
      "needs_background": "light"
     },
     "output_type": "display_data"
    }
   ],
   "source": [
    "fig = plt.figure(figsize = (10,6))\n",
    "sns.barplot(x = 'Quality', y = 'chlorides', data = data)"
   ]
  },
  {
   "cell_type": "code",
   "execution_count": 84,
   "metadata": {},
   "outputs": [
    {
     "data": {
      "text/plain": [
       "<AxesSubplot:xlabel='Quality', ylabel='pH'>"
      ]
     },
     "execution_count": 84,
     "metadata": {},
     "output_type": "execute_result"
    },
    {
     "data": {
      "image/png": "[encoded data removed]",
      "text/plain": [
       "<Figure size 720x432 with 1 Axes>"
      ]
     },
     "metadata": {
      "needs_background": "light"
     },
     "output_type": "display_data"
    }
   ],
   "source": [
    "fig = plt.figure(figsize = (10,6))\n",
    "sns.barplot(x = 'Quality', y = 'pH', data = data)"
   ]
  },
  {
   "cell_type": "code",
   "execution_count": 85,
   "metadata": {},
   "outputs": [
    {
     "data": {
      "text/plain": [
       "<AxesSubplot:xlabel='Quality', ylabel='alcohol'>"
      ]
     },
     "execution_count": 85,
     "metadata": {},
     "output_type": "execute_result"
    },
    {
     "data": {
      "image/png": "[encoded data removed]",
      "text/plain": [
       "<Figure size 720x432 with 1 Axes>"
      ]
     },
     "metadata": {
      "needs_background": "light"
     },
     "output_type": "display_data"
    }
   ],
   "source": [
    "fig = plt.figure(figsize = (10,6))\n",
    "sns.barplot(x = 'Quality', y = 'alcohol', data = data)"
   ]
  },
  {
   "cell_type": "code",
   "execution_count": 86,
   "metadata": {},
   "outputs": [
    {
     "data": {
      "text/plain": [
       "<AxesSubplot:xlabel='Quality', ylabel='sulphates'>"
      ]
     },
     "execution_count": 86,
     "metadata": {},
     "output_type": "execute_result"
    },
    {
     "data": {
      "image/png": "[encoded data removed]",
      "text/plain": [
       "<Figure size 720x432 with 1 Axes>"
      ]
     },
     "metadata": {
      "needs_background": "light"
     },
     "output_type": "display_data"
    }
   ],
   "source": [
    "fig = plt.figure(figsize = (10,6))\n",
    "sns.barplot(x = 'Quality', y = 'sulphates', data = data)"
   ]
  },
  {
   "cell_type": "code",
   "execution_count": 87,
   "metadata": {},
   "outputs": [
    {
     "data": {
      "text/plain": [
       "<AxesSubplot:xlabel='Quality', ylabel='residual sugar'>"
      ]
     },
     "execution_count": 87,
     "metadata": {},
     "output_type": "execute_result"
    },
    {
     "data": {
      "image/png": "[encoded data removed]",
      "text/plain": [
       "<Figure size 720x432 with 1 Axes>"
      ]
     },
     "metadata": {
      "needs_background": "light"
     },
     "output_type": "display_data"
    }
   ],
   "source": [
    "fig = plt.figure(figsize = (10,6))\n",
    "sns.barplot(x = 'Quality', y = 'residual sugar', data = data)"
   ]
  },
  {
   "cell_type": "code",
   "execution_count": 88,
   "metadata": {},
   "outputs": [
    {
     "data": {
      "text/plain": [
       "<AxesSubplot:xlabel='Quality', ylabel='citric acid'>"
      ]
     },
     "execution_count": 88,
     "metadata": {},
     "output_type": "execute_result"
    },
    {
     "data": {
      "image/png": "[encoded data removed]",
      "text/plain": [
       "<Figure size 720x432 with 1 Axes>"
      ]
     },
     "metadata": {
      "needs_background": "light"
     },
     "output_type": "display_data"
    }
   ],
   "source": [
    "fig = plt.figure(figsize = (10,6))\n",
    "sns.barplot(x = 'Quality', y = 'citric acid', data = data)"
   ]
  },
  {
   "cell_type": "code",
   "execution_count": 89,
   "metadata": {},
   "outputs": [
    {
     "data": {
      "text/html": [
       "<div>\n",
       "<style scoped>\n",
       "    .dataframe tbody tr th:only-of-type {\n",
       "        vertical-align: middle;\n",
       "    }\n",
       "\n",
       "    .dataframe tbody tr th {\n",
       "        vertical-align: top;\n",
       "    }\n",
       "\n",
       "    .dataframe thead th {\n",
       "        text-align: right;\n",
       "    }\n",
       "</style>\n",
       "<table border=\"1\" class=\"dataframe\">\n",
       "  <thead>\n",
       "    <tr style=\"text-align: right;\">\n",
       "      <th></th>\n",
       "      <th>fixed acidity</th>\n",
       "      <th>volatile acidity</th>\n",
       "      <th>citric acid</th>\n",
       "      <th>residual sugar</th>\n",
       "      <th>chlorides</th>\n",
       "      <th>free sulfur dioxide</th>\n",
       "      <th>total sulfur dioxide</th>\n",
       "      <th>density</th>\n",
       "      <th>pH</th>\n",
       "      <th>sulphates</th>\n",
       "      <th>alcohol</th>\n",
       "      <th>Quality</th>\n",
       "    </tr>\n",
       "  </thead>\n",
       "  <tbody>\n",
       "    <tr>\n",
       "      <th>fixed acidity</th>\n",
       "      <td>1.000000</td>\n",
       "      <td>-0.256131</td>\n",
       "      <td>0.671703</td>\n",
       "      <td>0.114777</td>\n",
       "      <td>0.093705</td>\n",
       "      <td>-0.153794</td>\n",
       "      <td>-0.113181</td>\n",
       "      <td>0.668047</td>\n",
       "      <td>-0.682978</td>\n",
       "      <td>0.183006</td>\n",
       "      <td>-0.061668</td>\n",
       "      <td>0.120061</td>\n",
       "    </tr>\n",
       "    <tr>\n",
       "      <th>volatile acidity</th>\n",
       "      <td>-0.256131</td>\n",
       "      <td>1.000000</td>\n",
       "      <td>-0.552496</td>\n",
       "      <td>0.001918</td>\n",
       "      <td>0.061298</td>\n",
       "      <td>-0.010504</td>\n",
       "      <td>0.076470</td>\n",
       "      <td>0.022026</td>\n",
       "      <td>0.234937</td>\n",
       "      <td>-0.260987</td>\n",
       "      <td>-0.202288</td>\n",
       "      <td>-0.270712</td>\n",
       "    </tr>\n",
       "    <tr>\n",
       "      <th>citric acid</th>\n",
       "      <td>0.671703</td>\n",
       "      <td>-0.552496</td>\n",
       "      <td>1.000000</td>\n",
       "      <td>0.143577</td>\n",
       "      <td>0.203823</td>\n",
       "      <td>-0.060978</td>\n",
       "      <td>0.035533</td>\n",
       "      <td>0.364947</td>\n",
       "      <td>-0.541904</td>\n",
       "      <td>0.312770</td>\n",
       "      <td>0.109903</td>\n",
       "      <td>0.214716</td>\n",
       "    </tr>\n",
       "    <tr>\n",
       "      <th>residual sugar</th>\n",
       "      <td>0.114777</td>\n",
       "      <td>0.001918</td>\n",
       "      <td>0.143577</td>\n",
       "      <td>1.000000</td>\n",
       "      <td>0.055610</td>\n",
       "      <td>0.187049</td>\n",
       "      <td>0.203028</td>\n",
       "      <td>0.355283</td>\n",
       "      <td>-0.085652</td>\n",
       "      <td>0.005527</td>\n",
       "      <td>0.042075</td>\n",
       "      <td>0.047779</td>\n",
       "    </tr>\n",
       "    <tr>\n",
       "      <th>chlorides</th>\n",
       "      <td>0.093705</td>\n",
       "      <td>0.061298</td>\n",
       "      <td>0.203823</td>\n",
       "      <td>0.055610</td>\n",
       "      <td>1.000000</td>\n",
       "      <td>0.005562</td>\n",
       "      <td>0.047400</td>\n",
       "      <td>0.200632</td>\n",
       "      <td>-0.265026</td>\n",
       "      <td>0.371260</td>\n",
       "      <td>-0.221141</td>\n",
       "      <td>-0.097308</td>\n",
       "    </tr>\n",
       "    <tr>\n",
       "      <th>free sulfur dioxide</th>\n",
       "      <td>-0.153794</td>\n",
       "      <td>-0.010504</td>\n",
       "      <td>-0.060978</td>\n",
       "      <td>0.187049</td>\n",
       "      <td>0.005562</td>\n",
       "      <td>1.000000</td>\n",
       "      <td>0.667666</td>\n",
       "      <td>-0.021946</td>\n",
       "      <td>0.070377</td>\n",
       "      <td>0.051658</td>\n",
       "      <td>-0.069408</td>\n",
       "      <td>-0.071747</td>\n",
       "    </tr>\n",
       "    <tr>\n",
       "      <th>total sulfur dioxide</th>\n",
       "      <td>-0.113181</td>\n",
       "      <td>0.076470</td>\n",
       "      <td>0.035533</td>\n",
       "      <td>0.203028</td>\n",
       "      <td>0.047400</td>\n",
       "      <td>0.667666</td>\n",
       "      <td>1.000000</td>\n",
       "      <td>0.071269</td>\n",
       "      <td>-0.066495</td>\n",
       "      <td>0.042947</td>\n",
       "      <td>-0.205654</td>\n",
       "      <td>-0.139517</td>\n",
       "    </tr>\n",
       "    <tr>\n",
       "      <th>density</th>\n",
       "      <td>0.668047</td>\n",
       "      <td>0.022026</td>\n",
       "      <td>0.364947</td>\n",
       "      <td>0.355283</td>\n",
       "      <td>0.200632</td>\n",
       "      <td>-0.021946</td>\n",
       "      <td>0.071269</td>\n",
       "      <td>1.000000</td>\n",
       "      <td>-0.341699</td>\n",
       "      <td>0.148506</td>\n",
       "      <td>-0.496180</td>\n",
       "      <td>-0.150460</td>\n",
       "    </tr>\n",
       "    <tr>\n",
       "      <th>pH</th>\n",
       "      <td>-0.682978</td>\n",
       "      <td>0.234937</td>\n",
       "      <td>-0.541904</td>\n",
       "      <td>-0.085652</td>\n",
       "      <td>-0.265026</td>\n",
       "      <td>0.070377</td>\n",
       "      <td>-0.066495</td>\n",
       "      <td>-0.341699</td>\n",
       "      <td>1.000000</td>\n",
       "      <td>-0.196648</td>\n",
       "      <td>0.205633</td>\n",
       "      <td>-0.057283</td>\n",
       "    </tr>\n",
       "    <tr>\n",
       "      <th>sulphates</th>\n",
       "      <td>0.183006</td>\n",
       "      <td>-0.260987</td>\n",
       "      <td>0.312770</td>\n",
       "      <td>0.005527</td>\n",
       "      <td>0.371260</td>\n",
       "      <td>0.051658</td>\n",
       "      <td>0.042947</td>\n",
       "      <td>0.148506</td>\n",
       "      <td>-0.196648</td>\n",
       "      <td>1.000000</td>\n",
       "      <td>0.093595</td>\n",
       "      <td>0.199485</td>\n",
       "    </tr>\n",
       "    <tr>\n",
       "      <th>alcohol</th>\n",
       "      <td>-0.061668</td>\n",
       "      <td>-0.202288</td>\n",
       "      <td>0.109903</td>\n",
       "      <td>0.042075</td>\n",
       "      <td>-0.221141</td>\n",
       "      <td>-0.069408</td>\n",
       "      <td>-0.205654</td>\n",
       "      <td>-0.496180</td>\n",
       "      <td>0.205633</td>\n",
       "      <td>0.093595</td>\n",
       "      <td>1.000000</td>\n",
       "      <td>0.407315</td>\n",
       "    </tr>\n",
       "    <tr>\n",
       "      <th>Quality</th>\n",
       "      <td>0.120061</td>\n",
       "      <td>-0.270712</td>\n",
       "      <td>0.214716</td>\n",
       "      <td>0.047779</td>\n",
       "      <td>-0.097308</td>\n",
       "      <td>-0.071747</td>\n",
       "      <td>-0.139517</td>\n",
       "      <td>-0.150460</td>\n",
       "      <td>-0.057283</td>\n",
       "      <td>0.199485</td>\n",
       "      <td>0.407315</td>\n",
       "      <td>1.000000</td>\n",
       "    </tr>\n",
       "  </tbody>\n",
       "</table>\n",
       "</div>"
      ],
      "text/plain": [
       "                      fixed acidity  volatile acidity  citric acid  \\\n",
       "fixed acidity              1.000000         -0.256131     0.671703   \n",
       "volatile acidity          -0.256131          1.000000    -0.552496   \n",
       "citric acid                0.671703         -0.552496     1.000000   \n",
       "residual sugar             0.114777          0.001918     0.143577   \n",
       "chlorides                  0.093705          0.061298     0.203823   \n",
       "free sulfur dioxide       -0.153794         -0.010504    -0.060978   \n",
       "total sulfur dioxide      -0.113181          0.076470     0.035533   \n",
       "density                    0.668047          0.022026     0.364947   \n",
       "pH                        -0.682978          0.234937    -0.541904   \n",
       "sulphates                  0.183006         -0.260987     0.312770   \n",
       "alcohol                   -0.061668         -0.202288     0.109903   \n",
       "Quality                    0.120061         -0.270712     0.214716   \n",
       "\n",
       "                      residual sugar  chlorides  free sulfur dioxide  \\\n",
       "fixed acidity               0.114777   0.093705            -0.153794   \n",
       "volatile acidity            0.001918   0.061298            -0.010504   \n",
       "citric acid                 0.143577   0.203823            -0.060978   \n",
       "residual sugar              1.000000   0.055610             0.187049   \n",
       "chlorides                   0.055610   1.000000             0.005562   \n",
       "free sulfur dioxide         0.187049   0.005562             1.000000   \n",
       "total sulfur dioxide        0.203028   0.047400             0.667666   \n",
       "density                     0.355283   0.200632            -0.021946   \n",
       "pH                         -0.085652  -0.265026             0.070377   \n",
       "sulphates                   0.005527   0.371260             0.051658   \n",
       "alcohol                     0.042075  -0.221141            -0.069408   \n",
       "Quality                     0.047779  -0.097308            -0.071747   \n",
       "\n",
       "                      total sulfur dioxide   density        pH  sulphates  \\\n",
       "fixed acidity                    -0.113181  0.668047 -0.682978   0.183006   \n",
       "volatile acidity                  0.076470  0.022026  0.234937  -0.260987   \n",
       "citric acid                       0.035533  0.364947 -0.541904   0.312770   \n",
       "residual sugar                    0.203028  0.355283 -0.085652   0.005527   \n",
       "chlorides                         0.047400  0.200632 -0.265026   0.371260   \n",
       "free sulfur dioxide               0.667666 -0.021946  0.070377   0.051658   \n",
       "total sulfur dioxide              1.000000  0.071269 -0.066495   0.042947   \n",
       "density                           0.071269  1.000000 -0.341699   0.148506   \n",
       "pH                               -0.066495 -0.341699  1.000000  -0.196648   \n",
       "sulphates                         0.042947  0.148506 -0.196648   1.000000   \n",
       "alcohol                          -0.205654 -0.496180  0.205633   0.093595   \n",
       "Quality                          -0.139517 -0.150460 -0.057283   0.199485   \n",
       "\n",
       "                       alcohol   Quality  \n",
       "fixed acidity        -0.061668  0.120061  \n",
       "volatile acidity     -0.202288 -0.270712  \n",
       "citric acid           0.109903  0.214716  \n",
       "residual sugar        0.042075  0.047779  \n",
       "chlorides            -0.221141 -0.097308  \n",
       "free sulfur dioxide  -0.069408 -0.071747  \n",
       "total sulfur dioxide -0.205654 -0.139517  \n",
       "density              -0.496180 -0.150460  \n",
       "pH                    0.205633 -0.057283  \n",
       "sulphates             0.093595  0.199485  \n",
       "alcohol               1.000000  0.407315  \n",
       "Quality               0.407315  1.000000  "
      ]
     },
     "execution_count": 89,
     "metadata": {},
     "output_type": "execute_result"
    }
   ],
   "source": [
    "data_corr = data.corr()\n",
    "\n",
    "data_corr"
   ]
  },
  {
   "cell_type": "code",
   "execution_count": 90,
   "metadata": {},
   "outputs": [
    {
     "data": {
      "image/png": "[encoded data removed]",
      "text/plain": [
       "<Figure size 864x576 with 2 Axes>"
      ]
     },
     "metadata": {
      "needs_background": "light"
     },
     "output_type": "display_data"
    }
   ],
   "source": [
    "fig, ax = plt.subplots(figsize=(12, 8))\n",
    "\n",
    "sns.heatmap(data_corr, annot=True)\n",
    "\n",
    "plt.show()"
   ]
  },
  {
   "cell_type": "markdown",
   "metadata": {},
   "source": [
    "Splitting the data"
   ]
  },
  {
   "cell_type": "code",
   "execution_count": 91,
   "metadata": {},
   "outputs": [],
   "source": [
    "features = data.drop('Quality', axis=1)\n",
    "\n",
    "target = data[['Quality']]"
   ]
  },
  {
   "cell_type": "code",
   "execution_count": 92,
   "metadata": {},
   "outputs": [
    {
     "data": {
      "text/html": [
       "<div>\n",
       "<style scoped>\n",
       "    .dataframe tbody tr th:only-of-type {\n",
       "        vertical-align: middle;\n",
       "    }\n",
       "\n",
       "    .dataframe tbody tr th {\n",
       "        vertical-align: top;\n",
       "    }\n",
       "\n",
       "    .dataframe thead th {\n",
       "        text-align: right;\n",
       "    }\n",
       "</style>\n",
       "<table border=\"1\" class=\"dataframe\">\n",
       "  <thead>\n",
       "    <tr style=\"text-align: right;\">\n",
       "      <th></th>\n",
       "      <th>fixed acidity</th>\n",
       "      <th>volatile acidity</th>\n",
       "      <th>citric acid</th>\n",
       "      <th>residual sugar</th>\n",
       "      <th>chlorides</th>\n",
       "      <th>free sulfur dioxide</th>\n",
       "      <th>total sulfur dioxide</th>\n",
       "      <th>density</th>\n",
       "      <th>pH</th>\n",
       "      <th>sulphates</th>\n",
       "      <th>alcohol</th>\n",
       "    </tr>\n",
       "  </thead>\n",
       "  <tbody>\n",
       "    <tr>\n",
       "      <th>1175</th>\n",
       "      <td>6.5</td>\n",
       "      <td>0.610</td>\n",
       "      <td>0.00</td>\n",
       "      <td>2.20</td>\n",
       "      <td>0.095</td>\n",
       "      <td>48.0</td>\n",
       "      <td>59.0</td>\n",
       "      <td>0.99541</td>\n",
       "      <td>3.61</td>\n",
       "      <td>0.70</td>\n",
       "      <td>11.5</td>\n",
       "    </tr>\n",
       "    <tr>\n",
       "      <th>403</th>\n",
       "      <td>11.4</td>\n",
       "      <td>0.600</td>\n",
       "      <td>0.49</td>\n",
       "      <td>2.70</td>\n",
       "      <td>0.085</td>\n",
       "      <td>10.0</td>\n",
       "      <td>41.0</td>\n",
       "      <td>0.99940</td>\n",
       "      <td>3.15</td>\n",
       "      <td>0.63</td>\n",
       "      <td>10.5</td>\n",
       "    </tr>\n",
       "    <tr>\n",
       "      <th>83</th>\n",
       "      <td>7.3</td>\n",
       "      <td>0.670</td>\n",
       "      <td>0.26</td>\n",
       "      <td>1.80</td>\n",
       "      <td>0.401</td>\n",
       "      <td>16.0</td>\n",
       "      <td>51.0</td>\n",
       "      <td>0.99690</td>\n",
       "      <td>3.16</td>\n",
       "      <td>1.14</td>\n",
       "      <td>9.4</td>\n",
       "    </tr>\n",
       "    <tr>\n",
       "      <th>1181</th>\n",
       "      <td>9.8</td>\n",
       "      <td>0.390</td>\n",
       "      <td>0.43</td>\n",
       "      <td>1.65</td>\n",
       "      <td>0.068</td>\n",
       "      <td>5.0</td>\n",
       "      <td>11.0</td>\n",
       "      <td>0.99478</td>\n",
       "      <td>3.19</td>\n",
       "      <td>0.46</td>\n",
       "      <td>11.4</td>\n",
       "    </tr>\n",
       "    <tr>\n",
       "      <th>835</th>\n",
       "      <td>7.6</td>\n",
       "      <td>0.665</td>\n",
       "      <td>0.10</td>\n",
       "      <td>1.50</td>\n",
       "      <td>0.066</td>\n",
       "      <td>27.0</td>\n",
       "      <td>55.0</td>\n",
       "      <td>0.99655</td>\n",
       "      <td>3.39</td>\n",
       "      <td>0.51</td>\n",
       "      <td>9.3</td>\n",
       "    </tr>\n",
       "  </tbody>\n",
       "</table>\n",
       "</div>"
      ],
      "text/plain": [
       "      fixed acidity  volatile acidity  citric acid  residual sugar  chlorides  \\\n",
       "1175            6.5             0.610         0.00            2.20      0.095   \n",
       "403            11.4             0.600         0.49            2.70      0.085   \n",
       "83              7.3             0.670         0.26            1.80      0.401   \n",
       "1181            9.8             0.390         0.43            1.65      0.068   \n",
       "835             7.6             0.665         0.10            1.50      0.066   \n",
       "\n",
       "      free sulfur dioxide  total sulfur dioxide  density    pH  sulphates  \\\n",
       "1175                 48.0                  59.0  0.99541  3.61       0.70   \n",
       "403                  10.0                  41.0  0.99940  3.15       0.63   \n",
       "83                   16.0                  51.0  0.99690  3.16       1.14   \n",
       "1181                  5.0                  11.0  0.99478  3.19       0.46   \n",
       "835                  27.0                  55.0  0.99655  3.39       0.51   \n",
       "\n",
       "      alcohol  \n",
       "1175     11.5  \n",
       "403      10.5  \n",
       "83        9.4  \n",
       "1181     11.4  \n",
       "835       9.3  "
      ]
     },
     "execution_count": 92,
     "metadata": {},
     "output_type": "execute_result"
    }
   ],
   "source": [
    "features.sample(5)"
   ]
  },
  {
   "cell_type": "code",
   "execution_count": 93,
   "metadata": {},
   "outputs": [
    {
     "data": {
      "text/html": [
       "<div>\n",
       "<style scoped>\n",
       "    .dataframe tbody tr th:only-of-type {\n",
       "        vertical-align: middle;\n",
       "    }\n",
       "\n",
       "    .dataframe tbody tr th {\n",
       "        vertical-align: top;\n",
       "    }\n",
       "\n",
       "    .dataframe thead th {\n",
       "        text-align: right;\n",
       "    }\n",
       "</style>\n",
       "<table border=\"1\" class=\"dataframe\">\n",
       "  <thead>\n",
       "    <tr style=\"text-align: right;\">\n",
       "      <th></th>\n",
       "      <th>Quality</th>\n",
       "    </tr>\n",
       "  </thead>\n",
       "  <tbody>\n",
       "    <tr>\n",
       "      <th>166</th>\n",
       "      <td>0</td>\n",
       "    </tr>\n",
       "    <tr>\n",
       "      <th>212</th>\n",
       "      <td>0</td>\n",
       "    </tr>\n",
       "    <tr>\n",
       "      <th>1200</th>\n",
       "      <td>0</td>\n",
       "    </tr>\n",
       "    <tr>\n",
       "      <th>712</th>\n",
       "      <td>0</td>\n",
       "    </tr>\n",
       "    <tr>\n",
       "      <th>428</th>\n",
       "      <td>0</td>\n",
       "    </tr>\n",
       "    <tr>\n",
       "      <th>719</th>\n",
       "      <td>0</td>\n",
       "    </tr>\n",
       "    <tr>\n",
       "      <th>1136</th>\n",
       "      <td>0</td>\n",
       "    </tr>\n",
       "    <tr>\n",
       "      <th>1137</th>\n",
       "      <td>0</td>\n",
       "    </tr>\n",
       "    <tr>\n",
       "      <th>1103</th>\n",
       "      <td>0</td>\n",
       "    </tr>\n",
       "    <tr>\n",
       "      <th>279</th>\n",
       "      <td>1</td>\n",
       "    </tr>\n",
       "  </tbody>\n",
       "</table>\n",
       "</div>"
      ],
      "text/plain": [
       "      Quality\n",
       "166         0\n",
       "212         0\n",
       "1200        0\n",
       "712         0\n",
       "428         0\n",
       "719         0\n",
       "1136        0\n",
       "1137        0\n",
       "1103        0\n",
       "279         1"
      ]
     },
     "execution_count": 93,
     "metadata": {},
     "output_type": "execute_result"
    }
   ],
   "source": [
    "target.sample(10)"
   ]
  },
  {
   "cell_type": "code",
   "execution_count": 94,
   "metadata": {},
   "outputs": [
    {
     "data": {
      "text/html": [
       "<div>\n",
       "<style scoped>\n",
       "    .dataframe tbody tr th:only-of-type {\n",
       "        vertical-align: middle;\n",
       "    }\n",
       "\n",
       "    .dataframe tbody tr th {\n",
       "        vertical-align: top;\n",
       "    }\n",
       "\n",
       "    .dataframe thead th {\n",
       "        text-align: right;\n",
       "    }\n",
       "</style>\n",
       "<table border=\"1\" class=\"dataframe\">\n",
       "  <thead>\n",
       "    <tr style=\"text-align: right;\">\n",
       "      <th></th>\n",
       "      <th>fixed acidity</th>\n",
       "      <th>volatile acidity</th>\n",
       "      <th>citric acid</th>\n",
       "      <th>residual sugar</th>\n",
       "      <th>chlorides</th>\n",
       "      <th>free sulfur dioxide</th>\n",
       "      <th>total sulfur dioxide</th>\n",
       "      <th>density</th>\n",
       "      <th>pH</th>\n",
       "      <th>sulphates</th>\n",
       "      <th>alcohol</th>\n",
       "    </tr>\n",
       "  </thead>\n",
       "  <tbody>\n",
       "    <tr>\n",
       "      <th>count</th>\n",
       "      <td>1.599000e+03</td>\n",
       "      <td>1.599000e+03</td>\n",
       "      <td>1.599000e+03</td>\n",
       "      <td>1.599000e+03</td>\n",
       "      <td>1.599000e+03</td>\n",
       "      <td>1.599000e+03</td>\n",
       "      <td>1.599000e+03</td>\n",
       "      <td>1.599000e+03</td>\n",
       "      <td>1.599000e+03</td>\n",
       "      <td>1.599000e+03</td>\n",
       "      <td>1.599000e+03</td>\n",
       "    </tr>\n",
       "    <tr>\n",
       "      <th>mean</th>\n",
       "      <td>3.435512e-16</td>\n",
       "      <td>1.699704e-16</td>\n",
       "      <td>4.335355e-16</td>\n",
       "      <td>-1.905223e-16</td>\n",
       "      <td>4.838739e-16</td>\n",
       "      <td>1.432042e-16</td>\n",
       "      <td>1.289532e-16</td>\n",
       "      <td>-3.482795e-14</td>\n",
       "      <td>3.002879e-15</td>\n",
       "      <td>7.639596e-16</td>\n",
       "      <td>9.437243e-16</td>\n",
       "    </tr>\n",
       "    <tr>\n",
       "      <th>std</th>\n",
       "      <td>1.000313e+00</td>\n",
       "      <td>1.000313e+00</td>\n",
       "      <td>1.000313e+00</td>\n",
       "      <td>1.000313e+00</td>\n",
       "      <td>1.000313e+00</td>\n",
       "      <td>1.000313e+00</td>\n",
       "      <td>1.000313e+00</td>\n",
       "      <td>1.000313e+00</td>\n",
       "      <td>1.000313e+00</td>\n",
       "      <td>1.000313e+00</td>\n",
       "      <td>1.000313e+00</td>\n",
       "    </tr>\n",
       "    <tr>\n",
       "      <th>min</th>\n",
       "      <td>-2.137045e+00</td>\n",
       "      <td>-2.278280e+00</td>\n",
       "      <td>-1.391472e+00</td>\n",
       "      <td>-1.162696e+00</td>\n",
       "      <td>-1.603945e+00</td>\n",
       "      <td>-1.422500e+00</td>\n",
       "      <td>-1.230584e+00</td>\n",
       "      <td>-3.538731e+00</td>\n",
       "      <td>-3.700401e+00</td>\n",
       "      <td>-1.936507e+00</td>\n",
       "      <td>-1.898919e+00</td>\n",
       "    </tr>\n",
       "    <tr>\n",
       "      <th>25%</th>\n",
       "      <td>-7.007187e-01</td>\n",
       "      <td>-7.699311e-01</td>\n",
       "      <td>-9.293181e-01</td>\n",
       "      <td>-4.532184e-01</td>\n",
       "      <td>-3.712290e-01</td>\n",
       "      <td>-8.487156e-01</td>\n",
       "      <td>-7.440403e-01</td>\n",
       "      <td>-6.077557e-01</td>\n",
       "      <td>-6.551405e-01</td>\n",
       "      <td>-6.382196e-01</td>\n",
       "      <td>-8.663789e-01</td>\n",
       "    </tr>\n",
       "    <tr>\n",
       "      <th>50%</th>\n",
       "      <td>-2.410944e-01</td>\n",
       "      <td>-4.368911e-02</td>\n",
       "      <td>-5.636026e-02</td>\n",
       "      <td>-2.403750e-01</td>\n",
       "      <td>-1.799455e-01</td>\n",
       "      <td>-1.793002e-01</td>\n",
       "      <td>-2.574968e-01</td>\n",
       "      <td>1.760083e-03</td>\n",
       "      <td>-7.212705e-03</td>\n",
       "      <td>-2.251281e-01</td>\n",
       "      <td>-2.093081e-01</td>\n",
       "    </tr>\n",
       "    <tr>\n",
       "      <th>75%</th>\n",
       "      <td>5.057952e-01</td>\n",
       "      <td>6.266881e-01</td>\n",
       "      <td>7.652471e-01</td>\n",
       "      <td>4.341614e-02</td>\n",
       "      <td>5.384542e-02</td>\n",
       "      <td>4.901152e-01</td>\n",
       "      <td>4.723184e-01</td>\n",
       "      <td>5.768249e-01</td>\n",
       "      <td>5.759223e-01</td>\n",
       "      <td>4.240158e-01</td>\n",
       "      <td>6.354971e-01</td>\n",
       "    </tr>\n",
       "    <tr>\n",
       "      <th>max</th>\n",
       "      <td>4.355149e+00</td>\n",
       "      <td>5.877976e+00</td>\n",
       "      <td>3.743574e+00</td>\n",
       "      <td>9.195681e+00</td>\n",
       "      <td>1.112703e+01</td>\n",
       "      <td>5.367284e+00</td>\n",
       "      <td>7.375154e+00</td>\n",
       "      <td>3.680055e+00</td>\n",
       "      <td>4.528282e+00</td>\n",
       "      <td>7.918677e+00</td>\n",
       "      <td>4.202453e+00</td>\n",
       "    </tr>\n",
       "  </tbody>\n",
       "</table>\n",
       "</div>"
      ],
      "text/plain": [
       "       fixed acidity  volatile acidity   citric acid  residual sugar  \\\n",
       "count   1.599000e+03      1.599000e+03  1.599000e+03    1.599000e+03   \n",
       "mean    3.435512e-16      1.699704e-16  4.335355e-16   -1.905223e-16   \n",
       "std     1.000313e+00      1.000313e+00  1.000313e+00    1.000313e+00   \n",
       "min    -2.137045e+00     -2.278280e+00 -1.391472e+00   -1.162696e+00   \n",
       "25%    -7.007187e-01     -7.699311e-01 -9.293181e-01   -4.532184e-01   \n",
       "50%    -2.410944e-01     -4.368911e-02 -5.636026e-02   -2.403750e-01   \n",
       "75%     5.057952e-01      6.266881e-01  7.652471e-01    4.341614e-02   \n",
       "max     4.355149e+00      5.877976e+00  3.743574e+00    9.195681e+00   \n",
       "\n",
       "          chlorides  free sulfur dioxide  total sulfur dioxide       density  \\\n",
       "count  1.599000e+03         1.599000e+03          1.599000e+03  1.599000e+03   \n",
       "mean   4.838739e-16         1.432042e-16          1.289532e-16 -3.482795e-14   \n",
       "std    1.000313e+00         1.000313e+00          1.000313e+00  1.000313e+00   \n",
       "min   -1.603945e+00        -1.422500e+00         -1.230584e+00 -3.538731e+00   \n",
       "25%   -3.712290e-01        -8.487156e-01         -7.440403e-01 -6.077557e-01   \n",
       "50%   -1.799455e-01        -1.793002e-01         -2.574968e-01  1.760083e-03   \n",
       "75%    5.384542e-02         4.901152e-01          4.723184e-01  5.768249e-01   \n",
       "max    1.112703e+01         5.367284e+00          7.375154e+00  3.680055e+00   \n",
       "\n",
       "                 pH     sulphates       alcohol  \n",
       "count  1.599000e+03  1.599000e+03  1.599000e+03  \n",
       "mean   3.002879e-15  7.639596e-16  9.437243e-16  \n",
       "std    1.000313e+00  1.000313e+00  1.000313e+00  \n",
       "min   -3.700401e+00 -1.936507e+00 -1.898919e+00  \n",
       "25%   -6.551405e-01 -6.382196e-01 -8.663789e-01  \n",
       "50%   -7.212705e-03 -2.251281e-01 -2.093081e-01  \n",
       "75%    5.759223e-01  4.240158e-01  6.354971e-01  \n",
       "max    4.528282e+00  7.918677e+00  4.202453e+00  "
      ]
     },
     "execution_count": 94,
     "metadata": {},
     "output_type": "execute_result"
    }
   ],
   "source": [
    "standardScaler = StandardScaler()\n",
    "\n",
    "features = pd.DataFrame(standardScaler.fit_transform(features), \n",
    "                                columns=features.columns,\n",
    "                                index=features.index)\n",
    "\n",
    "features.describe()"
   ]
  },
  {
   "cell_type": "markdown",
   "metadata": {},
   "source": [
    "Splitting dataset into training and testing data"
   ]
  },
  {
   "cell_type": "code",
   "execution_count": 95,
   "metadata": {},
   "outputs": [],
   "source": [
    "from sklearn.model_selection import train_test_split\n",
    "\n",
    "x_train, x_test, y_train, y_test = train_test_split(features, \n",
    "                                                    target, \n",
    "                                                    test_size = 0.2, \n",
    "                                                    random_state=1)"
   ]
  },
  {
   "cell_type": "code",
   "execution_count": 96,
   "metadata": {},
   "outputs": [
    {
     "data": {
      "text/plain": [
       "((1279, 11), (1279, 1))"
      ]
     },
     "execution_count": 96,
     "metadata": {},
     "output_type": "execute_result"
    }
   ],
   "source": [
    "x_train.shape, y_train.shape"
   ]
  },
  {
   "cell_type": "code",
   "execution_count": 97,
   "metadata": {},
   "outputs": [
    {
     "data": {
      "text/plain": [
       "((320, 11), (320, 1))"
      ]
     },
     "execution_count": 97,
     "metadata": {},
     "output_type": "execute_result"
    }
   ],
   "source": [
    "x_test.shape, y_test.shape"
   ]
  },
  {
   "cell_type": "code",
   "execution_count": 98,
   "metadata": {},
   "outputs": [],
   "source": [
    "x_train, x_val, y_train, y_val = train_test_split(x_train, \n",
    "                                                  y_train, \n",
    "                                                  test_size=0.15,\n",
    "                                                  random_state=10)"
   ]
  },
  {
   "cell_type": "code",
   "execution_count": 99,
   "metadata": {},
   "outputs": [
    {
     "data": {
      "text/plain": [
       "((1087, 11), (192, 11), (320, 11))"
      ]
     },
     "execution_count": 99,
     "metadata": {},
     "output_type": "execute_result"
    }
   ],
   "source": [
    "x_train.shape, x_val.shape, x_test.shape"
   ]
  },
  {
   "cell_type": "code",
   "execution_count": 100,
   "metadata": {},
   "outputs": [
    {
     "data": {
      "text/plain": [
       "((1087, 1), (192, 1), (320, 1))"
      ]
     },
     "execution_count": 100,
     "metadata": {},
     "output_type": "execute_result"
    }
   ],
   "source": [
    "y_train.shape, y_val.shape, y_test.shape"
   ]
  },
  {
   "cell_type": "markdown",
   "metadata": {},
   "source": [
    "Building the model"
   ]
  },
  {
   "cell_type": "code",
   "execution_count": 140,
   "metadata": {},
   "outputs": [],
   "source": [
    "def build_model():\n",
    "    \n",
    "    inputs = tf.keras.Input(shape=(x_train.shape[1],))\n",
    "\n",
    "    dense_layer1 = layers.Dense(64, activation='relu')\n",
    "    x = dense_layer1(inputs)\n",
    "\n",
    "    dropout_layer = layers.Dropout(0.3)\n",
    "    x = dropout_layer(x)\n",
    "    \n",
    "    dense_layer2 = layers.Dense(16, activation='relu')\n",
    "    x = dense_layer2(x)\n",
    "    \n",
    "    dropout_layer = layers.Dropout(0.3)\n",
    "    x = dropout_layer(x)\n",
    "    \n",
    "    dense_layer3 = layers.Dense(16, activation='relu')\n",
    "    x = dense_layer3(x)\n",
    "    \n",
    "    predictions_layer = layers.Dense(1, activation='sigmoid')\n",
    "    predictions = predictions_layer(x)\n",
    "    \n",
    "    model = tf.keras.Model(inputs=inputs, outputs=predictions)\n",
    "    \n",
    "    model.summary()\n",
    "    \n",
    "    model.compile(optimizer=tf.keras.optimizers.Adam(0.001),\n",
    "                  loss=tf.keras.losses.BinaryCrossentropy(),\n",
    "                  metrics=['accuracy', \n",
    "                           tf.keras.metrics.Precision(0.5),\n",
    "                           tf.keras.metrics.Recall(0.5),])\n",
    "    return model"
   ]
  },
  {
   "cell_type": "code",
   "execution_count": 141,
   "metadata": {},
   "outputs": [
    {
     "name": "stdout",
     "output_type": "stream",
     "text": [
      "Model: \"model_6\"\n",
      "_________________________________________________________________\n",
      "Layer (type)                 Output Shape              Param #   \n",
      "=================================================================\n",
      "input_7 (InputLayer)         [(None, 11)]              0         \n",
      "_________________________________________________________________\n",
      "dense_22 (Dense)             (None, 64)                768       \n",
      "_________________________________________________________________\n",
      "dropout_10 (Dropout)         (None, 64)                0         \n",
      "_________________________________________________________________\n",
      "dense_23 (Dense)             (None, 16)                1040      \n",
      "_________________________________________________________________\n",
      "dropout_11 (Dropout)         (None, 16)                0         \n",
      "_________________________________________________________________\n",
      "dense_24 (Dense)             (None, 16)                272       \n",
      "_________________________________________________________________\n",
      "dense_25 (Dense)             (None, 1)                 17        \n",
      "=================================================================\n",
      "Total params: 2,097\n",
      "Trainable params: 2,097\n",
      "Non-trainable params: 0\n",
      "_________________________________________________________________\n"
     ]
    }
   ],
   "source": [
    "model = build_model()"
   ]
  },
  {
   "cell_type": "code",
   "execution_count": 142,
   "metadata": {},
   "outputs": [
    {
     "data": {
      "text/plain": [
       "<ShuffleDataset shapes: ((None, 11), (None, 1)), types: (tf.float64, tf.int64)>"
      ]
     },
     "execution_count": 142,
     "metadata": {},
     "output_type": "execute_result"
    }
   ],
   "source": [
    "dataset_train = tf.data.Dataset.from_tensor_slices((x_train.values, y_train.values))\n",
    "dataset_train = dataset_train.batch(16)\n",
    "\n",
    "dataset_train.shuffle(128)"
   ]
  },
  {
   "cell_type": "code",
   "execution_count": 143,
   "metadata": {},
   "outputs": [],
   "source": [
    "num_epochs = 100"
   ]
  },
  {
   "cell_type": "code",
   "execution_count": 144,
   "metadata": {},
   "outputs": [],
   "source": [
    "dataset_val = tf.data.Dataset.from_tensor_slices((x_val.values, y_val.values))\n",
    "dataset_val = dataset_val.batch(16)"
   ]
  },
  {
   "cell_type": "code",
   "execution_count": 145,
   "metadata": {},
   "outputs": [
    {
     "name": "stdout",
     "output_type": "stream",
     "text": [
      "Model: \"model_7\"\n",
      "_________________________________________________________________\n",
      "Layer (type)                 Output Shape              Param #   \n",
      "=================================================================\n",
      "input_8 (InputLayer)         [(None, 11)]              0         \n",
      "_________________________________________________________________\n",
      "dense_26 (Dense)             (None, 64)                768       \n",
      "_________________________________________________________________\n",
      "dropout_12 (Dropout)         (None, 64)                0         \n",
      "_________________________________________________________________\n",
      "dense_27 (Dense)             (None, 16)                1040      \n",
      "_________________________________________________________________\n",
      "dropout_13 (Dropout)         (None, 16)                0         \n",
      "_________________________________________________________________\n",
      "dense_28 (Dense)             (None, 16)                272       \n",
      "_________________________________________________________________\n",
      "dense_29 (Dense)             (None, 1)                 17        \n",
      "=================================================================\n",
      "Total params: 2,097\n",
      "Trainable params: 2,097\n",
      "Non-trainable params: 0\n",
      "_________________________________________________________________\n",
      "WARNING:tensorflow:Expected a shuffled dataset but input dataset `x` is not shuffled. Please invoke `shuffle()` on input dataset.\n",
      "Epoch 1/100\n",
      "68/68 [==============================] - 1s 20ms/step - loss: 0.6865 - accuracy: 0.5925 - precision_7: 0.1414 - recall_7: 0.3522 - val_loss: 0.5383 - val_accuracy: 0.8646 - val_precision_7: 0.0000e+00 - val_recall_7: 0.0000e+00\n",
      "Epoch 2/100\n",
      "68/68 [==============================] - 0s 3ms/step - loss: 0.4429 - accuracy: 0.8528 - precision_7: 0.0000e+00 - recall_7: 0.0000e+00 - val_loss: 0.3484 - val_accuracy: 0.8646 - val_precision_7: 0.0000e+00 - val_recall_7: 0.0000e+00\n",
      "Epoch 3/100\n",
      "68/68 [==============================] - 0s 3ms/step - loss: 0.3450 - accuracy: 0.8583 - precision_7: 0.6923 - recall_7: 0.0566 - val_loss: 0.2968 - val_accuracy: 0.8750 - val_precision_7: 0.7500 - val_recall_7: 0.1154\n",
      "Epoch 4/100\n",
      "68/68 [==============================] - 0s 4ms/step - loss: 0.3137 - accuracy: 0.8648 - precision_7: 0.6579 - recall_7: 0.1572 - val_loss: 0.2827 - val_accuracy: 0.8854 - val_precision_7: 0.7000 - val_recall_7: 0.2692\n",
      "Epoch 5/100\n",
      "68/68 [==============================] - 0s 3ms/step - loss: 0.2994 - accuracy: 0.8620 - precision_7: 0.5763 - recall_7: 0.2138 - val_loss: 0.2782 - val_accuracy: 0.8854 - val_precision_7: 0.6429 - val_recall_7: 0.3462\n",
      "Epoch 6/100\n",
      "68/68 [==============================] - 0s 3ms/step - loss: 0.3030 - accuracy: 0.8712 - precision_7: 0.6610 - recall_7: 0.2453 - val_loss: 0.2716 - val_accuracy: 0.8906 - val_precision_7: 0.6923 - val_recall_7: 0.3462\n",
      "Epoch 7/100\n",
      "68/68 [==============================] - 0s 3ms/step - loss: 0.2950 - accuracy: 0.8657 - precision_7: 0.6102 - recall_7: 0.2264 - val_loss: 0.2696 - val_accuracy: 0.8750 - val_precision_7: 0.5625 - val_recall_7: 0.3462\n",
      "Epoch 8/100\n",
      "68/68 [==============================] - 0s 3ms/step - loss: 0.2919 - accuracy: 0.8703 - precision_7: 0.6286 - recall_7: 0.2767 - val_loss: 0.2654 - val_accuracy: 0.8854 - val_precision_7: 0.6429 - val_recall_7: 0.3462\n",
      "Epoch 9/100\n",
      "68/68 [==============================] - 0s 4ms/step - loss: 0.2833 - accuracy: 0.8556 - precision_7: 0.5156 - recall_7: 0.2075 - val_loss: 0.2658 - val_accuracy: 0.8854 - val_precision_7: 0.6429 - val_recall_7: 0.3462\n",
      "Epoch 10/100\n",
      "68/68 [==============================] - 0s 4ms/step - loss: 0.2873 - accuracy: 0.8675 - precision_7: 0.6000 - recall_7: 0.2830 - val_loss: 0.2638 - val_accuracy: 0.8854 - val_precision_7: 0.6429 - val_recall_7: 0.3462\n",
      "Epoch 11/100\n",
      "68/68 [==============================] - 0s 4ms/step - loss: 0.2873 - accuracy: 0.8776 - precision_7: 0.6548 - recall_7: 0.3459 - val_loss: 0.2669 - val_accuracy: 0.8906 - val_precision_7: 0.6923 - val_recall_7: 0.3462\n",
      "Epoch 12/100\n",
      "68/68 [==============================] - 0s 4ms/step - loss: 0.2809 - accuracy: 0.8749 - precision_7: 0.6237 - recall_7: 0.3648 - val_loss: 0.2670 - val_accuracy: 0.8906 - val_precision_7: 0.6923 - val_recall_7: 0.3462\n",
      "Epoch 13/100\n",
      "68/68 [==============================] - 0s 3ms/step - loss: 0.2763 - accuracy: 0.8740 - precision_7: 0.6375 - recall_7: 0.3208 - val_loss: 0.2668 - val_accuracy: 0.8854 - val_precision_7: 0.6250 - val_recall_7: 0.3846\n",
      "Epoch 14/100\n",
      "68/68 [==============================] - 0s 3ms/step - loss: 0.2756 - accuracy: 0.8675 - precision_7: 0.5773 - recall_7: 0.3522 - val_loss: 0.2697 - val_accuracy: 0.8854 - val_precision_7: 0.6667 - val_recall_7: 0.3077\n",
      "Epoch 15/100\n",
      "68/68 [==============================] - 0s 3ms/step - loss: 0.2890 - accuracy: 0.8611 - precision_7: 0.5513 - recall_7: 0.2704 - val_loss: 0.2676 - val_accuracy: 0.8802 - val_precision_7: 0.6154 - val_recall_7: 0.3077\n",
      "Epoch 16/100\n",
      "68/68 [==============================] - 0s 3ms/step - loss: 0.2753 - accuracy: 0.8620 - precision_7: 0.5672 - recall_7: 0.2390 - val_loss: 0.2730 - val_accuracy: 0.8802 - val_precision_7: 0.6154 - val_recall_7: 0.3077\n",
      "Epoch 17/100\n",
      "68/68 [==============================] - 0s 3ms/step - loss: 0.2779 - accuracy: 0.8657 - precision_7: 0.5890 - recall_7: 0.2704 - val_loss: 0.2695 - val_accuracy: 0.8750 - val_precision_7: 0.5714 - val_recall_7: 0.3077\n",
      "Epoch 18/100\n",
      "68/68 [==============================] - 0s 3ms/step - loss: 0.2663 - accuracy: 0.8832 - precision_7: 0.6739 - recall_7: 0.3899 - val_loss: 0.2672 - val_accuracy: 0.8906 - val_precision_7: 0.6316 - val_recall_7: 0.4615\n",
      "Epoch 19/100\n",
      "68/68 [==============================] - 0s 3ms/step - loss: 0.2674 - accuracy: 0.8703 - precision_7: 0.5978 - recall_7: 0.3459 - val_loss: 0.2684 - val_accuracy: 0.8750 - val_precision_7: 0.5625 - val_recall_7: 0.3462\n",
      "Epoch 20/100\n",
      "68/68 [==============================] - 0s 3ms/step - loss: 0.2645 - accuracy: 0.8841 - precision_7: 0.6737 - recall_7: 0.4025 - val_loss: 0.2676 - val_accuracy: 0.8854 - val_precision_7: 0.6111 - val_recall_7: 0.4231\n",
      "Epoch 21/100\n",
      "68/68 [==============================] - 0s 4ms/step - loss: 0.2624 - accuracy: 0.8721 - precision_7: 0.6000 - recall_7: 0.3774 - val_loss: 0.2641 - val_accuracy: 0.8854 - val_precision_7: 0.6111 - val_recall_7: 0.4231\n",
      "Epoch 22/100\n",
      "68/68 [==============================] - 0s 4ms/step - loss: 0.2546 - accuracy: 0.8832 - precision_7: 0.6702 - recall_7: 0.3962 - val_loss: 0.2694 - val_accuracy: 0.8854 - val_precision_7: 0.6000 - val_recall_7: 0.4615\n",
      "Epoch 23/100\n",
      "68/68 [==============================] - 0s 3ms/step - loss: 0.2519 - accuracy: 0.8786 - precision_7: 0.6216 - recall_7: 0.4340 - val_loss: 0.2748 - val_accuracy: 0.8906 - val_precision_7: 0.6316 - val_recall_7: 0.4615\n",
      "Epoch 24/100\n",
      "68/68 [==============================] - 0s 3ms/step - loss: 0.2766 - accuracy: 0.8730 - precision_7: 0.6129 - recall_7: 0.3585 - val_loss: 0.2755 - val_accuracy: 0.8802 - val_precision_7: 0.5882 - val_recall_7: 0.3846\n",
      "Epoch 25/100\n",
      "68/68 [==============================] - 0s 3ms/step - loss: 0.2599 - accuracy: 0.8740 - precision_7: 0.6170 - recall_7: 0.3648 - val_loss: 0.2789 - val_accuracy: 0.8802 - val_precision_7: 0.5882 - val_recall_7: 0.3846\n",
      "Epoch 26/100\n",
      "68/68 [==============================] - 0s 3ms/step - loss: 0.2521 - accuracy: 0.8813 - precision_7: 0.6705 - recall_7: 0.3711 - val_loss: 0.2778 - val_accuracy: 0.8854 - val_precision_7: 0.6000 - val_recall_7: 0.4615\n",
      "Epoch 27/100\n",
      "68/68 [==============================] - 0s 3ms/step - loss: 0.2558 - accuracy: 0.8767 - precision_7: 0.6344 - recall_7: 0.3711 - val_loss: 0.2752 - val_accuracy: 0.8906 - val_precision_7: 0.6471 - val_recall_7: 0.4231\n",
      "Epoch 28/100\n",
      "68/68 [==============================] - 0s 3ms/step - loss: 0.2564 - accuracy: 0.8868 - precision_7: 0.6915 - recall_7: 0.4088 - val_loss: 0.2789 - val_accuracy: 0.8854 - val_precision_7: 0.6250 - val_recall_7: 0.3846\n",
      "Epoch 29/100\n",
      "68/68 [==============================] - 0s 3ms/step - loss: 0.2515 - accuracy: 0.8841 - precision_7: 0.6571 - recall_7: 0.4340 - val_loss: 0.2821 - val_accuracy: 0.8854 - val_precision_7: 0.6000 - val_recall_7: 0.4615\n",
      "Epoch 30/100\n",
      "68/68 [==============================] - 0s 3ms/step - loss: 0.2580 - accuracy: 0.8804 - precision_7: 0.6526 - recall_7: 0.3899 - val_loss: 0.2820 - val_accuracy: 0.8906 - val_precision_7: 0.6667 - val_recall_7: 0.3846\n",
      "Epoch 31/100\n",
      "68/68 [==============================] - 0s 3ms/step - loss: 0.2589 - accuracy: 0.8804 - precision_7: 0.6667 - recall_7: 0.3648 - val_loss: 0.2768 - val_accuracy: 0.8802 - val_precision_7: 0.5789 - val_recall_7: 0.4231\n",
      "Epoch 32/100\n",
      "68/68 [==============================] - 0s 3ms/step - loss: 0.2516 - accuracy: 0.8758 - precision_7: 0.6277 - recall_7: 0.3711 - val_loss: 0.2794 - val_accuracy: 0.8854 - val_precision_7: 0.6111 - val_recall_7: 0.4231\n",
      "Epoch 33/100\n",
      "68/68 [==============================] - 0s 3ms/step - loss: 0.2524 - accuracy: 0.8776 - precision_7: 0.6354 - recall_7: 0.3836 - val_loss: 0.2811 - val_accuracy: 0.8854 - val_precision_7: 0.6111 - val_recall_7: 0.4231\n",
      "Epoch 34/100\n",
      "68/68 [==============================] - 0s 3ms/step - loss: 0.2473 - accuracy: 0.8795 - precision_7: 0.6373 - recall_7: 0.4088 - val_loss: 0.2907 - val_accuracy: 0.8906 - val_precision_7: 0.6316 - val_recall_7: 0.4615\n",
      "Epoch 35/100\n",
      "68/68 [==============================] - 0s 3ms/step - loss: 0.2562 - accuracy: 0.8758 - precision_7: 0.6200 - recall_7: 0.3899 - val_loss: 0.2930 - val_accuracy: 0.8906 - val_precision_7: 0.6316 - val_recall_7: 0.4615\n",
      "Epoch 36/100\n",
      "68/68 [==============================] - 0s 3ms/step - loss: 0.2539 - accuracy: 0.8767 - precision_7: 0.6238 - recall_7: 0.3962 - val_loss: 0.2928 - val_accuracy: 0.8854 - val_precision_7: 0.6111 - val_recall_7: 0.4231\n",
      "Epoch 37/100\n",
      "68/68 [==============================] - 0s 3ms/step - loss: 0.2477 - accuracy: 0.8832 - precision_7: 0.6739 - recall_7: 0.3899 - val_loss: 0.2909 - val_accuracy: 0.8906 - val_precision_7: 0.6316 - val_recall_7: 0.4615\n",
      "Epoch 38/100\n",
      "68/68 [==============================] - 0s 3ms/step - loss: 0.2459 - accuracy: 0.8804 - precision_7: 0.6330 - recall_7: 0.4340 - val_loss: 0.2982 - val_accuracy: 0.8802 - val_precision_7: 0.5789 - val_recall_7: 0.4231\n",
      "Epoch 39/100\n",
      "68/68 [==============================] - 0s 3ms/step - loss: 0.2437 - accuracy: 0.8896 - precision_7: 0.6931 - recall_7: 0.4403 - val_loss: 0.2998 - val_accuracy: 0.8906 - val_precision_7: 0.6471 - val_recall_7: 0.4231\n",
      "Epoch 40/100\n",
      "68/68 [==============================] - 0s 4ms/step - loss: 0.2423 - accuracy: 0.8878 - precision_7: 0.6697 - recall_7: 0.4591 - val_loss: 0.2972 - val_accuracy: 0.8906 - val_precision_7: 0.6316 - val_recall_7: 0.4615\n",
      "Epoch 41/100\n",
      "68/68 [==============================] - 0s 4ms/step - loss: 0.2456 - accuracy: 0.8832 - precision_7: 0.6600 - recall_7: 0.4151 - val_loss: 0.2960 - val_accuracy: 0.8854 - val_precision_7: 0.6000 - val_recall_7: 0.4615\n",
      "Epoch 42/100\n",
      "68/68 [==============================] - 0s 4ms/step - loss: 0.2439 - accuracy: 0.8841 - precision_7: 0.6774 - recall_7: 0.3962 - val_loss: 0.2973 - val_accuracy: 0.8854 - val_precision_7: 0.6111 - val_recall_7: 0.4231\n",
      "Epoch 43/100\n",
      "68/68 [==============================] - 0s 3ms/step - loss: 0.2301 - accuracy: 0.8979 - precision_7: 0.7000 - recall_7: 0.5283 - val_loss: 0.3064 - val_accuracy: 0.8906 - val_precision_7: 0.6316 - val_recall_7: 0.4615\n",
      "Epoch 44/100\n",
      "68/68 [==============================] - 0s 4ms/step - loss: 0.2388 - accuracy: 0.8822 - precision_7: 0.6535 - recall_7: 0.4151 - val_loss: 0.3004 - val_accuracy: 0.8958 - val_precision_7: 0.6500 - val_recall_7: 0.5000\n",
      "Epoch 45/100\n",
      "68/68 [==============================] - 0s 4ms/step - loss: 0.2380 - accuracy: 0.8850 - precision_7: 0.6518 - recall_7: 0.4591 - val_loss: 0.3040 - val_accuracy: 0.8906 - val_precision_7: 0.6316 - val_recall_7: 0.4615\n",
      "Epoch 46/100\n",
      "68/68 [==============================] - 0s 4ms/step - loss: 0.2353 - accuracy: 0.8942 - precision_7: 0.7200 - recall_7: 0.4528 - val_loss: 0.3019 - val_accuracy: 0.8906 - val_precision_7: 0.6316 - val_recall_7: 0.4615\n",
      "Epoch 47/100\n",
      "68/68 [==============================] - 0s 3ms/step - loss: 0.2268 - accuracy: 0.8970 - precision_7: 0.7117 - recall_7: 0.4969 - val_loss: 0.3156 - val_accuracy: 0.8854 - val_precision_7: 0.6000 - val_recall_7: 0.4615\n",
      "Epoch 48/100\n",
      "68/68 [==============================] - 0s 3ms/step - loss: 0.2483 - accuracy: 0.8905 - precision_7: 0.6667 - recall_7: 0.5031 - val_loss: 0.3080 - val_accuracy: 0.8854 - val_precision_7: 0.6111 - val_recall_7: 0.4231\n",
      "Epoch 49/100\n",
      "68/68 [==============================] - 0s 3ms/step - loss: 0.2400 - accuracy: 0.8859 - precision_7: 0.6699 - recall_7: 0.4340 - val_loss: 0.3141 - val_accuracy: 0.8906 - val_precision_7: 0.6316 - val_recall_7: 0.4615\n",
      "Epoch 50/100\n",
      "68/68 [==============================] - 0s 2ms/step - loss: 0.2316 - accuracy: 0.8933 - precision_7: 0.7172 - recall_7: 0.4465 - val_loss: 0.3146 - val_accuracy: 0.8958 - val_precision_7: 0.6667 - val_recall_7: 0.4615\n",
      "Epoch 51/100\n",
      "68/68 [==============================] - 0s 3ms/step - loss: 0.2359 - accuracy: 0.8997 - precision_7: 0.7083 - recall_7: 0.5346 - val_loss: 0.3192 - val_accuracy: 0.9010 - val_precision_7: 0.7059 - val_recall_7: 0.4615\n",
      "Epoch 52/100\n",
      "68/68 [==============================] - 0s 3ms/step - loss: 0.2351 - accuracy: 0.9006 - precision_7: 0.7429 - recall_7: 0.4906 - val_loss: 0.3242 - val_accuracy: 0.8854 - val_precision_7: 0.6000 - val_recall_7: 0.4615\n",
      "Epoch 53/100\n",
      "68/68 [==============================] - 0s 3ms/step - loss: 0.2263 - accuracy: 0.9062 - precision_7: 0.7478 - recall_7: 0.5409 - val_loss: 0.3268 - val_accuracy: 0.8854 - val_precision_7: 0.6000 - val_recall_7: 0.4615\n",
      "Epoch 54/100\n",
      "68/68 [==============================] - 0s 3ms/step - loss: 0.2368 - accuracy: 0.8924 - precision_7: 0.6909 - recall_7: 0.4780 - val_loss: 0.3211 - val_accuracy: 0.8854 - val_precision_7: 0.6000 - val_recall_7: 0.4615\n",
      "Epoch 55/100\n",
      "68/68 [==============================] - 0s 2ms/step - loss: 0.2295 - accuracy: 0.9016 - precision_7: 0.7321 - recall_7: 0.5157 - val_loss: 0.3183 - val_accuracy: 0.8958 - val_precision_7: 0.6667 - val_recall_7: 0.4615\n",
      "Epoch 56/100\n",
      "68/68 [==============================] - 0s 2ms/step - loss: 0.2365 - accuracy: 0.8887 - precision_7: 0.6792 - recall_7: 0.4528 - val_loss: 0.3188 - val_accuracy: 0.8906 - val_precision_7: 0.6471 - val_recall_7: 0.4231\n",
      "Epoch 57/100\n",
      "68/68 [==============================] - 0s 3ms/step - loss: 0.2293 - accuracy: 0.8960 - precision_7: 0.7018 - recall_7: 0.5031 - val_loss: 0.3189 - val_accuracy: 0.8854 - val_precision_7: 0.6111 - val_recall_7: 0.4231\n",
      "Epoch 58/100\n",
      "68/68 [==============================] - 0s 3ms/step - loss: 0.2285 - accuracy: 0.8878 - precision_7: 0.6762 - recall_7: 0.4465 - val_loss: 0.3199 - val_accuracy: 0.8854 - val_precision_7: 0.6111 - val_recall_7: 0.4231\n",
      "Epoch 59/100\n",
      "68/68 [==============================] - 0s 3ms/step - loss: 0.2291 - accuracy: 0.8914 - precision_7: 0.6881 - recall_7: 0.4717 - val_loss: 0.3226 - val_accuracy: 0.8854 - val_precision_7: 0.6111 - val_recall_7: 0.4231\n",
      "Epoch 60/100\n",
      "68/68 [==============================] - 0s 3ms/step - loss: 0.2213 - accuracy: 0.9034 - precision_7: 0.7411 - recall_7: 0.5220 - val_loss: 0.3266 - val_accuracy: 0.8854 - val_precision_7: 0.6000 - val_recall_7: 0.4615\n",
      "Epoch 61/100\n",
      "68/68 [==============================] - 0s 3ms/step - loss: 0.2298 - accuracy: 0.8988 - precision_7: 0.7130 - recall_7: 0.5157 - val_loss: 0.3139 - val_accuracy: 0.8906 - val_precision_7: 0.6316 - val_recall_7: 0.4615\n",
      "Epoch 62/100\n",
      "68/68 [==============================] - 0s 3ms/step - loss: 0.2184 - accuracy: 0.8988 - precision_7: 0.6960 - recall_7: 0.5472 - val_loss: 0.3272 - val_accuracy: 0.8906 - val_precision_7: 0.6316 - val_recall_7: 0.4615\n",
      "Epoch 63/100\n",
      "68/68 [==============================] - 0s 3ms/step - loss: 0.2186 - accuracy: 0.9025 - precision_7: 0.7524 - recall_7: 0.4969 - val_loss: 0.3384 - val_accuracy: 0.8906 - val_precision_7: 0.6471 - val_recall_7: 0.4231\n",
      "Epoch 64/100\n",
      "68/68 [==============================] - 0s 3ms/step - loss: 0.2148 - accuracy: 0.8933 - precision_7: 0.6903 - recall_7: 0.4906 - val_loss: 0.3414 - val_accuracy: 0.8854 - val_precision_7: 0.6250 - val_recall_7: 0.3846\n",
      "Epoch 65/100\n",
      "68/68 [==============================] - 0s 3ms/step - loss: 0.2273 - accuracy: 0.8951 - precision_7: 0.7103 - recall_7: 0.4780 - val_loss: 0.3338 - val_accuracy: 0.8906 - val_precision_7: 0.6471 - val_recall_7: 0.4231\n",
      "Epoch 66/100\n",
      "68/68 [==============================] - 0s 3ms/step - loss: 0.2188 - accuracy: 0.9089 - precision_7: 0.7632 - recall_7: 0.5472 - val_loss: 0.3354 - val_accuracy: 0.8802 - val_precision_7: 0.5789 - val_recall_7: 0.4231\n",
      "Epoch 67/100\n",
      "68/68 [==============================] - 0s 3ms/step - loss: 0.2249 - accuracy: 0.8868 - precision_7: 0.6607 - recall_7: 0.4654 - val_loss: 0.3386 - val_accuracy: 0.8698 - val_precision_7: 0.5333 - val_recall_7: 0.3077\n",
      "Epoch 68/100\n",
      "68/68 [==============================] - 0s 3ms/step - loss: 0.2213 - accuracy: 0.9062 - precision_7: 0.7568 - recall_7: 0.5283 - val_loss: 0.3407 - val_accuracy: 0.8854 - val_precision_7: 0.6111 - val_recall_7: 0.4231\n",
      "Epoch 69/100\n",
      "68/68 [==============================] - 0s 3ms/step - loss: 0.2205 - accuracy: 0.9016 - precision_7: 0.7203 - recall_7: 0.5346 - val_loss: 0.3423 - val_accuracy: 0.8906 - val_precision_7: 0.6316 - val_recall_7: 0.4615\n",
      "Epoch 70/100\n",
      "68/68 [==============================] - 0s 3ms/step - loss: 0.2311 - accuracy: 0.9052 - precision_7: 0.7188 - recall_7: 0.5786 - val_loss: 0.3505 - val_accuracy: 0.8906 - val_precision_7: 0.6471 - val_recall_7: 0.4231\n",
      "Epoch 71/100\n",
      "68/68 [==============================] - 0s 3ms/step - loss: 0.2068 - accuracy: 0.9126 - precision_7: 0.7807 - recall_7: 0.5597 - val_loss: 0.3489 - val_accuracy: 0.8854 - val_precision_7: 0.6000 - val_recall_7: 0.4615\n",
      "Epoch 72/100\n",
      "68/68 [==============================] - 0s 3ms/step - loss: 0.2251 - accuracy: 0.9117 - precision_7: 0.7442 - recall_7: 0.6038 - val_loss: 0.3387 - val_accuracy: 0.8854 - val_precision_7: 0.6000 - val_recall_7: 0.4615\n",
      "Epoch 73/100\n",
      "68/68 [==============================] - 0s 3ms/step - loss: 0.2148 - accuracy: 0.9025 - precision_7: 0.7190 - recall_7: 0.5472 - val_loss: 0.3492 - val_accuracy: 0.8854 - val_precision_7: 0.6111 - val_recall_7: 0.4231\n",
      "Epoch 74/100\n",
      "68/68 [==============================] - 0s 3ms/step - loss: 0.2116 - accuracy: 0.8988 - precision_7: 0.6960 - recall_7: 0.5472 - val_loss: 0.3503 - val_accuracy: 0.8958 - val_precision_7: 0.6667 - val_recall_7: 0.4615\n",
      "Epoch 75/100\n",
      "68/68 [==============================] - 0s 3ms/step - loss: 0.2094 - accuracy: 0.9062 - precision_7: 0.7244 - recall_7: 0.5786 - val_loss: 0.3520 - val_accuracy: 0.8958 - val_precision_7: 0.6667 - val_recall_7: 0.4615\n",
      "Epoch 76/100\n",
      "68/68 [==============================] - 0s 3ms/step - loss: 0.2124 - accuracy: 0.9052 - precision_7: 0.7333 - recall_7: 0.5535 - val_loss: 0.3558 - val_accuracy: 0.8906 - val_precision_7: 0.6471 - val_recall_7: 0.4231\n",
      "Epoch 77/100\n",
      "68/68 [==============================] - 0s 3ms/step - loss: 0.2183 - accuracy: 0.9016 - precision_7: 0.7364 - recall_7: 0.5094 - val_loss: 0.3611 - val_accuracy: 0.8958 - val_precision_7: 0.6667 - val_recall_7: 0.4615\n",
      "Epoch 78/100\n",
      "68/68 [==============================] - 0s 3ms/step - loss: 0.2176 - accuracy: 0.9052 - precision_7: 0.7121 - recall_7: 0.5912 - val_loss: 0.3615 - val_accuracy: 0.8958 - val_precision_7: 0.6667 - val_recall_7: 0.4615\n",
      "Epoch 79/100\n",
      "68/68 [==============================] - 0s 3ms/step - loss: 0.2157 - accuracy: 0.8979 - precision_7: 0.7143 - recall_7: 0.5031 - val_loss: 0.3519 - val_accuracy: 0.8906 - val_precision_7: 0.6316 - val_recall_7: 0.4615\n",
      "Epoch 80/100\n",
      "68/68 [==============================] - 0s 3ms/step - loss: 0.2073 - accuracy: 0.9052 - precision_7: 0.7333 - recall_7: 0.5535 - val_loss: 0.3529 - val_accuracy: 0.8854 - val_precision_7: 0.6250 - val_recall_7: 0.3846\n",
      "Epoch 81/100\n",
      "68/68 [==============================] - 0s 3ms/step - loss: 0.2005 - accuracy: 0.9126 - precision_7: 0.7500 - recall_7: 0.6038 - val_loss: 0.3726 - val_accuracy: 0.8958 - val_precision_7: 0.6500 - val_recall_7: 0.5000\n",
      "Epoch 82/100\n",
      "68/68 [==============================] - 0s 3ms/step - loss: 0.2120 - accuracy: 0.9052 - precision_7: 0.7121 - recall_7: 0.5912 - val_loss: 0.3695 - val_accuracy: 0.8958 - val_precision_7: 0.6667 - val_recall_7: 0.4615\n",
      "Epoch 83/100\n",
      "68/68 [==============================] - 0s 3ms/step - loss: 0.2100 - accuracy: 0.8997 - precision_7: 0.6984 - recall_7: 0.5535 - val_loss: 0.3656 - val_accuracy: 0.8750 - val_precision_7: 0.5556 - val_recall_7: 0.3846\n",
      "Epoch 84/100\n",
      "68/68 [==============================] - 0s 3ms/step - loss: 0.2009 - accuracy: 0.9117 - precision_7: 0.7520 - recall_7: 0.5912 - val_loss: 0.3667 - val_accuracy: 0.8854 - val_precision_7: 0.6111 - val_recall_7: 0.4231\n",
      "Epoch 85/100\n",
      "68/68 [==============================] - 0s 2ms/step - loss: 0.2017 - accuracy: 0.9062 - precision_7: 0.7355 - recall_7: 0.5597 - val_loss: 0.3798 - val_accuracy: 0.8906 - val_precision_7: 0.6316 - val_recall_7: 0.4615\n",
      "Epoch 86/100\n",
      "68/68 [==============================] - 0s 3ms/step - loss: 0.2053 - accuracy: 0.9108 - precision_7: 0.7460 - recall_7: 0.5912 - val_loss: 0.3881 - val_accuracy: 0.8906 - val_precision_7: 0.6190 - val_recall_7: 0.5000\n",
      "Epoch 87/100\n",
      "68/68 [==============================] - 0s 3ms/step - loss: 0.2105 - accuracy: 0.9117 - precision_7: 0.7234 - recall_7: 0.6415 - val_loss: 0.3718 - val_accuracy: 0.8958 - val_precision_7: 0.6667 - val_recall_7: 0.4615\n",
      "Epoch 88/100\n",
      "68/68 [==============================] - 0s 3ms/step - loss: 0.2059 - accuracy: 0.9098 - precision_7: 0.7402 - recall_7: 0.5912 - val_loss: 0.3775 - val_accuracy: 0.8906 - val_precision_7: 0.6316 - val_recall_7: 0.4615\n",
      "Epoch 89/100\n",
      "68/68 [==============================] - 0s 2ms/step - loss: 0.2131 - accuracy: 0.9025 - precision_7: 0.7054 - recall_7: 0.5723 - val_loss: 0.3780 - val_accuracy: 0.8802 - val_precision_7: 0.6000 - val_recall_7: 0.3462\n",
      "Epoch 90/100\n",
      "68/68 [==============================] - 0s 2ms/step - loss: 0.2041 - accuracy: 0.9071 - precision_7: 0.7339 - recall_7: 0.5723 - val_loss: 0.3768 - val_accuracy: 0.8802 - val_precision_7: 0.5789 - val_recall_7: 0.4231\n",
      "Epoch 91/100\n",
      "68/68 [==============================] - 0s 3ms/step - loss: 0.2060 - accuracy: 0.9117 - precision_7: 0.7520 - recall_7: 0.5912 - val_loss: 0.3828 - val_accuracy: 0.8958 - val_precision_7: 0.6875 - val_recall_7: 0.4231\n",
      "Epoch 92/100\n",
      "68/68 [==============================] - 0s 3ms/step - loss: 0.2109 - accuracy: 0.9071 - precision_7: 0.7302 - recall_7: 0.5786 - val_loss: 0.3897 - val_accuracy: 0.8802 - val_precision_7: 0.6154 - val_recall_7: 0.3077\n",
      "Epoch 93/100\n",
      "68/68 [==============================] - 0s 3ms/step - loss: 0.2047 - accuracy: 0.9089 - precision_7: 0.7273 - recall_7: 0.6038 - val_loss: 0.4006 - val_accuracy: 0.8958 - val_precision_7: 0.6875 - val_recall_7: 0.4231\n",
      "Epoch 94/100\n",
      "68/68 [==============================] - 0s 3ms/step - loss: 0.1968 - accuracy: 0.9144 - precision_7: 0.7661 - recall_7: 0.5975 - val_loss: 0.3871 - val_accuracy: 0.8750 - val_precision_7: 0.5556 - val_recall_7: 0.3846\n",
      "Epoch 95/100\n",
      "68/68 [==============================] - 0s 3ms/step - loss: 0.1961 - accuracy: 0.9172 - precision_7: 0.7482 - recall_7: 0.6541 - val_loss: 0.4007 - val_accuracy: 0.8958 - val_precision_7: 0.6667 - val_recall_7: 0.4615\n",
      "Epoch 96/100\n",
      "68/68 [==============================] - 0s 3ms/step - loss: 0.2050 - accuracy: 0.9080 - precision_7: 0.7252 - recall_7: 0.5975 - val_loss: 0.4015 - val_accuracy: 0.8958 - val_precision_7: 0.6875 - val_recall_7: 0.4231\n",
      "Epoch 97/100\n",
      "68/68 [==============================] - 0s 3ms/step - loss: 0.1974 - accuracy: 0.9126 - precision_7: 0.7424 - recall_7: 0.6164 - val_loss: 0.4027 - val_accuracy: 0.8906 - val_precision_7: 0.6471 - val_recall_7: 0.4231\n",
      "Epoch 98/100\n",
      "68/68 [==============================] - 0s 2ms/step - loss: 0.2051 - accuracy: 0.9098 - precision_7: 0.7259 - recall_7: 0.6164 - val_loss: 0.3980 - val_accuracy: 0.8958 - val_precision_7: 0.7143 - val_recall_7: 0.3846\n",
      "Epoch 99/100\n",
      "68/68 [==============================] - 0s 2ms/step - loss: 0.1895 - accuracy: 0.9246 - precision_7: 0.7895 - recall_7: 0.6604 - val_loss: 0.4010 - val_accuracy: 0.8906 - val_precision_7: 0.6471 - val_recall_7: 0.4231\n",
      "Epoch 100/100\n",
      "68/68 [==============================] - 0s 3ms/step - loss: 0.2016 - accuracy: 0.9144 - precision_7: 0.7463 - recall_7: 0.6289 - val_loss: 0.4148 - val_accuracy: 0.8906 - val_precision_7: 0.6667 - val_recall_7: 0.3846\n"
     ]
    }
   ],
   "source": [
    "model = build_model()\n",
    "\n",
    "training_history = model.fit(dataset_train, epochs=num_epochs, validation_data=dataset_val)"
   ]
  },
  {
   "cell_type": "markdown",
   "metadata": {},
   "source": [
    "Plotting accuracy"
   ]
  },
  {
   "cell_type": "code",
   "execution_count": 146,
   "metadata": {},
   "outputs": [
    {
     "data": {
      "text/plain": [
       "dict_keys(['loss', 'accuracy', 'precision_7', 'recall_7', 'val_loss', 'val_accuracy', 'val_precision_7', 'val_recall_7'])"
      ]
     },
     "execution_count": 146,
     "metadata": {},
     "output_type": "execute_result"
    }
   ],
   "source": [
    "training_history.history.keys()"
   ]
  },
  {
   "cell_type": "code",
   "execution_count": 147,
   "metadata": {},
   "outputs": [
    {
     "data": {
      "text/plain": [
       "<matplotlib.legend.Legend at 0x196cfcf5c08>"
      ]
     },
     "execution_count": 147,
     "metadata": {},
     "output_type": "execute_result"
    },
    {
     "data": {
      "image/png": "[encoded data removed]",
      "text/plain": [
       "<Figure size 1008x576 with 2 Axes>"
      ]
     },
     "metadata": {
      "needs_background": "light"
     },
     "output_type": "display_data"
    }
   ],
   "source": [
    "train_acc = training_history.history['accuracy']\n",
    "train_loss = training_history.history['loss']\n",
    "\n",
    "precision = training_history.history['precision_7']\n",
    "recall = training_history.history['recall_7']\n",
    "\n",
    "epochs_range = range(num_epochs)\n",
    "\n",
    "plt.figure(figsize=(14, 8))\n",
    "\n",
    "plt.subplot(1, 2, 1)\n",
    "\n",
    "plt.plot(epochs_range, train_acc, label='Training Accuracy')\n",
    "plt.plot(epochs_range, train_loss, label='Training Loss')\n",
    "\n",
    "plt.title('Accuracy and Loss')\n",
    "plt.legend()\n",
    "\n",
    "plt.subplot(1, 2, 2)\n",
    "\n",
    "plt.plot(epochs_range, precision, label='Precision')\n",
    "plt.plot(epochs_range, recall, label='Recall')\n",
    "\n",
    "plt.title('Precision and Recall')\n",
    "plt.legend()"
   ]
  },
  {
   "cell_type": "markdown",
   "metadata": {},
   "source": [
    "Model evaluation"
   ]
  },
  {
   "cell_type": "code",
   "execution_count": 148,
   "metadata": {},
   "outputs": [
    {
     "name": "stdout",
     "output_type": "stream",
     "text": [
      "320/320 [==============================] - 0s 44us/sample - loss: 0.3955 - accuracy: 0.8969 - precision_7: 0.4828 - recall_7: 0.4375 \n"
     ]
    },
    {
     "data": {
      "text/plain": [
       "loss           0.395541\n",
       "accuracy       0.896875\n",
       "precision_7    0.482759\n",
       "recall_7       0.437500\n",
       "dtype: float64"
      ]
     },
     "execution_count": 148,
     "metadata": {},
     "output_type": "execute_result"
    }
   ],
   "source": [
    "score = model.evaluate(x_test, y_test)\n",
    "\n",
    "score_df = pd.Series(score, index = model.metrics_names)\n",
    "\n",
    "score_df"
   ]
  },
  {
   "cell_type": "markdown",
   "metadata": {},
   "source": [
    "Prediction"
   ]
  },
  {
   "cell_type": "code",
   "execution_count": 149,
   "metadata": {},
   "outputs": [
    {
     "data": {
      "text/plain": [
       "array([[7.2160363e-04],\n",
       "       [8.3148479e-06],\n",
       "       [4.0868443e-01],\n",
       "       [9.9215895e-02],\n",
       "       [1.2582931e-01],\n",
       "       [9.6311539e-02],\n",
       "       [1.1015102e-01],\n",
       "       [0.0000000e+00],\n",
       "       [2.8223497e-01],\n",
       "       [3.8465858e-04]], dtype=float32)"
      ]
     },
     "execution_count": 149,
     "metadata": {},
     "output_type": "execute_result"
    }
   ],
   "source": [
    "y_pred = model.predict(x_test)\n",
    "\n",
    "y_pred[:10]"
   ]
  },
  {
   "cell_type": "code",
   "execution_count": 150,
   "metadata": {},
   "outputs": [],
   "source": [
    "y_pred = np.where(y_pred>=0.5, 1, y_pred)\n",
    "\n",
    "y_pred = np.where(y_pred<0.5, 0, y_pred)"
   ]
  },
  {
   "cell_type": "code",
   "execution_count": 151,
   "metadata": {},
   "outputs": [
    {
     "data": {
      "text/plain": [
       "array([[0.],\n",
       "       [0.],\n",
       "       [0.],\n",
       "       [0.],\n",
       "       [0.],\n",
       "       [0.],\n",
       "       [0.],\n",
       "       [0.],\n",
       "       [0.],\n",
       "       [0.]], dtype=float32)"
      ]
     },
     "execution_count": 151,
     "metadata": {},
     "output_type": "execute_result"
    }
   ],
   "source": [
    "y_pred[:10]"
   ]
  },
  {
   "cell_type": "code",
   "execution_count": 152,
   "metadata": {},
   "outputs": [],
   "source": [
    "pred_results = pd.DataFrame({'y_test': y_test.values.flatten(),\n",
    "                             'y_pred': y_pred.flatten().astype('int32') }, index = range(len(y_pred)))"
   ]
  },
  {
   "cell_type": "code",
   "execution_count": 153,
   "metadata": {},
   "outputs": [
    {
     "data": {
      "text/html": [
       "<div>\n",
       "<style scoped>\n",
       "    .dataframe tbody tr th:only-of-type {\n",
       "        vertical-align: middle;\n",
       "    }\n",
       "\n",
       "    .dataframe tbody tr th {\n",
       "        vertical-align: top;\n",
       "    }\n",
       "\n",
       "    .dataframe thead th {\n",
       "        text-align: right;\n",
       "    }\n",
       "</style>\n",
       "<table border=\"1\" class=\"dataframe\">\n",
       "  <thead>\n",
       "    <tr style=\"text-align: right;\">\n",
       "      <th></th>\n",
       "      <th>y_test</th>\n",
       "      <th>y_pred</th>\n",
       "    </tr>\n",
       "  </thead>\n",
       "  <tbody>\n",
       "    <tr>\n",
       "      <th>120</th>\n",
       "      <td>0</td>\n",
       "      <td>0</td>\n",
       "    </tr>\n",
       "    <tr>\n",
       "      <th>128</th>\n",
       "      <td>1</td>\n",
       "      <td>0</td>\n",
       "    </tr>\n",
       "    <tr>\n",
       "      <th>271</th>\n",
       "      <td>0</td>\n",
       "      <td>0</td>\n",
       "    </tr>\n",
       "    <tr>\n",
       "      <th>27</th>\n",
       "      <td>0</td>\n",
       "      <td>0</td>\n",
       "    </tr>\n",
       "    <tr>\n",
       "      <th>319</th>\n",
       "      <td>0</td>\n",
       "      <td>0</td>\n",
       "    </tr>\n",
       "    <tr>\n",
       "      <th>227</th>\n",
       "      <td>1</td>\n",
       "      <td>0</td>\n",
       "    </tr>\n",
       "    <tr>\n",
       "      <th>28</th>\n",
       "      <td>0</td>\n",
       "      <td>0</td>\n",
       "    </tr>\n",
       "    <tr>\n",
       "      <th>164</th>\n",
       "      <td>0</td>\n",
       "      <td>0</td>\n",
       "    </tr>\n",
       "    <tr>\n",
       "      <th>299</th>\n",
       "      <td>0</td>\n",
       "      <td>0</td>\n",
       "    </tr>\n",
       "    <tr>\n",
       "      <th>306</th>\n",
       "      <td>0</td>\n",
       "      <td>0</td>\n",
       "    </tr>\n",
       "  </tbody>\n",
       "</table>\n",
       "</div>"
      ],
      "text/plain": [
       "     y_test  y_pred\n",
       "120       0       0\n",
       "128       1       0\n",
       "271       0       0\n",
       "27        0       0\n",
       "319       0       0\n",
       "227       1       0\n",
       "28        0       0\n",
       "164       0       0\n",
       "299       0       0\n",
       "306       0       0"
      ]
     },
     "execution_count": 153,
     "metadata": {},
     "output_type": "execute_result"
    }
   ],
   "source": [
    "pred_results.sample(10)"
   ]
  },
  {
   "cell_type": "code",
   "execution_count": 154,
   "metadata": {},
   "outputs": [
    {
     "data": {
      "text/html": [
       "<div>\n",
       "<style scoped>\n",
       "    .dataframe tbody tr th:only-of-type {\n",
       "        vertical-align: middle;\n",
       "    }\n",
       "\n",
       "    .dataframe tbody tr th {\n",
       "        vertical-align: top;\n",
       "    }\n",
       "\n",
       "    .dataframe thead th {\n",
       "        text-align: right;\n",
       "    }\n",
       "</style>\n",
       "<table border=\"1\" class=\"dataframe\">\n",
       "  <thead>\n",
       "    <tr style=\"text-align: right;\">\n",
       "      <th>y_test</th>\n",
       "      <th>0</th>\n",
       "      <th>1</th>\n",
       "    </tr>\n",
       "    <tr>\n",
       "      <th>y_pred</th>\n",
       "      <th></th>\n",
       "      <th></th>\n",
       "    </tr>\n",
       "  </thead>\n",
       "  <tbody>\n",
       "    <tr>\n",
       "      <th>0</th>\n",
       "      <td>273</td>\n",
       "      <td>18</td>\n",
       "    </tr>\n",
       "    <tr>\n",
       "      <th>1</th>\n",
       "      <td>15</td>\n",
       "      <td>14</td>\n",
       "    </tr>\n",
       "  </tbody>\n",
       "</table>\n",
       "</div>"
      ],
      "text/plain": [
       "y_test    0   1\n",
       "y_pred         \n",
       "0       273  18\n",
       "1        15  14"
      ]
     },
     "execution_count": 154,
     "metadata": {},
     "output_type": "execute_result"
    }
   ],
   "source": [
    "pd.crosstab(pred_results.y_pred, pred_results.y_test)"
   ]
  },
  {
   "cell_type": "code",
   "execution_count": 155,
   "metadata": {},
   "outputs": [],
   "source": [
    "from sklearn.metrics import accuracy_score, precision_score, recall_score"
   ]
  },
  {
   "cell_type": "code",
   "execution_count": 156,
   "metadata": {},
   "outputs": [
    {
     "data": {
      "text/plain": [
       "0.896875"
      ]
     },
     "execution_count": 156,
     "metadata": {},
     "output_type": "execute_result"
    }
   ],
   "source": [
    "accuracy_score(y_test, y_pred)"
   ]
  },
  {
   "cell_type": "code",
   "execution_count": 157,
   "metadata": {},
   "outputs": [
    {
     "data": {
      "text/plain": [
       "0.4827586206896552"
      ]
     },
     "execution_count": 157,
     "metadata": {},
     "output_type": "execute_result"
    }
   ],
   "source": [
    "precision_score(y_test, y_pred)"
   ]
  },
  {
   "cell_type": "code",
   "execution_count": 158,
   "metadata": {},
   "outputs": [
    {
     "data": {
      "text/plain": [
       "0.4375"
      ]
     },
     "execution_count": 158,
     "metadata": {},
     "output_type": "execute_result"
    }
   ],
   "source": [
    "recall_score(y_test, y_pred)"
   ]
  },
  {
   "cell_type": "code",
   "execution_count": null,
   "metadata": {},
   "outputs": [],
   "source": []
  }
 ],
 "metadata": {
  "kernelspec": {
   "display_name": "Python 3",
   "language": "python",
   "name": "python3"
  },
  "language_info": {
   "codemirror_mode": {
    "name": "ipython",
    "version": 3
   },
   "file_extension": ".py",
   "mimetype": "text/x-python",
   "name": "python",
   "nbconvert_exporter": "python",
   "pygments_lexer": "ipython3",
   "version": "3.7.4"
  }
 },
 "nbformat": 4,
 "nbformat_minor": 4
}
