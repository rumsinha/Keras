{
 "cells": [
  {
   "cell_type": "markdown",
   "metadata": {},
   "source": [
    "Heart Disease Classification"
   ]
  },
  {
   "cell_type": "markdown",
   "metadata": {},
   "source": [
    "Importing Libraries"
   ]
  },
  {
   "cell_type": "code",
   "execution_count": 3,
   "metadata": {},
   "outputs": [],
   "source": [
    "import warnings\n",
    "warnings.filterwarnings('ignore')\n",
    "\n",
    "from datetime import datetime\n",
    "\n",
    "import numpy as np\n",
    "import pandas as pd\n",
    "\n",
    "import matplotlib.pyplot as plt \n",
    "import seaborn as sns \n",
    "\n",
    "from sklearn.model_selection import train_test_split\n",
    "from sklearn.preprocessing import StandardScaler\n",
    "from sklearn.metrics import accuracy_score, precision_score, recall_score\n",
    "\n",
    "import tensorflow as tf\n",
    "\n",
    "from tensorflow import keras\n",
    "from tensorflow.keras import layers"
   ]
  },
  {
   "cell_type": "markdown",
   "metadata": {},
   "source": [
    "Loading data"
   ]
  },
  {
   "cell_type": "code",
   "execution_count": 4,
   "metadata": {},
   "outputs": [
    {
     "data": {
      "text/html": [
       "<div>\n",
       "<style scoped>\n",
       "    .dataframe tbody tr th:only-of-type {\n",
       "        vertical-align: middle;\n",
       "    }\n",
       "\n",
       "    .dataframe tbody tr th {\n",
       "        vertical-align: top;\n",
       "    }\n",
       "\n",
       "    .dataframe thead th {\n",
       "        text-align: right;\n",
       "    }\n",
       "</style>\n",
       "<table border=\"1\" class=\"dataframe\">\n",
       "  <thead>\n",
       "    <tr style=\"text-align: right;\">\n",
       "      <th></th>\n",
       "      <th>age</th>\n",
       "      <th>sex</th>\n",
       "      <th>cp</th>\n",
       "      <th>trestbps</th>\n",
       "      <th>chol</th>\n",
       "      <th>fbs</th>\n",
       "      <th>restecg</th>\n",
       "      <th>thalach</th>\n",
       "      <th>exang</th>\n",
       "      <th>oldpeak</th>\n",
       "      <th>slope</th>\n",
       "      <th>ca</th>\n",
       "      <th>thal</th>\n",
       "      <th>target</th>\n",
       "    </tr>\n",
       "  </thead>\n",
       "  <tbody>\n",
       "    <tr>\n",
       "      <th>202</th>\n",
       "      <td>58</td>\n",
       "      <td>1</td>\n",
       "      <td>0</td>\n",
       "      <td>150</td>\n",
       "      <td>270</td>\n",
       "      <td>0</td>\n",
       "      <td>0</td>\n",
       "      <td>111</td>\n",
       "      <td>1</td>\n",
       "      <td>0.8</td>\n",
       "      <td>2</td>\n",
       "      <td>0</td>\n",
       "      <td>3</td>\n",
       "      <td>0</td>\n",
       "    </tr>\n",
       "    <tr>\n",
       "      <th>49</th>\n",
       "      <td>53</td>\n",
       "      <td>0</td>\n",
       "      <td>0</td>\n",
       "      <td>138</td>\n",
       "      <td>234</td>\n",
       "      <td>0</td>\n",
       "      <td>0</td>\n",
       "      <td>160</td>\n",
       "      <td>0</td>\n",
       "      <td>0.0</td>\n",
       "      <td>2</td>\n",
       "      <td>0</td>\n",
       "      <td>2</td>\n",
       "      <td>1</td>\n",
       "    </tr>\n",
       "    <tr>\n",
       "      <th>90</th>\n",
       "      <td>48</td>\n",
       "      <td>1</td>\n",
       "      <td>2</td>\n",
       "      <td>124</td>\n",
       "      <td>255</td>\n",
       "      <td>1</td>\n",
       "      <td>1</td>\n",
       "      <td>175</td>\n",
       "      <td>0</td>\n",
       "      <td>0.0</td>\n",
       "      <td>2</td>\n",
       "      <td>2</td>\n",
       "      <td>2</td>\n",
       "      <td>1</td>\n",
       "    </tr>\n",
       "    <tr>\n",
       "      <th>124</th>\n",
       "      <td>39</td>\n",
       "      <td>0</td>\n",
       "      <td>2</td>\n",
       "      <td>94</td>\n",
       "      <td>199</td>\n",
       "      <td>0</td>\n",
       "      <td>1</td>\n",
       "      <td>179</td>\n",
       "      <td>0</td>\n",
       "      <td>0.0</td>\n",
       "      <td>2</td>\n",
       "      <td>0</td>\n",
       "      <td>2</td>\n",
       "      <td>1</td>\n",
       "    </tr>\n",
       "    <tr>\n",
       "      <th>93</th>\n",
       "      <td>54</td>\n",
       "      <td>0</td>\n",
       "      <td>1</td>\n",
       "      <td>132</td>\n",
       "      <td>288</td>\n",
       "      <td>1</td>\n",
       "      <td>0</td>\n",
       "      <td>159</td>\n",
       "      <td>1</td>\n",
       "      <td>0.0</td>\n",
       "      <td>2</td>\n",
       "      <td>1</td>\n",
       "      <td>2</td>\n",
       "      <td>1</td>\n",
       "    </tr>\n",
       "  </tbody>\n",
       "</table>\n",
       "</div>"
      ],
      "text/plain": [
       "     age  sex  cp  trestbps  chol  fbs  restecg  thalach  exang  oldpeak  \\\n",
       "202   58    1   0       150   270    0        0      111      1      0.8   \n",
       "49    53    0   0       138   234    0        0      160      0      0.0   \n",
       "90    48    1   2       124   255    1        1      175      0      0.0   \n",
       "124   39    0   2        94   199    0        1      179      0      0.0   \n",
       "93    54    0   1       132   288    1        0      159      1      0.0   \n",
       "\n",
       "     slope  ca  thal  target  \n",
       "202      2   0     3       0  \n",
       "49       2   0     2       1  \n",
       "90       2   2     2       1  \n",
       "124      2   0     2       1  \n",
       "93       2   1     2       1  "
      ]
     },
     "execution_count": 4,
     "metadata": {},
     "output_type": "execute_result"
    }
   ],
   "source": [
    "heartdata_df = pd.read_csv('heart.csv')\n",
    "\n",
    "heartdata_df.sample(5)"
   ]
  },
  {
   "cell_type": "code",
   "execution_count": 5,
   "metadata": {},
   "outputs": [
    {
     "data": {
      "text/plain": [
       "(303, 14)"
      ]
     },
     "execution_count": 5,
     "metadata": {},
     "output_type": "execute_result"
    }
   ],
   "source": [
    "heartdata_df.shape"
   ]
  },
  {
   "cell_type": "code",
   "execution_count": 6,
   "metadata": {},
   "outputs": [
    {
     "data": {
      "text/plain": [
       "age         0\n",
       "sex         0\n",
       "cp          0\n",
       "trestbps    0\n",
       "chol        0\n",
       "fbs         0\n",
       "restecg     0\n",
       "thalach     0\n",
       "exang       0\n",
       "oldpeak     0\n",
       "slope       0\n",
       "ca          0\n",
       "thal        0\n",
       "target      0\n",
       "dtype: int64"
      ]
     },
     "execution_count": 6,
     "metadata": {},
     "output_type": "execute_result"
    }
   ],
   "source": [
    "heartdata_df.isna().sum()"
   ]
  },
  {
   "cell_type": "code",
   "execution_count": 7,
   "metadata": {},
   "outputs": [
    {
     "data": {
      "text/html": [
       "<div>\n",
       "<style scoped>\n",
       "    .dataframe tbody tr th:only-of-type {\n",
       "        vertical-align: middle;\n",
       "    }\n",
       "\n",
       "    .dataframe tbody tr th {\n",
       "        vertical-align: top;\n",
       "    }\n",
       "\n",
       "    .dataframe thead th {\n",
       "        text-align: right;\n",
       "    }\n",
       "</style>\n",
       "<table border=\"1\" class=\"dataframe\">\n",
       "  <thead>\n",
       "    <tr style=\"text-align: right;\">\n",
       "      <th></th>\n",
       "      <th>count</th>\n",
       "      <th>mean</th>\n",
       "      <th>std</th>\n",
       "      <th>min</th>\n",
       "      <th>25%</th>\n",
       "      <th>50%</th>\n",
       "      <th>75%</th>\n",
       "      <th>max</th>\n",
       "    </tr>\n",
       "  </thead>\n",
       "  <tbody>\n",
       "    <tr>\n",
       "      <th>age</th>\n",
       "      <td>303.0</td>\n",
       "      <td>54.366337</td>\n",
       "      <td>9.082101</td>\n",
       "      <td>29.0</td>\n",
       "      <td>47.5</td>\n",
       "      <td>55.0</td>\n",
       "      <td>61.0</td>\n",
       "      <td>77.0</td>\n",
       "    </tr>\n",
       "    <tr>\n",
       "      <th>sex</th>\n",
       "      <td>303.0</td>\n",
       "      <td>0.683168</td>\n",
       "      <td>0.466011</td>\n",
       "      <td>0.0</td>\n",
       "      <td>0.0</td>\n",
       "      <td>1.0</td>\n",
       "      <td>1.0</td>\n",
       "      <td>1.0</td>\n",
       "    </tr>\n",
       "    <tr>\n",
       "      <th>cp</th>\n",
       "      <td>303.0</td>\n",
       "      <td>0.966997</td>\n",
       "      <td>1.032052</td>\n",
       "      <td>0.0</td>\n",
       "      <td>0.0</td>\n",
       "      <td>1.0</td>\n",
       "      <td>2.0</td>\n",
       "      <td>3.0</td>\n",
       "    </tr>\n",
       "    <tr>\n",
       "      <th>trestbps</th>\n",
       "      <td>303.0</td>\n",
       "      <td>131.623762</td>\n",
       "      <td>17.538143</td>\n",
       "      <td>94.0</td>\n",
       "      <td>120.0</td>\n",
       "      <td>130.0</td>\n",
       "      <td>140.0</td>\n",
       "      <td>200.0</td>\n",
       "    </tr>\n",
       "    <tr>\n",
       "      <th>chol</th>\n",
       "      <td>303.0</td>\n",
       "      <td>246.264026</td>\n",
       "      <td>51.830751</td>\n",
       "      <td>126.0</td>\n",
       "      <td>211.0</td>\n",
       "      <td>240.0</td>\n",
       "      <td>274.5</td>\n",
       "      <td>564.0</td>\n",
       "    </tr>\n",
       "    <tr>\n",
       "      <th>fbs</th>\n",
       "      <td>303.0</td>\n",
       "      <td>0.148515</td>\n",
       "      <td>0.356198</td>\n",
       "      <td>0.0</td>\n",
       "      <td>0.0</td>\n",
       "      <td>0.0</td>\n",
       "      <td>0.0</td>\n",
       "      <td>1.0</td>\n",
       "    </tr>\n",
       "    <tr>\n",
       "      <th>restecg</th>\n",
       "      <td>303.0</td>\n",
       "      <td>0.528053</td>\n",
       "      <td>0.525860</td>\n",
       "      <td>0.0</td>\n",
       "      <td>0.0</td>\n",
       "      <td>1.0</td>\n",
       "      <td>1.0</td>\n",
       "      <td>2.0</td>\n",
       "    </tr>\n",
       "    <tr>\n",
       "      <th>thalach</th>\n",
       "      <td>303.0</td>\n",
       "      <td>149.646865</td>\n",
       "      <td>22.905161</td>\n",
       "      <td>71.0</td>\n",
       "      <td>133.5</td>\n",
       "      <td>153.0</td>\n",
       "      <td>166.0</td>\n",
       "      <td>202.0</td>\n",
       "    </tr>\n",
       "    <tr>\n",
       "      <th>exang</th>\n",
       "      <td>303.0</td>\n",
       "      <td>0.326733</td>\n",
       "      <td>0.469794</td>\n",
       "      <td>0.0</td>\n",
       "      <td>0.0</td>\n",
       "      <td>0.0</td>\n",
       "      <td>1.0</td>\n",
       "      <td>1.0</td>\n",
       "    </tr>\n",
       "    <tr>\n",
       "      <th>oldpeak</th>\n",
       "      <td>303.0</td>\n",
       "      <td>1.039604</td>\n",
       "      <td>1.161075</td>\n",
       "      <td>0.0</td>\n",
       "      <td>0.0</td>\n",
       "      <td>0.8</td>\n",
       "      <td>1.6</td>\n",
       "      <td>6.2</td>\n",
       "    </tr>\n",
       "    <tr>\n",
       "      <th>slope</th>\n",
       "      <td>303.0</td>\n",
       "      <td>1.399340</td>\n",
       "      <td>0.616226</td>\n",
       "      <td>0.0</td>\n",
       "      <td>1.0</td>\n",
       "      <td>1.0</td>\n",
       "      <td>2.0</td>\n",
       "      <td>2.0</td>\n",
       "    </tr>\n",
       "    <tr>\n",
       "      <th>ca</th>\n",
       "      <td>303.0</td>\n",
       "      <td>0.729373</td>\n",
       "      <td>1.022606</td>\n",
       "      <td>0.0</td>\n",
       "      <td>0.0</td>\n",
       "      <td>0.0</td>\n",
       "      <td>1.0</td>\n",
       "      <td>4.0</td>\n",
       "    </tr>\n",
       "    <tr>\n",
       "      <th>thal</th>\n",
       "      <td>303.0</td>\n",
       "      <td>2.313531</td>\n",
       "      <td>0.612277</td>\n",
       "      <td>0.0</td>\n",
       "      <td>2.0</td>\n",
       "      <td>2.0</td>\n",
       "      <td>3.0</td>\n",
       "      <td>3.0</td>\n",
       "    </tr>\n",
       "    <tr>\n",
       "      <th>target</th>\n",
       "      <td>303.0</td>\n",
       "      <td>0.544554</td>\n",
       "      <td>0.498835</td>\n",
       "      <td>0.0</td>\n",
       "      <td>0.0</td>\n",
       "      <td>1.0</td>\n",
       "      <td>1.0</td>\n",
       "      <td>1.0</td>\n",
       "    </tr>\n",
       "  </tbody>\n",
       "</table>\n",
       "</div>"
      ],
      "text/plain": [
       "          count        mean        std    min    25%    50%    75%    max\n",
       "age       303.0   54.366337   9.082101   29.0   47.5   55.0   61.0   77.0\n",
       "sex       303.0    0.683168   0.466011    0.0    0.0    1.0    1.0    1.0\n",
       "cp        303.0    0.966997   1.032052    0.0    0.0    1.0    2.0    3.0\n",
       "trestbps  303.0  131.623762  17.538143   94.0  120.0  130.0  140.0  200.0\n",
       "chol      303.0  246.264026  51.830751  126.0  211.0  240.0  274.5  564.0\n",
       "fbs       303.0    0.148515   0.356198    0.0    0.0    0.0    0.0    1.0\n",
       "restecg   303.0    0.528053   0.525860    0.0    0.0    1.0    1.0    2.0\n",
       "thalach   303.0  149.646865  22.905161   71.0  133.5  153.0  166.0  202.0\n",
       "exang     303.0    0.326733   0.469794    0.0    0.0    0.0    1.0    1.0\n",
       "oldpeak   303.0    1.039604   1.161075    0.0    0.0    0.8    1.6    6.2\n",
       "slope     303.0    1.399340   0.616226    0.0    1.0    1.0    2.0    2.0\n",
       "ca        303.0    0.729373   1.022606    0.0    0.0    0.0    1.0    4.0\n",
       "thal      303.0    2.313531   0.612277    0.0    2.0    2.0    3.0    3.0\n",
       "target    303.0    0.544554   0.498835    0.0    0.0    1.0    1.0    1.0"
      ]
     },
     "execution_count": 7,
     "metadata": {},
     "output_type": "execute_result"
    }
   ],
   "source": [
    "heartdata_df.describe().T"
   ]
  },
  {
   "cell_type": "code",
   "execution_count": 8,
   "metadata": {},
   "outputs": [
    {
     "data": {
      "text/plain": [
       "1    207\n",
       "0     96\n",
       "Name: sex, dtype: int64"
      ]
     },
     "execution_count": 8,
     "metadata": {},
     "output_type": "execute_result"
    }
   ],
   "source": [
    "heartdata_df['sex'].value_counts()"
   ]
  },
  {
   "cell_type": "code",
   "execution_count": 9,
   "metadata": {},
   "outputs": [
    {
     "data": {
      "text/plain": [
       "0    143\n",
       "2     87\n",
       "1     50\n",
       "3     23\n",
       "Name: cp, dtype: int64"
      ]
     },
     "execution_count": 9,
     "metadata": {},
     "output_type": "execute_result"
    }
   ],
   "source": [
    "heartdata_df['cp'].value_counts()"
   ]
  },
  {
   "cell_type": "markdown",
   "metadata": {},
   "source": [
    "Data Visualization"
   ]
  },
  {
   "cell_type": "code",
   "execution_count": 11,
   "metadata": {},
   "outputs": [
    {
     "data": {
      "image/png": "[encoded data removed]",
      "text/plain": [
       "<Figure size 432x288 with 1 Axes>"
      ]
     },
     "metadata": {
      "needs_background": "light"
     },
     "output_type": "display_data"
    }
   ],
   "source": [
    "sns.countplot('sex', hue = 'target', data = heartdata_df)\n",
    "\n",
    "plt.title('Heart Disease Frequency for Gender')\n",
    "plt.legend([\"No Disease\", \"Yes Disease\"])\n",
    "\n",
    "plt.xlabel('Gender (0 = Female, 1 = Male)')\n",
    "plt.ylabel('Frequency')\n",
    "\n",
    "plt.show()"
   ]
  },
  {
   "cell_type": "code",
   "execution_count": 12,
   "metadata": {},
   "outputs": [
    {
     "data": {
      "image/png": "[encoded data removed]",
      "text/plain": [
       "<Figure size 1440x576 with 1 Axes>"
      ]
     },
     "metadata": {
      "needs_background": "light"
     },
     "output_type": "display_data"
    }
   ],
   "source": [
    "plt.figure(figsize = (20, 8))\n",
    "sns.countplot('age', hue = 'target', data = heartdata_df)\n",
    "\n",
    "plt.title('Heart Disease Frequency for Age')\n",
    "plt.legend([\"No Disease\", \"Yes Disease\"])\n",
    "\n",
    "plt.xlabel('Age')\n",
    "plt.ylabel('Frequency')\n",
    "\n",
    "plt.show()"
   ]
  },
  {
   "cell_type": "code",
   "execution_count": 13,
   "metadata": {},
   "outputs": [
    {
     "data": {
      "image/png": "[encoded data removed]",
      "text/plain": [
       "<Figure size 720x576 with 1 Axes>"
      ]
     },
     "metadata": {
      "needs_background": "light"
     },
     "output_type": "display_data"
    }
   ],
   "source": [
    "plt.figure(figsize = (10, 8))\n",
    "\n",
    "plt.scatter(heartdata_df['age'], heartdata_df['chol'], s = 200)\n",
    "\n",
    "plt.xlabel('Age', fontsize = 20)\n",
    "plt.ylabel('Cholestrol', fontsize = 20)\n",
    "plt.show()"
   ]
  },
  {
   "cell_type": "markdown",
   "metadata": {},
   "source": [
    "Splitting the data"
   ]
  },
  {
   "cell_type": "code",
   "execution_count": 14,
   "metadata": {},
   "outputs": [],
   "source": [
    "features = heartdata_df.drop('target', axis=1)\n",
    "\n",
    "target = heartdata_df[['target']]"
   ]
  },
  {
   "cell_type": "code",
   "execution_count": 15,
   "metadata": {},
   "outputs": [
    {
     "data": {
      "text/html": [
       "<div>\n",
       "<style scoped>\n",
       "    .dataframe tbody tr th:only-of-type {\n",
       "        vertical-align: middle;\n",
       "    }\n",
       "\n",
       "    .dataframe tbody tr th {\n",
       "        vertical-align: top;\n",
       "    }\n",
       "\n",
       "    .dataframe thead th {\n",
       "        text-align: right;\n",
       "    }\n",
       "</style>\n",
       "<table border=\"1\" class=\"dataframe\">\n",
       "  <thead>\n",
       "    <tr style=\"text-align: right;\">\n",
       "      <th></th>\n",
       "      <th>age</th>\n",
       "      <th>sex</th>\n",
       "      <th>cp</th>\n",
       "      <th>trestbps</th>\n",
       "      <th>chol</th>\n",
       "      <th>fbs</th>\n",
       "      <th>restecg</th>\n",
       "      <th>thalach</th>\n",
       "      <th>exang</th>\n",
       "      <th>oldpeak</th>\n",
       "      <th>slope</th>\n",
       "      <th>ca</th>\n",
       "      <th>thal</th>\n",
       "    </tr>\n",
       "  </thead>\n",
       "  <tbody>\n",
       "    <tr>\n",
       "      <th>177</th>\n",
       "      <td>64</td>\n",
       "      <td>1</td>\n",
       "      <td>2</td>\n",
       "      <td>140</td>\n",
       "      <td>335</td>\n",
       "      <td>0</td>\n",
       "      <td>1</td>\n",
       "      <td>158</td>\n",
       "      <td>0</td>\n",
       "      <td>0.0</td>\n",
       "      <td>2</td>\n",
       "      <td>0</td>\n",
       "      <td>2</td>\n",
       "    </tr>\n",
       "    <tr>\n",
       "      <th>243</th>\n",
       "      <td>57</td>\n",
       "      <td>1</td>\n",
       "      <td>0</td>\n",
       "      <td>152</td>\n",
       "      <td>274</td>\n",
       "      <td>0</td>\n",
       "      <td>1</td>\n",
       "      <td>88</td>\n",
       "      <td>1</td>\n",
       "      <td>1.2</td>\n",
       "      <td>1</td>\n",
       "      <td>1</td>\n",
       "      <td>3</td>\n",
       "    </tr>\n",
       "    <tr>\n",
       "      <th>193</th>\n",
       "      <td>60</td>\n",
       "      <td>1</td>\n",
       "      <td>0</td>\n",
       "      <td>145</td>\n",
       "      <td>282</td>\n",
       "      <td>0</td>\n",
       "      <td>0</td>\n",
       "      <td>142</td>\n",
       "      <td>1</td>\n",
       "      <td>2.8</td>\n",
       "      <td>1</td>\n",
       "      <td>2</td>\n",
       "      <td>3</td>\n",
       "    </tr>\n",
       "    <tr>\n",
       "      <th>130</th>\n",
       "      <td>54</td>\n",
       "      <td>0</td>\n",
       "      <td>2</td>\n",
       "      <td>160</td>\n",
       "      <td>201</td>\n",
       "      <td>0</td>\n",
       "      <td>1</td>\n",
       "      <td>163</td>\n",
       "      <td>0</td>\n",
       "      <td>0.0</td>\n",
       "      <td>2</td>\n",
       "      <td>1</td>\n",
       "      <td>2</td>\n",
       "    </tr>\n",
       "    <tr>\n",
       "      <th>259</th>\n",
       "      <td>38</td>\n",
       "      <td>1</td>\n",
       "      <td>3</td>\n",
       "      <td>120</td>\n",
       "      <td>231</td>\n",
       "      <td>0</td>\n",
       "      <td>1</td>\n",
       "      <td>182</td>\n",
       "      <td>1</td>\n",
       "      <td>3.8</td>\n",
       "      <td>1</td>\n",
       "      <td>0</td>\n",
       "      <td>3</td>\n",
       "    </tr>\n",
       "  </tbody>\n",
       "</table>\n",
       "</div>"
      ],
      "text/plain": [
       "     age  sex  cp  trestbps  chol  fbs  restecg  thalach  exang  oldpeak  \\\n",
       "177   64    1   2       140   335    0        1      158      0      0.0   \n",
       "243   57    1   0       152   274    0        1       88      1      1.2   \n",
       "193   60    1   0       145   282    0        0      142      1      2.8   \n",
       "130   54    0   2       160   201    0        1      163      0      0.0   \n",
       "259   38    1   3       120   231    0        1      182      1      3.8   \n",
       "\n",
       "     slope  ca  thal  \n",
       "177      2   0     2  \n",
       "243      1   1     3  \n",
       "193      1   2     3  \n",
       "130      2   1     2  \n",
       "259      1   0     3  "
      ]
     },
     "execution_count": 15,
     "metadata": {},
     "output_type": "execute_result"
    }
   ],
   "source": [
    "features.sample(5)"
   ]
  },
  {
   "cell_type": "code",
   "execution_count": 16,
   "metadata": {},
   "outputs": [
    {
     "data": {
      "text/html": [
       "<div>\n",
       "<style scoped>\n",
       "    .dataframe tbody tr th:only-of-type {\n",
       "        vertical-align: middle;\n",
       "    }\n",
       "\n",
       "    .dataframe tbody tr th {\n",
       "        vertical-align: top;\n",
       "    }\n",
       "\n",
       "    .dataframe thead th {\n",
       "        text-align: right;\n",
       "    }\n",
       "</style>\n",
       "<table border=\"1\" class=\"dataframe\">\n",
       "  <thead>\n",
       "    <tr style=\"text-align: right;\">\n",
       "      <th></th>\n",
       "      <th>target</th>\n",
       "    </tr>\n",
       "  </thead>\n",
       "  <tbody>\n",
       "    <tr>\n",
       "      <th>285</th>\n",
       "      <td>0</td>\n",
       "    </tr>\n",
       "    <tr>\n",
       "      <th>20</th>\n",
       "      <td>1</td>\n",
       "    </tr>\n",
       "    <tr>\n",
       "      <th>119</th>\n",
       "      <td>1</td>\n",
       "    </tr>\n",
       "    <tr>\n",
       "      <th>218</th>\n",
       "      <td>0</td>\n",
       "    </tr>\n",
       "    <tr>\n",
       "      <th>191</th>\n",
       "      <td>0</td>\n",
       "    </tr>\n",
       "    <tr>\n",
       "      <th>278</th>\n",
       "      <td>0</td>\n",
       "    </tr>\n",
       "    <tr>\n",
       "      <th>157</th>\n",
       "      <td>1</td>\n",
       "    </tr>\n",
       "    <tr>\n",
       "      <th>166</th>\n",
       "      <td>0</td>\n",
       "    </tr>\n",
       "    <tr>\n",
       "      <th>155</th>\n",
       "      <td>1</td>\n",
       "    </tr>\n",
       "    <tr>\n",
       "      <th>184</th>\n",
       "      <td>0</td>\n",
       "    </tr>\n",
       "  </tbody>\n",
       "</table>\n",
       "</div>"
      ],
      "text/plain": [
       "     target\n",
       "285       0\n",
       "20        1\n",
       "119       1\n",
       "218       0\n",
       "191       0\n",
       "278       0\n",
       "157       1\n",
       "166       0\n",
       "155       1\n",
       "184       0"
      ]
     },
     "execution_count": 16,
     "metadata": {},
     "output_type": "execute_result"
    }
   ],
   "source": [
    "target.sample(10)"
   ]
  },
  {
   "cell_type": "code",
   "execution_count": 17,
   "metadata": {},
   "outputs": [
    {
     "data": {
      "text/html": [
       "<div>\n",
       "<style scoped>\n",
       "    .dataframe tbody tr th:only-of-type {\n",
       "        vertical-align: middle;\n",
       "    }\n",
       "\n",
       "    .dataframe tbody tr th {\n",
       "        vertical-align: top;\n",
       "    }\n",
       "\n",
       "    .dataframe thead th {\n",
       "        text-align: right;\n",
       "    }\n",
       "</style>\n",
       "<table border=\"1\" class=\"dataframe\">\n",
       "  <thead>\n",
       "    <tr style=\"text-align: right;\">\n",
       "      <th></th>\n",
       "      <th>sex</th>\n",
       "      <th>fbs</th>\n",
       "      <th>exang</th>\n",
       "      <th>cp</th>\n",
       "      <th>ca</th>\n",
       "      <th>slope</th>\n",
       "      <th>thal</th>\n",
       "      <th>restecg</th>\n",
       "    </tr>\n",
       "  </thead>\n",
       "  <tbody>\n",
       "    <tr>\n",
       "      <th>0</th>\n",
       "      <td>1</td>\n",
       "      <td>1</td>\n",
       "      <td>0</td>\n",
       "      <td>3</td>\n",
       "      <td>0</td>\n",
       "      <td>0</td>\n",
       "      <td>1</td>\n",
       "      <td>0</td>\n",
       "    </tr>\n",
       "    <tr>\n",
       "      <th>1</th>\n",
       "      <td>1</td>\n",
       "      <td>0</td>\n",
       "      <td>0</td>\n",
       "      <td>2</td>\n",
       "      <td>0</td>\n",
       "      <td>0</td>\n",
       "      <td>2</td>\n",
       "      <td>1</td>\n",
       "    </tr>\n",
       "    <tr>\n",
       "      <th>2</th>\n",
       "      <td>0</td>\n",
       "      <td>0</td>\n",
       "      <td>0</td>\n",
       "      <td>1</td>\n",
       "      <td>0</td>\n",
       "      <td>2</td>\n",
       "      <td>2</td>\n",
       "      <td>0</td>\n",
       "    </tr>\n",
       "    <tr>\n",
       "      <th>3</th>\n",
       "      <td>1</td>\n",
       "      <td>0</td>\n",
       "      <td>0</td>\n",
       "      <td>1</td>\n",
       "      <td>0</td>\n",
       "      <td>2</td>\n",
       "      <td>2</td>\n",
       "      <td>1</td>\n",
       "    </tr>\n",
       "    <tr>\n",
       "      <th>4</th>\n",
       "      <td>0</td>\n",
       "      <td>0</td>\n",
       "      <td>1</td>\n",
       "      <td>0</td>\n",
       "      <td>0</td>\n",
       "      <td>2</td>\n",
       "      <td>2</td>\n",
       "      <td>1</td>\n",
       "    </tr>\n",
       "  </tbody>\n",
       "</table>\n",
       "</div>"
      ],
      "text/plain": [
       "   sex  fbs  exang  cp  ca  slope  thal  restecg\n",
       "0    1    1      0   3   0      0     1        0\n",
       "1    1    0      0   2   0      0     2        1\n",
       "2    0    0      0   1   0      2     2        0\n",
       "3    1    0      0   1   0      2     2        1\n",
       "4    0    0      1   0   0      2     2        1"
      ]
     },
     "execution_count": 17,
     "metadata": {},
     "output_type": "execute_result"
    }
   ],
   "source": [
    "categorical_features = features[['sex', 'fbs', 'exang', 'cp', 'ca', 'slope', 'thal', 'restecg']].copy()\n",
    "\n",
    "categorical_features.head()"
   ]
  },
  {
   "cell_type": "code",
   "execution_count": 18,
   "metadata": {},
   "outputs": [
    {
     "data": {
      "text/html": [
       "<div>\n",
       "<style scoped>\n",
       "    .dataframe tbody tr th:only-of-type {\n",
       "        vertical-align: middle;\n",
       "    }\n",
       "\n",
       "    .dataframe tbody tr th {\n",
       "        vertical-align: top;\n",
       "    }\n",
       "\n",
       "    .dataframe thead th {\n",
       "        text-align: right;\n",
       "    }\n",
       "</style>\n",
       "<table border=\"1\" class=\"dataframe\">\n",
       "  <thead>\n",
       "    <tr style=\"text-align: right;\">\n",
       "      <th></th>\n",
       "      <th>age</th>\n",
       "      <th>trestbps</th>\n",
       "      <th>chol</th>\n",
       "      <th>thalach</th>\n",
       "      <th>oldpeak</th>\n",
       "    </tr>\n",
       "  </thead>\n",
       "  <tbody>\n",
       "    <tr>\n",
       "      <th>0</th>\n",
       "      <td>63</td>\n",
       "      <td>145</td>\n",
       "      <td>233</td>\n",
       "      <td>150</td>\n",
       "      <td>2.3</td>\n",
       "    </tr>\n",
       "    <tr>\n",
       "      <th>1</th>\n",
       "      <td>37</td>\n",
       "      <td>130</td>\n",
       "      <td>250</td>\n",
       "      <td>187</td>\n",
       "      <td>3.5</td>\n",
       "    </tr>\n",
       "    <tr>\n",
       "      <th>2</th>\n",
       "      <td>41</td>\n",
       "      <td>130</td>\n",
       "      <td>204</td>\n",
       "      <td>172</td>\n",
       "      <td>1.4</td>\n",
       "    </tr>\n",
       "    <tr>\n",
       "      <th>3</th>\n",
       "      <td>56</td>\n",
       "      <td>120</td>\n",
       "      <td>236</td>\n",
       "      <td>178</td>\n",
       "      <td>0.8</td>\n",
       "    </tr>\n",
       "    <tr>\n",
       "      <th>4</th>\n",
       "      <td>57</td>\n",
       "      <td>120</td>\n",
       "      <td>354</td>\n",
       "      <td>163</td>\n",
       "      <td>0.6</td>\n",
       "    </tr>\n",
       "  </tbody>\n",
       "</table>\n",
       "</div>"
      ],
      "text/plain": [
       "   age  trestbps  chol  thalach  oldpeak\n",
       "0   63       145   233      150      2.3\n",
       "1   37       130   250      187      3.5\n",
       "2   41       130   204      172      1.4\n",
       "3   56       120   236      178      0.8\n",
       "4   57       120   354      163      0.6"
      ]
     },
     "execution_count": 18,
     "metadata": {},
     "output_type": "execute_result"
    }
   ],
   "source": [
    "numeric_features = features[['age', 'trestbps', 'chol', 'thalach', 'oldpeak']].copy()\n",
    "\n",
    "numeric_features.head()"
   ]
  },
  {
   "cell_type": "code",
   "execution_count": 19,
   "metadata": {},
   "outputs": [
    {
     "data": {
      "text/html": [
       "<div>\n",
       "<style scoped>\n",
       "    .dataframe tbody tr th:only-of-type {\n",
       "        vertical-align: middle;\n",
       "    }\n",
       "\n",
       "    .dataframe tbody tr th {\n",
       "        vertical-align: top;\n",
       "    }\n",
       "\n",
       "    .dataframe thead th {\n",
       "        text-align: right;\n",
       "    }\n",
       "</style>\n",
       "<table border=\"1\" class=\"dataframe\">\n",
       "  <thead>\n",
       "    <tr style=\"text-align: right;\">\n",
       "      <th></th>\n",
       "      <th>age</th>\n",
       "      <th>trestbps</th>\n",
       "      <th>chol</th>\n",
       "      <th>thalach</th>\n",
       "      <th>oldpeak</th>\n",
       "    </tr>\n",
       "  </thead>\n",
       "  <tbody>\n",
       "    <tr>\n",
       "      <th>count</th>\n",
       "      <td>3.030000e+02</td>\n",
       "      <td>3.030000e+02</td>\n",
       "      <td>3.030000e+02</td>\n",
       "      <td>3.030000e+02</td>\n",
       "      <td>3.030000e+02</td>\n",
       "    </tr>\n",
       "    <tr>\n",
       "      <th>mean</th>\n",
       "      <td>5.825923e-17</td>\n",
       "      <td>-7.146832e-16</td>\n",
       "      <td>-9.828955e-17</td>\n",
       "      <td>-5.203025e-16</td>\n",
       "      <td>-3.140136e-16</td>\n",
       "    </tr>\n",
       "    <tr>\n",
       "      <th>std</th>\n",
       "      <td>1.001654e+00</td>\n",
       "      <td>1.001654e+00</td>\n",
       "      <td>1.001654e+00</td>\n",
       "      <td>1.001654e+00</td>\n",
       "      <td>1.001654e+00</td>\n",
       "    </tr>\n",
       "    <tr>\n",
       "      <th>min</th>\n",
       "      <td>-2.797624e+00</td>\n",
       "      <td>-2.148802e+00</td>\n",
       "      <td>-2.324160e+00</td>\n",
       "      <td>-3.439267e+00</td>\n",
       "      <td>-8.968617e-01</td>\n",
       "    </tr>\n",
       "    <tr>\n",
       "      <th>25%</th>\n",
       "      <td>-7.572802e-01</td>\n",
       "      <td>-6.638668e-01</td>\n",
       "      <td>-6.814943e-01</td>\n",
       "      <td>-7.061105e-01</td>\n",
       "      <td>-8.968617e-01</td>\n",
       "    </tr>\n",
       "    <tr>\n",
       "      <th>50%</th>\n",
       "      <td>6.988599e-02</td>\n",
       "      <td>-9.273778e-02</td>\n",
       "      <td>-1.210553e-01</td>\n",
       "      <td>1.466343e-01</td>\n",
       "      <td>-2.067053e-01</td>\n",
       "    </tr>\n",
       "    <tr>\n",
       "      <th>75%</th>\n",
       "      <td>7.316189e-01</td>\n",
       "      <td>4.783913e-01</td>\n",
       "      <td>5.456738e-01</td>\n",
       "      <td>7.151309e-01</td>\n",
       "      <td>4.834512e-01</td>\n",
       "    </tr>\n",
       "    <tr>\n",
       "      <th>max</th>\n",
       "      <td>2.496240e+00</td>\n",
       "      <td>3.905165e+00</td>\n",
       "      <td>6.140401e+00</td>\n",
       "      <td>2.289429e+00</td>\n",
       "      <td>4.451851e+00</td>\n",
       "    </tr>\n",
       "  </tbody>\n",
       "</table>\n",
       "</div>"
      ],
      "text/plain": [
       "                age      trestbps          chol       thalach       oldpeak\n",
       "count  3.030000e+02  3.030000e+02  3.030000e+02  3.030000e+02  3.030000e+02\n",
       "mean   5.825923e-17 -7.146832e-16 -9.828955e-17 -5.203025e-16 -3.140136e-16\n",
       "std    1.001654e+00  1.001654e+00  1.001654e+00  1.001654e+00  1.001654e+00\n",
       "min   -2.797624e+00 -2.148802e+00 -2.324160e+00 -3.439267e+00 -8.968617e-01\n",
       "25%   -7.572802e-01 -6.638668e-01 -6.814943e-01 -7.061105e-01 -8.968617e-01\n",
       "50%    6.988599e-02 -9.273778e-02 -1.210553e-01  1.466343e-01 -2.067053e-01\n",
       "75%    7.316189e-01  4.783913e-01  5.456738e-01  7.151309e-01  4.834512e-01\n",
       "max    2.496240e+00  3.905165e+00  6.140401e+00  2.289429e+00  4.451851e+00"
      ]
     },
     "execution_count": 19,
     "metadata": {},
     "output_type": "execute_result"
    }
   ],
   "source": [
    "standardScaler = StandardScaler()\n",
    "\n",
    "numeric_features = pd.DataFrame(standardScaler.fit_transform(numeric_features), \n",
    "                                columns=numeric_features.columns,\n",
    "                                index=numeric_features.index)\n",
    "\n",
    "numeric_features.describe()"
   ]
  },
  {
   "cell_type": "code",
   "execution_count": 20,
   "metadata": {},
   "outputs": [
    {
     "data": {
      "text/html": [
       "<div>\n",
       "<style scoped>\n",
       "    .dataframe tbody tr th:only-of-type {\n",
       "        vertical-align: middle;\n",
       "    }\n",
       "\n",
       "    .dataframe tbody tr th {\n",
       "        vertical-align: top;\n",
       "    }\n",
       "\n",
       "    .dataframe thead th {\n",
       "        text-align: right;\n",
       "    }\n",
       "</style>\n",
       "<table border=\"1\" class=\"dataframe\">\n",
       "  <thead>\n",
       "    <tr style=\"text-align: right;\">\n",
       "      <th></th>\n",
       "      <th>age</th>\n",
       "      <th>trestbps</th>\n",
       "      <th>chol</th>\n",
       "      <th>thalach</th>\n",
       "      <th>oldpeak</th>\n",
       "      <th>sex</th>\n",
       "      <th>fbs</th>\n",
       "      <th>exang</th>\n",
       "      <th>cp</th>\n",
       "      <th>ca</th>\n",
       "      <th>slope</th>\n",
       "      <th>thal</th>\n",
       "      <th>restecg</th>\n",
       "    </tr>\n",
       "  </thead>\n",
       "  <tbody>\n",
       "    <tr>\n",
       "      <th>0</th>\n",
       "      <td>0.952197</td>\n",
       "      <td>0.763956</td>\n",
       "      <td>-0.256334</td>\n",
       "      <td>0.015443</td>\n",
       "      <td>1.087338</td>\n",
       "      <td>1</td>\n",
       "      <td>1</td>\n",
       "      <td>0</td>\n",
       "      <td>3</td>\n",
       "      <td>0</td>\n",
       "      <td>0</td>\n",
       "      <td>1</td>\n",
       "      <td>0</td>\n",
       "    </tr>\n",
       "    <tr>\n",
       "      <th>1</th>\n",
       "      <td>-1.915313</td>\n",
       "      <td>-0.092738</td>\n",
       "      <td>0.072199</td>\n",
       "      <td>1.633471</td>\n",
       "      <td>2.122573</td>\n",
       "      <td>1</td>\n",
       "      <td>0</td>\n",
       "      <td>0</td>\n",
       "      <td>2</td>\n",
       "      <td>0</td>\n",
       "      <td>0</td>\n",
       "      <td>2</td>\n",
       "      <td>1</td>\n",
       "    </tr>\n",
       "    <tr>\n",
       "      <th>2</th>\n",
       "      <td>-1.474158</td>\n",
       "      <td>-0.092738</td>\n",
       "      <td>-0.816773</td>\n",
       "      <td>0.977514</td>\n",
       "      <td>0.310912</td>\n",
       "      <td>0</td>\n",
       "      <td>0</td>\n",
       "      <td>0</td>\n",
       "      <td>1</td>\n",
       "      <td>0</td>\n",
       "      <td>2</td>\n",
       "      <td>2</td>\n",
       "      <td>0</td>\n",
       "    </tr>\n",
       "    <tr>\n",
       "      <th>3</th>\n",
       "      <td>0.180175</td>\n",
       "      <td>-0.663867</td>\n",
       "      <td>-0.198357</td>\n",
       "      <td>1.239897</td>\n",
       "      <td>-0.206705</td>\n",
       "      <td>1</td>\n",
       "      <td>0</td>\n",
       "      <td>0</td>\n",
       "      <td>1</td>\n",
       "      <td>0</td>\n",
       "      <td>2</td>\n",
       "      <td>2</td>\n",
       "      <td>1</td>\n",
       "    </tr>\n",
       "    <tr>\n",
       "      <th>4</th>\n",
       "      <td>0.290464</td>\n",
       "      <td>-0.663867</td>\n",
       "      <td>2.082050</td>\n",
       "      <td>0.583939</td>\n",
       "      <td>-0.379244</td>\n",
       "      <td>0</td>\n",
       "      <td>0</td>\n",
       "      <td>1</td>\n",
       "      <td>0</td>\n",
       "      <td>0</td>\n",
       "      <td>2</td>\n",
       "      <td>2</td>\n",
       "      <td>1</td>\n",
       "    </tr>\n",
       "  </tbody>\n",
       "</table>\n",
       "</div>"
      ],
      "text/plain": [
       "        age  trestbps      chol   thalach   oldpeak  sex  fbs  exang  cp  ca  \\\n",
       "0  0.952197  0.763956 -0.256334  0.015443  1.087338    1    1      0   3   0   \n",
       "1 -1.915313 -0.092738  0.072199  1.633471  2.122573    1    0      0   2   0   \n",
       "2 -1.474158 -0.092738 -0.816773  0.977514  0.310912    0    0      0   1   0   \n",
       "3  0.180175 -0.663867 -0.198357  1.239897 -0.206705    1    0      0   1   0   \n",
       "4  0.290464 -0.663867  2.082050  0.583939 -0.379244    0    0      1   0   0   \n",
       "\n",
       "   slope  thal  restecg  \n",
       "0      0     1        0  \n",
       "1      0     2        1  \n",
       "2      2     2        0  \n",
       "3      2     2        1  \n",
       "4      2     2        1  "
      ]
     },
     "execution_count": 20,
     "metadata": {},
     "output_type": "execute_result"
    }
   ],
   "source": [
    "processed_features = pd.concat([numeric_features, categorical_features], axis=1,\n",
    "                               sort=False)\n",
    "\n",
    "processed_features.head()"
   ]
  },
  {
   "cell_type": "markdown",
   "metadata": {},
   "source": [
    "Splitting dataset into training and testing data"
   ]
  },
  {
   "cell_type": "code",
   "execution_count": 21,
   "metadata": {},
   "outputs": [],
   "source": [
    "from sklearn.model_selection import train_test_split\n",
    "\n",
    "x_train, x_test, y_train, y_test = train_test_split(processed_features, \n",
    "                                                    target, \n",
    "                                                    test_size = 0.2, \n",
    "                                                    random_state=1)"
   ]
  },
  {
   "cell_type": "code",
   "execution_count": 22,
   "metadata": {},
   "outputs": [
    {
     "data": {
      "text/plain": [
       "((242, 13), (242, 1))"
      ]
     },
     "execution_count": 22,
     "metadata": {},
     "output_type": "execute_result"
    }
   ],
   "source": [
    "x_train.shape, y_train.shape"
   ]
  },
  {
   "cell_type": "code",
   "execution_count": 23,
   "metadata": {},
   "outputs": [
    {
     "data": {
      "text/plain": [
       "((61, 13), (61, 1))"
      ]
     },
     "execution_count": 23,
     "metadata": {},
     "output_type": "execute_result"
    }
   ],
   "source": [
    "x_test.shape, y_test.shape"
   ]
  },
  {
   "cell_type": "code",
   "execution_count": 24,
   "metadata": {},
   "outputs": [],
   "source": [
    "x_train, x_val, y_train, y_val = train_test_split(x_train, \n",
    "                                                  y_train, \n",
    "                                                  test_size=0.15,\n",
    "                                                  random_state=10)"
   ]
  },
  {
   "cell_type": "code",
   "execution_count": 25,
   "metadata": {},
   "outputs": [
    {
     "data": {
      "text/plain": [
       "((205, 13), (37, 13), (61, 13))"
      ]
     },
     "execution_count": 25,
     "metadata": {},
     "output_type": "execute_result"
    }
   ],
   "source": [
    "x_train.shape, x_val.shape, x_test.shape"
   ]
  },
  {
   "cell_type": "code",
   "execution_count": 26,
   "metadata": {},
   "outputs": [
    {
     "data": {
      "text/plain": [
       "((205, 1), (37, 1), (61, 1))"
      ]
     },
     "execution_count": 26,
     "metadata": {},
     "output_type": "execute_result"
    }
   ],
   "source": [
    "y_train.shape, y_val.shape, y_test.shape"
   ]
  },
  {
   "cell_type": "markdown",
   "metadata": {},
   "source": [
    "Model"
   ]
  },
  {
   "cell_type": "code",
   "execution_count": 27,
   "metadata": {},
   "outputs": [],
   "source": [
    "def build_model():\n",
    "    \n",
    "    inputs = tf.keras.Input(shape=(x_train.shape[1],))\n",
    "\n",
    "    dense_layer1 = layers.Dense(12, activation='relu')\n",
    "    x = dense_layer1(inputs)\n",
    "\n",
    "    dropout_layer = layers.Dropout(0.3)\n",
    "    x = dropout_layer(x)\n",
    "    \n",
    "    dense_layer2 = layers.Dense(8, activation='relu')\n",
    "    x = dense_layer2(x)\n",
    "\n",
    "    predictions_layer = layers.Dense(1, activation='sigmoid')\n",
    "    predictions = predictions_layer(x)\n",
    "    \n",
    "    model = tf.keras.Model(inputs=inputs, outputs=predictions)\n",
    "    \n",
    "    model.summary()\n",
    "    \n",
    "    model.compile(optimizer=tf.keras.optimizers.Adam(0.001),\n",
    "                  loss=tf.keras.losses.BinaryCrossentropy(),\n",
    "                  metrics=['accuracy', \n",
    "                           tf.keras.metrics.Precision(0.5),\n",
    "                           tf.keras.metrics.Recall(0.5),])\n",
    "    return model"
   ]
  },
  {
   "cell_type": "code",
   "execution_count": 28,
   "metadata": {},
   "outputs": [
    {
     "name": "stdout",
     "output_type": "stream",
     "text": [
      "Model: \"model\"\n",
      "_________________________________________________________________\n",
      "Layer (type)                 Output Shape              Param #   \n",
      "=================================================================\n",
      "input_1 (InputLayer)         [(None, 13)]              0         \n",
      "_________________________________________________________________\n",
      "dense (Dense)                (None, 12)                168       \n",
      "_________________________________________________________________\n",
      "dropout (Dropout)            (None, 12)                0         \n",
      "_________________________________________________________________\n",
      "dense_1 (Dense)              (None, 8)                 104       \n",
      "_________________________________________________________________\n",
      "dense_2 (Dense)              (None, 1)                 9         \n",
      "=================================================================\n",
      "Total params: 281\n",
      "Trainable params: 281\n",
      "Non-trainable params: 0\n",
      "_________________________________________________________________\n"
     ]
    }
   ],
   "source": [
    "model = build_model()"
   ]
  },
  {
   "cell_type": "code",
   "execution_count": 30,
   "metadata": {},
   "outputs": [
    {
     "data": {
      "text/plain": [
       "<ShuffleDataset shapes: ((None, 13), (None, 1)), types: (tf.float64, tf.int64)>"
      ]
     },
     "execution_count": 30,
     "metadata": {},
     "output_type": "execute_result"
    }
   ],
   "source": [
    "dataset_train = tf.data.Dataset.from_tensor_slices((x_train.values, y_train.values))\n",
    "dataset_train = dataset_train.batch(16)\n",
    "\n",
    "dataset_train.shuffle(128)"
   ]
  },
  {
   "cell_type": "code",
   "execution_count": 31,
   "metadata": {},
   "outputs": [],
   "source": [
    "num_epochs = 100"
   ]
  },
  {
   "cell_type": "code",
   "execution_count": 32,
   "metadata": {},
   "outputs": [],
   "source": [
    "dataset_val = tf.data.Dataset.from_tensor_slices((x_val.values, y_val.values))\n",
    "dataset_val = dataset_val.batch(16)"
   ]
  },
  {
   "cell_type": "code",
   "execution_count": 33,
   "metadata": {},
   "outputs": [
    {
     "name": "stdout",
     "output_type": "stream",
     "text": [
      "Model: \"model_1\"\n",
      "_________________________________________________________________\n",
      "Layer (type)                 Output Shape              Param #   \n",
      "=================================================================\n",
      "input_2 (InputLayer)         [(None, 13)]              0         \n",
      "_________________________________________________________________\n",
      "dense_3 (Dense)              (None, 12)                168       \n",
      "_________________________________________________________________\n",
      "dropout_1 (Dropout)          (None, 12)                0         \n",
      "_________________________________________________________________\n",
      "dense_4 (Dense)              (None, 8)                 104       \n",
      "_________________________________________________________________\n",
      "dense_5 (Dense)              (None, 1)                 9         \n",
      "=================================================================\n",
      "Total params: 281\n",
      "Trainable params: 281\n",
      "Non-trainable params: 0\n",
      "_________________________________________________________________\n",
      "WARNING:tensorflow:Expected a shuffled dataset but input dataset `x` is not shuffled. Please invoke `shuffle()` on input dataset.\n",
      "Epoch 1/100\n",
      "13/13 [==============================] - 4s 339ms/step - loss: 0.8153 - accuracy: 0.4390 - precision_1: 0.4969 - recall_1: 0.6930 - val_loss: 0.7235 - val_accuracy: 0.4324 - val_precision_1: 0.4839 - val_recall_1: 0.7500\n",
      "Epoch 2/100\n",
      "13/13 [==============================] - 0s 10ms/step - loss: 0.7791 - accuracy: 0.5122 - precision_1: 0.5417 - recall_1: 0.7982 - val_loss: 0.7081 - val_accuracy: 0.4595 - val_precision_1: 0.5000 - val_recall_1: 0.7500\n",
      "Epoch 3/100\n",
      "13/13 [==============================] - 0s 23ms/step - loss: 0.7531 - accuracy: 0.4829 - precision_1: 0.5238 - recall_1: 0.7719 - val_loss: 0.6975 - val_accuracy: 0.4865 - val_precision_1: 0.5161 - val_recall_1: 0.8000\n",
      "Epoch 4/100\n",
      "13/13 [==============================] - 0s 14ms/step - loss: 0.7384 - accuracy: 0.4780 - precision_1: 0.5200 - recall_1: 0.7982 - val_loss: 0.6851 - val_accuracy: 0.5135 - val_precision_1: 0.5312 - val_recall_1: 0.8500\n",
      "Epoch 5/100\n",
      "13/13 [==============================] - 0s 10ms/step - loss: 0.7127 - accuracy: 0.5707 - precision_1: 0.5747 - recall_1: 0.8772 - val_loss: 0.6759 - val_accuracy: 0.5135 - val_precision_1: 0.5312 - val_recall_1: 0.8500\n",
      "Epoch 6/100\n",
      "13/13 [==============================] - 0s 7ms/step - loss: 0.6960 - accuracy: 0.5561 - precision_1: 0.5714 - recall_1: 0.8070 - val_loss: 0.6680 - val_accuracy: 0.5405 - val_precision_1: 0.5455 - val_recall_1: 0.9000\n",
      "Epoch 7/100\n",
      "13/13 [==============================] - 0s 6ms/step - loss: 0.6839 - accuracy: 0.5756 - precision_1: 0.5849 - recall_1: 0.8158 - val_loss: 0.6614 - val_accuracy: 0.6216 - val_precision_1: 0.5882 - val_recall_1: 1.0000\n",
      "Epoch 8/100\n",
      "13/13 [==============================] - 0s 20ms/step - loss: 0.6758 - accuracy: 0.5902 - precision_1: 0.5872 - recall_1: 0.8860 - val_loss: 0.6548 - val_accuracy: 0.6216 - val_precision_1: 0.5882 - val_recall_1: 1.0000\n",
      "Epoch 9/100\n",
      "13/13 [==============================] - 0s 20ms/step - loss: 0.6561 - accuracy: 0.6195 - precision_1: 0.6071 - recall_1: 0.8947 - val_loss: 0.6500 - val_accuracy: 0.6486 - val_precision_1: 0.6061 - val_recall_1: 1.0000\n",
      "Epoch 10/100\n",
      "13/13 [==============================] - 0s 13ms/step - loss: 0.6716 - accuracy: 0.5463 - precision_1: 0.5652 - recall_1: 0.7982 - val_loss: 0.6467 - val_accuracy: 0.5946 - val_precision_1: 0.5806 - val_recall_1: 0.9000\n",
      "Epoch 11/100\n",
      "13/13 [==============================] - 0s 7ms/step - loss: 0.6785 - accuracy: 0.5659 - precision_1: 0.5806 - recall_1: 0.7895 - val_loss: 0.6441 - val_accuracy: 0.6216 - val_precision_1: 0.6000 - val_recall_1: 0.9000\n",
      "Epoch 12/100\n",
      "13/13 [==============================] - 0s 6ms/step - loss: 0.6552 - accuracy: 0.5902 - precision_1: 0.5904 - recall_1: 0.8596 - val_loss: 0.6404 - val_accuracy: 0.6757 - val_precision_1: 0.6429 - val_recall_1: 0.9000\n",
      "Epoch 13/100\n",
      "13/13 [==============================] - 0s 22ms/step - loss: 0.6455 - accuracy: 0.6049 - precision_1: 0.6107 - recall_1: 0.7982 - val_loss: 0.6357 - val_accuracy: 0.6757 - val_precision_1: 0.6538 - val_recall_1: 0.8500\n",
      "Epoch 14/100\n",
      "13/13 [==============================] - 0s 23ms/step - loss: 0.6322 - accuracy: 0.6634 - precision_1: 0.6452 - recall_1: 0.8772 - val_loss: 0.6311 - val_accuracy: 0.6486 - val_precision_1: 0.6400 - val_recall_1: 0.8000\n",
      "Epoch 15/100\n",
      "13/13 [==============================] - 0s 12ms/step - loss: 0.6472 - accuracy: 0.6146 - precision_1: 0.6277 - recall_1: 0.7544 - val_loss: 0.6274 - val_accuracy: 0.6757 - val_precision_1: 0.6667 - val_recall_1: 0.8000\n",
      "Epoch 16/100\n",
      "13/13 [==============================] - 0s 6ms/step - loss: 0.6347 - accuracy: 0.6537 - precision_1: 0.6641 - recall_1: 0.7632 - val_loss: 0.6238 - val_accuracy: 0.6757 - val_precision_1: 0.6667 - val_recall_1: 0.8000\n",
      "Epoch 17/100\n",
      "13/13 [==============================] - 0s 13ms/step - loss: 0.5941 - accuracy: 0.7317 - precision_1: 0.7218 - recall_1: 0.8421 - val_loss: 0.6203 - val_accuracy: 0.6757 - val_precision_1: 0.6667 - val_recall_1: 0.8000\n",
      "Epoch 18/100\n",
      "13/13 [==============================] - 0s 20ms/step - loss: 0.6340 - accuracy: 0.6634 - precision_1: 0.6744 - recall_1: 0.7632 - val_loss: 0.6163 - val_accuracy: 0.6757 - val_precision_1: 0.6667 - val_recall_1: 0.8000\n",
      "Epoch 19/100\n",
      "13/13 [==============================] - 0s 17ms/step - loss: 0.6002 - accuracy: 0.6927 - precision_1: 0.6809 - recall_1: 0.8421 - val_loss: 0.6128 - val_accuracy: 0.6486 - val_precision_1: 0.6400 - val_recall_1: 0.8000\n",
      "Epoch 20/100\n",
      "13/13 [==============================] - 0s 8ms/step - loss: 0.5933 - accuracy: 0.7220 - precision_1: 0.7143 - recall_1: 0.8333 - val_loss: 0.6073 - val_accuracy: 0.6486 - val_precision_1: 0.6400 - val_recall_1: 0.8000\n",
      "Epoch 21/100\n",
      "13/13 [==============================] - 0s 6ms/step - loss: 0.5861 - accuracy: 0.6976 - precision_1: 0.7241 - recall_1: 0.7368 - val_loss: 0.6030 - val_accuracy: 0.6486 - val_precision_1: 0.6400 - val_recall_1: 0.8000\n",
      "Epoch 22/100\n",
      "13/13 [==============================] - 0s 23ms/step - loss: 0.5956 - accuracy: 0.7024 - precision_1: 0.7265 - recall_1: 0.7456 - val_loss: 0.5984 - val_accuracy: 0.6486 - val_precision_1: 0.6400 - val_recall_1: 0.8000\n",
      "Epoch 23/100\n",
      "13/13 [==============================] - 0s 20ms/step - loss: 0.5748 - accuracy: 0.7024 - precision_1: 0.7227 - recall_1: 0.7544 - val_loss: 0.5946 - val_accuracy: 0.6486 - val_precision_1: 0.6400 - val_recall_1: 0.8000\n",
      "Epoch 24/100\n",
      "13/13 [==============================] - 0s 20ms/step - loss: 0.5787 - accuracy: 0.7366 - precision_1: 0.7419 - recall_1: 0.8070 - val_loss: 0.5930 - val_accuracy: 0.6757 - val_precision_1: 0.6538 - val_recall_1: 0.8500\n",
      "Epoch 25/100\n",
      "13/13 [==============================] - 0s 8ms/step - loss: 0.5532 - accuracy: 0.7756 - precision_1: 0.7833 - recall_1: 0.8246 - val_loss: 0.5910 - val_accuracy: 0.6757 - val_precision_1: 0.6538 - val_recall_1: 0.8500\n",
      "Epoch 26/100\n",
      "13/13 [==============================] - 0s 8ms/step - loss: 0.5243 - accuracy: 0.7561 - precision_1: 0.7667 - recall_1: 0.8070 - val_loss: 0.5860 - val_accuracy: 0.6757 - val_precision_1: 0.6538 - val_recall_1: 0.8500\n",
      "Epoch 27/100\n",
      "13/13 [==============================] - 0s 31ms/step - loss: 0.5358 - accuracy: 0.7659 - precision_1: 0.7661 - recall_1: 0.8333 - val_loss: 0.5813 - val_accuracy: 0.6757 - val_precision_1: 0.6538 - val_recall_1: 0.8500\n",
      "Epoch 28/100\n",
      "13/13 [==============================] - 0s 24ms/step - loss: 0.5343 - accuracy: 0.7756 - precision_1: 0.7833 - recall_1: 0.8246 - val_loss: 0.5719 - val_accuracy: 0.6757 - val_precision_1: 0.6538 - val_recall_1: 0.8500\n",
      "Epoch 29/100\n",
      "13/13 [==============================] - 0s 10ms/step - loss: 0.4912 - accuracy: 0.8146 - precision_1: 0.8115 - recall_1: 0.8684 - val_loss: 0.5657 - val_accuracy: 0.6757 - val_precision_1: 0.6538 - val_recall_1: 0.8500\n",
      "Epoch 30/100\n",
      "13/13 [==============================] - 0s 7ms/step - loss: 0.5115 - accuracy: 0.7366 - precision_1: 0.7586 - recall_1: 0.7719 - val_loss: 0.5599 - val_accuracy: 0.6757 - val_precision_1: 0.6538 - val_recall_1: 0.8500\n",
      "Epoch 31/100\n",
      "13/13 [==============================] - 0s 12ms/step - loss: 0.4923 - accuracy: 0.7610 - precision_1: 0.7731 - recall_1: 0.8070 - val_loss: 0.5554 - val_accuracy: 0.6757 - val_precision_1: 0.6538 - val_recall_1: 0.8500\n",
      "Epoch 32/100\n",
      "13/13 [==============================] - 0s 25ms/step - loss: 0.4678 - accuracy: 0.8098 - precision_1: 0.8151 - recall_1: 0.8509 - val_loss: 0.5525 - val_accuracy: 0.6757 - val_precision_1: 0.6538 - val_recall_1: 0.8500\n",
      "Epoch 33/100\n",
      "13/13 [==============================] - 0s 21ms/step - loss: 0.4650 - accuracy: 0.7659 - precision_1: 0.8173 - recall_1: 0.7456 - val_loss: 0.5509 - val_accuracy: 0.7027 - val_precision_1: 0.6667 - val_recall_1: 0.9000\n",
      "Epoch 34/100\n",
      "13/13 [==============================] - 0s 8ms/step - loss: 0.4719 - accuracy: 0.7902 - precision_1: 0.7934 - recall_1: 0.8421 - val_loss: 0.5537 - val_accuracy: 0.7027 - val_precision_1: 0.6667 - val_recall_1: 0.9000\n",
      "Epoch 35/100\n",
      "13/13 [==============================] - 0s 8ms/step - loss: 0.4458 - accuracy: 0.7805 - precision_1: 0.8000 - recall_1: 0.8070 - val_loss: 0.5506 - val_accuracy: 0.7027 - val_precision_1: 0.6667 - val_recall_1: 0.9000\n",
      "Epoch 36/100\n",
      "13/13 [==============================] - 0s 21ms/step - loss: 0.4239 - accuracy: 0.8390 - precision_1: 0.8403 - recall_1: 0.8772 - val_loss: 0.5514 - val_accuracy: 0.7027 - val_precision_1: 0.6667 - val_recall_1: 0.9000\n",
      "Epoch 37/100\n",
      "13/13 [==============================] - 0s 28ms/step - loss: 0.4414 - accuracy: 0.8000 - precision_1: 0.8120 - recall_1: 0.8333 - val_loss: 0.5534 - val_accuracy: 0.7297 - val_precision_1: 0.6923 - val_recall_1: 0.9000\n",
      "Epoch 38/100\n",
      "13/13 [==============================] - 0s 21ms/step - loss: 0.4522 - accuracy: 0.7854 - precision_1: 0.8070 - recall_1: 0.8070 - val_loss: 0.5534 - val_accuracy: 0.7297 - val_precision_1: 0.6923 - val_recall_1: 0.9000\n",
      "Epoch 39/100\n",
      "13/13 [==============================] - 0s 8ms/step - loss: 0.4177 - accuracy: 0.8585 - precision_1: 0.8696 - recall_1: 0.8772 - val_loss: 0.5464 - val_accuracy: 0.7297 - val_precision_1: 0.6923 - val_recall_1: 0.9000\n",
      "Epoch 40/100\n",
      "13/13 [==============================] - 0s 19ms/step - loss: 0.4479 - accuracy: 0.8000 - precision_1: 0.8411 - recall_1: 0.7895 - val_loss: 0.5459 - val_accuracy: 0.7027 - val_precision_1: 0.6800 - val_recall_1: 0.8500\n",
      "Epoch 41/100\n",
      "13/13 [==============================] - 0s 18ms/step - loss: 0.4142 - accuracy: 0.8439 - precision_1: 0.8534 - recall_1: 0.8684 - val_loss: 0.5423 - val_accuracy: 0.7027 - val_precision_1: 0.6800 - val_recall_1: 0.8500\n",
      "Epoch 42/100\n",
      "13/13 [==============================] - 0s 23ms/step - loss: 0.4123 - accuracy: 0.8195 - precision_1: 0.8348 - recall_1: 0.8421 - val_loss: 0.5423 - val_accuracy: 0.7297 - val_precision_1: 0.7083 - val_recall_1: 0.8500\n",
      "Epoch 43/100\n",
      "13/13 [==============================] - 0s 7ms/step - loss: 0.3786 - accuracy: 0.8293 - precision_1: 0.8990 - recall_1: 0.7807 - val_loss: 0.5466 - val_accuracy: 0.7568 - val_precision_1: 0.7200 - val_recall_1: 0.9000\n",
      "Epoch 44/100\n",
      "13/13 [==============================] - 0s 7ms/step - loss: 0.4198 - accuracy: 0.8000 - precision_1: 0.8067 - recall_1: 0.8421 - val_loss: 0.5468 - val_accuracy: 0.7297 - val_precision_1: 0.7083 - val_recall_1: 0.8500\n",
      "Epoch 45/100\n",
      "13/13 [==============================] - 0s 21ms/step - loss: 0.3755 - accuracy: 0.8390 - precision_1: 0.8347 - recall_1: 0.8860 - val_loss: 0.5456 - val_accuracy: 0.7297 - val_precision_1: 0.7083 - val_recall_1: 0.8500\n",
      "Epoch 46/100\n",
      "13/13 [==============================] - 0s 35ms/step - loss: 0.3997 - accuracy: 0.8439 - precision_1: 0.8796 - recall_1: 0.8333 - val_loss: 0.5583 - val_accuracy: 0.7297 - val_precision_1: 0.7083 - val_recall_1: 0.8500\n",
      "Epoch 47/100\n",
      "13/13 [==============================] - 0s 15ms/step - loss: 0.3885 - accuracy: 0.8390 - precision_1: 0.8462 - recall_1: 0.8684 - val_loss: 0.5604 - val_accuracy: 0.7297 - val_precision_1: 0.7083 - val_recall_1: 0.8500\n",
      "Epoch 48/100\n",
      "13/13 [==============================] - 0s 6ms/step - loss: 0.3792 - accuracy: 0.8341 - precision_1: 0.8448 - recall_1: 0.8596 - val_loss: 0.5567 - val_accuracy: 0.7297 - val_precision_1: 0.7083 - val_recall_1: 0.8500\n",
      "Epoch 49/100\n",
      "13/13 [==============================] - 0s 6ms/step - loss: 0.4038 - accuracy: 0.8390 - precision_1: 0.8403 - recall_1: 0.8772 - val_loss: 0.5642 - val_accuracy: 0.7297 - val_precision_1: 0.7083 - val_recall_1: 0.8500\n",
      "Epoch 50/100\n",
      "13/13 [==============================] - 0s 19ms/step - loss: 0.3675 - accuracy: 0.8195 - precision_1: 0.8348 - recall_1: 0.8421 - val_loss: 0.5684 - val_accuracy: 0.7027 - val_precision_1: 0.6800 - val_recall_1: 0.8500\n",
      "Epoch 51/100\n",
      "13/13 [==============================] - 0s 21ms/step - loss: 0.3868 - accuracy: 0.8732 - precision_1: 0.8607 - recall_1: 0.9211 - val_loss: 0.5629 - val_accuracy: 0.7027 - val_precision_1: 0.6800 - val_recall_1: 0.8500\n",
      "Epoch 52/100\n",
      "13/13 [==============================] - 0s 13ms/step - loss: 0.3520 - accuracy: 0.8634 - precision_1: 0.8707 - recall_1: 0.8860 - val_loss: 0.5677 - val_accuracy: 0.7027 - val_precision_1: 0.6800 - val_recall_1: 0.8500\n",
      "Epoch 53/100\n",
      "13/13 [==============================] - 0s 6ms/step - loss: 0.3560 - accuracy: 0.8341 - precision_1: 0.8448 - recall_1: 0.8596 - val_loss: 0.5672 - val_accuracy: 0.7027 - val_precision_1: 0.6800 - val_recall_1: 0.8500\n",
      "Epoch 54/100\n",
      "13/13 [==============================] - 0s 5ms/step - loss: 0.3396 - accuracy: 0.8634 - precision_1: 0.8839 - recall_1: 0.8684 - val_loss: 0.5782 - val_accuracy: 0.7027 - val_precision_1: 0.6800 - val_recall_1: 0.8500\n",
      "Epoch 55/100\n",
      "13/13 [==============================] - 0s 24ms/step - loss: 0.3454 - accuracy: 0.8732 - precision_1: 0.8667 - recall_1: 0.9123 - val_loss: 0.5852 - val_accuracy: 0.7027 - val_precision_1: 0.6800 - val_recall_1: 0.8500\n",
      "Epoch 56/100\n",
      "13/13 [==============================] - 0s 20ms/step - loss: 0.3551 - accuracy: 0.8683 - precision_1: 0.8783 - recall_1: 0.8860 - val_loss: 0.5898 - val_accuracy: 0.7027 - val_precision_1: 0.6800 - val_recall_1: 0.8500\n",
      "Epoch 57/100\n",
      "13/13 [==============================] - 0s 15ms/step - loss: 0.3298 - accuracy: 0.8732 - precision_1: 0.8793 - recall_1: 0.8947 - val_loss: 0.5968 - val_accuracy: 0.7027 - val_precision_1: 0.6800 - val_recall_1: 0.8500\n",
      "Epoch 58/100\n",
      "13/13 [==============================] - 0s 7ms/step - loss: 0.3547 - accuracy: 0.8537 - precision_1: 0.8621 - recall_1: 0.8772 - val_loss: 0.5971 - val_accuracy: 0.7027 - val_precision_1: 0.6800 - val_recall_1: 0.8500\n",
      "Epoch 59/100\n",
      "13/13 [==============================] - 0s 6ms/step - loss: 0.3675 - accuracy: 0.8244 - precision_1: 0.8611 - recall_1: 0.8158 - val_loss: 0.5972 - val_accuracy: 0.7027 - val_precision_1: 0.6800 - val_recall_1: 0.8500\n",
      "Epoch 60/100\n",
      "13/13 [==============================] - 0s 22ms/step - loss: 0.3442 - accuracy: 0.8732 - precision_1: 0.8667 - recall_1: 0.9123 - val_loss: 0.5875 - val_accuracy: 0.7027 - val_precision_1: 0.6800 - val_recall_1: 0.8500\n",
      "Epoch 61/100\n",
      "13/13 [==============================] - 0s 17ms/step - loss: 0.3497 - accuracy: 0.8390 - precision_1: 0.8584 - recall_1: 0.8509 - val_loss: 0.5799 - val_accuracy: 0.7027 - val_precision_1: 0.6800 - val_recall_1: 0.8500\n",
      "Epoch 62/100\n",
      "13/13 [==============================] - 0s 14ms/step - loss: 0.3279 - accuracy: 0.8585 - precision_1: 0.8696 - recall_1: 0.8772 - val_loss: 0.5818 - val_accuracy: 0.7027 - val_precision_1: 0.6800 - val_recall_1: 0.8500\n",
      "Epoch 63/100\n",
      "13/13 [==============================] - 0s 20ms/step - loss: 0.3446 - accuracy: 0.8634 - precision_1: 0.8772 - recall_1: 0.8772 - val_loss: 0.5973 - val_accuracy: 0.7027 - val_precision_1: 0.6800 - val_recall_1: 0.8500\n",
      "Epoch 64/100\n",
      "13/13 [==============================] - 0s 22ms/step - loss: 0.3135 - accuracy: 0.8829 - precision_1: 0.8879 - recall_1: 0.9035 - val_loss: 0.6021 - val_accuracy: 0.7027 - val_precision_1: 0.6800 - val_recall_1: 0.8500\n",
      "Epoch 65/100\n",
      "13/13 [==============================] - 0s 23ms/step - loss: 0.2930 - accuracy: 0.8780 - precision_1: 0.8739 - recall_1: 0.9123 - val_loss: 0.6028 - val_accuracy: 0.7027 - val_precision_1: 0.6800 - val_recall_1: 0.8500\n",
      "Epoch 66/100\n",
      "13/13 [==============================] - 0s 18ms/step - loss: 0.3474 - accuracy: 0.8683 - precision_1: 0.8850 - recall_1: 0.8772 - val_loss: 0.6094 - val_accuracy: 0.6757 - val_precision_1: 0.6538 - val_recall_1: 0.8500\n",
      "Epoch 67/100\n",
      "13/13 [==============================] - 0s 16ms/step - loss: 0.3058 - accuracy: 0.8732 - precision_1: 0.8607 - recall_1: 0.9211 - val_loss: 0.6000 - val_accuracy: 0.6757 - val_precision_1: 0.6538 - val_recall_1: 0.8500\n",
      "Epoch 68/100\n",
      "13/13 [==============================] - 0s 20ms/step - loss: 0.3669 - accuracy: 0.8488 - precision_1: 0.8609 - recall_1: 0.8684 - val_loss: 0.5922 - val_accuracy: 0.7027 - val_precision_1: 0.6800 - val_recall_1: 0.8500\n",
      "Epoch 69/100\n",
      "13/13 [==============================] - 0s 17ms/step - loss: 0.3079 - accuracy: 0.8439 - precision_1: 0.8534 - recall_1: 0.8684 - val_loss: 0.5924 - val_accuracy: 0.7027 - val_precision_1: 0.6800 - val_recall_1: 0.8500\n",
      "Epoch 70/100\n",
      "13/13 [==============================] - 0s 13ms/step - loss: 0.3181 - accuracy: 0.8683 - precision_1: 0.8718 - recall_1: 0.8947 - val_loss: 0.5974 - val_accuracy: 0.6757 - val_precision_1: 0.6538 - val_recall_1: 0.8500\n",
      "Epoch 71/100\n",
      "13/13 [==============================] - 0s 18ms/step - loss: 0.3099 - accuracy: 0.8927 - precision_1: 0.8898 - recall_1: 0.9211 - val_loss: 0.6065 - val_accuracy: 0.6757 - val_precision_1: 0.6538 - val_recall_1: 0.8500\n",
      "Epoch 72/100\n",
      "13/13 [==============================] - 0s 19ms/step - loss: 0.3065 - accuracy: 0.8488 - precision_1: 0.8609 - recall_1: 0.8684 - val_loss: 0.6096 - val_accuracy: 0.6757 - val_precision_1: 0.6538 - val_recall_1: 0.8500\n",
      "Epoch 73/100\n",
      "13/13 [==============================] - 0s 17ms/step - loss: 0.3106 - accuracy: 0.8780 - precision_1: 0.8739 - recall_1: 0.9123 - val_loss: 0.6088 - val_accuracy: 0.6757 - val_precision_1: 0.6538 - val_recall_1: 0.8500\n",
      "Epoch 74/100\n",
      "13/13 [==============================] - 0s 26ms/step - loss: 0.3382 - accuracy: 0.8634 - precision_1: 0.8839 - recall_1: 0.8684 - val_loss: 0.6052 - val_accuracy: 0.6757 - val_precision_1: 0.6538 - val_recall_1: 0.8500\n",
      "Epoch 75/100\n",
      "13/13 [==============================] - 0s 19ms/step - loss: 0.2898 - accuracy: 0.8829 - precision_1: 0.8689 - recall_1: 0.9298 - val_loss: 0.6026 - val_accuracy: 0.7027 - val_precision_1: 0.6800 - val_recall_1: 0.8500\n",
      "Epoch 76/100\n",
      "13/13 [==============================] - 0s 22ms/step - loss: 0.3150 - accuracy: 0.8683 - precision_1: 0.8783 - recall_1: 0.8860 - val_loss: 0.6050 - val_accuracy: 0.7027 - val_precision_1: 0.6800 - val_recall_1: 0.8500\n",
      "Epoch 77/100\n",
      "13/13 [==============================] - 0s 19ms/step - loss: 0.3280 - accuracy: 0.8634 - precision_1: 0.8772 - recall_1: 0.8772 - val_loss: 0.6034 - val_accuracy: 0.7027 - val_precision_1: 0.6800 - val_recall_1: 0.8500\n",
      "Epoch 78/100\n",
      "13/13 [==============================] - 0s 18ms/step - loss: 0.3009 - accuracy: 0.8927 - precision_1: 0.8966 - recall_1: 0.9123 - val_loss: 0.6023 - val_accuracy: 0.7027 - val_precision_1: 0.6800 - val_recall_1: 0.8500\n",
      "Epoch 79/100\n",
      "13/13 [==============================] - 0s 21ms/step - loss: 0.3065 - accuracy: 0.8829 - precision_1: 0.8879 - recall_1: 0.9035 - val_loss: 0.6001 - val_accuracy: 0.7027 - val_precision_1: 0.6800 - val_recall_1: 0.8500\n",
      "Epoch 80/100\n",
      "13/13 [==============================] - 0s 15ms/step - loss: 0.3375 - accuracy: 0.8683 - precision_1: 0.8919 - recall_1: 0.8684 - val_loss: 0.6113 - val_accuracy: 0.6757 - val_precision_1: 0.6538 - val_recall_1: 0.8500\n",
      "Epoch 81/100\n",
      "13/13 [==============================] - 0s 22ms/step - loss: 0.3318 - accuracy: 0.8488 - precision_1: 0.8609 - recall_1: 0.8684 - val_loss: 0.6123 - val_accuracy: 0.6757 - val_precision_1: 0.6538 - val_recall_1: 0.8500\n",
      "Epoch 82/100\n",
      "13/13 [==============================] - 0s 11ms/step - loss: 0.3018 - accuracy: 0.8683 - precision_1: 0.8655 - recall_1: 0.9035 - val_loss: 0.6057 - val_accuracy: 0.6757 - val_precision_1: 0.6538 - val_recall_1: 0.8500\n",
      "Epoch 83/100\n",
      "13/13 [==============================] - 0s 9ms/step - loss: 0.3010 - accuracy: 0.8829 - precision_1: 0.8750 - recall_1: 0.9211 - val_loss: 0.6084 - val_accuracy: 0.6757 - val_precision_1: 0.6538 - val_recall_1: 0.8500\n",
      "Epoch 84/100\n",
      "13/13 [==============================] - 0s 12ms/step - loss: 0.3298 - accuracy: 0.8585 - precision_1: 0.8829 - recall_1: 0.8596 - val_loss: 0.6236 - val_accuracy: 0.6757 - val_precision_1: 0.6538 - val_recall_1: 0.8500\n",
      "Epoch 85/100\n",
      "13/13 [==============================] - 0s 18ms/step - loss: 0.3129 - accuracy: 0.8878 - precision_1: 0.8889 - recall_1: 0.9123 - val_loss: 0.6187 - val_accuracy: 0.6757 - val_precision_1: 0.6538 - val_recall_1: 0.8500\n",
      "Epoch 86/100\n",
      "13/13 [==============================] - 0s 25ms/step - loss: 0.3102 - accuracy: 0.8634 - precision_1: 0.8644 - recall_1: 0.8947 - val_loss: 0.6176 - val_accuracy: 0.6757 - val_precision_1: 0.6538 - val_recall_1: 0.8500\n",
      "Epoch 87/100\n",
      "13/13 [==============================] - 0s 11ms/step - loss: 0.3172 - accuracy: 0.8634 - precision_1: 0.8644 - recall_1: 0.8947 - val_loss: 0.6240 - val_accuracy: 0.6757 - val_precision_1: 0.6538 - val_recall_1: 0.8500\n",
      "Epoch 88/100\n",
      "13/13 [==============================] - 0s 14ms/step - loss: 0.3114 - accuracy: 0.8780 - precision_1: 0.8739 - recall_1: 0.9123 - val_loss: 0.6261 - val_accuracy: 0.6757 - val_precision_1: 0.6538 - val_recall_1: 0.8500\n",
      "Epoch 89/100\n",
      "13/13 [==============================] - 0s 17ms/step - loss: 0.2873 - accuracy: 0.8732 - precision_1: 0.8667 - recall_1: 0.9123 - val_loss: 0.6260 - val_accuracy: 0.6757 - val_precision_1: 0.6538 - val_recall_1: 0.8500\n",
      "Epoch 90/100\n",
      "13/13 [==============================] - 0s 18ms/step - loss: 0.2976 - accuracy: 0.8878 - precision_1: 0.8889 - recall_1: 0.9123 - val_loss: 0.6265 - val_accuracy: 0.6757 - val_precision_1: 0.6538 - val_recall_1: 0.8500\n",
      "Epoch 91/100\n",
      "13/13 [==============================] - 0s 7ms/step - loss: 0.2910 - accuracy: 0.9024 - precision_1: 0.9052 - recall_1: 0.9211 - val_loss: 0.6213 - val_accuracy: 0.6757 - val_precision_1: 0.6538 - val_recall_1: 0.8500\n",
      "Epoch 92/100\n",
      "13/13 [==============================] - 0s 15ms/step - loss: 0.2723 - accuracy: 0.8878 - precision_1: 0.8957 - recall_1: 0.9035 - val_loss: 0.6206 - val_accuracy: 0.7027 - val_precision_1: 0.6800 - val_recall_1: 0.8500\n",
      "Epoch 93/100\n",
      "13/13 [==============================] - 0s 22ms/step - loss: 0.2804 - accuracy: 0.9122 - precision_1: 0.9068 - recall_1: 0.9386 - val_loss: 0.6266 - val_accuracy: 0.7027 - val_precision_1: 0.6800 - val_recall_1: 0.8500\n",
      "Epoch 94/100\n",
      "13/13 [==============================] - 0s 17ms/step - loss: 0.3247 - accuracy: 0.8537 - precision_1: 0.8818 - recall_1: 0.8509 - val_loss: 0.6340 - val_accuracy: 0.7027 - val_precision_1: 0.6800 - val_recall_1: 0.8500\n",
      "Epoch 95/100\n",
      "13/13 [==============================] - 0s 18ms/step - loss: 0.2929 - accuracy: 0.8878 - precision_1: 0.8957 - recall_1: 0.9035 - val_loss: 0.6398 - val_accuracy: 0.6757 - val_precision_1: 0.6538 - val_recall_1: 0.8500\n",
      "Epoch 96/100\n",
      "13/13 [==============================] - 0s 17ms/step - loss: 0.2869 - accuracy: 0.9171 - precision_1: 0.9145 - recall_1: 0.9386 - val_loss: 0.6394 - val_accuracy: 0.7027 - val_precision_1: 0.6800 - val_recall_1: 0.8500\n",
      "Epoch 97/100\n",
      "13/13 [==============================] - 0s 12ms/step - loss: 0.2844 - accuracy: 0.8634 - precision_1: 0.8707 - recall_1: 0.8860 - val_loss: 0.6365 - val_accuracy: 0.7027 - val_precision_1: 0.6800 - val_recall_1: 0.8500\n",
      "Epoch 98/100\n",
      "13/13 [==============================] - 0s 12ms/step - loss: 0.2812 - accuracy: 0.8927 - precision_1: 0.9182 - recall_1: 0.8860 - val_loss: 0.6418 - val_accuracy: 0.7027 - val_precision_1: 0.6800 - val_recall_1: 0.8500\n",
      "Epoch 99/100\n",
      "13/13 [==============================] - 0s 19ms/step - loss: 0.2956 - accuracy: 0.8683 - precision_1: 0.8919 - recall_1: 0.8684 - val_loss: 0.6415 - val_accuracy: 0.7027 - val_precision_1: 0.6800 - val_recall_1: 0.8500\n",
      "Epoch 100/100\n",
      "13/13 [==============================] - 0s 16ms/step - loss: 0.2677 - accuracy: 0.9073 - precision_1: 0.8926 - recall_1: 0.9474 - val_loss: 0.6323 - val_accuracy: 0.7027 - val_precision_1: 0.6800 - val_recall_1: 0.8500\n"
     ]
    }
   ],
   "source": [
    "model = build_model()\n",
    "\n",
    "training_history = model.fit(dataset_train, epochs=num_epochs, validation_data=dataset_val)"
   ]
  },
  {
   "cell_type": "markdown",
   "metadata": {},
   "source": [
    "Plotting Accuracy"
   ]
  },
  {
   "cell_type": "code",
   "execution_count": 34,
   "metadata": {},
   "outputs": [
    {
     "data": {
      "text/plain": [
       "dict_keys(['loss', 'accuracy', 'precision_1', 'recall_1', 'val_loss', 'val_accuracy', 'val_precision_1', 'val_recall_1'])"
      ]
     },
     "execution_count": 34,
     "metadata": {},
     "output_type": "execute_result"
    }
   ],
   "source": [
    "training_history.history.keys()"
   ]
  },
  {
   "cell_type": "code",
   "execution_count": 37,
   "metadata": {},
   "outputs": [
    {
     "data": {
      "text/plain": [
       "<matplotlib.legend.Legend at 0x1f5ca392448>"
      ]
     },
     "execution_count": 37,
     "metadata": {},
     "output_type": "execute_result"
    },
    {
     "data": {
      "image/png": "[encoded data removed]",
      "text/plain": [
       "<Figure size 1008x576 with 2 Axes>"
      ]
     },
     "metadata": {
      "needs_background": "light"
     },
     "output_type": "display_data"
    }
   ],
   "source": [
    "train_acc = training_history.history['accuracy']\n",
    "train_loss = training_history.history['loss']\n",
    "\n",
    "precision = training_history.history['precision_1']\n",
    "recall = training_history.history['recall_1']\n",
    "\n",
    "epochs_range = range(num_epochs)\n",
    "\n",
    "plt.figure(figsize=(14, 8))\n",
    "\n",
    "plt.subplot(1, 2, 1)\n",
    "\n",
    "plt.plot(epochs_range, train_acc, label='Training Accuracy')\n",
    "plt.plot(epochs_range, train_loss, label='Training Loss')\n",
    "\n",
    "plt.title('Accuracy and Loss')\n",
    "plt.legend()\n",
    "\n",
    "plt.subplot(1, 2, 2)\n",
    "\n",
    "plt.plot(epochs_range, precision, label='Precision')\n",
    "plt.plot(epochs_range, recall, label='Recall')\n",
    "\n",
    "plt.title('Precision and Recall')\n",
    "plt.legend()"
   ]
  },
  {
   "cell_type": "markdown",
   "metadata": {},
   "source": [
    "Model Evaluation"
   ]
  },
  {
   "cell_type": "code",
   "execution_count": 38,
   "metadata": {},
   "outputs": [
    {
     "name": "stdout",
     "output_type": "stream",
     "text": [
      "61/61 [==============================] - 0s 106us/sample - loss: 0.6396 - accuracy: 0.7377 - precision_1: 0.7027 - recall_1: 0.8387\n"
     ]
    },
    {
     "data": {
      "text/plain": [
       "loss           0.639581\n",
       "accuracy       0.737705\n",
       "precision_1    0.702703\n",
       "recall_1       0.838710\n",
       "dtype: float64"
      ]
     },
     "execution_count": 38,
     "metadata": {},
     "output_type": "execute_result"
    }
   ],
   "source": [
    "score = model.evaluate(x_test, y_test)\n",
    "\n",
    "score_df = pd.Series(score, index = model.metrics_names)\n",
    "\n",
    "score_df"
   ]
  },
  {
   "cell_type": "markdown",
   "metadata": {},
   "source": [
    "Prediction"
   ]
  },
  {
   "cell_type": "code",
   "execution_count": 39,
   "metadata": {},
   "outputs": [
    {
     "data": {
      "text/plain": [
       "array([[1.74403191e-03],\n",
       "       [8.95064831e-01],\n",
       "       [1.02048218e-02],\n",
       "       [2.97117233e-03],\n",
       "       [1.27903223e-02],\n",
       "       [6.21646643e-04],\n",
       "       [1.29035115e-02],\n",
       "       [4.36110139e-01],\n",
       "       [1.40243769e-03],\n",
       "       [9.66026545e-01]], dtype=float32)"
      ]
     },
     "execution_count": 39,
     "metadata": {},
     "output_type": "execute_result"
    }
   ],
   "source": [
    "y_pred = model.predict(x_test)\n",
    "\n",
    "y_pred[:10]"
   ]
  },
  {
   "cell_type": "code",
   "execution_count": 40,
   "metadata": {},
   "outputs": [],
   "source": [
    "y_pred = np.where(y_pred>=0.5, 1, y_pred)\n",
    "\n",
    "y_pred = np.where(y_pred<0.5, 0, y_pred)"
   ]
  },
  {
   "cell_type": "code",
   "execution_count": 41,
   "metadata": {},
   "outputs": [
    {
     "data": {
      "text/plain": [
       "array([[0.],\n",
       "       [1.],\n",
       "       [0.],\n",
       "       [0.],\n",
       "       [0.],\n",
       "       [0.],\n",
       "       [0.],\n",
       "       [0.],\n",
       "       [0.],\n",
       "       [1.]], dtype=float32)"
      ]
     },
     "execution_count": 41,
     "metadata": {},
     "output_type": "execute_result"
    }
   ],
   "source": [
    "y_pred[:10]"
   ]
  },
  {
   "cell_type": "code",
   "execution_count": 42,
   "metadata": {},
   "outputs": [],
   "source": [
    "pred_results = pd.DataFrame({'y_test': y_test.values.flatten(),\n",
    "                             'y_pred': y_pred.flatten().astype('int32') }, index = range(len(y_pred)))"
   ]
  },
  {
   "cell_type": "code",
   "execution_count": 43,
   "metadata": {},
   "outputs": [
    {
     "data": {
      "text/html": [
       "<div>\n",
       "<style scoped>\n",
       "    .dataframe tbody tr th:only-of-type {\n",
       "        vertical-align: middle;\n",
       "    }\n",
       "\n",
       "    .dataframe tbody tr th {\n",
       "        vertical-align: top;\n",
       "    }\n",
       "\n",
       "    .dataframe thead th {\n",
       "        text-align: right;\n",
       "    }\n",
       "</style>\n",
       "<table border=\"1\" class=\"dataframe\">\n",
       "  <thead>\n",
       "    <tr style=\"text-align: right;\">\n",
       "      <th></th>\n",
       "      <th>y_test</th>\n",
       "      <th>y_pred</th>\n",
       "    </tr>\n",
       "  </thead>\n",
       "  <tbody>\n",
       "    <tr>\n",
       "      <th>0</th>\n",
       "      <td>0</td>\n",
       "      <td>0</td>\n",
       "    </tr>\n",
       "    <tr>\n",
       "      <th>29</th>\n",
       "      <td>1</td>\n",
       "      <td>1</td>\n",
       "    </tr>\n",
       "    <tr>\n",
       "      <th>8</th>\n",
       "      <td>0</td>\n",
       "      <td>0</td>\n",
       "    </tr>\n",
       "    <tr>\n",
       "      <th>4</th>\n",
       "      <td>0</td>\n",
       "      <td>0</td>\n",
       "    </tr>\n",
       "    <tr>\n",
       "      <th>11</th>\n",
       "      <td>0</td>\n",
       "      <td>0</td>\n",
       "    </tr>\n",
       "    <tr>\n",
       "      <th>18</th>\n",
       "      <td>1</td>\n",
       "      <td>0</td>\n",
       "    </tr>\n",
       "    <tr>\n",
       "      <th>10</th>\n",
       "      <td>1</td>\n",
       "      <td>1</td>\n",
       "    </tr>\n",
       "    <tr>\n",
       "      <th>34</th>\n",
       "      <td>0</td>\n",
       "      <td>0</td>\n",
       "    </tr>\n",
       "    <tr>\n",
       "      <th>7</th>\n",
       "      <td>1</td>\n",
       "      <td>0</td>\n",
       "    </tr>\n",
       "    <tr>\n",
       "      <th>45</th>\n",
       "      <td>0</td>\n",
       "      <td>1</td>\n",
       "    </tr>\n",
       "  </tbody>\n",
       "</table>\n",
       "</div>"
      ],
      "text/plain": [
       "    y_test  y_pred\n",
       "0        0       0\n",
       "29       1       1\n",
       "8        0       0\n",
       "4        0       0\n",
       "11       0       0\n",
       "18       1       0\n",
       "10       1       1\n",
       "34       0       0\n",
       "7        1       0\n",
       "45       0       1"
      ]
     },
     "execution_count": 43,
     "metadata": {},
     "output_type": "execute_result"
    }
   ],
   "source": [
    "pred_results.sample(10)"
   ]
  },
  {
   "cell_type": "code",
   "execution_count": 44,
   "metadata": {},
   "outputs": [
    {
     "data": {
      "text/html": [
       "<div>\n",
       "<style scoped>\n",
       "    .dataframe tbody tr th:only-of-type {\n",
       "        vertical-align: middle;\n",
       "    }\n",
       "\n",
       "    .dataframe tbody tr th {\n",
       "        vertical-align: top;\n",
       "    }\n",
       "\n",
       "    .dataframe thead th {\n",
       "        text-align: right;\n",
       "    }\n",
       "</style>\n",
       "<table border=\"1\" class=\"dataframe\">\n",
       "  <thead>\n",
       "    <tr style=\"text-align: right;\">\n",
       "      <th>y_test</th>\n",
       "      <th>0</th>\n",
       "      <th>1</th>\n",
       "    </tr>\n",
       "    <tr>\n",
       "      <th>y_pred</th>\n",
       "      <th></th>\n",
       "      <th></th>\n",
       "    </tr>\n",
       "  </thead>\n",
       "  <tbody>\n",
       "    <tr>\n",
       "      <th>0</th>\n",
       "      <td>19</td>\n",
       "      <td>5</td>\n",
       "    </tr>\n",
       "    <tr>\n",
       "      <th>1</th>\n",
       "      <td>11</td>\n",
       "      <td>26</td>\n",
       "    </tr>\n",
       "  </tbody>\n",
       "</table>\n",
       "</div>"
      ],
      "text/plain": [
       "y_test   0   1\n",
       "y_pred        \n",
       "0       19   5\n",
       "1       11  26"
      ]
     },
     "execution_count": 44,
     "metadata": {},
     "output_type": "execute_result"
    }
   ],
   "source": [
    "pd.crosstab(pred_results.y_pred, pred_results.y_test)"
   ]
  },
  {
   "cell_type": "code",
   "execution_count": 45,
   "metadata": {},
   "outputs": [
    {
     "data": {
      "text/plain": [
       "0.7377049180327869"
      ]
     },
     "execution_count": 45,
     "metadata": {},
     "output_type": "execute_result"
    }
   ],
   "source": [
    "accuracy_score(y_test, y_pred)"
   ]
  },
  {
   "cell_type": "code",
   "execution_count": 46,
   "metadata": {},
   "outputs": [
    {
     "data": {
      "text/plain": [
       "0.7027027027027027"
      ]
     },
     "execution_count": 46,
     "metadata": {},
     "output_type": "execute_result"
    }
   ],
   "source": [
    "precision_score(y_test, y_pred)"
   ]
  },
  {
   "cell_type": "code",
   "execution_count": 47,
   "metadata": {},
   "outputs": [
    {
     "data": {
      "text/plain": [
       "0.8387096774193549"
      ]
     },
     "execution_count": 47,
     "metadata": {},
     "output_type": "execute_result"
    }
   ],
   "source": [
    "recall_score(y_test, y_pred)"
   ]
  },
  {
   "cell_type": "code",
   "execution_count": null,
   "metadata": {},
   "outputs": [],
   "source": []
  }
 ],
 "metadata": {
  "kernelspec": {
   "display_name": "Python 3",
   "language": "python",
   "name": "python3"
  },
  "language_info": {
   "codemirror_mode": {
    "name": "ipython",
    "version": 3
   },
   "file_extension": ".py",
   "mimetype": "text/x-python",
   "name": "python",
   "nbconvert_exporter": "python",
   "pygments_lexer": "ipython3",
   "version": "3.7.4"
  }
 },
 "nbformat": 4,
 "nbformat_minor": 4
}
