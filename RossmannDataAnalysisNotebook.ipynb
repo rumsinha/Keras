{
  "nbformat": 4,
  "nbformat_minor": 0,
  "metadata": {
    "colab": {
      "name": "RossmannDataAnalysisNotebook.ipynb",
      "provenance": [],
      "collapsed_sections": []
    },
    "kernelspec": {
      "name": "python3",
      "display_name": "Python 3"
    },
    "language_info": {
      "name": "python"
    }
  },
  "cells": [
    {
      "cell_type": "code",
      "execution_count": 1,
      "metadata": {
        "id": "WOMkt70Ef403"
      },
      "outputs": [],
      "source": [
        "import pandas as pd\n",
        "import numpy as np"
      ]
    },
    {
      "cell_type": "code",
      "source": [
        "train_df = pd.read_csv(\"/content/drive/MyDrive/rossmann-store-sales/train.csv\")\n",
        "train_df.shape"
      ],
      "metadata": {
        "colab": {
          "base_uri": "https://localhost:8080/"
        },
        "id": "Bby0_4GugEFS",
        "outputId": "387619e9-ddf9-49cb-91f5-e0e780f0217c"
      },
      "execution_count": 2,
      "outputs": [
        {
          "output_type": "stream",
          "name": "stderr",
          "text": [
            "/usr/local/lib/python3.7/dist-packages/IPython/core/interactiveshell.py:2718: DtypeWarning: Columns (7) have mixed types.Specify dtype option on import or set low_memory=False.\n",
            "  interactivity=interactivity, compiler=compiler, result=result)\n"
          ]
        },
        {
          "output_type": "execute_result",
          "data": {
            "text/plain": [
              "(1017209, 9)"
            ]
          },
          "metadata": {},
          "execution_count": 2
        }
      ]
    },
    {
      "cell_type": "code",
      "source": [
        "train_df.head()"
      ],
      "metadata": {
        "colab": {
          "base_uri": "https://localhost:8080/",
          "height": 206
        },
        "id": "S-DfGApMgP7S",
        "outputId": "123d4ee9-53b0-4c3c-ab4f-212558bf2ecc"
      },
      "execution_count": 3,
      "outputs": [
        {
          "output_type": "execute_result",
          "data": {
            "text/html": [
              "\n",
              "  <div id=\"df-0de2b118-d740-47d2-94db-db59c49a75c8\">\n",
              "    <div class=\"colab-df-container\">\n",
              "      <div>\n",
              "<style scoped>\n",
              "    .dataframe tbody tr th:only-of-type {\n",
              "        vertical-align: middle;\n",
              "    }\n",
              "\n",
              "    .dataframe tbody tr th {\n",
              "        vertical-align: top;\n",
              "    }\n",
              "\n",
              "    .dataframe thead th {\n",
              "        text-align: right;\n",
              "    }\n",
              "</style>\n",
              "<table border=\"1\" class=\"dataframe\">\n",
              "  <thead>\n",
              "    <tr style=\"text-align: right;\">\n",
              "      <th></th>\n",
              "      <th>Store</th>\n",
              "      <th>DayOfWeek</th>\n",
              "      <th>Date</th>\n",
              "      <th>Sales</th>\n",
              "      <th>Customers</th>\n",
              "      <th>Open</th>\n",
              "      <th>Promo</th>\n",
              "      <th>StateHoliday</th>\n",
              "      <th>SchoolHoliday</th>\n",
              "    </tr>\n",
              "  </thead>\n",
              "  <tbody>\n",
              "    <tr>\n",
              "      <th>0</th>\n",
              "      <td>1</td>\n",
              "      <td>5</td>\n",
              "      <td>2015-07-31</td>\n",
              "      <td>5263</td>\n",
              "      <td>555</td>\n",
              "      <td>1</td>\n",
              "      <td>1</td>\n",
              "      <td>0</td>\n",
              "      <td>1</td>\n",
              "    </tr>\n",
              "    <tr>\n",
              "      <th>1</th>\n",
              "      <td>2</td>\n",
              "      <td>5</td>\n",
              "      <td>2015-07-31</td>\n",
              "      <td>6064</td>\n",
              "      <td>625</td>\n",
              "      <td>1</td>\n",
              "      <td>1</td>\n",
              "      <td>0</td>\n",
              "      <td>1</td>\n",
              "    </tr>\n",
              "    <tr>\n",
              "      <th>2</th>\n",
              "      <td>3</td>\n",
              "      <td>5</td>\n",
              "      <td>2015-07-31</td>\n",
              "      <td>8314</td>\n",
              "      <td>821</td>\n",
              "      <td>1</td>\n",
              "      <td>1</td>\n",
              "      <td>0</td>\n",
              "      <td>1</td>\n",
              "    </tr>\n",
              "    <tr>\n",
              "      <th>3</th>\n",
              "      <td>4</td>\n",
              "      <td>5</td>\n",
              "      <td>2015-07-31</td>\n",
              "      <td>13995</td>\n",
              "      <td>1498</td>\n",
              "      <td>1</td>\n",
              "      <td>1</td>\n",
              "      <td>0</td>\n",
              "      <td>1</td>\n",
              "    </tr>\n",
              "    <tr>\n",
              "      <th>4</th>\n",
              "      <td>5</td>\n",
              "      <td>5</td>\n",
              "      <td>2015-07-31</td>\n",
              "      <td>4822</td>\n",
              "      <td>559</td>\n",
              "      <td>1</td>\n",
              "      <td>1</td>\n",
              "      <td>0</td>\n",
              "      <td>1</td>\n",
              "    </tr>\n",
              "  </tbody>\n",
              "</table>\n",
              "</div>\n",
              "      <button class=\"colab-df-convert\" onclick=\"convertToInteractive('df-0de2b118-d740-47d2-94db-db59c49a75c8')\"\n",
              "              title=\"Convert this dataframe to an interactive table.\"\n",
              "              style=\"display:none;\">\n",
              "        \n",
              "  <svg xmlns=\"http://www.w3.org/2000/svg\" height=\"24px\"viewBox=\"0 0 24 24\"\n",
              "       width=\"24px\">\n",
              "    <path d=\"M0 0h24v24H0V0z\" fill=\"none\"/>\n",
              "    <path d=\"M18.56 5.44l.94 2.06.94-2.06 2.06-.94-2.06-.94-.94-2.06-.94 2.06-2.06.94zm-11 1L8.5 8.5l.94-2.06 2.06-.94-2.06-.94L8.5 2.5l-.94 2.06-2.06.94zm10 10l.94 2.06.94-2.06 2.06-.94-2.06-.94-.94-2.06-.94 2.06-2.06.94z\"/><path d=\"M17.41 7.96l-1.37-1.37c-.4-.4-.92-.59-1.43-.59-.52 0-1.04.2-1.43.59L10.3 9.45l-7.72 7.72c-.78.78-.78 2.05 0 2.83L4 21.41c.39.39.9.59 1.41.59.51 0 1.02-.2 1.41-.59l7.78-7.78 2.81-2.81c.8-.78.8-2.07 0-2.86zM5.41 20L4 18.59l7.72-7.72 1.47 1.35L5.41 20z\"/>\n",
              "  </svg>\n",
              "      </button>\n",
              "      \n",
              "  <style>\n",
              "    .colab-df-container {\n",
              "      display:flex;\n",
              "      flex-wrap:wrap;\n",
              "      gap: 12px;\n",
              "    }\n",
              "\n",
              "    .colab-df-convert {\n",
              "      background-color: #E8F0FE;\n",
              "      border: none;\n",
              "      border-radius: 50%;\n",
              "      cursor: pointer;\n",
              "      display: none;\n",
              "      fill: #1967D2;\n",
              "      height: 32px;\n",
              "      padding: 0 0 0 0;\n",
              "      width: 32px;\n",
              "    }\n",
              "\n",
              "    .colab-df-convert:hover {\n",
              "      background-color: #E2EBFA;\n",
              "      box-shadow: 0px 1px 2px rgba(60, 64, 67, 0.3), 0px 1px 3px 1px rgba(60, 64, 67, 0.15);\n",
              "      fill: #174EA6;\n",
              "    }\n",
              "\n",
              "    [theme=dark] .colab-df-convert {\n",
              "      background-color: #3B4455;\n",
              "      fill: #D2E3FC;\n",
              "    }\n",
              "\n",
              "    [theme=dark] .colab-df-convert:hover {\n",
              "      background-color: #434B5C;\n",
              "      box-shadow: 0px 1px 3px 1px rgba(0, 0, 0, 0.15);\n",
              "      filter: drop-shadow(0px 1px 2px rgba(0, 0, 0, 0.3));\n",
              "      fill: #FFFFFF;\n",
              "    }\n",
              "  </style>\n",
              "\n",
              "      <script>\n",
              "        const buttonEl =\n",
              "          document.querySelector('#df-0de2b118-d740-47d2-94db-db59c49a75c8 button.colab-df-convert');\n",
              "        buttonEl.style.display =\n",
              "          google.colab.kernel.accessAllowed ? 'block' : 'none';\n",
              "\n",
              "        async function convertToInteractive(key) {\n",
              "          const element = document.querySelector('#df-0de2b118-d740-47d2-94db-db59c49a75c8');\n",
              "          const dataTable =\n",
              "            await google.colab.kernel.invokeFunction('convertToInteractive',\n",
              "                                                     [key], {});\n",
              "          if (!dataTable) return;\n",
              "\n",
              "          const docLinkHtml = 'Like what you see? Visit the ' +\n",
              "            '<a target=\"_blank\" href=https://colab.research.google.com/notebooks/data_table.ipynb>data table notebook</a>'\n",
              "            + ' to learn more about interactive tables.';\n",
              "          element.innerHTML = '';\n",
              "          dataTable['output_type'] = 'display_data';\n",
              "          await google.colab.output.renderOutput(dataTable, element);\n",
              "          const docLink = document.createElement('div');\n",
              "          docLink.innerHTML = docLinkHtml;\n",
              "          element.appendChild(docLink);\n",
              "        }\n",
              "      </script>\n",
              "    </div>\n",
              "  </div>\n",
              "  "
            ],
            "text/plain": [
              "   Store  DayOfWeek        Date  Sales  ...  Open  Promo  StateHoliday SchoolHoliday\n",
              "0      1          5  2015-07-31   5263  ...     1      1             0             1\n",
              "1      2          5  2015-07-31   6064  ...     1      1             0             1\n",
              "2      3          5  2015-07-31   8314  ...     1      1             0             1\n",
              "3      4          5  2015-07-31  13995  ...     1      1             0             1\n",
              "4      5          5  2015-07-31   4822  ...     1      1             0             1\n",
              "\n",
              "[5 rows x 9 columns]"
            ]
          },
          "metadata": {},
          "execution_count": 3
        }
      ]
    },
    {
      "cell_type": "code",
      "source": [
        "store_df = pd.read_csv(\"/content/drive/MyDrive/rossmann-store-sales/store.csv\")\n",
        "store_df.shape"
      ],
      "metadata": {
        "colab": {
          "base_uri": "https://localhost:8080/"
        },
        "id": "0wsNzNlsgR1l",
        "outputId": "13278f2d-4f14-4332-f70e-1c7ef7187ca8"
      },
      "execution_count": 4,
      "outputs": [
        {
          "output_type": "execute_result",
          "data": {
            "text/plain": [
              "(1115, 10)"
            ]
          },
          "metadata": {},
          "execution_count": 4
        }
      ]
    },
    {
      "cell_type": "code",
      "source": [
        "store_df.head()"
      ],
      "metadata": {
        "colab": {
          "base_uri": "https://localhost:8080/",
          "height": 270
        },
        "id": "5i_gI1Dvgj8-",
        "outputId": "5646dc7c-f4d5-41a4-ea68-df9f0c487b67"
      },
      "execution_count": 5,
      "outputs": [
        {
          "output_type": "execute_result",
          "data": {
            "text/html": [
              "\n",
              "  <div id=\"df-40bf908f-e13b-4c71-a0d5-c0ff47d0dc37\">\n",
              "    <div class=\"colab-df-container\">\n",
              "      <div>\n",
              "<style scoped>\n",
              "    .dataframe tbody tr th:only-of-type {\n",
              "        vertical-align: middle;\n",
              "    }\n",
              "\n",
              "    .dataframe tbody tr th {\n",
              "        vertical-align: top;\n",
              "    }\n",
              "\n",
              "    .dataframe thead th {\n",
              "        text-align: right;\n",
              "    }\n",
              "</style>\n",
              "<table border=\"1\" class=\"dataframe\">\n",
              "  <thead>\n",
              "    <tr style=\"text-align: right;\">\n",
              "      <th></th>\n",
              "      <th>Store</th>\n",
              "      <th>StoreType</th>\n",
              "      <th>Assortment</th>\n",
              "      <th>CompetitionDistance</th>\n",
              "      <th>CompetitionOpenSinceMonth</th>\n",
              "      <th>CompetitionOpenSinceYear</th>\n",
              "      <th>Promo2</th>\n",
              "      <th>Promo2SinceWeek</th>\n",
              "      <th>Promo2SinceYear</th>\n",
              "      <th>PromoInterval</th>\n",
              "    </tr>\n",
              "  </thead>\n",
              "  <tbody>\n",
              "    <tr>\n",
              "      <th>0</th>\n",
              "      <td>1</td>\n",
              "      <td>c</td>\n",
              "      <td>a</td>\n",
              "      <td>1270.0</td>\n",
              "      <td>9.0</td>\n",
              "      <td>2008.0</td>\n",
              "      <td>0</td>\n",
              "      <td>NaN</td>\n",
              "      <td>NaN</td>\n",
              "      <td>NaN</td>\n",
              "    </tr>\n",
              "    <tr>\n",
              "      <th>1</th>\n",
              "      <td>2</td>\n",
              "      <td>a</td>\n",
              "      <td>a</td>\n",
              "      <td>570.0</td>\n",
              "      <td>11.0</td>\n",
              "      <td>2007.0</td>\n",
              "      <td>1</td>\n",
              "      <td>13.0</td>\n",
              "      <td>2010.0</td>\n",
              "      <td>Jan,Apr,Jul,Oct</td>\n",
              "    </tr>\n",
              "    <tr>\n",
              "      <th>2</th>\n",
              "      <td>3</td>\n",
              "      <td>a</td>\n",
              "      <td>a</td>\n",
              "      <td>14130.0</td>\n",
              "      <td>12.0</td>\n",
              "      <td>2006.0</td>\n",
              "      <td>1</td>\n",
              "      <td>14.0</td>\n",
              "      <td>2011.0</td>\n",
              "      <td>Jan,Apr,Jul,Oct</td>\n",
              "    </tr>\n",
              "    <tr>\n",
              "      <th>3</th>\n",
              "      <td>4</td>\n",
              "      <td>c</td>\n",
              "      <td>c</td>\n",
              "      <td>620.0</td>\n",
              "      <td>9.0</td>\n",
              "      <td>2009.0</td>\n",
              "      <td>0</td>\n",
              "      <td>NaN</td>\n",
              "      <td>NaN</td>\n",
              "      <td>NaN</td>\n",
              "    </tr>\n",
              "    <tr>\n",
              "      <th>4</th>\n",
              "      <td>5</td>\n",
              "      <td>a</td>\n",
              "      <td>a</td>\n",
              "      <td>29910.0</td>\n",
              "      <td>4.0</td>\n",
              "      <td>2015.0</td>\n",
              "      <td>0</td>\n",
              "      <td>NaN</td>\n",
              "      <td>NaN</td>\n",
              "      <td>NaN</td>\n",
              "    </tr>\n",
              "  </tbody>\n",
              "</table>\n",
              "</div>\n",
              "      <button class=\"colab-df-convert\" onclick=\"convertToInteractive('df-40bf908f-e13b-4c71-a0d5-c0ff47d0dc37')\"\n",
              "              title=\"Convert this dataframe to an interactive table.\"\n",
              "              style=\"display:none;\">\n",
              "        \n",
              "  <svg xmlns=\"http://www.w3.org/2000/svg\" height=\"24px\"viewBox=\"0 0 24 24\"\n",
              "       width=\"24px\">\n",
              "    <path d=\"M0 0h24v24H0V0z\" fill=\"none\"/>\n",
              "    <path d=\"M18.56 5.44l.94 2.06.94-2.06 2.06-.94-2.06-.94-.94-2.06-.94 2.06-2.06.94zm-11 1L8.5 8.5l.94-2.06 2.06-.94-2.06-.94L8.5 2.5l-.94 2.06-2.06.94zm10 10l.94 2.06.94-2.06 2.06-.94-2.06-.94-.94-2.06-.94 2.06-2.06.94z\"/><path d=\"M17.41 7.96l-1.37-1.37c-.4-.4-.92-.59-1.43-.59-.52 0-1.04.2-1.43.59L10.3 9.45l-7.72 7.72c-.78.78-.78 2.05 0 2.83L4 21.41c.39.39.9.59 1.41.59.51 0 1.02-.2 1.41-.59l7.78-7.78 2.81-2.81c.8-.78.8-2.07 0-2.86zM5.41 20L4 18.59l7.72-7.72 1.47 1.35L5.41 20z\"/>\n",
              "  </svg>\n",
              "      </button>\n",
              "      \n",
              "  <style>\n",
              "    .colab-df-container {\n",
              "      display:flex;\n",
              "      flex-wrap:wrap;\n",
              "      gap: 12px;\n",
              "    }\n",
              "\n",
              "    .colab-df-convert {\n",
              "      background-color: #E8F0FE;\n",
              "      border: none;\n",
              "      border-radius: 50%;\n",
              "      cursor: pointer;\n",
              "      display: none;\n",
              "      fill: #1967D2;\n",
              "      height: 32px;\n",
              "      padding: 0 0 0 0;\n",
              "      width: 32px;\n",
              "    }\n",
              "\n",
              "    .colab-df-convert:hover {\n",
              "      background-color: #E2EBFA;\n",
              "      box-shadow: 0px 1px 2px rgba(60, 64, 67, 0.3), 0px 1px 3px 1px rgba(60, 64, 67, 0.15);\n",
              "      fill: #174EA6;\n",
              "    }\n",
              "\n",
              "    [theme=dark] .colab-df-convert {\n",
              "      background-color: #3B4455;\n",
              "      fill: #D2E3FC;\n",
              "    }\n",
              "\n",
              "    [theme=dark] .colab-df-convert:hover {\n",
              "      background-color: #434B5C;\n",
              "      box-shadow: 0px 1px 3px 1px rgba(0, 0, 0, 0.15);\n",
              "      filter: drop-shadow(0px 1px 2px rgba(0, 0, 0, 0.3));\n",
              "      fill: #FFFFFF;\n",
              "    }\n",
              "  </style>\n",
              "\n",
              "      <script>\n",
              "        const buttonEl =\n",
              "          document.querySelector('#df-40bf908f-e13b-4c71-a0d5-c0ff47d0dc37 button.colab-df-convert');\n",
              "        buttonEl.style.display =\n",
              "          google.colab.kernel.accessAllowed ? 'block' : 'none';\n",
              "\n",
              "        async function convertToInteractive(key) {\n",
              "          const element = document.querySelector('#df-40bf908f-e13b-4c71-a0d5-c0ff47d0dc37');\n",
              "          const dataTable =\n",
              "            await google.colab.kernel.invokeFunction('convertToInteractive',\n",
              "                                                     [key], {});\n",
              "          if (!dataTable) return;\n",
              "\n",
              "          const docLinkHtml = 'Like what you see? Visit the ' +\n",
              "            '<a target=\"_blank\" href=https://colab.research.google.com/notebooks/data_table.ipynb>data table notebook</a>'\n",
              "            + ' to learn more about interactive tables.';\n",
              "          element.innerHTML = '';\n",
              "          dataTable['output_type'] = 'display_data';\n",
              "          await google.colab.output.renderOutput(dataTable, element);\n",
              "          const docLink = document.createElement('div');\n",
              "          docLink.innerHTML = docLinkHtml;\n",
              "          element.appendChild(docLink);\n",
              "        }\n",
              "      </script>\n",
              "    </div>\n",
              "  </div>\n",
              "  "
            ],
            "text/plain": [
              "   Store StoreType  ... Promo2SinceYear    PromoInterval\n",
              "0      1         c  ...             NaN              NaN\n",
              "1      2         a  ...          2010.0  Jan,Apr,Jul,Oct\n",
              "2      3         a  ...          2011.0  Jan,Apr,Jul,Oct\n",
              "3      4         c  ...             NaN              NaN\n",
              "4      5         a  ...             NaN              NaN\n",
              "\n",
              "[5 rows x 10 columns]"
            ]
          },
          "metadata": {},
          "execution_count": 5
        }
      ]
    },
    {
      "cell_type": "markdown",
      "source": [
        "Sales: the turnover for a given day (our target y \n",
        "variable)"
      ],
      "metadata": {
        "id": "qYMcPcV0ZvTS"
      }
    },
    {
      "cell_type": "markdown",
      "source": [
        "StateHoliday: indicates a state holiday. Normally \n",
        "all stores, with few exceptions, are closed on state \n",
        "holidays. Note that all schools are closed on public \n",
        "holidays and weekends. a = public holiday, b = Easter \n",
        "holiday, c = Christmas, 0 = none"
      ],
      "metadata": {
        "id": "wGGG1P9AZ28X"
      }
    },
    {
      "cell_type": "markdown",
      "source": [
        "SchoolHoliday: indicates if the (Store, Date) was \n",
        "affected by the closure of public schools"
      ],
      "metadata": {
        "id": "K8lp3SPVZ6SQ"
      }
    },
    {
      "cell_type": "markdown",
      "source": [
        "Customers: the number of customers on a given day\n",
        "• Open: an indicator for whether the store was open: \n",
        "0 = closed, 1 = open"
      ],
      "metadata": {
        "id": "gq8ogOvAZ4UP"
      }
    },
    {
      "cell_type": "markdown",
      "source": [
        "StoreType: differentiates between four different store \n",
        "models: a, b, c, d\n",
        "Assortment: describes an assortment level: a = basic, \n",
        "b = extra, c = extended\n",
        "CompetitionDistance: distance in meters to the \n",
        "nearest competitor store\n",
        "CompetitionOpenSince[Month/Year]: gives the \n",
        "approximate year and month of the time the nearest \n",
        "competitor was opened\n",
        "Promo: indicates whether a store is running a promo \n",
        "on that day\n",
        "Promo2: Promo2 is a continuing and consecutive \n",
        "promotion for some stores: 0 = store is not \n",
        "participating, 1 = store is participating"
      ],
      "metadata": {
        "id": "PZCGAlXEaSCg"
      }
    },
    {
      "cell_type": "markdown",
      "source": [
        "Promo2Since[Year/Week]: describes the year and \n",
        "calendar week when the store started participating in \n",
        "Promo2\n",
        "• PromoInterval: describes the consecutive intervals \n",
        "at which Promo2 is started, naming the months the \n",
        "promotion is started anew (e.g., “Feb, May, Aug, Nov” \n",
        "means each round starts in February, May, August, and \n",
        "November of any given year for that store)"
      ],
      "metadata": {
        "id": "Bo_NJVCNaTOf"
      }
    },
    {
      "cell_type": "markdown",
      "source": [
        "To have all the data points together, we need to create one single \n",
        "dataframe with the store and promotion features. We can achieve this by \n",
        "joining the two dataframes on the ‘store’ column, which represents the \n",
        "store ID."
      ],
      "metadata": {
        "id": "jAb1jOnMageg"
      }
    },
    {
      "cell_type": "code",
      "source": [
        "df_new = train_df.merge(store_df,on=[\"Store\"], how=\"inner\")\n",
        "print(df_new.shape)\n"
      ],
      "metadata": {
        "id": "8SVpwUmXgmMA",
        "colab": {
          "base_uri": "https://localhost:8080/"
        },
        "outputId": "ff7088fc-71c6-4c27-9240-90aad921c526"
      },
      "execution_count": 6,
      "outputs": [
        {
          "output_type": "stream",
          "name": "stdout",
          "text": [
            "(1017209, 18)\n"
          ]
        }
      ]
    },
    {
      "cell_type": "markdown",
      "source": [
        "How \n",
        "many stores do we have the data for? How long do we have the data for? \n",
        "What do the average sales for a day look like? are the stores very different \n",
        "from each other in daily sales?"
      ],
      "metadata": {
        "id": "l2g44GaKbGgb"
      }
    },
    {
      "cell_type": "markdown",
      "source": [
        "We will start by finding the number of unique stores in the data, the \n",
        "number of unique days for which we have data, and the average sales for \n",
        "all stores."
      ],
      "metadata": {
        "id": "7L231qcsbOYY"
      }
    },
    {
      "cell_type": "code",
      "source": [
        "print(\"Distinct number of Stores :\", len(df_new[\"Store\"].unique()))\n",
        "print(\"Distinct number of Days :\", len(df_new[\"Date\"].unique()))\n",
        "print(\"Average daily sales of all stores : \",round(df_new [\"Sales\"].mean(),2))"
      ],
      "metadata": {
        "colab": {
          "base_uri": "https://localhost:8080/"
        },
        "id": "LRJRisevaQOf",
        "outputId": "61ceae4e-56a8-4371-87d8-8aa46a9b41ad"
      },
      "execution_count": 7,
      "outputs": [
        {
          "output_type": "stream",
          "name": "stdout",
          "text": [
            "Distinct number of Stores : 1115\n",
            "Distinct number of Days : 942\n",
            "Average daily sales of all stores :  5773.82\n"
          ]
        }
      ]
    },
    {
      "cell_type": "code",
      "source": [
        "df_new.dtypes"
      ],
      "metadata": {
        "colab": {
          "base_uri": "https://localhost:8080/"
        },
        "id": "pURcMN2x4-1O",
        "outputId": "1dde5aaa-66a3-427f-cbdf-76cb69cae099"
      },
      "execution_count": 8,
      "outputs": [
        {
          "output_type": "execute_result",
          "data": {
            "text/plain": [
              "Store                          int64\n",
              "DayOfWeek                      int64\n",
              "Date                          object\n",
              "Sales                          int64\n",
              "Customers                      int64\n",
              "Open                           int64\n",
              "Promo                          int64\n",
              "StateHoliday                  object\n",
              "SchoolHoliday                  int64\n",
              "StoreType                     object\n",
              "Assortment                    object\n",
              "CompetitionDistance          float64\n",
              "CompetitionOpenSinceMonth    float64\n",
              "CompetitionOpenSinceYear     float64\n",
              "Promo2                         int64\n",
              "Promo2SinceWeek              float64\n",
              "Promo2SinceYear              float64\n",
              "PromoInterval                 object\n",
              "dtype: object"
            ]
          },
          "metadata": {},
          "execution_count": 8
        }
      ]
    },
    {
      "cell_type": "code",
      "source": [
        "df_new[\"DayOfWeek\"].value_counts()"
      ],
      "metadata": {
        "colab": {
          "base_uri": "https://localhost:8080/"
        },
        "id": "4MJUdNyv5BGc",
        "outputId": "27d0c12d-3242-4955-dfd0-4e2d7d01e540"
      },
      "execution_count": 9,
      "outputs": [
        {
          "output_type": "execute_result",
          "data": {
            "text/plain": [
              "5    145845\n",
              "4    145845\n",
              "3    145665\n",
              "2    145664\n",
              "7    144730\n",
              "6    144730\n",
              "1    144730\n",
              "Name: DayOfWeek, dtype: int64"
            ]
          },
          "metadata": {},
          "execution_count": 9
        }
      ]
    },
    {
      "cell_type": "code",
      "source": [
        "#We can extract all date properties from a datetime datatype\n",
        "import numpy as np\n",
        "df_new['Date'] = pd.to_datetime(df_new['Date'], infer_datetime_format=True)\n",
        "df_new[\"Month\"] = df_new[\"Date\"].dt.month\n",
        "df_new[\"Quarter\"] = df_new[\"Date\"].dt.quarter\n",
        "df_new[\"Year\"] = df_new[\"Date\"].dt.year\n",
        "df_new[\"Day\"] = df_new[\"Date\"].dt.day\n",
        "df_new[\"Week\"] = df_new[\"Date\"].dt.week"
      ],
      "metadata": {
        "colab": {
          "base_uri": "https://localhost:8080/"
        },
        "id": "fWyWFOih5bLJ",
        "outputId": "a61a7855-02b2-4112-e661-c98ff36d5851"
      },
      "execution_count": 10,
      "outputs": [
        {
          "output_type": "stream",
          "name": "stderr",
          "text": [
            "/usr/local/lib/python3.7/dist-packages/ipykernel_launcher.py:8: FutureWarning: Series.dt.weekofyear and Series.dt.week have been deprecated.  Please use Series.dt.isocalendar().week instead.\n",
            "  \n"
          ]
        }
      ]
    },
    {
      "cell_type": "code",
      "source": [
        "df_new[\"Season\"] = np.where(df_new[\"Month\"].isin([3,4,5]),\"Spring\",np.where(df_new[\"Month\"].isin([6,7,8]), \"Summer\",\n",
        " np.where(df_new[\"Month\"].isin ([9,10,11]),\"Fall\",np.where(df_new[\"Month\"].isin ([12,1,2]),\"Winter\",\"None\"))))"
      ],
      "metadata": {
        "id": "9_hdFXiC5-mo"
      },
      "execution_count": 11,
      "outputs": []
    },
    {
      "cell_type": "code",
      "source": [
        "#Using the head command to view (only) the data and the newly engineered features\n",
        "print(df_new[[\"Date\",\"Year\",\"Month\",\"Day\",\"Week\",\"Quarter\",\"Season\"]].head())"
      ],
      "metadata": {
        "colab": {
          "base_uri": "https://localhost:8080/"
        },
        "id": "pyJnUGOc6MsT",
        "outputId": "ce588052-0796-42a1-edb8-c37f3b4be76b"
      },
      "execution_count": 12,
      "outputs": [
        {
          "output_type": "stream",
          "name": "stdout",
          "text": [
            "        Date  Year  Month  Day  Week  Quarter  Season\n",
            "0 2015-07-31  2015      7   31    31        3  Summer\n",
            "1 2015-07-30  2015      7   30    31        3  Summer\n",
            "2 2015-07-29  2015      7   29    31        3  Summer\n",
            "3 2015-07-28  2015      7   28    31        3  Summer\n",
            "4 2015-07-27  2015      7   27    31        3  Summer\n"
          ]
        }
      ]
    },
    {
      "cell_type": "code",
      "source": [
        "#Import matplotlib, python most popular data visualizing library\n",
        "import matplotlib.pyplot as plt\n",
        "%matplotlib inline"
      ],
      "metadata": {
        "id": "BMIAQbOn6dB9"
      },
      "execution_count": 13,
      "outputs": []
    },
    {
      "cell_type": "code",
      "source": [
        "#Create a histogram to study the Daily Sales for the stores\n",
        "plt.figure(figsize=(15,8))\n",
        "plt.hist(df_new[\"Sales\"])\n",
        "plt.title(\"Histogram for Store Sales\")\n",
        "plt.xlabel(\"bins\")\n",
        "plt.xlabel(\"Frequency\")\n",
        "plt.show()"
      ],
      "metadata": {
        "colab": {
          "base_uri": "https://localhost:8080/",
          "height": 513
        },
        "id": "95aFJGj8THVf",
        "outputId": "e830a494-674b-4c5c-eb7e-2caa13fa766f"
      },
      "execution_count": 14,
      "outputs": [
        {
          "output_type": "display_data",
          "data": {
            "image/png": "[encoded data removed]",
            "text/plain": [
              "<Figure size 1080x576 with 1 Axes>"
            ]
          },
          "metadata": {
            "needs_background": "light"
          }
        }
      ]
    },
    {
      "cell_type": "markdown",
      "source": [
        "# most of the stores have sales in the range 0–20,000, and just a few stores \n",
        "have sales greater than 20,000. It might be worthwhile to remove these \n",
        "outliers, as it helps the model learn better."
      ],
      "metadata": {
        "id": "JfkeIBgnTeYZ"
      }
    },
    {
      "cell_type": "markdown",
      "source": [
        "#### Exploring new columns"
      ],
      "metadata": {
        "id": "RkAkwCUSHUjI"
      }
    },
    {
      "cell_type": "code",
      "source": [
        "df_new.hist(figsize=(20,10))"
      ],
      "metadata": {
        "id": "52eror72TMdz",
        "colab": {
          "base_uri": "https://localhost:8080/",
          "height": 914
        },
        "outputId": "90550a07-d993-4b70-deea-e2bb69091bd8"
      },
      "execution_count": 15,
      "outputs": [
        {
          "output_type": "execute_result",
          "data": {
            "text/plain": [
              "array([[<matplotlib.axes._subplots.AxesSubplot object at 0x7fc2300823d0>,\n",
              "        <matplotlib.axes._subplots.AxesSubplot object at 0x7fc2300266d0>,\n",
              "        <matplotlib.axes._subplots.AxesSubplot object at 0x7fc22ffddcd0>,\n",
              "        <matplotlib.axes._subplots.AxesSubplot object at 0x7fc22ff9f310>],\n",
              "       [<matplotlib.axes._subplots.AxesSubplot object at 0x7fc22ff55910>,\n",
              "        <matplotlib.axes._subplots.AxesSubplot object at 0x7fc22ff8cf10>,\n",
              "        <matplotlib.axes._subplots.AxesSubplot object at 0x7fc22ff4e510>,\n",
              "        <matplotlib.axes._subplots.AxesSubplot object at 0x7fc22ff04b10>],\n",
              "       [<matplotlib.axes._subplots.AxesSubplot object at 0x7fc22ff0fd50>,\n",
              "        <matplotlib.axes._subplots.AxesSubplot object at 0x7fc22fe514d0>,\n",
              "        <matplotlib.axes._subplots.AxesSubplot object at 0x7fc22fe33d50>,\n",
              "        <matplotlib.axes._subplots.AxesSubplot object at 0x7fc22fdf6390>],\n",
              "       [<matplotlib.axes._subplots.AxesSubplot object at 0x7fc22fdae990>,\n",
              "        <matplotlib.axes._subplots.AxesSubplot object at 0x7fc22fd63f90>,\n",
              "        <matplotlib.axes._subplots.AxesSubplot object at 0x7fc22fd275d0>,\n",
              "        <matplotlib.axes._subplots.AxesSubplot object at 0x7fc22fcdcbd0>],\n",
              "       [<matplotlib.axes._subplots.AxesSubplot object at 0x7fc22fc9f210>,\n",
              "        <matplotlib.axes._subplots.AxesSubplot object at 0x7fc22fc56810>,\n",
              "        <matplotlib.axes._subplots.AxesSubplot object at 0x7fc22fc8ce10>,\n",
              "        <matplotlib.axes._subplots.AxesSubplot object at 0x7fc22fc4f450>]],\n",
              "      dtype=object)"
            ]
          },
          "metadata": {},
          "execution_count": 15
        },
        {
          "output_type": "display_data",
          "data": {
            "image/png": "[encoded data removed]",
            "text/plain": [
              "<Figure size 1440x720 with 20 Axes>"
            ]
          },
          "metadata": {
            "needs_background": "light"
          }
        }
      ]
    },
    {
      "cell_type": "code",
      "source": [
        "df_new.isnull().sum()/df_new.shape[0] * 100"
      ],
      "metadata": {
        "colab": {
          "base_uri": "https://localhost:8080/"
        },
        "id": "GzDF_yRfHPo4",
        "outputId": "19e8337c-fec6-44b1-9f95-25e5bf554692"
      },
      "execution_count": 16,
      "outputs": [
        {
          "output_type": "execute_result",
          "data": {
            "text/plain": [
              "Store                         0.000000\n",
              "DayOfWeek                     0.000000\n",
              "Date                          0.000000\n",
              "Sales                         0.000000\n",
              "Customers                     0.000000\n",
              "Open                          0.000000\n",
              "Promo                         0.000000\n",
              "StateHoliday                  0.000000\n",
              "SchoolHoliday                 0.000000\n",
              "StoreType                     0.000000\n",
              "Assortment                    0.000000\n",
              "CompetitionDistance           0.259730\n",
              "CompetitionOpenSinceMonth    31.787764\n",
              "CompetitionOpenSinceYear     31.787764\n",
              "Promo2                        0.000000\n",
              "Promo2SinceWeek              49.943620\n",
              "Promo2SinceYear              49.943620\n",
              "PromoInterval                49.943620\n",
              "Month                         0.000000\n",
              "Quarter                       0.000000\n",
              "Year                          0.000000\n",
              "Day                           0.000000\n",
              "Week                          0.000000\n",
              "Season                        0.000000\n",
              "dtype: float64"
            ]
          },
          "metadata": {},
          "execution_count": 16
        }
      ]
    },
    {
      "cell_type": "code",
      "source": [
        "#Replace nulls with the mode\n",
        "df_new[\"CompetitionDistance\"]=df_new[\"CompetitionDistance\"].fillna(df_new[\"CompetitionDistance\"].mode()[0])\n",
        "#Double check if we still see nulls for the column\n",
        "df_new[\"CompetitionDistance\"].isnull().sum()/df_new.shape[0] * 100"
      ],
      "metadata": {
        "colab": {
          "base_uri": "https://localhost:8080/"
        },
        "id": "eiv1ITCgIWV7",
        "outputId": "77d90ce5-4a02-4a69-b369-857703c27ed9"
      },
      "execution_count": 17,
      "outputs": [
        {
          "output_type": "execute_result",
          "data": {
            "text/plain": [
              "0.0"
            ]
          },
          "metadata": {},
          "execution_count": 17
        }
      ]
    },
    {
      "cell_type": "markdown",
      "source": [
        "Categorical Features"
      ],
      "metadata": {
        "id": "L8ZZ2ZM0MGOS"
      }
    },
    {
      "cell_type": "code",
      "source": [
        "import seaborn as sns\n",
        "sns.set(style=\"whitegrid\")"
      ],
      "metadata": {
        "id": "fy3lwu_EJG_l"
      },
      "execution_count": 18,
      "outputs": []
    },
    {
      "cell_type": "code",
      "source": [
        "#Create the bar plot for Average Sales across different Seasons\n",
        "ax = sns.barplot(x=\"Season\", y=\"Sales\", data=df_new)"
      ],
      "metadata": {
        "colab": {
          "base_uri": "https://localhost:8080/",
          "height": 285
        },
        "id": "ILwolt4YMIl1",
        "outputId": "2eca3071-ea81-4e8d-a75c-c72370487d2f"
      },
      "execution_count": 19,
      "outputs": [
        {
          "output_type": "display_data",
          "data": {
            "image/png": "[encoded data removed]",
            "text/plain": [
              "<Figure size 432x288 with 1 Axes>"
            ]
          },
          "metadata": {}
        }
      ]
    },
    {
      "cell_type": "code",
      "source": [
        "#Create the bar plot for Average Sales across different Assortments\n",
        "ax = sns.barplot(x=\"Assortment\", y=\"Sales\", data=df_new)\n"
      ],
      "metadata": {
        "colab": {
          "base_uri": "https://localhost:8080/",
          "height": 285
        },
        "id": "1Opjo0FTMPka",
        "outputId": "6d9e81e2-bf18-461d-f893-f426cbcfba6c"
      },
      "execution_count": 20,
      "outputs": [
        {
          "output_type": "display_data",
          "data": {
            "image/png": "[encoded data removed]",
            "text/plain": [
              "<Figure size 432x288 with 1 Axes>"
            ]
          },
          "metadata": {}
        }
      ]
    },
    {
      "cell_type": "code",
      "source": [
        "#Create the bar plot for Average Sales across different Store Types\n",
        "ax = sns.barplot(x=\"StoreType\", y=\"Sales\", data=df_new)"
      ],
      "metadata": {
        "colab": {
          "base_uri": "https://localhost:8080/",
          "height": 285
        },
        "id": "4Ua4QRYQMv9N",
        "outputId": "0cca2f6b-53c0-4a57-cb19-c37e40fc048e"
      },
      "execution_count": 21,
      "outputs": [
        {
          "output_type": "display_data",
          "data": {
            "image/png": "[encoded data removed]",
            "text/plain": [
              "<Figure size 432x288 with 1 Axes>"
            ]
          },
          "metadata": {}
        }
      ]
    },
    {
      "cell_type": "markdown",
      "source": [
        "Sales across seasons barely seem to \n",
        "differ; however, there seems to be an increasing trend for sales across \n",
        "assortments. Stores with assortment “b” generally have the highest sales. \n",
        "Store type also shows a unique relationship with sales across store types. \n",
        "We can see fairly higher sales for “b” store types also."
      ],
      "metadata": {
        "id": "pFXqHYZGNIbU"
      }
    },
    {
      "cell_type": "markdown",
      "source": [
        "What if the number of stores in the different \n",
        "types mentioned in the preceding is disproportionate or skewed? "
      ],
      "metadata": {
        "id": "MWt-YCukNSTz"
      }
    },
    {
      "cell_type": "code",
      "source": [
        "ax = sns.barplot(x=\"Season\", y=\"Sales\", data=df_new, estimator=np.size)"
      ],
      "metadata": {
        "colab": {
          "base_uri": "https://localhost:8080/",
          "height": 285
        },
        "id": "fkJMWPwcM3FF",
        "outputId": "57a6ac05-e353-43cd-bad8-19064fa37566"
      },
      "execution_count": 22,
      "outputs": [
        {
          "output_type": "display_data",
          "data": {
            "image/png": "[encoded data removed]",
            "text/plain": [
              "<Figure size 432x288 with 1 Axes>"
            ]
          },
          "metadata": {}
        }
      ]
    },
    {
      "cell_type": "code",
      "source": [
        "ax = sns.barplot(x=\"Assortment\", y=\"Sales\", data=df_new, estimator=np.size)"
      ],
      "metadata": {
        "colab": {
          "base_uri": "https://localhost:8080/",
          "height": 285
        },
        "id": "YAItWo4JNckl",
        "outputId": "5cd44373-9823-491a-de5d-b8b66220eac9"
      },
      "execution_count": 23,
      "outputs": [
        {
          "output_type": "display_data",
          "data": {
            "image/png": "[encoded data removed]",
            "text/plain": [
              "<Figure size 432x288 with 1 Axes>"
            ]
          },
          "metadata": {}
        }
      ]
    },
    {
      "cell_type": "code",
      "source": [
        "ax = sns.barplot(x=\"StoreType\", y=\"Sales\", data=df_new, estimator=np.size)"
      ],
      "metadata": {
        "colab": {
          "base_uri": "https://localhost:8080/",
          "height": 285
        },
        "id": "gFYR2K7tNlkT",
        "outputId": "abfdd9f2-b76a-4eb0-9931-796fbfe0921d"
      },
      "execution_count": 24,
      "outputs": [
        {
          "output_type": "display_data",
          "data": {
            "image/png": "[encoded data removed]",
            "text/plain": [
              "<Figure size 432x288 with 1 Axes>"
            ]
          },
          "metadata": {}
        }
      ]
    },
    {
      "cell_type": "markdown",
      "source": [
        "the distribution of data points across different \n",
        "classes within a category is skewed. A simple check on StoreType and \n",
        "Assortment reveals that b has a significantly lower number of stores or \n",
        "data points in the dataset. Therefore, our initial understanding of the \n",
        "relationships observed is not true."
      ],
      "metadata": {
        "id": "KLqR7f1sNzDU"
      }
    },
    {
      "cell_type": "markdown",
      "source": [
        " prepare the data for developing DL models."
      ],
      "metadata": {
        "id": "SnavDFgfN9iI"
      }
    },
    {
      "cell_type": "code",
      "source": [
        "#Define a variable for each type of feature\n",
        "from sklearn.preprocessing import LabelEncoder\n",
        "from sklearn.preprocessing import OneHotEncoder"
      ],
      "metadata": {
        "id": "MlU7xRYUNp23"
      },
      "execution_count": 25,
      "outputs": []
    },
    {
      "cell_type": "code",
      "source": [
        "target = [\"Sales\"]\n",
        "numeric_columns = [\"Customers\",\"Open\",\"Promo\",\"Promo2\", \"StateHoliday\",\"SchoolHoliday\",\"CompetitionDistance\"]\n",
        "categorical_columns = [\"DayOfWeek\",\"Quarter\",\"Month\",\"Year\", \"StoreType\",\"Assortment\",\"Season\"]"
      ],
      "metadata": {
        "id": "gLcVmKNfdyR9"
      },
      "execution_count": 26,
      "outputs": []
    },
    {
      "cell_type": "code",
      "source": [
        "#Define a function that will intake the raw dataframe and the column name and return a one hot encoded DF\n",
        "def create_ohe(df, col):\n",
        " le = LabelEncoder()\n",
        " a=le.fit_transform(df_new[col]).reshape(-1,1)\n",
        " ohe = OneHotEncoder(sparse=False)\n",
        " column_names = [col+ \"_\"+ str(i) for i in le.classes_]\n",
        " return(pd.DataFrame(ohe.fit_transform(a),columns =column_names))"
      ],
      "metadata": {
        "id": "UgSwIg0Kd3PP"
      },
      "execution_count": 27,
      "outputs": []
    },
    {
      "cell_type": "code",
      "source": [
        "#Since the above function converts the column, one at a time\n",
        "#We create a loop to create the final dataset with all features\n",
        "temp = df_new[numeric_columns]\n",
        "for column in categorical_columns:\n",
        " temp_df = create_ohe(df_new,column)\n",
        " temp = pd.concat([temp,temp_df],axis=1)"
      ],
      "metadata": {
        "id": "D29bwWXEd8jC"
      },
      "execution_count": 28,
      "outputs": []
    },
    {
      "cell_type": "code",
      "source": [
        "print(\"Shape of Data:\",temp.shape)\n",
        "print(\"Distinct Datatypes:\",temp.dtypes.unique())"
      ],
      "metadata": {
        "colab": {
          "base_uri": "https://localhost:8080/"
        },
        "id": "zGq0l4x9eCc3",
        "outputId": "d44c2b4c-7449-422d-804d-6dbe897a2b4c"
      },
      "execution_count": 29,
      "outputs": [
        {
          "output_type": "stream",
          "name": "stdout",
          "text": [
            "Shape of Data: (1017209, 44)\n",
            "Distinct Datatypes: [dtype('int64') dtype('O') dtype('float64')]\n"
          ]
        }
      ]
    },
    {
      "cell_type": "code",
      "source": [
        "print(temp.columns[temp.dtypes==\"object\"])"
      ],
      "metadata": {
        "colab": {
          "base_uri": "https://localhost:8080/"
        },
        "id": "ohlKJPEeeK06",
        "outputId": "f3f5def8-82da-4906-98c5-c9f2906690c7"
      },
      "execution_count": 30,
      "outputs": [
        {
          "output_type": "stream",
          "name": "stdout",
          "text": [
            "Index(['StateHoliday'], dtype='object')\n"
          ]
        }
      ]
    },
    {
      "cell_type": "code",
      "source": [
        "temp[\"StateHoliday\"].unique()"
      ],
      "metadata": {
        "colab": {
          "base_uri": "https://localhost:8080/"
        },
        "id": "4xoHEmwjeQVq",
        "outputId": "c04c2642-b0b9-4ecb-fb38-dd4d666cce23"
      },
      "execution_count": 31,
      "outputs": [
        {
          "output_type": "execute_result",
          "data": {
            "text/plain": [
              "array(['0', 'a', 'b', 'c', 0], dtype=object)"
            ]
          },
          "metadata": {},
          "execution_count": 31
        }
      ]
    },
    {
      "cell_type": "markdown",
      "source": [
        "The feature seems to have incorrect values. Ideally, StateHoliday\n",
        "should have either a 0 or 1 as the possible values to indicate whether it is a \n",
        "holiday or not. Let’s repair the feature by replacing all values of “a,” “b,” and \n",
        "“c” with 1 and the rest with 0, therefore converting the variable as numeric"
      ],
      "metadata": {
        "id": "awyJzaS0eZxQ"
      }
    },
    {
      "cell_type": "code",
      "source": [
        "temp[\"StateHoliday\"]= np.where(temp[\"StateHoliday\"]== '0',0,1)\n",
        "#One last check of the data type\n",
        "temp.dtypes.unique()"
      ],
      "metadata": {
        "colab": {
          "base_uri": "https://localhost:8080/"
        },
        "id": "VE5JqR7QeUjr",
        "outputId": "7e16f043-6191-465d-930d-fb988943202f"
      },
      "execution_count": 32,
      "outputs": [
        {
          "output_type": "execute_result",
          "data": {
            "text/plain": [
              "array([dtype('int64'), dtype('float64')], dtype=object)"
            ]
          },
          "metadata": {},
          "execution_count": 32
        }
      ]
    },
    {
      "cell_type": "code",
      "source": [
        "from sklearn.model_selection import train_test_split\n",
        "#Create train and test dataset with an 80:20 split\n",
        "x_train, x_test, y_train, y_test = train_test_split(temp, \n",
        "df_new[target],test_size=0.2,random_state=2018)\n",
        "#Further divide training dataset into train and validation dataset with an 90:10 split\n",
        "x_train, x_val, y_train, y_val = train_test_split(x_train, y_train,test_size=0.1,random_state=2018)\n",
        "#Check the sizes of all newly created datasets\n",
        "print(\"Shape of x_train:\",x_train.shape)\n",
        "print(\"Shape of x_val:\",x_val.shape)\n",
        "print(\"Shape of x_test:\",x_test.shape)\n",
        "print(\"Shape of y_train:\",y_train.shape)\n",
        "print(\"Shape of y_val:\",y_val.shape)\n",
        "print(\"Shape of y_test:\",y_test.shape)"
      ],
      "metadata": {
        "colab": {
          "base_uri": "https://localhost:8080/"
        },
        "id": "a3llCvKSedYt",
        "outputId": "d81facdd-f5ff-496e-fc0b-8840743e4800"
      },
      "execution_count": 33,
      "outputs": [
        {
          "output_type": "stream",
          "name": "stdout",
          "text": [
            "Shape of x_train: (732390, 44)\n",
            "Shape of x_val: (81377, 44)\n",
            "Shape of x_test: (203442, 44)\n",
            "Shape of y_train: (732390, 1)\n",
            "Shape of y_val: (81377, 1)\n",
            "Shape of y_test: (203442, 1)\n"
          ]
        }
      ]
    },
    {
      "cell_type": "markdown",
      "source": [
        " design the DNN architecture"
      ],
      "metadata": {
        "id": "m-ziEzAze9ec"
      }
    },
    {
      "cell_type": "markdown",
      "source": [
        "create a baseline score as the bare minimum score to consider the model useful"
      ],
      "metadata": {
        "id": "v70kugobfB8G"
      }
    },
    {
      "cell_type": "markdown",
      "source": [
        "To define the model baseline performance, we should consider the mean \n",
        "of the target variable in the training dataset as the prediction for all test \n",
        "samples"
      ],
      "metadata": {
        "id": "kPzgO6h-sL4S"
      }
    },
    {
      "cell_type": "code",
      "source": [
        "#calculate the average score of the train dataset\n",
        "mean_sales = y_train.mean()\n",
        "print(\"Average Sales :\",mean_sales)"
      ],
      "metadata": {
        "id": "IyNcOZbleolS",
        "colab": {
          "base_uri": "https://localhost:8080/"
        },
        "outputId": "a41727e6-93bd-4311-8af9-ab9dac341f4b"
      },
      "execution_count": 34,
      "outputs": [
        {
          "output_type": "stream",
          "name": "stdout",
          "text": [
            "Average Sales : Sales    5773.099997\n",
            "dtype: float64\n"
          ]
        }
      ]
    },
    {
      "cell_type": "code",
      "source": [
        "#Calculate the Mean Absolute Error on the test dataset\n",
        "print(\"MAE for Test Data:\",abs(y_test - mean_sales).mean()[0])"
      ],
      "metadata": {
        "colab": {
          "base_uri": "https://localhost:8080/"
        },
        "id": "UKTqpTvxsbgn",
        "outputId": "688c2ffc-6671-4f50-d0cd-205a75f7a86e"
      },
      "execution_count": 35,
      "outputs": [
        {
          "output_type": "stream",
          "name": "stdout",
          "text": [
            "MAE for Test Data: 2883.587604303215\n"
          ]
        }
      ]
    },
    {
      "cell_type": "markdown",
      "source": [
        "Baseline performance is 2883.58"
      ],
      "metadata": {
        "id": "ZnZtI7RmtMeP"
      }
    },
    {
      "cell_type": "markdown",
      "source": [
        "# DNN "
      ],
      "metadata": {
        "id": "KW8pB-LDtjhN"
      }
    },
    {
      "cell_type": "code",
      "source": [
        "from keras.models import Sequential\n",
        "from keras.layers import Dense, Dropout"
      ],
      "metadata": {
        "id": "QFXqBZZbtEGA"
      },
      "execution_count": 36,
      "outputs": []
    },
    {
      "cell_type": "code",
      "source": [
        "model = Sequential()\n",
        "model.add(Dense(150,input_dim = 44,activation=\"relu\")) # total 44 features\n",
        "model.add(Dense(1,activation = \"linear\"))"
      ],
      "metadata": {
        "id": "kBoM2V8Af7ke"
      },
      "execution_count": 37,
      "outputs": []
    },
    {
      "cell_type": "code",
      "source": [
        "model.compile(optimizer='adam',loss=\"mean_absolute_error\",metrics=[\"mean_absolute_error\"])"
      ],
      "metadata": {
        "id": "NZiONRbJgISz"
      },
      "execution_count": 38,
      "outputs": []
    },
    {
      "cell_type": "code",
      "source": [
        "#Train the model\n",
        "model.fit(x_train.values,y_train.values, validation_data= (x_val,y_val),epochs=10,batch_size=64)"
      ],
      "metadata": {
        "colab": {
          "base_uri": "https://localhost:8080/"
        },
        "id": "wF8Y1Da8gMgS",
        "outputId": "53a76a3d-5340-43bc-833c-7377925bfac2"
      },
      "execution_count": 39,
      "outputs": [
        {
          "output_type": "stream",
          "name": "stdout",
          "text": [
            "Epoch 1/10\n",
            "11444/11444 [==============================] - 22s 2ms/step - loss: 951.4963 - mean_absolute_error: 951.4963 - val_loss: 834.2987 - val_mean_absolute_error: 834.2987\n",
            "Epoch 2/10\n",
            "11444/11444 [==============================] - 24s 2ms/step - loss: 784.2559 - mean_absolute_error: 784.2559 - val_loss: 755.8135 - val_mean_absolute_error: 755.8135\n",
            "Epoch 3/10\n",
            "11444/11444 [==============================] - 35s 3ms/step - loss: 743.1320 - mean_absolute_error: 743.1320 - val_loss: 725.8081 - val_mean_absolute_error: 725.8081\n",
            "Epoch 4/10\n",
            "11444/11444 [==============================] - 23s 2ms/step - loss: 726.1894 - mean_absolute_error: 726.1894 - val_loss: 716.2162 - val_mean_absolute_error: 716.2162\n",
            "Epoch 5/10\n",
            "11444/11444 [==============================] - 20s 2ms/step - loss: 715.8778 - mean_absolute_error: 715.8778 - val_loss: 720.3157 - val_mean_absolute_error: 720.3157\n",
            "Epoch 6/10\n",
            "11444/11444 [==============================] - 20s 2ms/step - loss: 708.6689 - mean_absolute_error: 708.6689 - val_loss: 704.8931 - val_mean_absolute_error: 704.8931\n",
            "Epoch 7/10\n",
            "11444/11444 [==============================] - 20s 2ms/step - loss: 702.8449 - mean_absolute_error: 702.8449 - val_loss: 693.7685 - val_mean_absolute_error: 693.7685\n",
            "Epoch 8/10\n",
            "11444/11444 [==============================] - 23s 2ms/step - loss: 697.8657 - mean_absolute_error: 697.8657 - val_loss: 686.7367 - val_mean_absolute_error: 686.7367\n",
            "Epoch 9/10\n",
            "11444/11444 [==============================] - 20s 2ms/step - loss: 693.0672 - mean_absolute_error: 693.0672 - val_loss: 685.4967 - val_mean_absolute_error: 685.4967\n",
            "Epoch 10/10\n",
            "11444/11444 [==============================] - 20s 2ms/step - loss: 688.9693 - mean_absolute_error: 688.9693 - val_loss: 694.6386 - val_mean_absolute_error: 694.6386\n"
          ]
        },
        {
          "output_type": "execute_result",
          "data": {
            "text/plain": [
              "<keras.callbacks.History at 0x7fc1b36e7710>"
            ]
          },
          "metadata": {},
          "execution_count": 39
        }
      ]
    },
    {
      "cell_type": "markdown",
      "source": [
        "It takes a batch of 64 training samples in an iteration, passes \n",
        "each sample through the network, and measures the loss metric that we \n",
        "defined. It uses the optimization technique we configured to update the \n",
        "model weights and repeats till the last batch for one epoch. The entire \n",
        "process is repeated ten times, since we set number of epochs as ten. At the \n",
        "end of each epoch, the model uses the validation dataset to evaluate and \n",
        "report the metrics we configured."
      ],
      "metadata": {
        "id": "WSiEP6Q-ggsC"
      }
    },
    {
      "cell_type": "markdown",
      "source": [
        "The model performance on the validation dataset is 682 which is an approvement over the baseline "
      ],
      "metadata": {
        "id": "7Of4zYkkjXKz"
      }
    },
    {
      "cell_type": "code",
      "source": [
        " model.evaluate(x_test.values,y_test.values)"
      ],
      "metadata": {
        "colab": {
          "base_uri": "https://localhost:8080/"
        },
        "id": "HunLRjvXgfTW",
        "outputId": "3474a43d-21a1-406d-b9ad-b2eb8bf33495"
      },
      "execution_count": 40,
      "outputs": [
        {
          "output_type": "stream",
          "name": "stdout",
          "text": [
            "6358/6358 [==============================] - 10s 2ms/step - loss: 692.3152 - mean_absolute_error: 692.3152\n"
          ]
        },
        {
          "output_type": "execute_result",
          "data": {
            "text/plain": [
              "[692.315185546875, 692.315185546875]"
            ]
          },
          "metadata": {},
          "execution_count": 40
        }
      ]
    },
    {
      "cell_type": "markdown",
      "source": [
        "MAE on the test dataset is 679 which is quite close to the validation MAE."
      ],
      "metadata": {
        "id": "8cgxDi84kDZy"
      }
    },
    {
      "cell_type": "code",
      "source": [
        "model = Sequential()\n",
        "model.add(Dense(150,input_dim = 44,activation=\"relu\"))\n",
        "model.add(Dense(150,activation=\"relu\"))\n",
        "model.add(Dense(150,activation=\"relu\"))\n",
        "model.add(Dense(1,activation = \"linear\"))\n",
        "model.compile(optimizer='adam',loss=\"mean_squared_error\",metrics=[\"mean_absolute_error\"])\n",
        "history = model.fit(x_train,y_train, validation_data=(x_val, y_val),epochs=10,batch_size=64)"
      ],
      "metadata": {
        "id": "hQE8JNv3j4-M",
        "colab": {
          "base_uri": "https://localhost:8080/"
        },
        "outputId": "a2dd5370-7746-4a8b-a28a-3c405831cf74"
      },
      "execution_count": 41,
      "outputs": [
        {
          "output_type": "stream",
          "name": "stdout",
          "text": [
            "Epoch 1/10\n",
            "11444/11444 [==============================] - 35s 3ms/step - loss: 1671018.8750 - mean_absolute_error: 840.3069 - val_loss: 1315694.3750 - val_mean_absolute_error: 772.0560\n",
            "Epoch 2/10\n",
            "11444/11444 [==============================] - 33s 3ms/step - loss: 1156634.2500 - mean_absolute_error: 722.3026 - val_loss: 1061195.1250 - val_mean_absolute_error: 706.9557\n",
            "Epoch 3/10\n",
            "11444/11444 [==============================] - 33s 3ms/step - loss: 1085830.7500 - mean_absolute_error: 699.4799 - val_loss: 980576.8750 - val_mean_absolute_error: 668.6232\n",
            "Epoch 4/10\n",
            "11444/11444 [==============================] - 32s 3ms/step - loss: 1047253.0000 - mean_absolute_error: 686.5812 - val_loss: 983017.4375 - val_mean_absolute_error: 668.4520\n",
            "Epoch 5/10\n",
            "11444/11444 [==============================] - 36s 3ms/step - loss: 1025524.6250 - mean_absolute_error: 679.8506 - val_loss: 967631.7500 - val_mean_absolute_error: 669.1689\n",
            "Epoch 6/10\n",
            "11444/11444 [==============================] - 34s 3ms/step - loss: 1000650.9375 - mean_absolute_error: 672.3885 - val_loss: 1025333.1250 - val_mean_absolute_error: 691.6832\n",
            "Epoch 7/10\n",
            "11444/11444 [==============================] - 34s 3ms/step - loss: 977971.6875 - mean_absolute_error: 666.2678 - val_loss: 978890.3125 - val_mean_absolute_error: 661.8646\n",
            "Epoch 8/10\n",
            "11444/11444 [==============================] - 34s 3ms/step - loss: 960330.2500 - mean_absolute_error: 660.6844 - val_loss: 877475.7500 - val_mean_absolute_error: 638.1135\n",
            "Epoch 9/10\n",
            "11444/11444 [==============================] - 34s 3ms/step - loss: 943019.5625 - mean_absolute_error: 654.7196 - val_loss: 908377.5000 - val_mean_absolute_error: 646.1906\n",
            "Epoch 10/10\n",
            "11444/11444 [==============================] - 34s 3ms/step - loss: 925433.6875 - mean_absolute_error: 648.5417 - val_loss: 920282.6250 - val_mean_absolute_error: 659.4863\n"
          ]
        }
      ]
    },
    {
      "cell_type": "code",
      "source": [
        "model.evaluate(x_test,y_test)"
      ],
      "metadata": {
        "colab": {
          "base_uri": "https://localhost:8080/"
        },
        "id": "8yTgvw6W_oPl",
        "outputId": "4f51cb7e-dc61-40a2-96b2-b88ef36eb37e"
      },
      "execution_count": 42,
      "outputs": [
        {
          "output_type": "stream",
          "name": "stdout",
          "text": [
            "6358/6358 [==============================] - 8s 1ms/step - loss: 915060.2500 - mean_absolute_error: 655.0172\n"
          ]
        },
        {
          "output_type": "execute_result",
          "data": {
            "text/plain": [
              "[915060.25, 655.0172119140625]"
            ]
          },
          "metadata": {},
          "execution_count": 42
        }
      ]
    },
    {
      "cell_type": "markdown",
      "source": [
        "Increasing the layers reduced MAE to 645\n"
      ],
      "metadata": {
        "id": "8TRhOy-ADNbg"
      }
    },
    {
      "cell_type": "code",
      "source": [
        "model = Sequential()\n",
        "model.add(Dense(150,input_dim = 44,activation=\"relu\"))\n",
        "model.add(Dense(150,activation=\"relu\"))\n",
        "model.add(Dense(150,activation=\"relu\"))\n",
        "model.add(Dense(150,activation=\"relu\"))\n",
        "model.add(Dense(150,activation=\"relu\"))\n",
        "model.add(Dense(1,activation = \"linear\"))\n",
        "model.compile(optimizer='adam',loss=\"mean_squared_error\",metrics=[\"mean_absolute_error\"])"
      ],
      "metadata": {
        "id": "7DeFOd06_yBI"
      },
      "execution_count": 43,
      "outputs": []
    },
    {
      "cell_type": "code",
      "source": [
        "model.fit(x_train,y_train, validation_data=(x_val,y_val), epochs=15,batch_size=64)"
      ],
      "metadata": {
        "colab": {
          "base_uri": "https://localhost:8080/"
        },
        "id": "qY2IEt3J_7qI",
        "outputId": "7ffd8159-da01-4681-8807-97fce50f5a04"
      },
      "execution_count": 44,
      "outputs": [
        {
          "output_type": "stream",
          "name": "stdout",
          "text": [
            "Epoch 1/15\n",
            "11444/11444 [==============================] - 47s 4ms/step - loss: 1736466.7500 - mean_absolute_error: 859.5359 - val_loss: 1293762.2500 - val_mean_absolute_error: 764.4640\n",
            "Epoch 2/15\n",
            "11444/11444 [==============================] - 45s 4ms/step - loss: 1158545.8750 - mean_absolute_error: 721.3273 - val_loss: 1021371.6875 - val_mean_absolute_error: 685.8132\n",
            "Epoch 3/15\n",
            "11444/11444 [==============================] - 46s 4ms/step - loss: 1093673.0000 - mean_absolute_error: 700.1439 - val_loss: 1020136.8125 - val_mean_absolute_error: 690.0496\n",
            "Epoch 4/15\n",
            "11444/11444 [==============================] - 47s 4ms/step - loss: 1058501.7500 - mean_absolute_error: 689.0726 - val_loss: 1007379.1250 - val_mean_absolute_error: 674.7711\n",
            "Epoch 5/15\n",
            "11444/11444 [==============================] - 45s 4ms/step - loss: 1037958.3750 - mean_absolute_error: 682.1281 - val_loss: 1055982.3750 - val_mean_absolute_error: 677.2950\n",
            "Epoch 6/15\n",
            "11444/11444 [==============================] - 46s 4ms/step - loss: 1018830.8750 - mean_absolute_error: 676.0003 - val_loss: 983278.5000 - val_mean_absolute_error: 669.0640\n",
            "Epoch 7/15\n",
            "11444/11444 [==============================] - 45s 4ms/step - loss: 999693.3125 - mean_absolute_error: 671.5667 - val_loss: 1146003.7500 - val_mean_absolute_error: 717.5363\n",
            "Epoch 8/15\n",
            "11444/11444 [==============================] - 47s 4ms/step - loss: 984815.9375 - mean_absolute_error: 666.7178 - val_loss: 945903.3125 - val_mean_absolute_error: 658.4989\n",
            "Epoch 9/15\n",
            "11444/11444 [==============================] - 51s 4ms/step - loss: 961458.1875 - mean_absolute_error: 660.1843 - val_loss: 913599.0000 - val_mean_absolute_error: 652.1560\n",
            "Epoch 10/15\n",
            "11444/11444 [==============================] - 45s 4ms/step - loss: 954912.1875 - mean_absolute_error: 657.0663 - val_loss: 880331.6875 - val_mean_absolute_error: 636.4311\n",
            "Epoch 11/15\n",
            "11444/11444 [==============================] - 45s 4ms/step - loss: 928440.5625 - mean_absolute_error: 648.9811 - val_loss: 894414.5625 - val_mean_absolute_error: 651.6547\n",
            "Epoch 12/15\n",
            "11444/11444 [==============================] - 47s 4ms/step - loss: 914774.0625 - mean_absolute_error: 644.0146 - val_loss: 913265.0000 - val_mean_absolute_error: 640.4543\n",
            "Epoch 13/15\n",
            "11444/11444 [==============================] - 46s 4ms/step - loss: 902909.6875 - mean_absolute_error: 639.8566 - val_loss: 872222.7500 - val_mean_absolute_error: 633.4974\n",
            "Epoch 14/15\n",
            "11444/11444 [==============================] - 48s 4ms/step - loss: 888307.0000 - mean_absolute_error: 634.8950 - val_loss: 879040.4375 - val_mean_absolute_error: 641.6268\n",
            "Epoch 15/15\n",
            "11444/11444 [==============================] - 48s 4ms/step - loss: 878194.5625 - mean_absolute_error: 630.0410 - val_loss: 891402.5000 - val_mean_absolute_error: 634.8051\n"
          ]
        },
        {
          "output_type": "execute_result",
          "data": {
            "text/plain": [
              "<keras.callbacks.History at 0x7fc1b3302510>"
            ]
          },
          "metadata": {},
          "execution_count": 44
        }
      ]
    },
    {
      "cell_type": "code",
      "source": [
        " model.evaluate(x_test,y_test)"
      ],
      "metadata": {
        "colab": {
          "base_uri": "https://localhost:8080/"
        },
        "id": "B-lCLuV0__BQ",
        "outputId": "eed03aa1-6096-4212-87f3-db9313884756"
      },
      "execution_count": 45,
      "outputs": [
        {
          "output_type": "stream",
          "name": "stdout",
          "text": [
            "6358/6358 [==============================] - 9s 1ms/step - loss: 891845.9375 - mean_absolute_error: 631.4987\n"
          ]
        },
        {
          "output_type": "execute_result",
          "data": {
            "text/plain": [
              "[891845.9375, 631.4986572265625]"
            ]
          },
          "metadata": {},
          "execution_count": 45
        }
      ]
    },
    {
      "cell_type": "markdown",
      "source": [
        "MAE further reduced to 612 when the model made more deep."
      ],
      "metadata": {
        "id": "R05iwi0-Etws"
      }
    },
    {
      "cell_type": "markdown",
      "source": [
        "Increasing the number of neurons"
      ],
      "metadata": {
        "id": "mBy6RbN-rLiN"
      }
    },
    {
      "cell_type": "code",
      "source": [
        "model = Sequential()\n",
        "model.add(Dense(350,input_dim = 44,activation=\"relu\"))\n",
        "model.add(Dense(350,activation=\"relu\"))\n",
        "model.add(Dense(1,activation = \"linear\"))\n",
        "model.compile(optimizer='adam',loss=\"mean_squared_error\",metrics=[\"mean_absolute_error\"])"
      ],
      "metadata": {
        "id": "RgMmOlI0ACs5"
      },
      "execution_count": 46,
      "outputs": []
    },
    {
      "cell_type": "code",
      "source": [
        "model.fit(x_train,y_train, validation_data=(x_val,y_val), epochs=15,batch_size=64)"
      ],
      "metadata": {
        "colab": {
          "base_uri": "https://localhost:8080/"
        },
        "id": "5zwTrveurVdn",
        "outputId": "2f1e670f-1897-44db-de32-ca9f3031a76a"
      },
      "execution_count": 47,
      "outputs": [
        {
          "output_type": "stream",
          "name": "stdout",
          "text": [
            "Epoch 1/15\n",
            "11444/11444 [==============================] - 48s 4ms/step - loss: 1696685.1250 - mean_absolute_error: 848.9038 - val_loss: 1207655.1250 - val_mean_absolute_error: 754.0774\n",
            "Epoch 2/15\n",
            "11444/11444 [==============================] - 46s 4ms/step - loss: 1152136.8750 - mean_absolute_error: 723.8721 - val_loss: 1199095.5000 - val_mean_absolute_error: 730.2605\n",
            "Epoch 3/15\n",
            "11444/11444 [==============================] - 47s 4ms/step - loss: 1085324.7500 - mean_absolute_error: 700.1949 - val_loss: 1053055.2500 - val_mean_absolute_error: 700.9024\n",
            "Epoch 4/15\n",
            "11444/11444 [==============================] - 48s 4ms/step - loss: 1051166.3750 - mean_absolute_error: 687.9041 - val_loss: 1118118.3750 - val_mean_absolute_error: 701.9731\n",
            "Epoch 5/15\n",
            "11444/11444 [==============================] - 48s 4ms/step - loss: 1026095.9375 - mean_absolute_error: 679.4755 - val_loss: 983288.6250 - val_mean_absolute_error: 668.5748\n",
            "Epoch 6/15\n",
            "11444/11444 [==============================] - 48s 4ms/step - loss: 1009668.6875 - mean_absolute_error: 674.2710 - val_loss: 985597.0625 - val_mean_absolute_error: 666.9180\n",
            "Epoch 7/15\n",
            "11444/11444 [==============================] - 49s 4ms/step - loss: 990490.5625 - mean_absolute_error: 668.1774 - val_loss: 934199.6875 - val_mean_absolute_error: 654.1655\n",
            "Epoch 8/15\n",
            "11444/11444 [==============================] - 48s 4ms/step - loss: 972975.0000 - mean_absolute_error: 663.1877 - val_loss: 944482.9375 - val_mean_absolute_error: 661.2944\n",
            "Epoch 9/15\n",
            "11444/11444 [==============================] - 47s 4ms/step - loss: 957217.3750 - mean_absolute_error: 658.0482 - val_loss: 951867.8750 - val_mean_absolute_error: 658.3010\n",
            "Epoch 10/15\n",
            "11444/11444 [==============================] - 46s 4ms/step - loss: 944173.0625 - mean_absolute_error: 654.0879 - val_loss: 891055.3125 - val_mean_absolute_error: 639.9974\n",
            "Epoch 11/15\n",
            "11444/11444 [==============================] - 48s 4ms/step - loss: 930310.0000 - mean_absolute_error: 650.1580 - val_loss: 984802.5000 - val_mean_absolute_error: 680.2993\n",
            "Epoch 12/15\n",
            "11444/11444 [==============================] - 48s 4ms/step - loss: 916355.0625 - mean_absolute_error: 645.7244 - val_loss: 904792.1250 - val_mean_absolute_error: 649.7266\n",
            "Epoch 13/15\n",
            "11444/11444 [==============================] - 48s 4ms/step - loss: 909923.5625 - mean_absolute_error: 643.4979 - val_loss: 873677.0000 - val_mean_absolute_error: 632.9135\n",
            "Epoch 14/15\n",
            "11444/11444 [==============================] - 48s 4ms/step - loss: 896698.6250 - mean_absolute_error: 638.7441 - val_loss: 934652.8750 - val_mean_absolute_error: 661.5776\n",
            "Epoch 15/15\n",
            "11444/11444 [==============================] - 51s 4ms/step - loss: 886162.6875 - mean_absolute_error: 635.4636 - val_loss: 884320.7500 - val_mean_absolute_error: 645.3338\n"
          ]
        },
        {
          "output_type": "execute_result",
          "data": {
            "text/plain": [
              "<keras.callbacks.History at 0x7fc1b31677d0>"
            ]
          },
          "metadata": {},
          "execution_count": 47
        }
      ]
    },
    {
      "cell_type": "code",
      "source": [
        " model.evaluate(x_test,y_test)"
      ],
      "metadata": {
        "colab": {
          "base_uri": "https://localhost:8080/"
        },
        "id": "WOffisiUraSA",
        "outputId": "09cf9b66-2821-4092-d86c-fceede515065"
      },
      "execution_count": 48,
      "outputs": [
        {
          "output_type": "stream",
          "name": "stdout",
          "text": [
            "6358/6358 [==============================] - 11s 2ms/step - loss: 883886.5000 - mean_absolute_error: 642.3463\n"
          ]
        },
        {
          "output_type": "execute_result",
          "data": {
            "text/plain": [
              "[883886.5, 642.3462524414062]"
            ]
          },
          "metadata": {},
          "execution_count": 48
        }
      ]
    },
    {
      "cell_type": "code",
      "source": [
        "from keras.callbacks import History\n",
        "history = History()\n",
        "model = Sequential()\n",
        "model.add(Dense(350,input_dim = 44,activation=\"relu\"))\n",
        "model.add(Dense(350,activation=\"relu\"))\n",
        "model.add(Dense(350,activation=\"relu\"))\n",
        "model.add(Dense(350,activation=\"relu\"))\n",
        "model.add(Dense(350,activation=\"relu\"))\n",
        "model.add(Dense(1,activation = \"linear\"))\n",
        "model.compile(optimizer='adam',loss=\"mean_squared_error\",metrics=[\"mean_absolute_error\"])\n",
        "model.fit(x_train,y_train, validation_data=(x_val,y_val),epochs=15,batch_size=64,callbacks=[history])"
      ],
      "metadata": {
        "colab": {
          "base_uri": "https://localhost:8080/"
        },
        "id": "EitSmcsWrdBF",
        "outputId": "7fe25768-646a-48d5-84aa-cf6b61f3ac60"
      },
      "execution_count": 49,
      "outputs": [
        {
          "output_type": "stream",
          "name": "stdout",
          "text": [
            "Epoch 1/15\n",
            "11444/11444 [==============================] - 118s 10ms/step - loss: 1664839.0000 - mean_absolute_error: 847.6179 - val_loss: 1152152.5000 - val_mean_absolute_error: 731.7709\n",
            "Epoch 2/15\n",
            "11444/11444 [==============================] - 120s 10ms/step - loss: 1171831.2500 - mean_absolute_error: 725.3243 - val_loss: 1086803.2500 - val_mean_absolute_error: 692.4719\n",
            "Epoch 3/15\n",
            "11444/11444 [==============================] - 123s 11ms/step - loss: 1112769.3750 - mean_absolute_error: 705.6165 - val_loss: 1070786.2500 - val_mean_absolute_error: 697.7535\n",
            "Epoch 4/15\n",
            "11444/11444 [==============================] - 124s 11ms/step - loss: 1070044.7500 - mean_absolute_error: 692.1894 - val_loss: 1056589.0000 - val_mean_absolute_error: 689.2635\n",
            "Epoch 5/15\n",
            "11444/11444 [==============================] - 125s 11ms/step - loss: 1037239.9375 - mean_absolute_error: 681.6841 - val_loss: 1140701.7500 - val_mean_absolute_error: 711.9231\n",
            "Epoch 6/15\n",
            "11444/11444 [==============================] - 123s 11ms/step - loss: 1014434.6875 - mean_absolute_error: 675.8745 - val_loss: 1259135.3750 - val_mean_absolute_error: 755.4215\n",
            "Epoch 7/15\n",
            "11444/11444 [==============================] - 121s 11ms/step - loss: 995945.0000 - mean_absolute_error: 670.4847 - val_loss: 914457.6875 - val_mean_absolute_error: 648.2822\n",
            "Epoch 8/15\n",
            "11444/11444 [==============================] - 121s 11ms/step - loss: 967742.7500 - mean_absolute_error: 661.7769 - val_loss: 1061287.6250 - val_mean_absolute_error: 681.3739\n",
            "Epoch 9/15\n",
            "11444/11444 [==============================] - 123s 11ms/step - loss: 944880.1250 - mean_absolute_error: 654.7393 - val_loss: 930006.5000 - val_mean_absolute_error: 651.9080\n",
            "Epoch 10/15\n",
            "11444/11444 [==============================] - 121s 11ms/step - loss: 921643.8750 - mean_absolute_error: 647.0240 - val_loss: 861341.8125 - val_mean_absolute_error: 629.0313\n",
            "Epoch 11/15\n",
            "11444/11444 [==============================] - 118s 10ms/step - loss: 906030.3125 - mean_absolute_error: 640.8117 - val_loss: 855919.1875 - val_mean_absolute_error: 630.5241\n",
            "Epoch 12/15\n",
            "11444/11444 [==============================] - 117s 10ms/step - loss: 887992.1875 - mean_absolute_error: 633.5772 - val_loss: 848806.6250 - val_mean_absolute_error: 622.8764\n",
            "Epoch 13/15\n",
            "11444/11444 [==============================] - 120s 10ms/step - loss: 873097.3750 - mean_absolute_error: 627.8118 - val_loss: 935521.1250 - val_mean_absolute_error: 667.1570\n",
            "Epoch 14/15\n",
            "11444/11444 [==============================] - 117s 10ms/step - loss: 860706.0625 - mean_absolute_error: 623.3409 - val_loss: 836638.5000 - val_mean_absolute_error: 615.4838\n",
            "Epoch 15/15\n",
            "11444/11444 [==============================] - 114s 10ms/step - loss: 849848.6250 - mean_absolute_error: 618.9349 - val_loss: 859976.3125 - val_mean_absolute_error: 628.5104\n"
          ]
        },
        {
          "output_type": "execute_result",
          "data": {
            "text/plain": [
              "<keras.callbacks.History at 0x7fc1b30275d0>"
            ]
          },
          "metadata": {},
          "execution_count": 49
        }
      ]
    },
    {
      "cell_type": "code",
      "source": [
        "model.evaluate(x_test,y_test)"
      ],
      "metadata": {
        "colab": {
          "base_uri": "https://localhost:8080/"
        },
        "id": "HA0gpJs6rsjf",
        "outputId": "b09eaa53-1813-498e-c531-985cd0546959"
      },
      "execution_count": 50,
      "outputs": [
        {
          "output_type": "stream",
          "name": "stdout",
          "text": [
            "6358/6358 [==============================] - 15s 2ms/step - loss: 855779.7500 - mean_absolute_error: 624.2154\n"
          ]
        },
        {
          "output_type": "execute_result",
          "data": {
            "text/plain": [
              "[855779.75, 624.2153930664062]"
            ]
          },
          "metadata": {},
          "execution_count": 50
        }
      ]
    },
    {
      "cell_type": "code",
      "source": [
        "plt.plot(history.history['loss'])\n",
        "plt.plot(history.history['val_loss'])\n",
        "plt.title(\"Model's Training & Validation loss across epochs\")\n",
        "plt.ylabel('Loss')\n",
        "plt.xlabel('Epochs')\n",
        "plt.legend(['Train', 'Validation'], loc='upper right')\n",
        "plt.show()"
      ],
      "metadata": {
        "colab": {
          "base_uri": "https://localhost:8080/",
          "height": 301
        },
        "id": "POx87Qjnrw0r",
        "outputId": "9d9cae0c-a56e-45a6-cc79-82e2ec398ee4"
      },
      "execution_count": 51,
      "outputs": [
        {
          "output_type": "display_data",
          "data": {
            "image/png": "[encoded data removed]",
            "text/plain": [
              "<Figure size 432x288 with 1 Axes>"
            ]
          },
          "metadata": {}
        }
      ]
    },
    {
      "cell_type": "code",
      "source": [
        "#Manually predicting from the model, instead of using model's evaluate function\n",
        "y_test[\"Prediction\"] = model.predict(x_test)\n",
        "y_test.columns = [\"Actual Sales\",\"Predicted Sales\"]\n",
        "print(y_test.head(10))"
      ],
      "metadata": {
        "colab": {
          "base_uri": "https://localhost:8080/"
        },
        "id": "PFQheFKQr36w",
        "outputId": "f2cedf75-447c-484f-ac4e-77c734b49168"
      },
      "execution_count": 52,
      "outputs": [
        {
          "output_type": "stream",
          "name": "stdout",
          "text": [
            "        Actual Sales  Predicted Sales\n",
            "115563             0         0.181650\n",
            "832654             0        53.938805\n",
            "769112          2933      3254.878418\n",
            "350588          8602      7901.149414\n",
            "141556          6975      6439.472168\n",
            "84435           9239      9296.075195\n",
            "53018              0         0.181650\n",
            "262419             0         0.181650\n",
            "702267          5885      5705.065918\n",
            "981431             0         0.181650\n"
          ]
        }
      ]
    },
    {
      "cell_type": "code",
      "source": [
        "#Manually predicting from the model, instead of using model's evaluate function\n",
        "from sklearn.metrics import mean_squared_error, mean_absolute_error\n",
        "print(\"MSE :\",mean_squared_error(y_test[\"Actual Sales\"].values,y_test[\"Predicted Sales\"].values))\n",
        "print(\"MAE :\",mean_absolute_error(y_test[\"Actual Sales\"].values,y_test[\"Predicted Sales\"].values))"
      ],
      "metadata": {
        "colab": {
          "base_uri": "https://localhost:8080/"
        },
        "id": "7rOHsrtar7Zy",
        "outputId": "a5bd26a2-cf47-4992-f072-4d3b05619ff9"
      },
      "execution_count": 53,
      "outputs": [
        {
          "output_type": "stream",
          "name": "stdout",
          "text": [
            "MSE : 855780.3779383528\n",
            "MAE : 624.2156200145511\n"
          ]
        }
      ]
    },
    {
      "cell_type": "markdown",
      "source": [
        "#### Reference Book: Learn Keras for Deep Neural Networks by Jojo Moolayil\n",
        "\n"
      ],
      "metadata": {
        "id": "8SyM5UcPCpJG"
      }
    },
    {
      "cell_type": "code",
      "source": [
        ""
      ],
      "metadata": {
        "id": "rFWhzaGu9r59"
      },
      "execution_count": 53,
      "outputs": []
    }
  ]
}