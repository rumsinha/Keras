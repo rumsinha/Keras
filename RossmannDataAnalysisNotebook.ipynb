{
  "nbformat": 4,
  "nbformat_minor": 0,
  "metadata": {
    "colab": {
      "name": "RossmannDataAnalysisNotebook.ipynb",
      "provenance": [],
      "collapsed_sections": []
    },
    "kernelspec": {
      "name": "python3",
      "display_name": "Python 3"
    },
    "language_info": {
      "name": "python"
    }
  },
  "cells": [
    {
      "cell_type": "code",
      "execution_count": 1,
      "metadata": {
        "id": "WOMkt70Ef403"
      },
      "outputs": [],
      "source": [
        "import pandas as pd\n",
        "import numpy as np"
      ]
    },
    {
      "cell_type": "code",
      "source": [
        "train_df = pd.read_csv(\"/content/drive/MyDrive/rossmann-store-sales/train.csv\")\n",
        "train_df.shape"
      ],
      "metadata": {
        "colab": {
          "base_uri": "https://localhost:8080/"
        },
        "id": "Bby0_4GugEFS",
        "outputId": "387619e9-ddf9-49cb-91f5-e0e780f0217c"
      },
      "execution_count": 2,
      "outputs": [
        {
          "output_type": "stream",
          "name": "stderr",
          "text": [
            "/usr/local/lib/python3.7/dist-packages/IPython/core/interactiveshell.py:2718: DtypeWarning: Columns (7) have mixed types.Specify dtype option on import or set low_memory=False.\n",
            "  interactivity=interactivity, compiler=compiler, result=result)\n"
          ]
        },
        {
          "output_type": "execute_result",
          "data": {
            "text/plain": [
              "(1017209, 9)"
            ]
          },
          "metadata": {},
          "execution_count": 2
        }
      ]
    },
    {
      "cell_type": "code",
      "source": [
        "train_df.head()"
      ],
      "metadata": {
        "colab": {
          "base_uri": "https://localhost:8080/",
          "height": 206
        },
        "id": "S-DfGApMgP7S",
        "outputId": "123d4ee9-53b0-4c3c-ab4f-212558bf2ecc"
      },
      "execution_count": 3,
      "outputs": [
        {
          "output_type": "execute_result",
          "data": {
            "text/html": [
              "\n",
              "  <div id=\"df-0de2b118-d740-47d2-94db-db59c49a75c8\">\n",
              "    <div class=\"colab-df-container\">\n",
              "      <div>\n",
              "<style scoped>\n",
              "    .dataframe tbody tr th:only-of-type {\n",
              "        vertical-align: middle;\n",
              "    }\n",
              "\n",
              "    .dataframe tbody tr th {\n",
              "        vertical-align: top;\n",
              "    }\n",
              "\n",
              "    .dataframe thead th {\n",
              "        text-align: right;\n",
              "    }\n",
              "</style>\n",
              "<table border=\"1\" class=\"dataframe\">\n",
              "  <thead>\n",
              "    <tr style=\"text-align: right;\">\n",
              "      <th></th>\n",
              "      <th>Store</th>\n",
              "      <th>DayOfWeek</th>\n",
              "      <th>Date</th>\n",
              "      <th>Sales</th>\n",
              "      <th>Customers</th>\n",
              "      <th>Open</th>\n",
              "      <th>Promo</th>\n",
              "      <th>StateHoliday</th>\n",
              "      <th>SchoolHoliday</th>\n",
              "    </tr>\n",
              "  </thead>\n",
              "  <tbody>\n",
              "    <tr>\n",
              "      <th>0</th>\n",
              "      <td>1</td>\n",
              "      <td>5</td>\n",
              "      <td>2015-07-31</td>\n",
              "      <td>5263</td>\n",
              "      <td>555</td>\n",
              "      <td>1</td>\n",
              "      <td>1</td>\n",
              "      <td>0</td>\n",
              "      <td>1</td>\n",
              "    </tr>\n",
              "    <tr>\n",
              "      <th>1</th>\n",
              "      <td>2</td>\n",
              "      <td>5</td>\n",
              "      <td>2015-07-31</td>\n",
              "      <td>6064</td>\n",
              "      <td>625</td>\n",
              "      <td>1</td>\n",
              "      <td>1</td>\n",
              "      <td>0</td>\n",
              "      <td>1</td>\n",
              "    </tr>\n",
              "    <tr>\n",
              "      <th>2</th>\n",
              "      <td>3</td>\n",
              "      <td>5</td>\n",
              "      <td>2015-07-31</td>\n",
              "      <td>8314</td>\n",
              "      <td>821</td>\n",
              "      <td>1</td>\n",
              "      <td>1</td>\n",
              "      <td>0</td>\n",
              "      <td>1</td>\n",
              "    </tr>\n",
              "    <tr>\n",
              "      <th>3</th>\n",
              "      <td>4</td>\n",
              "      <td>5</td>\n",
              "      <td>2015-07-31</td>\n",
              "      <td>13995</td>\n",
              "      <td>1498</td>\n",
              "      <td>1</td>\n",
              "      <td>1</td>\n",
              "      <td>0</td>\n",
              "      <td>1</td>\n",
              "    </tr>\n",
              "    <tr>\n",
              "      <th>4</th>\n",
              "      <td>5</td>\n",
              "      <td>5</td>\n",
              "      <td>2015-07-31</td>\n",
              "      <td>4822</td>\n",
              "      <td>559</td>\n",
              "      <td>1</td>\n",
              "      <td>1</td>\n",
              "      <td>0</td>\n",
              "      <td>1</td>\n",
              "    </tr>\n",
              "  </tbody>\n",
              "</table>\n",
              "</div>\n",
              "      <button class=\"colab-df-convert\" onclick=\"convertToInteractive('df-0de2b118-d740-47d2-94db-db59c49a75c8')\"\n",
              "              title=\"Convert this dataframe to an interactive table.\"\n",
              "              style=\"display:none;\">\n",
              "        \n",
              "  <svg xmlns=\"http://www.w3.org/2000/svg\" height=\"24px\"viewBox=\"0 0 24 24\"\n",
              "       width=\"24px\">\n",
              "    <path d=\"M0 0h24v24H0V0z\" fill=\"none\"/>\n",
              "    <path d=\"M18.56 5.44l.94 2.06.94-2.06 2.06-.94-2.06-.94-.94-2.06-.94 2.06-2.06.94zm-11 1L8.5 8.5l.94-2.06 2.06-.94-2.06-.94L8.5 2.5l-.94 2.06-2.06.94zm10 10l.94 2.06.94-2.06 2.06-.94-2.06-.94-.94-2.06-.94 2.06-2.06.94z\"/><path d=\"M17.41 7.96l-1.37-1.37c-.4-.4-.92-.59-1.43-.59-.52 0-1.04.2-1.43.59L10.3 9.45l-7.72 7.72c-.78.78-.78 2.05 0 2.83L4 21.41c.39.39.9.59 1.41.59.51 0 1.02-.2 1.41-.59l7.78-7.78 2.81-2.81c.8-.78.8-2.07 0-2.86zM5.41 20L4 18.59l7.72-7.72 1.47 1.35L5.41 20z\"/>\n",
              "  </svg>\n",
              "      </button>\n",
              "      \n",
              "  <style>\n",
              "    .colab-df-container {\n",
              "      display:flex;\n",
              "      flex-wrap:wrap;\n",
              "      gap: 12px;\n",
              "    }\n",
              "\n",
              "    .colab-df-convert {\n",
              "      background-color: #E8F0FE;\n",
              "      border: none;\n",
              "      border-radius: 50%;\n",
              "      cursor: pointer;\n",
              "      display: none;\n",
              "      fill: #1967D2;\n",
              "      height: 32px;\n",
              "      padding: 0 0 0 0;\n",
              "      width: 32px;\n",
              "    }\n",
              "\n",
              "    .colab-df-convert:hover {\n",
              "      background-color: #E2EBFA;\n",
              "      box-shadow: 0px 1px 2px rgba(60, 64, 67, 0.3), 0px 1px 3px 1px rgba(60, 64, 67, 0.15);\n",
              "      fill: #174EA6;\n",
              "    }\n",
              "\n",
              "    [theme=dark] .colab-df-convert {\n",
              "      background-color: #3B4455;\n",
              "      fill: #D2E3FC;\n",
              "    }\n",
              "\n",
              "    [theme=dark] .colab-df-convert:hover {\n",
              "      background-color: #434B5C;\n",
              "      box-shadow: 0px 1px 3px 1px rgba(0, 0, 0, 0.15);\n",
              "      filter: drop-shadow(0px 1px 2px rgba(0, 0, 0, 0.3));\n",
              "      fill: #FFFFFF;\n",
              "    }\n",
              "  </style>\n",
              "\n",
              "      <script>\n",
              "        const buttonEl =\n",
              "          document.querySelector('#df-0de2b118-d740-47d2-94db-db59c49a75c8 button.colab-df-convert');\n",
              "        buttonEl.style.display =\n",
              "          google.colab.kernel.accessAllowed ? 'block' : 'none';\n",
              "\n",
              "        async function convertToInteractive(key) {\n",
              "          const element = document.querySelector('#df-0de2b118-d740-47d2-94db-db59c49a75c8');\n",
              "          const dataTable =\n",
              "            await google.colab.kernel.invokeFunction('convertToInteractive',\n",
              "                                                     [key], {});\n",
              "          if (!dataTable) return;\n",
              "\n",
              "          const docLinkHtml = 'Like what you see? Visit the ' +\n",
              "            '<a target=\"_blank\" href=https://colab.research.google.com/notebooks/data_table.ipynb>data table notebook</a>'\n",
              "            + ' to learn more about interactive tables.';\n",
              "          element.innerHTML = '';\n",
              "          dataTable['output_type'] = 'display_data';\n",
              "          await google.colab.output.renderOutput(dataTable, element);\n",
              "          const docLink = document.createElement('div');\n",
              "          docLink.innerHTML = docLinkHtml;\n",
              "          element.appendChild(docLink);\n",
              "        }\n",
              "      </script>\n",
              "    </div>\n",
              "  </div>\n",
              "  "
            ],
            "text/plain": [
              "   Store  DayOfWeek        Date  Sales  ...  Open  Promo  StateHoliday SchoolHoliday\n",
              "0      1          5  2015-07-31   5263  ...     1      1             0             1\n",
              "1      2          5  2015-07-31   6064  ...     1      1             0             1\n",
              "2      3          5  2015-07-31   8314  ...     1      1             0             1\n",
              "3      4          5  2015-07-31  13995  ...     1      1             0             1\n",
              "4      5          5  2015-07-31   4822  ...     1      1             0             1\n",
              "\n",
              "[5 rows x 9 columns]"
            ]
          },
          "metadata": {},
          "execution_count": 3
        }
      ]
    },
    {
      "cell_type": "code",
      "source": [
        "store_df = pd.read_csv(\"/content/drive/MyDrive/rossmann-store-sales/store.csv\")\n",
        "store_df.shape"
      ],
      "metadata": {
        "colab": {
          "base_uri": "https://localhost:8080/"
        },
        "id": "0wsNzNlsgR1l",
        "outputId": "13278f2d-4f14-4332-f70e-1c7ef7187ca8"
      },
      "execution_count": 4,
      "outputs": [
        {
          "output_type": "execute_result",
          "data": {
            "text/plain": [
              "(1115, 10)"
            ]
          },
          "metadata": {},
          "execution_count": 4
        }
      ]
    },
    {
      "cell_type": "code",
      "source": [
        "store_df.head()"
      ],
      "metadata": {
        "colab": {
          "base_uri": "https://localhost:8080/",
          "height": 270
        },
        "id": "5i_gI1Dvgj8-",
        "outputId": "5646dc7c-f4d5-41a4-ea68-df9f0c487b67"
      },
      "execution_count": 5,
      "outputs": [
        {
          "output_type": "execute_result",
          "data": {
            "text/html": [
              "\n",
              "  <div id=\"df-40bf908f-e13b-4c71-a0d5-c0ff47d0dc37\">\n",
              "    <div class=\"colab-df-container\">\n",
              "      <div>\n",
              "<style scoped>\n",
              "    .dataframe tbody tr th:only-of-type {\n",
              "        vertical-align: middle;\n",
              "    }\n",
              "\n",
              "    .dataframe tbody tr th {\n",
              "        vertical-align: top;\n",
              "    }\n",
              "\n",
              "    .dataframe thead th {\n",
              "        text-align: right;\n",
              "    }\n",
              "</style>\n",
              "<table border=\"1\" class=\"dataframe\">\n",
              "  <thead>\n",
              "    <tr style=\"text-align: right;\">\n",
              "      <th></th>\n",
              "      <th>Store</th>\n",
              "      <th>StoreType</th>\n",
              "      <th>Assortment</th>\n",
              "      <th>CompetitionDistance</th>\n",
              "      <th>CompetitionOpenSinceMonth</th>\n",
              "      <th>CompetitionOpenSinceYear</th>\n",
              "      <th>Promo2</th>\n",
              "      <th>Promo2SinceWeek</th>\n",
              "      <th>Promo2SinceYear</th>\n",
              "      <th>PromoInterval</th>\n",
              "    </tr>\n",
              "  </thead>\n",
              "  <tbody>\n",
              "    <tr>\n",
              "      <th>0</th>\n",
              "      <td>1</td>\n",
              "      <td>c</td>\n",
              "      <td>a</td>\n",
              "      <td>1270.0</td>\n",
              "      <td>9.0</td>\n",
              "      <td>2008.0</td>\n",
              "      <td>0</td>\n",
              "      <td>NaN</td>\n",
              "      <td>NaN</td>\n",
              "      <td>NaN</td>\n",
              "    </tr>\n",
              "    <tr>\n",
              "      <th>1</th>\n",
              "      <td>2</td>\n",
              "      <td>a</td>\n",
              "      <td>a</td>\n",
              "      <td>570.0</td>\n",
              "      <td>11.0</td>\n",
              "      <td>2007.0</td>\n",
              "      <td>1</td>\n",
              "      <td>13.0</td>\n",
              "      <td>2010.0</td>\n",
              "      <td>Jan,Apr,Jul,Oct</td>\n",
              "    </tr>\n",
              "    <tr>\n",
              "      <th>2</th>\n",
              "      <td>3</td>\n",
              "      <td>a</td>\n",
              "      <td>a</td>\n",
              "      <td>14130.0</td>\n",
              "      <td>12.0</td>\n",
              "      <td>2006.0</td>\n",
              "      <td>1</td>\n",
              "      <td>14.0</td>\n",
              "      <td>2011.0</td>\n",
              "      <td>Jan,Apr,Jul,Oct</td>\n",
              "    </tr>\n",
              "    <tr>\n",
              "      <th>3</th>\n",
              "      <td>4</td>\n",
              "      <td>c</td>\n",
              "      <td>c</td>\n",
              "      <td>620.0</td>\n",
              "      <td>9.0</td>\n",
              "      <td>2009.0</td>\n",
              "      <td>0</td>\n",
              "      <td>NaN</td>\n",
              "      <td>NaN</td>\n",
              "      <td>NaN</td>\n",
              "    </tr>\n",
              "    <tr>\n",
              "      <th>4</th>\n",
              "      <td>5</td>\n",
              "      <td>a</td>\n",
              "      <td>a</td>\n",
              "      <td>29910.0</td>\n",
              "      <td>4.0</td>\n",
              "      <td>2015.0</td>\n",
              "      <td>0</td>\n",
              "      <td>NaN</td>\n",
              "      <td>NaN</td>\n",
              "      <td>NaN</td>\n",
              "    </tr>\n",
              "  </tbody>\n",
              "</table>\n",
              "</div>\n",
              "      <button class=\"colab-df-convert\" onclick=\"convertToInteractive('df-40bf908f-e13b-4c71-a0d5-c0ff47d0dc37')\"\n",
              "              title=\"Convert this dataframe to an interactive table.\"\n",
              "              style=\"display:none;\">\n",
              "        \n",
              "  <svg xmlns=\"http://www.w3.org/2000/svg\" height=\"24px\"viewBox=\"0 0 24 24\"\n",
              "       width=\"24px\">\n",
              "    <path d=\"M0 0h24v24H0V0z\" fill=\"none\"/>\n",
              "    <path d=\"M18.56 5.44l.94 2.06.94-2.06 2.06-.94-2.06-.94-.94-2.06-.94 2.06-2.06.94zm-11 1L8.5 8.5l.94-2.06 2.06-.94-2.06-.94L8.5 2.5l-.94 2.06-2.06.94zm10 10l.94 2.06.94-2.06 2.06-.94-2.06-.94-.94-2.06-.94 2.06-2.06.94z\"/><path d=\"M17.41 7.96l-1.37-1.37c-.4-.4-.92-.59-1.43-.59-.52 0-1.04.2-1.43.59L10.3 9.45l-7.72 7.72c-.78.78-.78 2.05 0 2.83L4 21.41c.39.39.9.59 1.41.59.51 0 1.02-.2 1.41-.59l7.78-7.78 2.81-2.81c.8-.78.8-2.07 0-2.86zM5.41 20L4 18.59l7.72-7.72 1.47 1.35L5.41 20z\"/>\n",
              "  </svg>\n",
              "      </button>\n",
              "      \n",
              "  <style>\n",
              "    .colab-df-container {\n",
              "      display:flex;\n",
              "      flex-wrap:wrap;\n",
              "      gap: 12px;\n",
              "    }\n",
              "\n",
              "    .colab-df-convert {\n",
              "      background-color: #E8F0FE;\n",
              "      border: none;\n",
              "      border-radius: 50%;\n",
              "      cursor: pointer;\n",
              "      display: none;\n",
              "      fill: #1967D2;\n",
              "      height: 32px;\n",
              "      padding: 0 0 0 0;\n",
              "      width: 32px;\n",
              "    }\n",
              "\n",
              "    .colab-df-convert:hover {\n",
              "      background-color: #E2EBFA;\n",
              "      box-shadow: 0px 1px 2px rgba(60, 64, 67, 0.3), 0px 1px 3px 1px rgba(60, 64, 67, 0.15);\n",
              "      fill: #174EA6;\n",
              "    }\n",
              "\n",
              "    [theme=dark] .colab-df-convert {\n",
              "      background-color: #3B4455;\n",
              "      fill: #D2E3FC;\n",
              "    }\n",
              "\n",
              "    [theme=dark] .colab-df-convert:hover {\n",
              "      background-color: #434B5C;\n",
              "      box-shadow: 0px 1px 3px 1px rgba(0, 0, 0, 0.15);\n",
              "      filter: drop-shadow(0px 1px 2px rgba(0, 0, 0, 0.3));\n",
              "      fill: #FFFFFF;\n",
              "    }\n",
              "  </style>\n",
              "\n",
              "      <script>\n",
              "        const buttonEl =\n",
              "          document.querySelector('#df-40bf908f-e13b-4c71-a0d5-c0ff47d0dc37 button.colab-df-convert');\n",
              "        buttonEl.style.display =\n",
              "          google.colab.kernel.accessAllowed ? 'block' : 'none';\n",
              "\n",
              "        async function convertToInteractive(key) {\n",
              "          const element = document.querySelector('#df-40bf908f-e13b-4c71-a0d5-c0ff47d0dc37');\n",
              "          const dataTable =\n",
              "            await google.colab.kernel.invokeFunction('convertToInteractive',\n",
              "                                                     [key], {});\n",
              "          if (!dataTable) return;\n",
              "\n",
              "          const docLinkHtml = 'Like what you see? Visit the ' +\n",
              "            '<a target=\"_blank\" href=https://colab.research.google.com/notebooks/data_table.ipynb>data table notebook</a>'\n",
              "            + ' to learn more about interactive tables.';\n",
              "          element.innerHTML = '';\n",
              "          dataTable['output_type'] = 'display_data';\n",
              "          await google.colab.output.renderOutput(dataTable, element);\n",
              "          const docLink = document.createElement('div');\n",
              "          docLink.innerHTML = docLinkHtml;\n",
              "          element.appendChild(docLink);\n",
              "        }\n",
              "      </script>\n",
              "    </div>\n",
              "  </div>\n",
              "  "
            ],
            "text/plain": [
              "   Store StoreType  ... Promo2SinceYear    PromoInterval\n",
              "0      1         c  ...             NaN              NaN\n",
              "1      2         a  ...          2010.0  Jan,Apr,Jul,Oct\n",
              "2      3         a  ...          2011.0  Jan,Apr,Jul,Oct\n",
              "3      4         c  ...             NaN              NaN\n",
              "4      5         a  ...             NaN              NaN\n",
              "\n",
              "[5 rows x 10 columns]"
            ]
          },
          "metadata": {},
          "execution_count": 5
        }
      ]
    },
    {
      "cell_type": "markdown",
      "source": [
        "Sales: the turnover for a given day (our target y \n",
        "variable)"
      ],
      "metadata": {
        "id": "qYMcPcV0ZvTS"
      }
    },
    {
      "cell_type": "markdown",
      "source": [
        "StateHoliday: indicates a state holiday. Normally \n",
        "all stores, with few exceptions, are closed on state \n",
        "holidays. Note that all schools are closed on public \n",
        "holidays and weekends. a = public holiday, b = Easter \n",
        "holiday, c = Christmas, 0 = none"
      ],
      "metadata": {
        "id": "wGGG1P9AZ28X"
      }
    },
    {
      "cell_type": "markdown",
      "source": [
        "SchoolHoliday: indicates if the (Store, Date) was \n",
        "affected by the closure of public schools"
      ],
      "metadata": {
        "id": "K8lp3SPVZ6SQ"
      }
    },
    {
      "cell_type": "markdown",
      "source": [
        "Customers: the number of customers on a given day\n",
        "• Open: an indicator for whether the store was open: \n",
        "0 = closed, 1 = open"
      ],
      "metadata": {
        "id": "gq8ogOvAZ4UP"
      }
    },
    {
      "cell_type": "markdown",
      "source": [
        "StoreType: differentiates between four different store \n",
        "models: a, b, c, d\n",
        "Assortment: describes an assortment level: a = basic, \n",
        "b = extra, c = extended\n",
        "CompetitionDistance: distance in meters to the \n",
        "nearest competitor store\n",
        "CompetitionOpenSince[Month/Year]: gives the \n",
        "approximate year and month of the time the nearest \n",
        "competitor was opened\n",
        "Promo: indicates whether a store is running a promo \n",
        "on that day\n",
        "Promo2: Promo2 is a continuing and consecutive \n",
        "promotion for some stores: 0 = store is not \n",
        "participating, 1 = store is participating"
      ],
      "metadata": {
        "id": "PZCGAlXEaSCg"
      }
    },
    {
      "cell_type": "markdown",
      "source": [
        "Promo2Since[Year/Week]: describes the year and \n",
        "calendar week when the store started participating in \n",
        "Promo2\n",
        "• PromoInterval: describes the consecutive intervals \n",
        "at which Promo2 is started, naming the months the \n",
        "promotion is started anew (e.g., “Feb, May, Aug, Nov” \n",
        "means each round starts in February, May, August, and \n",
        "November of any given year for that store)"
      ],
      "metadata": {
        "id": "Bo_NJVCNaTOf"
      }
    },
    {
      "cell_type": "markdown",
      "source": [
        "To have all the data points together, we need to create one single \n",
        "dataframe with the store and promotion features. We can achieve this by \n",
        "joining the two dataframes on the ‘store’ column, which represents the \n",
        "store ID."
      ],
      "metadata": {
        "id": "jAb1jOnMageg"
      }
    },
    {
      "cell_type": "code",
      "source": [
        "df_new = train_df.merge(store_df,on=[\"Store\"], how=\"inner\")\n",
        "print(df_new.shape)\n"
      ],
      "metadata": {
        "id": "8SVpwUmXgmMA",
        "colab": {
          "base_uri": "https://localhost:8080/"
        },
        "outputId": "ff7088fc-71c6-4c27-9240-90aad921c526"
      },
      "execution_count": 6,
      "outputs": [
        {
          "output_type": "stream",
          "name": "stdout",
          "text": [
            "(1017209, 18)\n"
          ]
        }
      ]
    },
    {
      "cell_type": "markdown",
      "source": [
        "How \n",
        "many stores do we have the data for? How long do we have the data for? \n",
        "What do the average sales for a day look like? are the stores very different \n",
        "from each other in daily sales?"
      ],
      "metadata": {
        "id": "l2g44GaKbGgb"
      }
    },
    {
      "cell_type": "markdown",
      "source": [
        "We will start by finding the number of unique stores in the data, the \n",
        "number of unique days for which we have data, and the average sales for \n",
        "all stores."
      ],
      "metadata": {
        "id": "7L231qcsbOYY"
      }
    },
    {
      "cell_type": "code",
      "source": [
        "print(\"Distinct number of Stores :\", len(df_new[\"Store\"].unique()))\n",
        "print(\"Distinct number of Days :\", len(df_new[\"Date\"].unique()))\n",
        "print(\"Average daily sales of all stores : \",round(df_new [\"Sales\"].mean(),2))"
      ],
      "metadata": {
        "colab": {
          "base_uri": "https://localhost:8080/"
        },
        "id": "LRJRisevaQOf",
        "outputId": "61ceae4e-56a8-4371-87d8-8aa46a9b41ad"
      },
      "execution_count": 7,
      "outputs": [
        {
          "output_type": "stream",
          "name": "stdout",
          "text": [
            "Distinct number of Stores : 1115\n",
            "Distinct number of Days : 942\n",
            "Average daily sales of all stores :  5773.82\n"
          ]
        }
      ]
    },
    {
      "cell_type": "code",
      "source": [
        "df_new.dtypes"
      ],
      "metadata": {
        "colab": {
          "base_uri": "https://localhost:8080/"
        },
        "id": "pURcMN2x4-1O",
        "outputId": "1dde5aaa-66a3-427f-cbdf-76cb69cae099"
      },
      "execution_count": 8,
      "outputs": [
        {
          "output_type": "execute_result",
          "data": {
            "text/plain": [
              "Store                          int64\n",
              "DayOfWeek                      int64\n",
              "Date                          object\n",
              "Sales                          int64\n",
              "Customers                      int64\n",
              "Open                           int64\n",
              "Promo                          int64\n",
              "StateHoliday                  object\n",
              "SchoolHoliday                  int64\n",
              "StoreType                     object\n",
              "Assortment                    object\n",
              "CompetitionDistance          float64\n",
              "CompetitionOpenSinceMonth    float64\n",
              "CompetitionOpenSinceYear     float64\n",
              "Promo2                         int64\n",
              "Promo2SinceWeek              float64\n",
              "Promo2SinceYear              float64\n",
              "PromoInterval                 object\n",
              "dtype: object"
            ]
          },
          "metadata": {},
          "execution_count": 8
        }
      ]
    },
    {
      "cell_type": "code",
      "source": [
        "df_new[\"DayOfWeek\"].value_counts()"
      ],
      "metadata": {
        "colab": {
          "base_uri": "https://localhost:8080/"
        },
        "id": "4MJUdNyv5BGc",
        "outputId": "27d0c12d-3242-4955-dfd0-4e2d7d01e540"
      },
      "execution_count": 9,
      "outputs": [
        {
          "output_type": "execute_result",
          "data": {
            "text/plain": [
              "5    145845\n",
              "4    145845\n",
              "3    145665\n",
              "2    145664\n",
              "7    144730\n",
              "6    144730\n",
              "1    144730\n",
              "Name: DayOfWeek, dtype: int64"
            ]
          },
          "metadata": {},
          "execution_count": 9
        }
      ]
    },
    {
      "cell_type": "code",
      "source": [
        "#We can extract all date properties from a datetime datatype\n",
        "import numpy as np\n",
        "df_new['Date'] = pd.to_datetime(df_new['Date'], infer_datetime_format=True)\n",
        "df_new[\"Month\"] = df_new[\"Date\"].dt.month\n",
        "df_new[\"Quarter\"] = df_new[\"Date\"].dt.quarter\n",
        "df_new[\"Year\"] = df_new[\"Date\"].dt.year\n",
        "df_new[\"Day\"] = df_new[\"Date\"].dt.day\n",
        "df_new[\"Week\"] = df_new[\"Date\"].dt.week"
      ],
      "metadata": {
        "colab": {
          "base_uri": "https://localhost:8080/"
        },
        "id": "fWyWFOih5bLJ",
        "outputId": "a61a7855-02b2-4112-e661-c98ff36d5851"
      },
      "execution_count": 10,
      "outputs": [
        {
          "output_type": "stream",
          "name": "stderr",
          "text": [
            "/usr/local/lib/python3.7/dist-packages/ipykernel_launcher.py:8: FutureWarning: Series.dt.weekofyear and Series.dt.week have been deprecated.  Please use Series.dt.isocalendar().week instead.\n",
            "  \n"
          ]
        }
      ]
    },
    {
      "cell_type": "code",
      "source": [
        "df_new[\"Season\"] = np.where(df_new[\"Month\"].isin([3,4,5]),\"Spring\",np.where(df_new[\"Month\"].isin([6,7,8]), \"Summer\",\n",
        " np.where(df_new[\"Month\"].isin ([9,10,11]),\"Fall\",np.where(df_new[\"Month\"].isin ([12,1,2]),\"Winter\",\"None\"))))"
      ],
      "metadata": {
        "id": "9_hdFXiC5-mo"
      },
      "execution_count": 11,
      "outputs": []
    },
    {
      "cell_type": "code",
      "source": [
        "#Using the head command to view (only) the data and the newly engineered features\n",
        "print(df_new[[\"Date\",\"Year\",\"Month\",\"Day\",\"Week\",\"Quarter\",\"Season\"]].head())"
      ],
      "metadata": {
        "colab": {
          "base_uri": "https://localhost:8080/"
        },
        "id": "pyJnUGOc6MsT",
        "outputId": "ce588052-0796-42a1-edb8-c37f3b4be76b"
      },
      "execution_count": 12,
      "outputs": [
        {
          "output_type": "stream",
          "name": "stdout",
          "text": [
            "        Date  Year  Month  Day  Week  Quarter  Season\n",
            "0 2015-07-31  2015      7   31    31        3  Summer\n",
            "1 2015-07-30  2015      7   30    31        3  Summer\n",
            "2 2015-07-29  2015      7   29    31        3  Summer\n",
            "3 2015-07-28  2015      7   28    31        3  Summer\n",
            "4 2015-07-27  2015      7   27    31        3  Summer\n"
          ]
        }
      ]
    },
    {
      "cell_type": "code",
      "source": [
        "#Import matplotlib, python most popular data visualizing library\n",
        "import matplotlib.pyplot as plt\n",
        "%matplotlib inline"
      ],
      "metadata": {
        "id": "BMIAQbOn6dB9"
      },
      "execution_count": 13,
      "outputs": []
    },
    {
      "cell_type": "code",
      "source": [
        "#Create a histogram to study the Daily Sales for the stores\n",
        "plt.figure(figsize=(15,8))\n",
        "plt.hist(df_new[\"Sales\"])\n",
        "plt.title(\"Histogram for Store Sales\")\n",
        "plt.xlabel(\"bins\")\n",
        "plt.xlabel(\"Frequency\")\n",
        "plt.show()"
      ],
      "metadata": {
        "colab": {
          "base_uri": "https://localhost:8080/",
          "height": 513
        },
        "id": "95aFJGj8THVf",
        "outputId": "e830a494-674b-4c5c-eb7e-2caa13fa766f"
      },
      "execution_count": 14,
      "outputs": [
        {
          "output_type": "display_data",
          "data": {
            "image/png": "[encoded data removed]",
            "text/plain": [
              "<Figure size 1080x576 with 1 Axes>"
            ]
          },
          "metadata": {
            "needs_background": "light"
          }
        }
      ]
    },
    {
      "cell_type": "markdown",
      "source": [
        "# most of the stores have sales in the range 0–20,000, and just a few stores \n",
        "have sales greater than 20,000. It might be worthwhile to remove these \n",
        "outliers, as it helps the model learn better."
      ],
      "metadata": {
        "id": "JfkeIBgnTeYZ"
      }
    },
    {
      "cell_type": "markdown",
      "source": [
        "#### Exploring new columns"
      ],
      "metadata": {
        "id": "RkAkwCUSHUjI"
      }
    },
    {
      "cell_type": "code",
      "source": [
        "df_new.hist(figsize=(20,10))"
      ],
      "metadata": {
        "id": "52eror72TMdz",
        "colab": {
          "base_uri": "https://localhost:8080/",
          "height": 914
        },
        "outputId": "90550a07-d993-4b70-deea-e2bb69091bd8"
      },
      "execution_count": 15,
      "outputs": [
        {
          "output_type": "execute_result",
          "data": {
            "text/plain": [
              "array([[<matplotlib.axes._subplots.AxesSubplot object at 0x7fc2300823d0>,\n",
              "        <matplotlib.axes._subplots.AxesSubplot object at 0x7fc2300266d0>,\n",
              "        <matplotlib.axes._subplots.AxesSubplot object at 0x7fc22ffddcd0>,\n",
              "        <matplotlib.axes._subplots.AxesSubplot object at 0x7fc22ff9f310>],\n",
              "       [<matplotlib.axes._subplots.AxesSubplot object at 0x7fc22ff55910>,\n",
              "        <matplotlib.axes._subplots.AxesSubplot object at 0x7fc22ff8cf10>,\n",
              "        <matplotlib.axes._subplots.AxesSubplot object at 0x7fc22ff4e510>,\n",
              "        <matplotlib.axes._subplots.AxesSubplot object at 0x7fc22ff04b10>],\n",
              "       [<matplotlib.axes._subplots.AxesSubplot object at 0x7fc22ff0fd50>,\n",
              "        <matplotlib.axes._subplots.AxesSubplot object at 0x7fc22fe514d0>,\n",
              "        <matplotlib.axes._subplots.AxesSubplot object at 0x7fc22fe33d50>,\n",
              "        <matplotlib.axes._subplots.AxesSubplot object at 0x7fc22fdf6390>],\n",
              "       [<matplotlib.axes._subplots.AxesSubplot object at 0x7fc22fdae990>,\n",
              "        <matplotlib.axes._subplots.AxesSubplot object at 0x7fc22fd63f90>,\n",
              "        <matplotlib.axes._subplots.AxesSubplot object at 0x7fc22fd275d0>,\n",
              "        <matplotlib.axes._subplots.AxesSubplot object at 0x7fc22fcdcbd0>],\n",
              "       [<matplotlib.axes._subplots.AxesSubplot object at 0x7fc22fc9f210>,\n",
              "        <matplotlib.axes._subplots.AxesSubplot object at 0x7fc22fc56810>,\n",
              "        <matplotlib.axes._subplots.AxesSubplot object at 0x7fc22fc8ce10>,\n",
              "        <matplotlib.axes._subplots.AxesSubplot object at 0x7fc22fc4f450>]],\n",
              "      dtype=object)"
            ]
          },
          "metadata": {},
          "execution_count": 15
        },
        {
          "output_type": "display_data",
          "data": {
            "image/png": "[encoded data removed]",
            "text/plain": [
              "<Figure size 1440x720 with 20 Axes>"
            ]
          },
          "metadata": {
            "needs_background": "light"
          }
        }
      ]
    },
    {
      "cell_type": "code",
      "source": [
        "df_new.isnull().sum()/df_new.shape[0] * 100"
      ],
      "metadata": {
        "colab": {
          "base_uri": "https://localhost:8080/"
        },
        "id": "GzDF_yRfHPo4",
        "outputId": "19e8337c-fec6-44b1-9f95-25e5bf554692"
      },
      "execution_count": 16,
      "outputs": [
        {
          "output_type": "execute_result",
          "data": {
            "text/plain": [
              "Store                         0.000000\n",
              "DayOfWeek                     0.000000\n",
              "Date                          0.000000\n",
              "Sales                         0.000000\n",
              "Customers                     0.000000\n",
              "Open                          0.000000\n",
              "Promo                         0.000000\n",
              "StateHoliday                  0.000000\n",
              "SchoolHoliday                 0.000000\n",
              "StoreType                     0.000000\n",
              "Assortment                    0.000000\n",
              "CompetitionDistance           0.259730\n",
              "CompetitionOpenSinceMonth    31.787764\n",
              "CompetitionOpenSinceYear     31.787764\n",
              "Promo2                        0.000000\n",
              "Promo2SinceWeek              49.943620\n",
              "Promo2SinceYear              49.943620\n",
              "PromoInterval                49.943620\n",
              "Month                         0.000000\n",
              "Quarter                       0.000000\n",
              "Year                          0.000000\n",
              "Day                           0.000000\n",
              "Week                          0.000000\n",
              "Season                        0.000000\n",
              "dtype: float64"
            ]
          },
          "metadata": {},
          "execution_count": 16
        }
      ]
    },
    {
      "cell_type": "code",
      "source": [
        "#Replace nulls with the mode\n",
        "df_new[\"CompetitionDistance\"]=df_new[\"CompetitionDistance\"].fillna(df_new[\"CompetitionDistance\"].mode()[0])\n",
        "#Double check if we still see nulls for the column\n",
        "df_new[\"CompetitionDistance\"].isnull().sum()/df_new.shape[0] * 100"
      ],
      "metadata": {
        "colab": {
          "base_uri": "https://localhost:8080/"
        },
        "id": "eiv1ITCgIWV7",
        "outputId": "77d90ce5-4a02-4a69-b369-857703c27ed9"
      },
      "execution_count": 17,
      "outputs": [
        {
          "output_type": "execute_result",
          "data": {
            "text/plain": [
              "0.0"
            ]
          },
          "metadata": {},
          "execution_count": 17
        }
      ]
    },
    {
      "cell_type": "markdown",
      "source": [
        "Categorical Features"
      ],
      "metadata": {
        "id": "L8ZZ2ZM0MGOS"
      }
    },
    {
      "cell_type": "code",
      "source": [
        "import seaborn as sns\n",
        "sns.set(style=\"whitegrid\")"
      ],
      "metadata": {
        "id": "fy3lwu_EJG_l"
      },
      "execution_count": 18,
      "outputs": []
    },
    {
      "cell_type": "code",
      "source": [
        "#Create the bar plot for Average Sales across different Seasons\n",
        "ax = sns.barplot(x=\"Season\", y=\"Sales\", data=df_new)"
      ],
      "metadata": {
        "colab": {
          "base_uri": "https://localhost:8080/",
          "height": 285
        },
        "id": "ILwolt4YMIl1",
        "outputId": "2eca3071-ea81-4e8d-a75c-c72370487d2f"
      },
      "execution_count": 19,
      "outputs": [
        {
          "output_type": "display_data",
          "data": {
            "image/png": "[encoded data removed]",
            "text/plain": [
              "<Figure size 432x288 with 1 Axes>"
            ]
          },
          "metadata": {}
        }
      ]
    },
    {
      "cell_type": "code",
      "source": [
        "#Create the bar plot for Average Sales across different Assortments\n",
        "ax = sns.barplot(x=\"Assortment\", y=\"Sales\", data=df_new)\n"
      ],
      "metadata": {
        "colab": {
          "base_uri": "https://localhost:8080/",
          "height": 285
        },
        "id": "1Opjo0FTMPka",
        "outputId": "6d9e81e2-bf18-461d-f893-f426cbcfba6c"
      },
      "execution_count": 20,
      "outputs": [
        {
          "output_type": "display_data",
          "data": {
            "image/png": "[encoded data removed]",
            "text/plain": [
              "<Figure size 432x288 with 1 Axes>"
            ]
          },
          "metadata": {}
        }
      ]
    },
    {
      "cell_type": "code",
      "source": [
        "#Create the bar plot for Average Sales across different Store Types\n",
        "ax = sns.barplot(x=\"StoreType\", y=\"Sales\", data=df_new)"
      ],
      "metadata": {
        "colab": {
          "base_uri": "https://localhost:8080/",
          "height": 285
        },
        "id": "4Ua4QRYQMv9N",
        "outputId": "0cca2f6b-53c0-4a57-cb19-c37e40fc048e"
      },
      "execution_count": 21,
      "outputs": [
        {
          "output_type": "display_data",
          "data": {
            "image/png": "[encoded data removed]",
            "text/plain": [
              "<Figure size 432x288 with 1 Axes>"
            ]
          },
          "metadata": {}
        }
      ]
    },
    {
      "cell_type": "markdown",
      "source": [
        "Sales across seasons barely seem to \n",
        "differ; however, there seems to be an increasing trend for sales across \n",
        "assortments. Stores with assortment “b” generally have the highest sales. \n",
        "Store type also shows a unique relationship with sales across store types. \n",
        "We can see fairly higher sales for “b” store types also."
      ],
      "metadata": {
        "id": "pFXqHYZGNIbU"
      }
    },
    {
      "cell_type": "markdown",
      "source": [
        "What if the number of stores in the different \n",
        "types mentioned in the preceding is disproportionate or skewed? "
      ],
      "metadata": {
        "id": "MWt-YCukNSTz"
      }
    },
    {
      "cell_type": "code",
      "source": [
        "ax = sns.barplot(x=\"Season\", y=\"Sales\", data=df_new, estimator=np.size)"
      ],
      "metadata": {
        "colab": {
          "base_uri": "https://localhost:8080/",
          "height": 285
        },
        "id": "fkJMWPwcM3FF",
        "outputId": "57a6ac05-e353-43cd-bad8-19064fa37566"
      },
      "execution_count": 22,
      "outputs": [
        {
          "output_type": "display_data",
          "data": {
            "image/png": "[encoded data removed]",
            "text/plain": [
              "<Figure size 432x288 with 1 Axes>"
            ]
          },
          "metadata": {}
        }
      ]
    },
    {
      "cell_type": "code",
      "source": [
        "ax = sns.barplot(x=\"Assortment\", y=\"Sales\", data=df_new, estimator=np.size)"
      ],
      "metadata": {
        "id": "YAItWo4JNckl"
      },
      "execution_count": null,
      "outputs": []
    },
    {
      "cell_type": "code",
      "source": [
        "ax = sns.barplot(x=\"StoreType\", y=\"Sales\", data=df_new, estimator=np.size)"
      ],
      "metadata": {
        "id": "gFYR2K7tNlkT"
      },
      "execution_count": null,
      "outputs": []
    },
    {
      "cell_type": "markdown",
      "source": [
        "the distribution of data points across different \n",
        "classes within a category is skewed. A simple check on StoreType and \n",
        "Assortment reveals that b has a significantly lower number of stores or \n",
        "data points in the dataset. Therefore, our initial understanding of the \n",
        "relationships observed is not true."
      ],
      "metadata": {
        "id": "KLqR7f1sNzDU"
      }
    },
    {
      "cell_type": "markdown",
      "source": [
        " prepare the data for developing DL models."
      ],
      "metadata": {
        "id": "SnavDFgfN9iI"
      }
    },
    {
      "cell_type": "code",
      "source": [
        "#Define a variable for each type of feature\n",
        "from sklearn.preprocessing import LabelEncoder\n",
        "from sklearn.preprocessing import OneHotEncoder"
      ],
      "metadata": {
        "id": "MlU7xRYUNp23"
      },
      "execution_count": null,
      "outputs": []
    },
    {
      "cell_type": "code",
      "source": [
        "target = [\"Sales\"]\n",
        "numeric_columns = [\"Customers\",\"Open\",\"Promo\",\"Promo2\", \"StateHoliday\",\"SchoolHoliday\",\"CompetitionDistance\"]\n",
        "categorical_columns = [\"DayOfWeek\",\"Quarter\",\"Month\",\"Year\", \"StoreType\",\"Assortment\",\"Season\"]"
      ],
      "metadata": {
        "id": "gLcVmKNfdyR9"
      },
      "execution_count": null,
      "outputs": []
    },
    {
      "cell_type": "code",
      "source": [
        "#Define a function that will intake the raw dataframe and the column name and return a one hot encoded DF\n",
        "def create_ohe(df, col):\n",
        " le = LabelEncoder()\n",
        " a=le.fit_transform(df_new[col]).reshape(-1,1)\n",
        " ohe = OneHotEncoder(sparse=False)\n",
        " column_names = [col+ \"_\"+ str(i) for i in le.classes_]\n",
        " return(pd.DataFrame(ohe.fit_transform(a),columns =column_names))"
      ],
      "metadata": {
        "id": "UgSwIg0Kd3PP"
      },
      "execution_count": null,
      "outputs": []
    },
    {
      "cell_type": "code",
      "source": [
        "#Since the above function converts the column, one at a time\n",
        "#We create a loop to create the final dataset with all features\n",
        "temp = df_new[numeric_columns]\n",
        "for column in categorical_columns:\n",
        " temp_df = create_ohe(df_new,column)\n",
        " temp = pd.concat([temp,temp_df],axis=1)"
      ],
      "metadata": {
        "id": "D29bwWXEd8jC"
      },
      "execution_count": null,
      "outputs": []
    },
    {
      "cell_type": "code",
      "source": [
        "print(\"Shape of Data:\",temp.shape)\n",
        "print(\"Distinct Datatypes:\",temp.dtypes.unique())"
      ],
      "metadata": {
        "id": "zGq0l4x9eCc3"
      },
      "execution_count": null,
      "outputs": []
    },
    {
      "cell_type": "code",
      "source": [
        "print(temp.columns[temp.dtypes==\"object\"])"
      ],
      "metadata": {
        "id": "ohlKJPEeeK06"
      },
      "execution_count": null,
      "outputs": []
    },
    {
      "cell_type": "code",
      "source": [
        "temp[\"StateHoliday\"].unique()"
      ],
      "metadata": {
        "id": "4xoHEmwjeQVq"
      },
      "execution_count": null,
      "outputs": []
    },
    {
      "cell_type": "markdown",
      "source": [
        "The feature seems to have incorrect values. Ideally, StateHoliday\n",
        "should have either a 0 or 1 as the possible values to indicate whether it is a \n",
        "holiday or not. Let’s repair the feature by replacing all values of “a,” “b,” and \n",
        "“c” with 1 and the rest with 0, therefore converting the variable as numeric"
      ],
      "metadata": {
        "id": "awyJzaS0eZxQ"
      }
    },
    {
      "cell_type": "code",
      "source": [
        "temp[\"StateHoliday\"]= np.where(temp[\"StateHoliday\"]== '0',0,1)\n",
        "#One last check of the data type\n",
        "temp.dtypes.unique()"
      ],
      "metadata": {
        "id": "VE5JqR7QeUjr"
      },
      "execution_count": null,
      "outputs": []
    },
    {
      "cell_type": "code",
      "source": [
        "from sklearn.model_selection import train_test_split\n",
        "#Create train and test dataset with an 80:20 split\n",
        "x_train, x_test, y_train, y_test = train_test_split(temp, \n",
        "df_new[target],test_size=0.2,random_state=2018)\n",
        "#Further divide training dataset into train and validation dataset with an 90:10 split\n",
        "x_train, x_val, y_train, y_val = train_test_split(x_train, y_train,test_size=0.1,random_state=2018)\n",
        "#Check the sizes of all newly created datasets\n",
        "print(\"Shape of x_train:\",x_train.shape)\n",
        "print(\"Shape of x_val:\",x_val.shape)\n",
        "print(\"Shape of x_test:\",x_test.shape)\n",
        "print(\"Shape of y_train:\",y_train.shape)\n",
        "print(\"Shape of y_val:\",y_val.shape)\n",
        "print(\"Shape of y_test:\",y_test.shape)"
      ],
      "metadata": {
        "id": "a3llCvKSedYt"
      },
      "execution_count": null,
      "outputs": []
    },
    {
      "cell_type": "markdown",
      "source": [
        " design the DNN architecture"
      ],
      "metadata": {
        "id": "m-ziEzAze9ec"
      }
    },
    {
      "cell_type": "markdown",
      "source": [
        "create a baseline score as the bare minimum score to consider the model useful"
      ],
      "metadata": {
        "id": "v70kugobfB8G"
      }
    },
    {
      "cell_type": "markdown",
      "source": [
        "To define the model baseline performance, we should consider the mean \n",
        "of the target variable in the training dataset as the prediction for all test \n",
        "samples"
      ],
      "metadata": {
        "id": "kPzgO6h-sL4S"
      }
    },
    {
      "cell_type": "code",
      "source": [
        "#calculate the average score of the train dataset\n",
        "mean_sales = y_train.mean()\n",
        "print(\"Average Sales :\",mean_sales)"
      ],
      "metadata": {
        "id": "IyNcOZbleolS"
      },
      "execution_count": null,
      "outputs": []
    },
    {
      "cell_type": "code",
      "source": [
        "#Calculate the Mean Absolute Error on the test dataset\n",
        "print(\"MAE for Test Data:\",abs(y_test - mean_sales).mean()[0])"
      ],
      "metadata": {
        "id": "UKTqpTvxsbgn"
      },
      "execution_count": null,
      "outputs": []
    },
    {
      "cell_type": "markdown",
      "source": [
        "Baseline performance is 2883.58"
      ],
      "metadata": {
        "id": "ZnZtI7RmtMeP"
      }
    },
    {
      "cell_type": "markdown",
      "source": [
        "# DNN "
      ],
      "metadata": {
        "id": "KW8pB-LDtjhN"
      }
    },
    {
      "cell_type": "code",
      "source": [
        "from keras.models import Sequential\n",
        "from keras.layers import Dense, Dropout"
      ],
      "metadata": {
        "id": "QFXqBZZbtEGA"
      },
      "execution_count": null,
      "outputs": []
    },
    {
      "cell_type": "code",
      "source": [
        "model = Sequential()\n",
        "model.add(Dense(150,input_dim = 44,activation=\"relu\")) # total 44 features\n",
        "model.add(Dense(1,activation = \"linear\"))"
      ],
      "metadata": {
        "id": "kBoM2V8Af7ke"
      },
      "execution_count": null,
      "outputs": []
    },
    {
      "cell_type": "code",
      "source": [
        "model.compile(optimizer='adam',loss=\"mean_absolute_error\",metrics=[\"mean_absolute_error\"])"
      ],
      "metadata": {
        "id": "NZiONRbJgISz"
      },
      "execution_count": null,
      "outputs": []
    },
    {
      "cell_type": "code",
      "source": [
        "#Train the model\n",
        "model.fit(x_train.values,y_train.values, validation_data= (x_val,y_val),epochs=10,batch_size=64)"
      ],
      "metadata": {
        "id": "wF8Y1Da8gMgS"
      },
      "execution_count": null,
      "outputs": []
    },
    {
      "cell_type": "markdown",
      "source": [
        "It takes a batch of 64 training samples in an iteration, passes \n",
        "each sample through the network, and measures the loss metric that we \n",
        "defined. It uses the optimization technique we configured to update the \n",
        "model weights and repeats till the last batch for one epoch. The entire \n",
        "process is repeated ten times, since we set number of epochs as ten. At the \n",
        "end of each epoch, the model uses the validation dataset to evaluate and \n",
        "report the metrics we configured."
      ],
      "metadata": {
        "id": "WSiEP6Q-ggsC"
      }
    },
    {
      "cell_type": "markdown",
      "source": [
        "The model performance on the validation dataset is 682 which is an approvement over the baseline "
      ],
      "metadata": {
        "id": "7Of4zYkkjXKz"
      }
    },
    {
      "cell_type": "code",
      "source": [
        " model.evaluate(x_test.values,y_test.values)"
      ],
      "metadata": {
        "id": "HunLRjvXgfTW"
      },
      "execution_count": null,
      "outputs": []
    },
    {
      "cell_type": "markdown",
      "source": [
        "MAE on the test dataset is 679 which is quite close to the validation MAE."
      ],
      "metadata": {
        "id": "8cgxDi84kDZy"
      }
    },
    {
      "cell_type": "code",
      "source": [
        "model = Sequential()\n",
        "model.add(Dense(150,input_dim = 44,activation=\"relu\"))\n",
        "model.add(Dense(150,activation=\"relu\"))\n",
        "model.add(Dense(150,activation=\"relu\"))\n",
        "model.add(Dense(1,activation = \"linear\"))\n",
        "model.compile(optimizer='adam',loss=\"mean_squared_error\",metrics=[\"mean_absolute_error\"])\n",
        "history = model.fit(x_train,y_train, validation_data=(x_val, y_val),epochs=10,batch_size=64)"
      ],
      "metadata": {
        "id": "hQE8JNv3j4-M"
      },
      "execution_count": null,
      "outputs": []
    },
    {
      "cell_type": "code",
      "source": [
        "model.evaluate(x_test,y_test)"
      ],
      "metadata": {
        "id": "8yTgvw6W_oPl"
      },
      "execution_count": null,
      "outputs": []
    },
    {
      "cell_type": "markdown",
      "source": [
        "Increasing the layers reduced MAE to 645\n"
      ],
      "metadata": {
        "id": "8TRhOy-ADNbg"
      }
    },
    {
      "cell_type": "code",
      "source": [
        "model = Sequential()\n",
        "model.add(Dense(150,input_dim = 44,activation=\"relu\"))\n",
        "model.add(Dense(150,activation=\"relu\"))\n",
        "model.add(Dense(150,activation=\"relu\"))\n",
        "model.add(Dense(150,activation=\"relu\"))\n",
        "model.add(Dense(150,activation=\"relu\"))\n",
        "model.add(Dense(1,activation = \"linear\"))\n",
        "model.compile(optimizer='adam',loss=\"mean_squared_error\",metrics=[\"mean_absolute_error\"])"
      ],
      "metadata": {
        "id": "7DeFOd06_yBI"
      },
      "execution_count": null,
      "outputs": []
    },
    {
      "cell_type": "code",
      "source": [
        "model.fit(x_train,y_train, validation_data=(x_val,y_val), epochs=15,batch_size=64)"
      ],
      "metadata": {
        "id": "qY2IEt3J_7qI"
      },
      "execution_count": null,
      "outputs": []
    },
    {
      "cell_type": "code",
      "source": [
        " model.evaluate(x_test,y_test)"
      ],
      "metadata": {
        "id": "B-lCLuV0__BQ"
      },
      "execution_count": null,
      "outputs": []
    },
    {
      "cell_type": "markdown",
      "source": [
        "MAE further reduced to 612 when the model made more deep."
      ],
      "metadata": {
        "id": "R05iwi0-Etws"
      }
    },
    {
      "cell_type": "markdown",
      "source": [
        "Increasing the number of neurons"
      ],
      "metadata": {
        "id": "mBy6RbN-rLiN"
      }
    },
    {
      "cell_type": "code",
      "source": [
        "model = Sequential()\n",
        "model.add(Dense(350,input_dim = 44,activation=\"relu\"))\n",
        "model.add(Dense(350,activation=\"relu\"))\n",
        "model.add(Dense(1,activation = \"linear\"))\n",
        "model.compile(optimizer='adam',loss=\"mean_squared_error\",metrics=[\"mean_absolute_error\"])"
      ],
      "metadata": {
        "id": "RgMmOlI0ACs5"
      },
      "execution_count": null,
      "outputs": []
    },
    {
      "cell_type": "code",
      "source": [
        "model.fit(x_train,y_train, validation_data=(x_val,y_val), epochs=15,batch_size=64)"
      ],
      "metadata": {
        "id": "5zwTrveurVdn"
      },
      "execution_count": null,
      "outputs": []
    },
    {
      "cell_type": "code",
      "source": [
        " model.evaluate(x_test,y_test)"
      ],
      "metadata": {
        "id": "WOffisiUraSA"
      },
      "execution_count": null,
      "outputs": []
    },
    {
      "cell_type": "code",
      "source": [
        "from keras.callbacks import History\n",
        "history = History()\n",
        "model = Sequential()\n",
        "model.add(Dense(350,input_dim = 44,activation=\"relu\"))\n",
        "model.add(Dense(350,activation=\"relu\"))\n",
        "model.add(Dense(350,activation=\"relu\"))\n",
        "model.add(Dense(350,activation=\"relu\"))\n",
        "model.add(Dense(350,activation=\"relu\"))\n",
        "model.add(Dense(1,activation = \"linear\"))\n",
        "model.compile(optimizer='adam',loss=\"mean_squared_error\",metrics=[\"mean_absolute_error\"])\n",
        "model.fit(x_train,y_train, validation_data=(x_val,y_val),epochs=15,batch_size=64,callbacks=[history])"
      ],
      "metadata": {
        "id": "EitSmcsWrdBF"
      },
      "execution_count": null,
      "outputs": []
    },
    {
      "cell_type": "code",
      "source": [
        "model.evaluate(x_test,y_test)"
      ],
      "metadata": {
        "id": "HA0gpJs6rsjf"
      },
      "execution_count": null,
      "outputs": []
    },
    {
      "cell_type": "code",
      "source": [
        "plt.plot(history.history['loss'])\n",
        "plt.plot(history.history['val_loss'])\n",
        "plt.title(\"Model's Training & Validation loss across epochs\")\n",
        "plt.ylabel('Loss')\n",
        "plt.xlabel('Epochs')\n",
        "plt.legend(['Train', 'Validation'], loc='upper right')\n",
        "plt.show()"
      ],
      "metadata": {
        "id": "POx87Qjnrw0r"
      },
      "execution_count": null,
      "outputs": []
    },
    {
      "cell_type": "code",
      "source": [
        "#Manually predicting from the model, instead of using model's evaluate function\n",
        "y_test[\"Prediction\"] = model.predict(x_test)\n",
        "y_test.columns = [\"Actual Sales\",\"Predicted Sales\"]\n",
        "print(y_test.head(10))"
      ],
      "metadata": {
        "id": "PFQheFKQr36w"
      },
      "execution_count": null,
      "outputs": []
    },
    {
      "cell_type": "code",
      "source": [
        "#Manually predicting from the model, instead of using model's evaluate function\n",
        "from sklearn.metrics import mean_squared_error, mean_absolute_error\n",
        "print(\"MSE :\",mean_squared_error(y_test[\"Actual Sales\"].values,y_test[\"Predicted Sales\"].values))\n",
        "print(\"MAE :\",mean_absolute_error(y_test[\"Actual Sales\"].values,y_test[\"Predicted Sales\"].values))"
      ],
      "metadata": {
        "id": "7rOHsrtar7Zy"
      },
      "execution_count": null,
      "outputs": []
    },
    {
      "cell_type": "code",
      "source": [
        ""
      ],
      "metadata": {
        "id": "rFWhzaGu9r59"
      },
      "execution_count": null,
      "outputs": []
    }
  ]
}