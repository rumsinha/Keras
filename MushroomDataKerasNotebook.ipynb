{
 "cells": [
  {
   "cell_type": "markdown",
   "metadata": {},
   "source": [
    "Importing libraries"
   ]
  },
  {
   "cell_type": "code",
   "execution_count": 304,
   "metadata": {},
   "outputs": [],
   "source": [
    "import warnings\n",
    "warnings.filterwarnings('ignore')"
   ]
  },
  {
   "cell_type": "code",
   "execution_count": 305,
   "metadata": {},
   "outputs": [],
   "source": [
    "import os, datetime\n",
    "\n",
    "import numpy as np \n",
    "import pandas as pd \n",
    "\n",
    "import seaborn as sns\n",
    "import matplotlib.pyplot as plt\n",
    "\n",
    "from sklearn.metrics import r2_score\n",
    "from sklearn.preprocessing import StandardScaler\n",
    "\n",
    "import tensorflow as tf\n",
    "\n",
    "from tensorflow import keras\n",
    "from tensorflow.keras import layers"
   ]
  },
  {
   "cell_type": "code",
   "execution_count": 306,
   "metadata": {},
   "outputs": [
    {
     "data": {
      "text/html": [
       "<div>\n",
       "<style scoped>\n",
       "    .dataframe tbody tr th:only-of-type {\n",
       "        vertical-align: middle;\n",
       "    }\n",
       "\n",
       "    .dataframe tbody tr th {\n",
       "        vertical-align: top;\n",
       "    }\n",
       "\n",
       "    .dataframe thead th {\n",
       "        text-align: right;\n",
       "    }\n",
       "</style>\n",
       "<table border=\"1\" class=\"dataframe\">\n",
       "  <thead>\n",
       "    <tr style=\"text-align: right;\">\n",
       "      <th></th>\n",
       "      <th>class</th>\n",
       "      <th>cap-shape</th>\n",
       "      <th>cap-surface</th>\n",
       "      <th>cap-color</th>\n",
       "      <th>bruises</th>\n",
       "      <th>odor</th>\n",
       "      <th>gill-attachment</th>\n",
       "      <th>gill-spacing</th>\n",
       "      <th>gill-size</th>\n",
       "      <th>gill-color</th>\n",
       "      <th>...</th>\n",
       "      <th>stalk-surface-below-ring</th>\n",
       "      <th>stalk-color-above-ring</th>\n",
       "      <th>stalk-color-below-ring</th>\n",
       "      <th>veil-type</th>\n",
       "      <th>veil-color</th>\n",
       "      <th>ring-number</th>\n",
       "      <th>ring-type</th>\n",
       "      <th>spore-print-color</th>\n",
       "      <th>population</th>\n",
       "      <th>habitat</th>\n",
       "    </tr>\n",
       "  </thead>\n",
       "  <tbody>\n",
       "    <tr>\n",
       "      <th>1523</th>\n",
       "      <td>e</td>\n",
       "      <td>x</td>\n",
       "      <td>f</td>\n",
       "      <td>n</td>\n",
       "      <td>f</td>\n",
       "      <td>n</td>\n",
       "      <td>f</td>\n",
       "      <td>w</td>\n",
       "      <td>b</td>\n",
       "      <td>n</td>\n",
       "      <td>...</td>\n",
       "      <td>f</td>\n",
       "      <td>w</td>\n",
       "      <td>w</td>\n",
       "      <td>p</td>\n",
       "      <td>w</td>\n",
       "      <td>o</td>\n",
       "      <td>e</td>\n",
       "      <td>n</td>\n",
       "      <td>s</td>\n",
       "      <td>g</td>\n",
       "    </tr>\n",
       "    <tr>\n",
       "      <th>6774</th>\n",
       "      <td>e</td>\n",
       "      <td>x</td>\n",
       "      <td>f</td>\n",
       "      <td>w</td>\n",
       "      <td>f</td>\n",
       "      <td>n</td>\n",
       "      <td>f</td>\n",
       "      <td>w</td>\n",
       "      <td>b</td>\n",
       "      <td>g</td>\n",
       "      <td>...</td>\n",
       "      <td>k</td>\n",
       "      <td>w</td>\n",
       "      <td>w</td>\n",
       "      <td>p</td>\n",
       "      <td>w</td>\n",
       "      <td>t</td>\n",
       "      <td>p</td>\n",
       "      <td>w</td>\n",
       "      <td>n</td>\n",
       "      <td>g</td>\n",
       "    </tr>\n",
       "    <tr>\n",
       "      <th>7922</th>\n",
       "      <td>e</td>\n",
       "      <td>k</td>\n",
       "      <td>s</td>\n",
       "      <td>n</td>\n",
       "      <td>f</td>\n",
       "      <td>n</td>\n",
       "      <td>a</td>\n",
       "      <td>c</td>\n",
       "      <td>b</td>\n",
       "      <td>o</td>\n",
       "      <td>...</td>\n",
       "      <td>s</td>\n",
       "      <td>o</td>\n",
       "      <td>o</td>\n",
       "      <td>p</td>\n",
       "      <td>o</td>\n",
       "      <td>o</td>\n",
       "      <td>p</td>\n",
       "      <td>y</td>\n",
       "      <td>c</td>\n",
       "      <td>l</td>\n",
       "    </tr>\n",
       "    <tr>\n",
       "      <th>7177</th>\n",
       "      <td>p</td>\n",
       "      <td>k</td>\n",
       "      <td>s</td>\n",
       "      <td>n</td>\n",
       "      <td>f</td>\n",
       "      <td>f</td>\n",
       "      <td>f</td>\n",
       "      <td>c</td>\n",
       "      <td>n</td>\n",
       "      <td>b</td>\n",
       "      <td>...</td>\n",
       "      <td>k</td>\n",
       "      <td>p</td>\n",
       "      <td>w</td>\n",
       "      <td>p</td>\n",
       "      <td>w</td>\n",
       "      <td>o</td>\n",
       "      <td>e</td>\n",
       "      <td>w</td>\n",
       "      <td>v</td>\n",
       "      <td>l</td>\n",
       "    </tr>\n",
       "    <tr>\n",
       "      <th>960</th>\n",
       "      <td>e</td>\n",
       "      <td>x</td>\n",
       "      <td>f</td>\n",
       "      <td>n</td>\n",
       "      <td>f</td>\n",
       "      <td>n</td>\n",
       "      <td>f</td>\n",
       "      <td>w</td>\n",
       "      <td>b</td>\n",
       "      <td>n</td>\n",
       "      <td>...</td>\n",
       "      <td>f</td>\n",
       "      <td>w</td>\n",
       "      <td>w</td>\n",
       "      <td>p</td>\n",
       "      <td>w</td>\n",
       "      <td>o</td>\n",
       "      <td>e</td>\n",
       "      <td>k</td>\n",
       "      <td>a</td>\n",
       "      <td>g</td>\n",
       "    </tr>\n",
       "  </tbody>\n",
       "</table>\n",
       "<p>5 rows × 23 columns</p>\n",
       "</div>"
      ],
      "text/plain": [
       "     class cap-shape cap-surface cap-color bruises odor gill-attachment  \\\n",
       "1523     e         x           f         n       f    n               f   \n",
       "6774     e         x           f         w       f    n               f   \n",
       "7922     e         k           s         n       f    n               a   \n",
       "7177     p         k           s         n       f    f               f   \n",
       "960      e         x           f         n       f    n               f   \n",
       "\n",
       "     gill-spacing gill-size gill-color  ... stalk-surface-below-ring  \\\n",
       "1523            w         b          n  ...                        f   \n",
       "6774            w         b          g  ...                        k   \n",
       "7922            c         b          o  ...                        s   \n",
       "7177            c         n          b  ...                        k   \n",
       "960             w         b          n  ...                        f   \n",
       "\n",
       "     stalk-color-above-ring stalk-color-below-ring veil-type veil-color  \\\n",
       "1523                      w                      w         p          w   \n",
       "6774                      w                      w         p          w   \n",
       "7922                      o                      o         p          o   \n",
       "7177                      p                      w         p          w   \n",
       "960                       w                      w         p          w   \n",
       "\n",
       "     ring-number ring-type spore-print-color population habitat  \n",
       "1523           o         e                 n          s       g  \n",
       "6774           t         p                 w          n       g  \n",
       "7922           o         p                 y          c       l  \n",
       "7177           o         e                 w          v       l  \n",
       "960            o         e                 k          a       g  \n",
       "\n",
       "[5 rows x 23 columns]"
      ]
     },
     "execution_count": 306,
     "metadata": {},
     "output_type": "execute_result"
    }
   ],
   "source": [
    "data = pd.read_csv('mushrooms.csv')\n",
    "\n",
    "data.sample(5)"
   ]
  },
  {
   "cell_type": "code",
   "execution_count": 307,
   "metadata": {},
   "outputs": [
    {
     "data": {
      "text/plain": [
       "array(['p', 'e'], dtype=object)"
      ]
     },
     "execution_count": 307,
     "metadata": {},
     "output_type": "execute_result"
    }
   ],
   "source": [
    "data['class'].unique()"
   ]
  },
  {
   "cell_type": "code",
   "execution_count": 308,
   "metadata": {},
   "outputs": [
    {
     "data": {
      "text/plain": [
       "(8124, 23)"
      ]
     },
     "execution_count": 308,
     "metadata": {},
     "output_type": "execute_result"
    }
   ],
   "source": [
    "data.shape"
   ]
  },
  {
   "cell_type": "code",
   "execution_count": 309,
   "metadata": {},
   "outputs": [
    {
     "name": "stdout",
     "output_type": "stream",
     "text": [
      "<class 'pandas.core.frame.DataFrame'>\n",
      "RangeIndex: 8124 entries, 0 to 8123\n",
      "Data columns (total 23 columns):\n",
      " #   Column                    Non-Null Count  Dtype \n",
      "---  ------                    --------------  ----- \n",
      " 0   class                     8124 non-null   object\n",
      " 1   cap-shape                 8124 non-null   object\n",
      " 2   cap-surface               8124 non-null   object\n",
      " 3   cap-color                 8124 non-null   object\n",
      " 4   bruises                   8124 non-null   object\n",
      " 5   odor                      8124 non-null   object\n",
      " 6   gill-attachment           8124 non-null   object\n",
      " 7   gill-spacing              8124 non-null   object\n",
      " 8   gill-size                 8124 non-null   object\n",
      " 9   gill-color                8124 non-null   object\n",
      " 10  stalk-shape               8124 non-null   object\n",
      " 11  stalk-root                8124 non-null   object\n",
      " 12  stalk-surface-above-ring  8124 non-null   object\n",
      " 13  stalk-surface-below-ring  8124 non-null   object\n",
      " 14  stalk-color-above-ring    8124 non-null   object\n",
      " 15  stalk-color-below-ring    8124 non-null   object\n",
      " 16  veil-type                 8124 non-null   object\n",
      " 17  veil-color                8124 non-null   object\n",
      " 18  ring-number               8124 non-null   object\n",
      " 19  ring-type                 8124 non-null   object\n",
      " 20  spore-print-color         8124 non-null   object\n",
      " 21  population                8124 non-null   object\n",
      " 22  habitat                   8124 non-null   object\n",
      "dtypes: object(23)\n",
      "memory usage: 1.4+ MB\n"
     ]
    }
   ],
   "source": [
    "data.info()"
   ]
  },
  {
   "cell_type": "code",
   "execution_count": 310,
   "metadata": {},
   "outputs": [
    {
     "data": {
      "text/plain": [
       "class                       0\n",
       "cap-shape                   0\n",
       "cap-surface                 0\n",
       "cap-color                   0\n",
       "bruises                     0\n",
       "odor                        0\n",
       "gill-attachment             0\n",
       "gill-spacing                0\n",
       "gill-size                   0\n",
       "gill-color                  0\n",
       "stalk-shape                 0\n",
       "stalk-root                  0\n",
       "stalk-surface-above-ring    0\n",
       "stalk-surface-below-ring    0\n",
       "stalk-color-above-ring      0\n",
       "stalk-color-below-ring      0\n",
       "veil-type                   0\n",
       "veil-color                  0\n",
       "ring-number                 0\n",
       "ring-type                   0\n",
       "spore-print-color           0\n",
       "population                  0\n",
       "habitat                     0\n",
       "dtype: int64"
      ]
     },
     "execution_count": 310,
     "metadata": {},
     "output_type": "execute_result"
    }
   ],
   "source": [
    "data.isna().sum()"
   ]
  },
  {
   "cell_type": "code",
   "execution_count": 311,
   "metadata": {},
   "outputs": [
    {
     "data": {
      "text/plain": [
       "<AxesSubplot:xlabel='class', ylabel='count'>"
      ]
     },
     "execution_count": 311,
     "metadata": {},
     "output_type": "execute_result"
    },
    {
     "data": {
      "image/png": "[encoded data removed]",
      "text/plain": [
       "<Figure size 432x288 with 1 Axes>"
      ]
     },
     "metadata": {
      "needs_background": "light"
     },
     "output_type": "display_data"
    }
   ],
   "source": [
    "sns.countplot(data['class'])"
   ]
  },
  {
   "cell_type": "code",
   "execution_count": 312,
   "metadata": {},
   "outputs": [
    {
     "data": {
      "text/plain": [
       "Index(['class', 'cap-shape', 'cap-surface', 'cap-color', 'bruises', 'odor',\n",
       "       'gill-attachment', 'gill-spacing', 'gill-size', 'gill-color',\n",
       "       'stalk-shape', 'stalk-root', 'stalk-surface-above-ring',\n",
       "       'stalk-surface-below-ring', 'stalk-color-above-ring',\n",
       "       'stalk-color-below-ring', 'veil-type', 'veil-color', 'ring-number',\n",
       "       'ring-type', 'spore-print-color', 'population', 'habitat'],\n",
       "      dtype='object')"
      ]
     },
     "execution_count": 312,
     "metadata": {},
     "output_type": "execute_result"
    }
   ],
   "source": [
    "data.columns"
   ]
  },
  {
   "cell_type": "code",
   "execution_count": 313,
   "metadata": {},
   "outputs": [],
   "source": [
    "df = pd.concat([data,pd.get_dummies(data['cap-shape'], prefix='cap-shape')],axis=1)"
   ]
  },
  {
   "cell_type": "code",
   "execution_count": 314,
   "metadata": {},
   "outputs": [],
   "source": [
    "df = pd.concat([df,pd.get_dummies(data['cap-surface'], prefix='cap-surface')],axis=1)"
   ]
  },
  {
   "cell_type": "code",
   "execution_count": 315,
   "metadata": {},
   "outputs": [],
   "source": [
    "df = pd.concat([df,pd.get_dummies(data['cap-color'], prefix='cap-color')],axis=1)"
   ]
  },
  {
   "cell_type": "code",
   "execution_count": 316,
   "metadata": {},
   "outputs": [],
   "source": [
    "df = pd.concat([data,pd.get_dummies(data['bruises'], prefix='bruises')],axis=1)"
   ]
  },
  {
   "cell_type": "code",
   "execution_count": 317,
   "metadata": {},
   "outputs": [],
   "source": [
    "df = pd.concat([data,pd.get_dummies(data['odor'], prefix='odor')],axis=1)"
   ]
  },
  {
   "cell_type": "code",
   "execution_count": 318,
   "metadata": {},
   "outputs": [],
   "source": [
    "df = pd.concat([df,pd.get_dummies(data['gill-attachment'], prefix='gill-attachment')],axis=1)"
   ]
  },
  {
   "cell_type": "code",
   "execution_count": 319,
   "metadata": {},
   "outputs": [],
   "source": [
    "df = pd.concat([df,pd.get_dummies(data['gill-spacing'], prefix='gill-spacing')],axis=1)"
   ]
  },
  {
   "cell_type": "code",
   "execution_count": 320,
   "metadata": {},
   "outputs": [],
   "source": [
    "df = pd.concat([df,pd.get_dummies(data['gill-size'], prefix='gill-size')],axis=1)"
   ]
  },
  {
   "cell_type": "code",
   "execution_count": 321,
   "metadata": {},
   "outputs": [],
   "source": [
    "df = pd.concat([df,pd.get_dummies(data['gill-color'], prefix='gill-color')],axis=1)"
   ]
  },
  {
   "cell_type": "code",
   "execution_count": 322,
   "metadata": {},
   "outputs": [],
   "source": [
    "df = pd.concat([df,pd.get_dummies(data['stalk-shape'], prefix='stalk-shape')],axis=1)"
   ]
  },
  {
   "cell_type": "code",
   "execution_count": 323,
   "metadata": {},
   "outputs": [
    {
     "data": {
      "text/plain": [
       "Index(['class', 'cap-shape', 'cap-surface', 'cap-color', 'bruises', 'odor',\n",
       "       'gill-attachment', 'gill-spacing', 'gill-size', 'gill-color',\n",
       "       'stalk-shape', 'stalk-root', 'stalk-surface-above-ring',\n",
       "       'stalk-surface-below-ring', 'stalk-color-above-ring',\n",
       "       'stalk-color-below-ring', 'veil-type', 'veil-color', 'ring-number',\n",
       "       'ring-type', 'spore-print-color', 'population', 'habitat'],\n",
       "      dtype='object')"
      ]
     },
     "execution_count": 323,
     "metadata": {},
     "output_type": "execute_result"
    }
   ],
   "source": [
    "data.columns"
   ]
  },
  {
   "cell_type": "code",
   "execution_count": 324,
   "metadata": {},
   "outputs": [],
   "source": [
    "df = pd.concat([df,pd.get_dummies(data['stalk-root'], prefix='stalk-root')],axis=1)"
   ]
  },
  {
   "cell_type": "code",
   "execution_count": 325,
   "metadata": {},
   "outputs": [],
   "source": [
    "df = pd.concat([df,pd.get_dummies(data['stalk-surface-above-ring'], prefix='stalk-surface-above-ring')],axis=1)"
   ]
  },
  {
   "cell_type": "code",
   "execution_count": 326,
   "metadata": {},
   "outputs": [],
   "source": [
    "df = pd.concat([df,pd.get_dummies(data['stalk-surface-below-ring'], prefix='stalk-surface-below-ring')],axis=1)"
   ]
  },
  {
   "cell_type": "code",
   "execution_count": 327,
   "metadata": {},
   "outputs": [],
   "source": [
    "df = pd.concat([df,pd.get_dummies(data['veil-type'], prefix='veil-type')],axis=1)"
   ]
  },
  {
   "cell_type": "code",
   "execution_count": 328,
   "metadata": {},
   "outputs": [],
   "source": [
    "df = pd.concat([df,pd.get_dummies(data['veil-color'], prefix='veil-color')],axis=1)"
   ]
  },
  {
   "cell_type": "code",
   "execution_count": 329,
   "metadata": {},
   "outputs": [],
   "source": [
    "df = pd.concat([df,pd.get_dummies(data['ring-number'], prefix='ring-number')],axis=1)"
   ]
  },
  {
   "cell_type": "code",
   "execution_count": 330,
   "metadata": {},
   "outputs": [],
   "source": [
    "df = pd.concat([df,pd.get_dummies(data['ring-type'], prefix='ring-type')],axis=1)"
   ]
  },
  {
   "cell_type": "code",
   "execution_count": 331,
   "metadata": {},
   "outputs": [],
   "source": [
    "df = pd.concat([df,pd.get_dummies(data['spore-print-color'], prefix='spore-print-color')],axis=1)"
   ]
  },
  {
   "cell_type": "code",
   "execution_count": 332,
   "metadata": {},
   "outputs": [],
   "source": [
    "df = pd.concat([df,pd.get_dummies(data['population'], prefix='population')],axis=1)"
   ]
  },
  {
   "cell_type": "code",
   "execution_count": 333,
   "metadata": {},
   "outputs": [],
   "source": [
    "df = pd.concat([df,pd.get_dummies(data['habitat'], prefix='habitat')],axis=1)"
   ]
  },
  {
   "cell_type": "code",
   "execution_count": 334,
   "metadata": {},
   "outputs": [],
   "source": [
    "df=df.drop(['cap-shape', 'cap-surface', 'cap-color', 'bruises', 'odor',\n",
    "       'gill-attachment', 'gill-spacing'],axis=1)\n",
    "df=df.drop(['gill-size', 'gill-color',\n",
    "       'stalk-shape', 'stalk-root', 'stalk-surface-above-ring',\n",
    "       'stalk-surface-below-ring', 'stalk-color-above-ring'],axis=1)\n",
    "df=df.drop(['stalk-color-below-ring', 'veil-type', 'veil-color', 'ring-number',\n",
    "       'ring-type', 'spore-print-color', 'population', 'habitat'],axis=1)"
   ]
  },
  {
   "cell_type": "code",
   "execution_count": 335,
   "metadata": {},
   "outputs": [
    {
     "data": {
      "text/html": [
       "<div>\n",
       "<style scoped>\n",
       "    .dataframe tbody tr th:only-of-type {\n",
       "        vertical-align: middle;\n",
       "    }\n",
       "\n",
       "    .dataframe tbody tr th {\n",
       "        vertical-align: top;\n",
       "    }\n",
       "\n",
       "    .dataframe thead th {\n",
       "        text-align: right;\n",
       "    }\n",
       "</style>\n",
       "<table border=\"1\" class=\"dataframe\">\n",
       "  <thead>\n",
       "    <tr style=\"text-align: right;\">\n",
       "      <th></th>\n",
       "      <th>class</th>\n",
       "      <th>odor_a</th>\n",
       "      <th>odor_c</th>\n",
       "      <th>odor_f</th>\n",
       "      <th>odor_l</th>\n",
       "      <th>odor_m</th>\n",
       "      <th>odor_n</th>\n",
       "      <th>odor_p</th>\n",
       "      <th>odor_s</th>\n",
       "      <th>odor_y</th>\n",
       "      <th>...</th>\n",
       "      <th>population_s</th>\n",
       "      <th>population_v</th>\n",
       "      <th>population_y</th>\n",
       "      <th>habitat_d</th>\n",
       "      <th>habitat_g</th>\n",
       "      <th>habitat_l</th>\n",
       "      <th>habitat_m</th>\n",
       "      <th>habitat_p</th>\n",
       "      <th>habitat_u</th>\n",
       "      <th>habitat_w</th>\n",
       "    </tr>\n",
       "  </thead>\n",
       "  <tbody>\n",
       "    <tr>\n",
       "      <th>5233</th>\n",
       "      <td>e</td>\n",
       "      <td>0</td>\n",
       "      <td>0</td>\n",
       "      <td>0</td>\n",
       "      <td>0</td>\n",
       "      <td>0</td>\n",
       "      <td>1</td>\n",
       "      <td>0</td>\n",
       "      <td>0</td>\n",
       "      <td>0</td>\n",
       "      <td>...</td>\n",
       "      <td>0</td>\n",
       "      <td>0</td>\n",
       "      <td>0</td>\n",
       "      <td>0</td>\n",
       "      <td>0</td>\n",
       "      <td>0</td>\n",
       "      <td>0</td>\n",
       "      <td>0</td>\n",
       "      <td>0</td>\n",
       "      <td>1</td>\n",
       "    </tr>\n",
       "    <tr>\n",
       "      <th>3643</th>\n",
       "      <td>e</td>\n",
       "      <td>0</td>\n",
       "      <td>0</td>\n",
       "      <td>0</td>\n",
       "      <td>0</td>\n",
       "      <td>0</td>\n",
       "      <td>1</td>\n",
       "      <td>0</td>\n",
       "      <td>0</td>\n",
       "      <td>0</td>\n",
       "      <td>...</td>\n",
       "      <td>0</td>\n",
       "      <td>0</td>\n",
       "      <td>1</td>\n",
       "      <td>1</td>\n",
       "      <td>0</td>\n",
       "      <td>0</td>\n",
       "      <td>0</td>\n",
       "      <td>0</td>\n",
       "      <td>0</td>\n",
       "      <td>0</td>\n",
       "    </tr>\n",
       "    <tr>\n",
       "      <th>3487</th>\n",
       "      <td>e</td>\n",
       "      <td>0</td>\n",
       "      <td>0</td>\n",
       "      <td>0</td>\n",
       "      <td>0</td>\n",
       "      <td>0</td>\n",
       "      <td>1</td>\n",
       "      <td>0</td>\n",
       "      <td>0</td>\n",
       "      <td>0</td>\n",
       "      <td>...</td>\n",
       "      <td>0</td>\n",
       "      <td>0</td>\n",
       "      <td>1</td>\n",
       "      <td>1</td>\n",
       "      <td>0</td>\n",
       "      <td>0</td>\n",
       "      <td>0</td>\n",
       "      <td>0</td>\n",
       "      <td>0</td>\n",
       "      <td>0</td>\n",
       "    </tr>\n",
       "    <tr>\n",
       "      <th>4321</th>\n",
       "      <td>p</td>\n",
       "      <td>0</td>\n",
       "      <td>0</td>\n",
       "      <td>1</td>\n",
       "      <td>0</td>\n",
       "      <td>0</td>\n",
       "      <td>0</td>\n",
       "      <td>0</td>\n",
       "      <td>0</td>\n",
       "      <td>0</td>\n",
       "      <td>...</td>\n",
       "      <td>0</td>\n",
       "      <td>0</td>\n",
       "      <td>1</td>\n",
       "      <td>0</td>\n",
       "      <td>1</td>\n",
       "      <td>0</td>\n",
       "      <td>0</td>\n",
       "      <td>0</td>\n",
       "      <td>0</td>\n",
       "      <td>0</td>\n",
       "    </tr>\n",
       "    <tr>\n",
       "      <th>495</th>\n",
       "      <td>e</td>\n",
       "      <td>1</td>\n",
       "      <td>0</td>\n",
       "      <td>0</td>\n",
       "      <td>0</td>\n",
       "      <td>0</td>\n",
       "      <td>0</td>\n",
       "      <td>0</td>\n",
       "      <td>0</td>\n",
       "      <td>0</td>\n",
       "      <td>...</td>\n",
       "      <td>0</td>\n",
       "      <td>0</td>\n",
       "      <td>0</td>\n",
       "      <td>0</td>\n",
       "      <td>0</td>\n",
       "      <td>0</td>\n",
       "      <td>1</td>\n",
       "      <td>0</td>\n",
       "      <td>0</td>\n",
       "      <td>0</td>\n",
       "    </tr>\n",
       "    <tr>\n",
       "      <th>2711</th>\n",
       "      <td>e</td>\n",
       "      <td>0</td>\n",
       "      <td>0</td>\n",
       "      <td>0</td>\n",
       "      <td>0</td>\n",
       "      <td>0</td>\n",
       "      <td>1</td>\n",
       "      <td>0</td>\n",
       "      <td>0</td>\n",
       "      <td>0</td>\n",
       "      <td>...</td>\n",
       "      <td>0</td>\n",
       "      <td>0</td>\n",
       "      <td>1</td>\n",
       "      <td>1</td>\n",
       "      <td>0</td>\n",
       "      <td>0</td>\n",
       "      <td>0</td>\n",
       "      <td>0</td>\n",
       "      <td>0</td>\n",
       "      <td>0</td>\n",
       "    </tr>\n",
       "    <tr>\n",
       "      <th>6027</th>\n",
       "      <td>p</td>\n",
       "      <td>0</td>\n",
       "      <td>0</td>\n",
       "      <td>0</td>\n",
       "      <td>0</td>\n",
       "      <td>0</td>\n",
       "      <td>0</td>\n",
       "      <td>0</td>\n",
       "      <td>0</td>\n",
       "      <td>1</td>\n",
       "      <td>...</td>\n",
       "      <td>0</td>\n",
       "      <td>1</td>\n",
       "      <td>0</td>\n",
       "      <td>0</td>\n",
       "      <td>0</td>\n",
       "      <td>1</td>\n",
       "      <td>0</td>\n",
       "      <td>0</td>\n",
       "      <td>0</td>\n",
       "      <td>0</td>\n",
       "    </tr>\n",
       "    <tr>\n",
       "      <th>3408</th>\n",
       "      <td>e</td>\n",
       "      <td>0</td>\n",
       "      <td>0</td>\n",
       "      <td>0</td>\n",
       "      <td>0</td>\n",
       "      <td>0</td>\n",
       "      <td>1</td>\n",
       "      <td>0</td>\n",
       "      <td>0</td>\n",
       "      <td>0</td>\n",
       "      <td>...</td>\n",
       "      <td>0</td>\n",
       "      <td>0</td>\n",
       "      <td>1</td>\n",
       "      <td>1</td>\n",
       "      <td>0</td>\n",
       "      <td>0</td>\n",
       "      <td>0</td>\n",
       "      <td>0</td>\n",
       "      <td>0</td>\n",
       "      <td>0</td>\n",
       "    </tr>\n",
       "    <tr>\n",
       "      <th>2871</th>\n",
       "      <td>e</td>\n",
       "      <td>0</td>\n",
       "      <td>0</td>\n",
       "      <td>0</td>\n",
       "      <td>0</td>\n",
       "      <td>0</td>\n",
       "      <td>1</td>\n",
       "      <td>0</td>\n",
       "      <td>0</td>\n",
       "      <td>0</td>\n",
       "      <td>...</td>\n",
       "      <td>0</td>\n",
       "      <td>1</td>\n",
       "      <td>0</td>\n",
       "      <td>1</td>\n",
       "      <td>0</td>\n",
       "      <td>0</td>\n",
       "      <td>0</td>\n",
       "      <td>0</td>\n",
       "      <td>0</td>\n",
       "      <td>0</td>\n",
       "    </tr>\n",
       "    <tr>\n",
       "      <th>5716</th>\n",
       "      <td>p</td>\n",
       "      <td>0</td>\n",
       "      <td>0</td>\n",
       "      <td>1</td>\n",
       "      <td>0</td>\n",
       "      <td>0</td>\n",
       "      <td>0</td>\n",
       "      <td>0</td>\n",
       "      <td>0</td>\n",
       "      <td>0</td>\n",
       "      <td>...</td>\n",
       "      <td>0</td>\n",
       "      <td>1</td>\n",
       "      <td>0</td>\n",
       "      <td>0</td>\n",
       "      <td>0</td>\n",
       "      <td>0</td>\n",
       "      <td>0</td>\n",
       "      <td>0</td>\n",
       "      <td>1</td>\n",
       "      <td>0</td>\n",
       "    </tr>\n",
       "  </tbody>\n",
       "</table>\n",
       "<p>10 rows × 78 columns</p>\n",
       "</div>"
      ],
      "text/plain": [
       "     class  odor_a  odor_c  odor_f  odor_l  odor_m  odor_n  odor_p  odor_s  \\\n",
       "5233     e       0       0       0       0       0       1       0       0   \n",
       "3643     e       0       0       0       0       0       1       0       0   \n",
       "3487     e       0       0       0       0       0       1       0       0   \n",
       "4321     p       0       0       1       0       0       0       0       0   \n",
       "495      e       1       0       0       0       0       0       0       0   \n",
       "2711     e       0       0       0       0       0       1       0       0   \n",
       "6027     p       0       0       0       0       0       0       0       0   \n",
       "3408     e       0       0       0       0       0       1       0       0   \n",
       "2871     e       0       0       0       0       0       1       0       0   \n",
       "5716     p       0       0       1       0       0       0       0       0   \n",
       "\n",
       "      odor_y  ...  population_s  population_v  population_y  habitat_d  \\\n",
       "5233       0  ...             0             0             0          0   \n",
       "3643       0  ...             0             0             1          1   \n",
       "3487       0  ...             0             0             1          1   \n",
       "4321       0  ...             0             0             1          0   \n",
       "495        0  ...             0             0             0          0   \n",
       "2711       0  ...             0             0             1          1   \n",
       "6027       1  ...             0             1             0          0   \n",
       "3408       0  ...             0             0             1          1   \n",
       "2871       0  ...             0             1             0          1   \n",
       "5716       0  ...             0             1             0          0   \n",
       "\n",
       "      habitat_g  habitat_l  habitat_m  habitat_p  habitat_u  habitat_w  \n",
       "5233          0          0          0          0          0          1  \n",
       "3643          0          0          0          0          0          0  \n",
       "3487          0          0          0          0          0          0  \n",
       "4321          1          0          0          0          0          0  \n",
       "495           0          0          1          0          0          0  \n",
       "2711          0          0          0          0          0          0  \n",
       "6027          0          1          0          0          0          0  \n",
       "3408          0          0          0          0          0          0  \n",
       "2871          0          0          0          0          0          0  \n",
       "5716          0          0          0          0          1          0  \n",
       "\n",
       "[10 rows x 78 columns]"
      ]
     },
     "execution_count": 335,
     "metadata": {},
     "output_type": "execute_result"
    }
   ],
   "source": [
    "df.sample(10)"
   ]
  },
  {
   "cell_type": "markdown",
   "metadata": {},
   "source": [
    "No Null features"
   ]
  },
  {
   "cell_type": "markdown",
   "metadata": {},
   "source": [
    "Data Visualization"
   ]
  },
  {
   "cell_type": "code",
   "execution_count": 336,
   "metadata": {},
   "outputs": [
    {
     "data": {
      "text/plain": [
       "<AxesSubplot:xlabel='class', ylabel='count'>"
      ]
     },
     "execution_count": 336,
     "metadata": {},
     "output_type": "execute_result"
    },
    {
     "data": {
      "image/png": "[encoded data removed]",
      "text/plain": [
       "<Figure size 432x288 with 1 Axes>"
      ]
     },
     "metadata": {
      "needs_background": "light"
     },
     "output_type": "display_data"
    }
   ],
   "source": [
    "sns.countplot(x ='class', data = data)"
   ]
  },
  {
   "cell_type": "code",
   "execution_count": 337,
   "metadata": {},
   "outputs": [
    {
     "data": {
      "text/plain": [
       "e    4208\n",
       "p    3916\n",
       "Name: class, dtype: int64"
      ]
     },
     "execution_count": 337,
     "metadata": {},
     "output_type": "execute_result"
    }
   ],
   "source": [
    "data['class'].value_counts()"
   ]
  },
  {
   "cell_type": "markdown",
   "metadata": {},
   "source": [
    "Replacing string values with integers in target column"
   ]
  },
  {
   "cell_type": "code",
   "execution_count": 338,
   "metadata": {},
   "outputs": [
    {
     "data": {
      "text/plain": [
       "pandas.core.frame.DataFrame"
      ]
     },
     "execution_count": 338,
     "metadata": {},
     "output_type": "execute_result"
    }
   ],
   "source": [
    "type(df)"
   ]
  },
  {
   "cell_type": "code",
   "execution_count": 339,
   "metadata": {},
   "outputs": [
    {
     "data": {
      "text/plain": [
       "array(['p', 'e'], dtype=object)"
      ]
     },
     "execution_count": 339,
     "metadata": {},
     "output_type": "execute_result"
    }
   ],
   "source": [
    "df['class'].unique()"
   ]
  },
  {
   "cell_type": "code",
   "execution_count": 340,
   "metadata": {},
   "outputs": [
    {
     "data": {
      "text/html": [
       "<div>\n",
       "<style scoped>\n",
       "    .dataframe tbody tr th:only-of-type {\n",
       "        vertical-align: middle;\n",
       "    }\n",
       "\n",
       "    .dataframe tbody tr th {\n",
       "        vertical-align: top;\n",
       "    }\n",
       "\n",
       "    .dataframe thead th {\n",
       "        text-align: right;\n",
       "    }\n",
       "</style>\n",
       "<table border=\"1\" class=\"dataframe\">\n",
       "  <thead>\n",
       "    <tr style=\"text-align: right;\">\n",
       "      <th></th>\n",
       "      <th>class</th>\n",
       "    </tr>\n",
       "  </thead>\n",
       "  <tbody>\n",
       "    <tr>\n",
       "      <th>611</th>\n",
       "      <td>1</td>\n",
       "    </tr>\n",
       "    <tr>\n",
       "      <th>4944</th>\n",
       "      <td>0</td>\n",
       "    </tr>\n",
       "    <tr>\n",
       "      <th>2305</th>\n",
       "      <td>1</td>\n",
       "    </tr>\n",
       "    <tr>\n",
       "      <th>2671</th>\n",
       "      <td>1</td>\n",
       "    </tr>\n",
       "    <tr>\n",
       "      <th>2089</th>\n",
       "      <td>0</td>\n",
       "    </tr>\n",
       "    <tr>\n",
       "      <th>7504</th>\n",
       "      <td>0</td>\n",
       "    </tr>\n",
       "    <tr>\n",
       "      <th>1022</th>\n",
       "      <td>1</td>\n",
       "    </tr>\n",
       "    <tr>\n",
       "      <th>6493</th>\n",
       "      <td>0</td>\n",
       "    </tr>\n",
       "    <tr>\n",
       "      <th>5167</th>\n",
       "      <td>0</td>\n",
       "    </tr>\n",
       "    <tr>\n",
       "      <th>7744</th>\n",
       "      <td>1</td>\n",
       "    </tr>\n",
       "  </tbody>\n",
       "</table>\n",
       "</div>"
      ],
      "text/plain": [
       "      class\n",
       "611       1\n",
       "4944      0\n",
       "2305      1\n",
       "2671      1\n",
       "2089      0\n",
       "7504      0\n",
       "1022      1\n",
       "6493      0\n",
       "5167      0\n",
       "7744      1"
      ]
     },
     "execution_count": 340,
     "metadata": {},
     "output_type": "execute_result"
    }
   ],
   "source": [
    "class_att = {'p':0, 'e':1}\n",
    "\n",
    "df['class'].replace(class_att, inplace=True)\n",
    "\n",
    "df[['class']].sample(10)"
   ]
  },
  {
   "cell_type": "markdown",
   "metadata": {},
   "source": [
    "Splitting the data"
   ]
  },
  {
   "cell_type": "code",
   "execution_count": 343,
   "metadata": {},
   "outputs": [],
   "source": [
    "features = df.drop('class', axis=1)\n",
    "\n",
    "target = df[['class']]"
   ]
  },
  {
   "cell_type": "code",
   "execution_count": 344,
   "metadata": {},
   "outputs": [
    {
     "data": {
      "text/html": [
       "<div>\n",
       "<style scoped>\n",
       "    .dataframe tbody tr th:only-of-type {\n",
       "        vertical-align: middle;\n",
       "    }\n",
       "\n",
       "    .dataframe tbody tr th {\n",
       "        vertical-align: top;\n",
       "    }\n",
       "\n",
       "    .dataframe thead th {\n",
       "        text-align: right;\n",
       "    }\n",
       "</style>\n",
       "<table border=\"1\" class=\"dataframe\">\n",
       "  <thead>\n",
       "    <tr style=\"text-align: right;\">\n",
       "      <th></th>\n",
       "      <th>odor_a</th>\n",
       "      <th>odor_c</th>\n",
       "      <th>odor_f</th>\n",
       "      <th>odor_l</th>\n",
       "      <th>odor_m</th>\n",
       "      <th>odor_n</th>\n",
       "      <th>odor_p</th>\n",
       "      <th>odor_s</th>\n",
       "      <th>odor_y</th>\n",
       "      <th>gill-attachment_a</th>\n",
       "      <th>...</th>\n",
       "      <th>population_s</th>\n",
       "      <th>population_v</th>\n",
       "      <th>population_y</th>\n",
       "      <th>habitat_d</th>\n",
       "      <th>habitat_g</th>\n",
       "      <th>habitat_l</th>\n",
       "      <th>habitat_m</th>\n",
       "      <th>habitat_p</th>\n",
       "      <th>habitat_u</th>\n",
       "      <th>habitat_w</th>\n",
       "    </tr>\n",
       "  </thead>\n",
       "  <tbody>\n",
       "    <tr>\n",
       "      <th>7607</th>\n",
       "      <td>0</td>\n",
       "      <td>0</td>\n",
       "      <td>0</td>\n",
       "      <td>0</td>\n",
       "      <td>0</td>\n",
       "      <td>0</td>\n",
       "      <td>0</td>\n",
       "      <td>0</td>\n",
       "      <td>1</td>\n",
       "      <td>0</td>\n",
       "      <td>...</td>\n",
       "      <td>0</td>\n",
       "      <td>1</td>\n",
       "      <td>0</td>\n",
       "      <td>0</td>\n",
       "      <td>0</td>\n",
       "      <td>1</td>\n",
       "      <td>0</td>\n",
       "      <td>0</td>\n",
       "      <td>0</td>\n",
       "      <td>0</td>\n",
       "    </tr>\n",
       "    <tr>\n",
       "      <th>7201</th>\n",
       "      <td>0</td>\n",
       "      <td>0</td>\n",
       "      <td>1</td>\n",
       "      <td>0</td>\n",
       "      <td>0</td>\n",
       "      <td>0</td>\n",
       "      <td>0</td>\n",
       "      <td>0</td>\n",
       "      <td>0</td>\n",
       "      <td>0</td>\n",
       "      <td>...</td>\n",
       "      <td>0</td>\n",
       "      <td>1</td>\n",
       "      <td>0</td>\n",
       "      <td>1</td>\n",
       "      <td>0</td>\n",
       "      <td>0</td>\n",
       "      <td>0</td>\n",
       "      <td>0</td>\n",
       "      <td>0</td>\n",
       "      <td>0</td>\n",
       "    </tr>\n",
       "    <tr>\n",
       "      <th>2396</th>\n",
       "      <td>0</td>\n",
       "      <td>0</td>\n",
       "      <td>0</td>\n",
       "      <td>0</td>\n",
       "      <td>0</td>\n",
       "      <td>1</td>\n",
       "      <td>0</td>\n",
       "      <td>0</td>\n",
       "      <td>0</td>\n",
       "      <td>0</td>\n",
       "      <td>...</td>\n",
       "      <td>0</td>\n",
       "      <td>1</td>\n",
       "      <td>0</td>\n",
       "      <td>1</td>\n",
       "      <td>0</td>\n",
       "      <td>0</td>\n",
       "      <td>0</td>\n",
       "      <td>0</td>\n",
       "      <td>0</td>\n",
       "      <td>0</td>\n",
       "    </tr>\n",
       "    <tr>\n",
       "      <th>6572</th>\n",
       "      <td>0</td>\n",
       "      <td>0</td>\n",
       "      <td>1</td>\n",
       "      <td>0</td>\n",
       "      <td>0</td>\n",
       "      <td>0</td>\n",
       "      <td>0</td>\n",
       "      <td>0</td>\n",
       "      <td>0</td>\n",
       "      <td>0</td>\n",
       "      <td>...</td>\n",
       "      <td>0</td>\n",
       "      <td>1</td>\n",
       "      <td>0</td>\n",
       "      <td>0</td>\n",
       "      <td>0</td>\n",
       "      <td>1</td>\n",
       "      <td>0</td>\n",
       "      <td>0</td>\n",
       "      <td>0</td>\n",
       "      <td>0</td>\n",
       "    </tr>\n",
       "    <tr>\n",
       "      <th>4521</th>\n",
       "      <td>0</td>\n",
       "      <td>0</td>\n",
       "      <td>1</td>\n",
       "      <td>0</td>\n",
       "      <td>0</td>\n",
       "      <td>0</td>\n",
       "      <td>0</td>\n",
       "      <td>0</td>\n",
       "      <td>0</td>\n",
       "      <td>0</td>\n",
       "      <td>...</td>\n",
       "      <td>0</td>\n",
       "      <td>1</td>\n",
       "      <td>0</td>\n",
       "      <td>1</td>\n",
       "      <td>0</td>\n",
       "      <td>0</td>\n",
       "      <td>0</td>\n",
       "      <td>0</td>\n",
       "      <td>0</td>\n",
       "      <td>0</td>\n",
       "    </tr>\n",
       "  </tbody>\n",
       "</table>\n",
       "<p>5 rows × 77 columns</p>\n",
       "</div>"
      ],
      "text/plain": [
       "      odor_a  odor_c  odor_f  odor_l  odor_m  odor_n  odor_p  odor_s  odor_y  \\\n",
       "7607       0       0       0       0       0       0       0       0       1   \n",
       "7201       0       0       1       0       0       0       0       0       0   \n",
       "2396       0       0       0       0       0       1       0       0       0   \n",
       "6572       0       0       1       0       0       0       0       0       0   \n",
       "4521       0       0       1       0       0       0       0       0       0   \n",
       "\n",
       "      gill-attachment_a  ...  population_s  population_v  population_y  \\\n",
       "7607                  0  ...             0             1             0   \n",
       "7201                  0  ...             0             1             0   \n",
       "2396                  0  ...             0             1             0   \n",
       "6572                  0  ...             0             1             0   \n",
       "4521                  0  ...             0             1             0   \n",
       "\n",
       "      habitat_d  habitat_g  habitat_l  habitat_m  habitat_p  habitat_u  \\\n",
       "7607          0          0          1          0          0          0   \n",
       "7201          1          0          0          0          0          0   \n",
       "2396          1          0          0          0          0          0   \n",
       "6572          0          0          1          0          0          0   \n",
       "4521          1          0          0          0          0          0   \n",
       "\n",
       "      habitat_w  \n",
       "7607          0  \n",
       "7201          0  \n",
       "2396          0  \n",
       "6572          0  \n",
       "4521          0  \n",
       "\n",
       "[5 rows x 77 columns]"
      ]
     },
     "execution_count": 344,
     "metadata": {},
     "output_type": "execute_result"
    }
   ],
   "source": [
    "features.sample(5)"
   ]
  },
  {
   "cell_type": "code",
   "execution_count": 345,
   "metadata": {},
   "outputs": [
    {
     "data": {
      "text/html": [
       "<div>\n",
       "<style scoped>\n",
       "    .dataframe tbody tr th:only-of-type {\n",
       "        vertical-align: middle;\n",
       "    }\n",
       "\n",
       "    .dataframe tbody tr th {\n",
       "        vertical-align: top;\n",
       "    }\n",
       "\n",
       "    .dataframe thead th {\n",
       "        text-align: right;\n",
       "    }\n",
       "</style>\n",
       "<table border=\"1\" class=\"dataframe\">\n",
       "  <thead>\n",
       "    <tr style=\"text-align: right;\">\n",
       "      <th></th>\n",
       "      <th>class</th>\n",
       "    </tr>\n",
       "  </thead>\n",
       "  <tbody>\n",
       "    <tr>\n",
       "      <th>6486</th>\n",
       "      <td>0</td>\n",
       "    </tr>\n",
       "    <tr>\n",
       "      <th>5286</th>\n",
       "      <td>0</td>\n",
       "    </tr>\n",
       "    <tr>\n",
       "      <th>6834</th>\n",
       "      <td>0</td>\n",
       "    </tr>\n",
       "    <tr>\n",
       "      <th>3497</th>\n",
       "      <td>1</td>\n",
       "    </tr>\n",
       "    <tr>\n",
       "      <th>7443</th>\n",
       "      <td>1</td>\n",
       "    </tr>\n",
       "    <tr>\n",
       "      <th>3177</th>\n",
       "      <td>1</td>\n",
       "    </tr>\n",
       "    <tr>\n",
       "      <th>736</th>\n",
       "      <td>1</td>\n",
       "    </tr>\n",
       "    <tr>\n",
       "      <th>7331</th>\n",
       "      <td>0</td>\n",
       "    </tr>\n",
       "    <tr>\n",
       "      <th>5748</th>\n",
       "      <td>1</td>\n",
       "    </tr>\n",
       "    <tr>\n",
       "      <th>1919</th>\n",
       "      <td>1</td>\n",
       "    </tr>\n",
       "  </tbody>\n",
       "</table>\n",
       "</div>"
      ],
      "text/plain": [
       "      class\n",
       "6486      0\n",
       "5286      0\n",
       "6834      0\n",
       "3497      1\n",
       "7443      1\n",
       "3177      1\n",
       "736       1\n",
       "7331      0\n",
       "5748      1\n",
       "1919      1"
      ]
     },
     "execution_count": 345,
     "metadata": {},
     "output_type": "execute_result"
    }
   ],
   "source": [
    "target.sample(10)"
   ]
  },
  {
   "cell_type": "markdown",
   "metadata": {},
   "source": [
    "Splitting dataset into training and testing data"
   ]
  },
  {
   "cell_type": "code",
   "execution_count": 346,
   "metadata": {},
   "outputs": [],
   "source": [
    "from sklearn.model_selection import train_test_split\n",
    "\n",
    "x_train, x_test, y_train, y_test = train_test_split(features, \n",
    "                                                    target, \n",
    "                                                    test_size = 0.2, \n",
    "                                                    random_state=1)"
   ]
  },
  {
   "cell_type": "code",
   "execution_count": 347,
   "metadata": {},
   "outputs": [
    {
     "data": {
      "text/plain": [
       "((6499, 77), (6499, 1))"
      ]
     },
     "execution_count": 347,
     "metadata": {},
     "output_type": "execute_result"
    }
   ],
   "source": [
    "x_train.shape, y_train.shape"
   ]
  },
  {
   "cell_type": "code",
   "execution_count": 348,
   "metadata": {},
   "outputs": [
    {
     "data": {
      "text/plain": [
       "((1625, 77), (1625, 1))"
      ]
     },
     "execution_count": 348,
     "metadata": {},
     "output_type": "execute_result"
    }
   ],
   "source": [
    "x_test.shape, y_test.shape"
   ]
  },
  {
   "cell_type": "code",
   "execution_count": 391,
   "metadata": {},
   "outputs": [
    {
     "data": {
      "text/plain": [
       "class\n",
       "1        820\n",
       "0        805\n",
       "dtype: int64"
      ]
     },
     "execution_count": 391,
     "metadata": {},
     "output_type": "execute_result"
    }
   ],
   "source": [
    "y_test.value_counts()"
   ]
  },
  {
   "cell_type": "code",
   "execution_count": 349,
   "metadata": {},
   "outputs": [],
   "source": [
    "x_train, x_val, y_train, y_val = train_test_split(x_train, \n",
    "                                                  y_train, \n",
    "                                                  test_size=0.15,\n",
    "                                                  random_state=10)"
   ]
  },
  {
   "cell_type": "code",
   "execution_count": 350,
   "metadata": {},
   "outputs": [
    {
     "data": {
      "text/plain": [
       "((5524, 77), (975, 77), (1625, 77))"
      ]
     },
     "execution_count": 350,
     "metadata": {},
     "output_type": "execute_result"
    }
   ],
   "source": [
    "x_train.shape, x_val.shape, x_test.shape"
   ]
  },
  {
   "cell_type": "code",
   "execution_count": 351,
   "metadata": {},
   "outputs": [
    {
     "data": {
      "text/plain": [
       "((5524, 1), (975, 1), (1625, 1))"
      ]
     },
     "execution_count": 351,
     "metadata": {},
     "output_type": "execute_result"
    }
   ],
   "source": [
    "y_train.shape, y_val.shape, y_test.shape"
   ]
  },
  {
   "cell_type": "markdown",
   "metadata": {},
   "source": [
    "Building the model"
   ]
  },
  {
   "cell_type": "code",
   "execution_count": 371,
   "metadata": {},
   "outputs": [],
   "source": [
    "def build_model():\n",
    "    \n",
    "    inputs = tf.keras.Input(shape=(x_train.shape[1],))\n",
    "\n",
    "    dense_layer1 = layers.Dense(16, activation='relu')\n",
    "    x = dense_layer1(inputs)\n",
    "\n",
    "    dropout_layer = layers.Dropout(0.3)\n",
    "    x = dropout_layer(x)\n",
    "    \n",
    "    dense_layer2 = layers.Dense(8, activation='relu')\n",
    "    x = dense_layer2(x)\n",
    "    \n",
    "    predictions_layer = layers.Dense(1, activation='sigmoid')\n",
    "    predictions = predictions_layer(x)\n",
    "    \n",
    "    model = tf.keras.Model(inputs=inputs, outputs=predictions)\n",
    "    \n",
    "    model.summary()\n",
    "    \n",
    "    model.compile(optimizer=tf.keras.optimizers.Adam(0.001),\n",
    "                  loss=tf.keras.losses.BinaryCrossentropy(),\n",
    "                  metrics=['accuracy', \n",
    "                           tf.keras.metrics.Precision(0.5),\n",
    "                           tf.keras.metrics.Recall(0.5),])\n",
    "    return model"
   ]
  },
  {
   "cell_type": "code",
   "execution_count": 372,
   "metadata": {},
   "outputs": [
    {
     "name": "stdout",
     "output_type": "stream",
     "text": [
      "Model: \"model_10\"\n",
      "_________________________________________________________________\n",
      "Layer (type)                 Output Shape              Param #   \n",
      "=================================================================\n",
      "input_11 (InputLayer)        [(None, 77)]              0         \n",
      "_________________________________________________________________\n",
      "dense_38 (Dense)             (None, 16)                1248      \n",
      "_________________________________________________________________\n",
      "dropout_18 (Dropout)         (None, 16)                0         \n",
      "_________________________________________________________________\n",
      "dense_39 (Dense)             (None, 8)                 136       \n",
      "_________________________________________________________________\n",
      "dense_40 (Dense)             (None, 1)                 9         \n",
      "=================================================================\n",
      "Total params: 1,393\n",
      "Trainable params: 1,393\n",
      "Non-trainable params: 0\n",
      "_________________________________________________________________\n"
     ]
    }
   ],
   "source": [
    "model = build_model()"
   ]
  },
  {
   "cell_type": "code",
   "execution_count": 373,
   "metadata": {},
   "outputs": [
    {
     "data": {
      "text/plain": [
       "<ShuffleDataset shapes: ((None, 77), (None, 1)), types: (tf.uint8, tf.int64)>"
      ]
     },
     "execution_count": 373,
     "metadata": {},
     "output_type": "execute_result"
    }
   ],
   "source": [
    "dataset_train = tf.data.Dataset.from_tensor_slices((x_train.values, y_train.values))\n",
    "dataset_train = dataset_train.batch(16)\n",
    "\n",
    "dataset_train.shuffle(128)"
   ]
  },
  {
   "cell_type": "code",
   "execution_count": 374,
   "metadata": {},
   "outputs": [],
   "source": [
    "num_epochs = 100"
   ]
  },
  {
   "cell_type": "code",
   "execution_count": 375,
   "metadata": {},
   "outputs": [],
   "source": [
    "dataset_val = tf.data.Dataset.from_tensor_slices((x_val.values, y_val.values))\n",
    "dataset_val = dataset_val.batch(16)"
   ]
  },
  {
   "cell_type": "code",
   "execution_count": 376,
   "metadata": {},
   "outputs": [
    {
     "name": "stdout",
     "output_type": "stream",
     "text": [
      "Model: \"model_11\"\n",
      "_________________________________________________________________\n",
      "Layer (type)                 Output Shape              Param #   \n",
      "=================================================================\n",
      "input_12 (InputLayer)        [(None, 77)]              0         \n",
      "_________________________________________________________________\n",
      "dense_41 (Dense)             (None, 16)                1248      \n",
      "_________________________________________________________________\n",
      "dropout_19 (Dropout)         (None, 16)                0         \n",
      "_________________________________________________________________\n",
      "dense_42 (Dense)             (None, 8)                 136       \n",
      "_________________________________________________________________\n",
      "dense_43 (Dense)             (None, 1)                 9         \n",
      "=================================================================\n",
      "Total params: 1,393\n",
      "Trainable params: 1,393\n",
      "Non-trainable params: 0\n",
      "_________________________________________________________________\n",
      "WARNING:tensorflow:Expected a shuffled dataset but input dataset `x` is not shuffled. Please invoke `shuffle()` on input dataset.\n",
      "Epoch 1/100\n",
      "346/346 [==============================] - 2s 5ms/step - loss: 0.3692 - accuracy: 0.8441 - precision_11: 0.7850 - recall_11: 0.9637 - val_loss: 0.1023 - val_accuracy: 0.9733 - val_precision_11: 0.9824 - val_recall_11: 0.9673\n",
      "Epoch 2/100\n",
      "346/346 [==============================] - 1s 3ms/step - loss: 0.0836 - accuracy: 0.9797 - precision_11: 0.9762 - recall_11: 0.9850 - val_loss: 0.0227 - val_accuracy: 0.9990 - val_precision_11: 0.9981 - val_recall_11: 1.0000\n",
      "Epoch 3/100\n",
      "346/346 [==============================] - 1s 3ms/step - loss: 0.0343 - accuracy: 0.9928 - precision_11: 0.9920 - recall_11: 0.9941 - val_loss: 0.0069 - val_accuracy: 0.9990 - val_precision_11: 0.9981 - val_recall_11: 1.0000\n",
      "Epoch 4/100\n",
      "346/346 [==============================] - 1s 2ms/step - loss: 0.0178 - accuracy: 0.9962 - precision_11: 0.9962 - recall_11: 0.9965 - val_loss: 0.0031 - val_accuracy: 0.9990 - val_precision_11: 0.9981 - val_recall_11: 1.0000\n",
      "Epoch 5/100\n",
      "346/346 [==============================] - 1s 3ms/step - loss: 0.0112 - accuracy: 0.9978 - precision_11: 0.9969 - recall_11: 0.9990 - val_loss: 0.0021 - val_accuracy: 0.9990 - val_precision_11: 0.9981 - val_recall_11: 1.0000\n",
      "Epoch 6/100\n",
      "346/346 [==============================] - 1s 2ms/step - loss: 0.0093 - accuracy: 0.9984 - precision_11: 0.9986 - recall_11: 0.9983 - val_loss: 0.0012 - val_accuracy: 1.0000 - val_precision_11: 1.0000 - val_recall_11: 1.0000\n",
      "Epoch 7/100\n",
      "346/346 [==============================] - 1s 2ms/step - loss: 0.0051 - accuracy: 0.9993 - precision_11: 0.9990 - recall_11: 0.9997 - val_loss: 6.4382e-04 - val_accuracy: 1.0000 - val_precision_11: 1.0000 - val_recall_11: 1.0000\n",
      "Epoch 8/100\n",
      "346/346 [==============================] - 1s 2ms/step - loss: 0.0048 - accuracy: 0.9986 - precision_11: 0.9986 - recall_11: 0.9986 - val_loss: 4.5148e-04 - val_accuracy: 1.0000 - val_precision_11: 1.0000 - val_recall_11: 1.0000\n",
      "Epoch 9/100\n",
      "346/346 [==============================] - 1s 2ms/step - loss: 0.0034 - accuracy: 0.9996 - precision_11: 0.9997 - recall_11: 0.9997 - val_loss: 1.7362e-04 - val_accuracy: 1.0000 - val_precision_11: 1.0000 - val_recall_11: 1.0000\n",
      "Epoch 10/100\n",
      "346/346 [==============================] - 1s 2ms/step - loss: 0.0027 - accuracy: 0.9995 - precision_11: 1.0000 - recall_11: 0.9990 - val_loss: 1.0799e-04 - val_accuracy: 1.0000 - val_precision_11: 1.0000 - val_recall_11: 1.0000\n",
      "Epoch 11/100\n",
      "346/346 [==============================] - 1s 2ms/step - loss: 0.0019 - accuracy: 0.9998 - precision_11: 1.0000 - recall_11: 0.9997 - val_loss: 5.5599e-05 - val_accuracy: 1.0000 - val_precision_11: 1.0000 - val_recall_11: 1.0000\n",
      "Epoch 12/100\n",
      "346/346 [==============================] - 1s 2ms/step - loss: 0.0019 - accuracy: 0.9996 - precision_11: 1.0000 - recall_11: 0.9993 - val_loss: 3.2328e-05 - val_accuracy: 1.0000 - val_precision_11: 1.0000 - val_recall_11: 1.0000\n",
      "Epoch 13/100\n",
      "346/346 [==============================] - 1s 2ms/step - loss: 0.0018 - accuracy: 0.9996 - precision_11: 1.0000 - recall_11: 0.9993 - val_loss: 3.3932e-05 - val_accuracy: 1.0000 - val_precision_11: 1.0000 - val_recall_11: 1.0000\n",
      "Epoch 14/100\n",
      "346/346 [==============================] - 1s 3ms/step - loss: 0.0017 - accuracy: 0.9995 - precision_11: 0.9997 - recall_11: 0.9993 - val_loss: 1.3049e-05 - val_accuracy: 1.0000 - val_precision_11: 1.0000 - val_recall_11: 1.0000\n",
      "Epoch 15/100\n",
      "346/346 [==============================] - 1s 3ms/step - loss: 7.5043e-04 - accuracy: 1.0000 - precision_11: 1.0000 - recall_11: 1.0000 - val_loss: 7.3983e-06 - val_accuracy: 1.0000 - val_precision_11: 1.0000 - val_recall_11: 1.0000\n",
      "Epoch 16/100\n",
      "346/346 [==============================] - 1s 3ms/step - loss: 0.0016 - accuracy: 0.9996 - precision_11: 1.0000 - recall_11: 0.9993 - val_loss: 6.1715e-06 - val_accuracy: 1.0000 - val_precision_11: 1.0000 - val_recall_11: 1.0000\n",
      "Epoch 17/100\n",
      "346/346 [==============================] - 1s 3ms/step - loss: 5.5593e-04 - accuracy: 0.9998 - precision_11: 1.0000 - recall_11: 0.9997 - val_loss: 5.4707e-06 - val_accuracy: 1.0000 - val_precision_11: 1.0000 - val_recall_11: 1.0000\n",
      "Epoch 18/100\n",
      "346/346 [==============================] - 1s 2ms/step - loss: 5.8853e-04 - accuracy: 0.9998 - precision_11: 1.0000 - recall_11: 0.9997 - val_loss: 2.6159e-06 - val_accuracy: 1.0000 - val_precision_11: 1.0000 - val_recall_11: 1.0000\n",
      "Epoch 19/100\n",
      "346/346 [==============================] - 1s 3ms/step - loss: 6.0623e-04 - accuracy: 1.0000 - precision_11: 1.0000 - recall_11: 1.0000 - val_loss: 2.6757e-06 - val_accuracy: 1.0000 - val_precision_11: 1.0000 - val_recall_11: 1.0000\n",
      "Epoch 20/100\n",
      "346/346 [==============================] - 1s 2ms/step - loss: 9.2147e-04 - accuracy: 0.9998 - precision_11: 1.0000 - recall_11: 0.9997 - val_loss: 3.5234e-06 - val_accuracy: 1.0000 - val_precision_11: 1.0000 - val_recall_11: 1.0000\n",
      "Epoch 21/100\n",
      "346/346 [==============================] - 1s 2ms/step - loss: 6.5806e-04 - accuracy: 0.9998 - precision_11: 1.0000 - recall_11: 0.9997 - val_loss: 2.5441e-06 - val_accuracy: 1.0000 - val_precision_11: 1.0000 - val_recall_11: 1.0000\n",
      "Epoch 22/100\n",
      "346/346 [==============================] - 1s 3ms/step - loss: 2.9633e-04 - accuracy: 1.0000 - precision_11: 1.0000 - recall_11: 1.0000 - val_loss: 1.1610e-06 - val_accuracy: 1.0000 - val_precision_11: 1.0000 - val_recall_11: 1.0000\n",
      "Epoch 23/100\n",
      "346/346 [==============================] - 1s 3ms/step - loss: 2.4236e-04 - accuracy: 1.0000 - precision_11: 1.0000 - recall_11: 1.0000 - val_loss: 7.7364e-07 - val_accuracy: 1.0000 - val_precision_11: 1.0000 - val_recall_11: 1.0000\n",
      "Epoch 24/100\n",
      "346/346 [==============================] - 1s 2ms/step - loss: 3.7138e-04 - accuracy: 1.0000 - precision_11: 1.0000 - recall_11: 1.0000 - val_loss: 7.5958e-07 - val_accuracy: 1.0000 - val_precision_11: 1.0000 - val_recall_11: 1.0000\n",
      "Epoch 25/100\n",
      "346/346 [==============================] - 1s 2ms/step - loss: 2.0162e-04 - accuracy: 1.0000 - precision_11: 1.0000 - recall_11: 1.0000 - val_loss: 1.1913e-06 - val_accuracy: 1.0000 - val_precision_11: 1.0000 - val_recall_11: 1.0000\n",
      "Epoch 26/100\n",
      "346/346 [==============================] - 1s 2ms/step - loss: 6.5980e-04 - accuracy: 0.9998 - precision_11: 1.0000 - recall_11: 0.9997 - val_loss: 3.9931e-07 - val_accuracy: 1.0000 - val_precision_11: 1.0000 - val_recall_11: 1.0000\n",
      "Epoch 27/100\n",
      "346/346 [==============================] - 1s 2ms/step - loss: 2.5218e-04 - accuracy: 1.0000 - precision_11: 1.0000 - recall_11: 1.0000 - val_loss: 3.5541e-07 - val_accuracy: 1.0000 - val_precision_11: 1.0000 - val_recall_11: 1.0000\n",
      "Epoch 28/100\n",
      "346/346 [==============================] - 1s 3ms/step - loss: 3.6779e-04 - accuracy: 1.0000 - precision_11: 1.0000 - recall_11: 1.0000 - val_loss: 7.5621e-07 - val_accuracy: 1.0000 - val_precision_11: 1.0000 - val_recall_11: 1.0000\n",
      "Epoch 29/100\n",
      "346/346 [==============================] - 1s 3ms/step - loss: 7.1608e-04 - accuracy: 0.9998 - precision_11: 1.0000 - recall_11: 0.9997 - val_loss: 5.6585e-07 - val_accuracy: 1.0000 - val_precision_11: 1.0000 - val_recall_11: 1.0000\n",
      "Epoch 30/100\n",
      "346/346 [==============================] - 1s 2ms/step - loss: 2.6654e-04 - accuracy: 1.0000 - precision_11: 1.0000 - recall_11: 1.0000 - val_loss: 1.0339e-06 - val_accuracy: 1.0000 - val_precision_11: 1.0000 - val_recall_11: 1.0000\n",
      "Epoch 31/100\n",
      "346/346 [==============================] - 1s 3ms/step - loss: 1.3198e-04 - accuracy: 1.0000 - precision_11: 1.0000 - recall_11: 1.0000 - val_loss: 3.4416e-07 - val_accuracy: 1.0000 - val_precision_11: 1.0000 - val_recall_11: 1.0000\n",
      "Epoch 32/100\n",
      "346/346 [==============================] - 1s 2ms/step - loss: 2.4561e-04 - accuracy: 1.0000 - precision_11: 1.0000 - recall_11: 1.0000 - val_loss: 3.4293e-07 - val_accuracy: 1.0000 - val_precision_11: 1.0000 - val_recall_11: 1.0000\n",
      "Epoch 33/100\n",
      "346/346 [==============================] - 1s 2ms/step - loss: 1.7867e-04 - accuracy: 1.0000 - precision_11: 1.0000 - recall_11: 1.0000 - val_loss: 2.8429e-07 - val_accuracy: 1.0000 - val_precision_11: 1.0000 - val_recall_11: 1.0000\n",
      "Epoch 34/100\n",
      "346/346 [==============================] - 1s 3ms/step - loss: 1.5169e-04 - accuracy: 1.0000 - precision_11: 1.0000 - recall_11: 1.0000 - val_loss: 1.4389e-07 - val_accuracy: 1.0000 - val_precision_11: 1.0000 - val_recall_11: 1.0000\n",
      "Epoch 35/100\n",
      "346/346 [==============================] - 1s 3ms/step - loss: 2.1094e-04 - accuracy: 1.0000 - precision_11: 1.0000 - recall_11: 1.0000 - val_loss: 1.9679e-07 - val_accuracy: 1.0000 - val_precision_11: 1.0000 - val_recall_11: 1.0000\n",
      "Epoch 36/100\n",
      "346/346 [==============================] - 1s 4ms/step - loss: 6.1980e-04 - accuracy: 0.9998 - precision_11: 1.0000 - recall_11: 0.9997 - val_loss: 1.9873e-07 - val_accuracy: 1.0000 - val_precision_11: 1.0000 - val_recall_11: 1.0000\n",
      "Epoch 37/100\n",
      "346/346 [==============================] - 1s 2ms/step - loss: 4.1083e-04 - accuracy: 0.9998 - precision_11: 1.0000 - recall_11: 0.9997 - val_loss: 2.7561e-07 - val_accuracy: 1.0000 - val_precision_11: 1.0000 - val_recall_11: 1.0000\n",
      "Epoch 38/100\n",
      "346/346 [==============================] - 1s 3ms/step - loss: 1.2170e-04 - accuracy: 1.0000 - precision_11: 1.0000 - recall_11: 1.0000 - val_loss: 1.6087e-07 - val_accuracy: 1.0000 - val_precision_11: 1.0000 - val_recall_11: 1.0000\n",
      "Epoch 39/100\n",
      "346/346 [==============================] - 1s 2ms/step - loss: 1.9828e-04 - accuracy: 1.0000 - precision_11: 1.0000 - recall_11: 1.0000 - val_loss: 2.0434e-07 - val_accuracy: 1.0000 - val_precision_11: 1.0000 - val_recall_11: 1.0000\n",
      "Epoch 40/100\n",
      "346/346 [==============================] - 1s 2ms/step - loss: 1.8068e-04 - accuracy: 1.0000 - precision_11: 1.0000 - recall_11: 1.0000 - val_loss: 2.1007e-07 - val_accuracy: 1.0000 - val_precision_11: 1.0000 - val_recall_11: 1.0000\n",
      "Epoch 41/100\n",
      "346/346 [==============================] - 1s 3ms/step - loss: 9.6840e-05 - accuracy: 1.0000 - precision_11: 1.0000 - recall_11: 1.0000 - val_loss: 1.2005e-07 - val_accuracy: 1.0000 - val_precision_11: 1.0000 - val_recall_11: 1.0000\n",
      "Epoch 42/100\n",
      "346/346 [==============================] - 1s 2ms/step - loss: 3.9582e-05 - accuracy: 1.0000 - precision_11: 1.0000 - recall_11: 1.0000 - val_loss: 7.5434e-08 - val_accuracy: 1.0000 - val_precision_11: 1.0000 - val_recall_11: 1.0000\n",
      "Epoch 43/100\n",
      "346/346 [==============================] - 1s 2ms/step - loss: 5.6669e-05 - accuracy: 1.0000 - precision_11: 1.0000 - recall_11: 1.0000 - val_loss: 4.6357e-08 - val_accuracy: 1.0000 - val_precision_11: 1.0000 - val_recall_11: 1.0000\n",
      "Epoch 44/100\n",
      "346/346 [==============================] - 1s 2ms/step - loss: 2.8166e-05 - accuracy: 1.0000 - precision_11: 1.0000 - recall_11: 1.0000 - val_loss: 2.0510e-08 - val_accuracy: 1.0000 - val_precision_11: 1.0000 - val_recall_11: 1.0000\n",
      "Epoch 45/100\n",
      "346/346 [==============================] - 1s 3ms/step - loss: 2.9543e-05 - accuracy: 1.0000 - precision_11: 1.0000 - recall_11: 1.0000 - val_loss: 1.4096e-08 - val_accuracy: 1.0000 - val_precision_11: 1.0000 - val_recall_11: 1.0000\n",
      "Epoch 46/100\n",
      "346/346 [==============================] - 1s 3ms/step - loss: 9.0941e-04 - accuracy: 0.9998 - precision_11: 1.0000 - recall_11: 0.9997 - val_loss: 6.7715e-08 - val_accuracy: 1.0000 - val_precision_11: 1.0000 - val_recall_11: 1.0000\n",
      "Epoch 47/100\n",
      "346/346 [==============================] - 1s 2ms/step - loss: 1.0376e-04 - accuracy: 1.0000 - precision_11: 1.0000 - recall_11: 1.0000 - val_loss: 6.0304e-08 - val_accuracy: 1.0000 - val_precision_11: 1.0000 - val_recall_11: 1.0000\n",
      "Epoch 48/100\n",
      "346/346 [==============================] - 1s 3ms/step - loss: 6.8893e-05 - accuracy: 1.0000 - precision_11: 1.0000 - recall_11: 1.0000 - val_loss: 4.0362e-08 - val_accuracy: 1.0000 - val_precision_11: 1.0000 - val_recall_11: 1.0000\n",
      "Epoch 49/100\n",
      "346/346 [==============================] - 1s 2ms/step - loss: 9.0303e-05 - accuracy: 1.0000 - precision_11: 1.0000 - recall_11: 1.0000 - val_loss: 1.9824e-08 - val_accuracy: 1.0000 - val_precision_11: 1.0000 - val_recall_11: 1.0000\n",
      "Epoch 50/100\n",
      "346/346 [==============================] - 1s 3ms/step - loss: 5.6333e-05 - accuracy: 1.0000 - precision_11: 1.0000 - recall_11: 1.0000 - val_loss: 1.3351e-08 - val_accuracy: 1.0000 - val_precision_11: 1.0000 - val_recall_11: 1.0000\n",
      "Epoch 51/100\n",
      "346/346 [==============================] - 1s 2ms/step - loss: 4.5546e-05 - accuracy: 1.0000 - precision_11: 1.0000 - recall_11: 1.0000 - val_loss: 1.5104e-08 - val_accuracy: 1.0000 - val_precision_11: 1.0000 - val_recall_11: 1.0000\n",
      "Epoch 52/100\n",
      "346/346 [==============================] - 1s 3ms/step - loss: 2.6355e-04 - accuracy: 0.9998 - precision_11: 1.0000 - recall_11: 0.9997 - val_loss: 2.7513e-08 - val_accuracy: 1.0000 - val_precision_11: 1.0000 - val_recall_11: 1.0000\n",
      "Epoch 53/100\n",
      "346/346 [==============================] - 1s 2ms/step - loss: 3.3834e-04 - accuracy: 0.9998 - precision_11: 0.9997 - recall_11: 1.0000 - val_loss: 1.3526e-08 - val_accuracy: 1.0000 - val_precision_11: 1.0000 - val_recall_11: 1.0000\n",
      "Epoch 54/100\n",
      "346/346 [==============================] - 1s 2ms/step - loss: 6.7990e-05 - accuracy: 1.0000 - precision_11: 1.0000 - recall_11: 1.0000 - val_loss: 1.1965e-08 - val_accuracy: 1.0000 - val_precision_11: 1.0000 - val_recall_11: 1.0000\n",
      "Epoch 55/100\n",
      "346/346 [==============================] - 1s 2ms/step - loss: 6.8141e-04 - accuracy: 0.9998 - precision_11: 1.0000 - recall_11: 0.9997 - val_loss: 1.1158e-08 - val_accuracy: 1.0000 - val_precision_11: 1.0000 - val_recall_11: 1.0000\n",
      "Epoch 56/100\n",
      "346/346 [==============================] - 1s 2ms/step - loss: 6.4878e-05 - accuracy: 1.0000 - precision_11: 1.0000 - recall_11: 1.0000 - val_loss: 9.5360e-09 - val_accuracy: 1.0000 - val_precision_11: 1.0000 - val_recall_11: 1.0000\n",
      "Epoch 57/100\n",
      "346/346 [==============================] - 1s 3ms/step - loss: 5.3966e-05 - accuracy: 1.0000 - precision_11: 1.0000 - recall_11: 1.0000 - val_loss: 3.9583e-09 - val_accuracy: 1.0000 - val_precision_11: 1.0000 - val_recall_11: 1.0000\n",
      "Epoch 58/100\n",
      "346/346 [==============================] - 1s 2ms/step - loss: 7.1383e-04 - accuracy: 0.9996 - precision_11: 1.0000 - recall_11: 0.9993 - val_loss: 1.2743e-08 - val_accuracy: 1.0000 - val_precision_11: 1.0000 - val_recall_11: 1.0000\n",
      "Epoch 59/100\n",
      "346/346 [==============================] - 1s 3ms/step - loss: 6.9594e-05 - accuracy: 1.0000 - precision_11: 1.0000 - recall_11: 1.0000 - val_loss: 7.4107e-09 - val_accuracy: 1.0000 - val_precision_11: 1.0000 - val_recall_11: 1.0000\n",
      "Epoch 60/100\n",
      "346/346 [==============================] - 1s 2ms/step - loss: 1.8154e-04 - accuracy: 1.0000 - precision_11: 1.0000 - recall_11: 1.0000 - val_loss: 1.5179e-08 - val_accuracy: 1.0000 - val_precision_11: 1.0000 - val_recall_11: 1.0000\n",
      "Epoch 61/100\n",
      "346/346 [==============================] - 1s 3ms/step - loss: 1.6729e-04 - accuracy: 1.0000 - precision_11: 1.0000 - recall_11: 1.0000 - val_loss: 9.1260e-09 - val_accuracy: 1.0000 - val_precision_11: 1.0000 - val_recall_11: 1.0000\n",
      "Epoch 62/100\n",
      "346/346 [==============================] - 1s 2ms/step - loss: 1.0143e-04 - accuracy: 1.0000 - precision_11: 1.0000 - recall_11: 1.0000 - val_loss: 1.3269e-08 - val_accuracy: 1.0000 - val_precision_11: 1.0000 - val_recall_11: 1.0000\n",
      "Epoch 63/100\n",
      "346/346 [==============================] - 1s 2ms/step - loss: 2.8641e-04 - accuracy: 0.9998 - precision_11: 1.0000 - recall_11: 0.9997 - val_loss: 6.3022e-09 - val_accuracy: 1.0000 - val_precision_11: 1.0000 - val_recall_11: 1.0000\n",
      "Epoch 64/100\n",
      "346/346 [==============================] - 1s 3ms/step - loss: 7.7068e-04 - accuracy: 0.9996 - precision_11: 1.0000 - recall_11: 0.9993 - val_loss: 5.2537e-09 - val_accuracy: 1.0000 - val_precision_11: 1.0000 - val_recall_11: 1.0000\n",
      "Epoch 65/100\n",
      "346/346 [==============================] - 1s 2ms/step - loss: 6.7614e-04 - accuracy: 0.9998 - precision_11: 1.0000 - recall_11: 0.9997 - val_loss: 2.1718e-09 - val_accuracy: 1.0000 - val_precision_11: 1.0000 - val_recall_11: 1.0000\n",
      "Epoch 66/100\n",
      "346/346 [==============================] - 1s 3ms/step - loss: 1.3371e-04 - accuracy: 1.0000 - precision_11: 1.0000 - recall_11: 1.0000 - val_loss: 5.4509e-09 - val_accuracy: 1.0000 - val_precision_11: 1.0000 - val_recall_11: 1.0000\n",
      "Epoch 67/100\n",
      "346/346 [==============================] - 1s 3ms/step - loss: 6.7728e-04 - accuracy: 0.9998 - precision_11: 1.0000 - recall_11: 0.9997 - val_loss: 3.2117e-09 - val_accuracy: 1.0000 - val_precision_11: 1.0000 - val_recall_11: 1.0000\n",
      "Epoch 68/100\n",
      "346/346 [==============================] - 1s 3ms/step - loss: 3.4488e-05 - accuracy: 1.0000 - precision_11: 1.0000 - recall_11: 1.0000 - val_loss: 2.0178e-09 - val_accuracy: 1.0000 - val_precision_11: 1.0000 - val_recall_11: 1.0000\n",
      "Epoch 69/100\n",
      "346/346 [==============================] - 1s 4ms/step - loss: 4.2477e-05 - accuracy: 1.0000 - precision_11: 1.0000 - recall_11: 1.0000 - val_loss: 2.4441e-09 - val_accuracy: 1.0000 - val_precision_11: 1.0000 - val_recall_11: 1.0000\n",
      "Epoch 70/100\n",
      "346/346 [==============================] - 1s 3ms/step - loss: 7.1538e-04 - accuracy: 0.9996 - precision_11: 1.0000 - recall_11: 0.9993 - val_loss: 7.7289e-09 - val_accuracy: 1.0000 - val_precision_11: 1.0000 - val_recall_11: 1.0000\n",
      "Epoch 71/100\n",
      "346/346 [==============================] - 1s 2ms/step - loss: 1.1010e-04 - accuracy: 1.0000 - precision_11: 1.0000 - recall_11: 1.0000 - val_loss: 2.9467e-09 - val_accuracy: 1.0000 - val_precision_11: 1.0000 - val_recall_11: 1.0000\n",
      "Epoch 72/100\n",
      "346/346 [==============================] - 1s 2ms/step - loss: 6.0975e-05 - accuracy: 1.0000 - precision_11: 1.0000 - recall_11: 1.0000 - val_loss: 1.7352e-09 - val_accuracy: 1.0000 - val_precision_11: 1.0000 - val_recall_11: 1.0000\n",
      "Epoch 73/100\n",
      "346/346 [==============================] - 1s 2ms/step - loss: 6.8676e-05 - accuracy: 1.0000 - precision_11: 1.0000 - recall_11: 1.0000 - val_loss: 1.3465e-09 - val_accuracy: 1.0000 - val_precision_11: 1.0000 - val_recall_11: 1.0000\n",
      "Epoch 74/100\n",
      "346/346 [==============================] - 1s 2ms/step - loss: 5.4797e-05 - accuracy: 1.0000 - precision_11: 1.0000 - recall_11: 1.0000 - val_loss: 1.3390e-09 - val_accuracy: 1.0000 - val_precision_11: 1.0000 - val_recall_11: 1.0000\n",
      "Epoch 75/100\n",
      "346/346 [==============================] - 1s 2ms/step - loss: 5.2294e-05 - accuracy: 1.0000 - precision_11: 1.0000 - recall_11: 1.0000 - val_loss: 6.8555e-10 - val_accuracy: 1.0000 - val_precision_11: 1.0000 - val_recall_11: 1.0000\n",
      "Epoch 76/100\n",
      "346/346 [==============================] - 1s 2ms/step - loss: 2.1798e-04 - accuracy: 0.9998 - precision_11: 1.0000 - recall_11: 0.9997 - val_loss: 7.7219e-10 - val_accuracy: 1.0000 - val_precision_11: 1.0000 - val_recall_11: 1.0000\n",
      "Epoch 77/100\n",
      "346/346 [==============================] - 1s 2ms/step - loss: 1.3781e-04 - accuracy: 1.0000 - precision_11: 1.0000 - recall_11: 1.0000 - val_loss: 7.4331e-10 - val_accuracy: 1.0000 - val_precision_11: 1.0000 - val_recall_11: 1.0000\n",
      "Epoch 78/100\n",
      "346/346 [==============================] - 1s 2ms/step - loss: 6.8644e-05 - accuracy: 1.0000 - precision_11: 1.0000 - recall_11: 1.0000 - val_loss: 6.9177e-10 - val_accuracy: 1.0000 - val_precision_11: 1.0000 - val_recall_11: 1.0000\n",
      "Epoch 79/100\n",
      "346/346 [==============================] - 1s 2ms/step - loss: 6.9581e-04 - accuracy: 0.9998 - precision_11: 1.0000 - recall_11: 0.9997 - val_loss: 5.5960e-10 - val_accuracy: 1.0000 - val_precision_11: 1.0000 - val_recall_11: 1.0000\n",
      "Epoch 80/100\n",
      "346/346 [==============================] - 1s 2ms/step - loss: 2.8846e-05 - accuracy: 1.0000 - precision_11: 1.0000 - recall_11: 1.0000 - val_loss: 3.8856e-10 - val_accuracy: 1.0000 - val_precision_11: 1.0000 - val_recall_11: 1.0000\n",
      "Epoch 81/100\n",
      "346/346 [==============================] - 1s 2ms/step - loss: 5.6147e-05 - accuracy: 1.0000 - precision_11: 1.0000 - recall_11: 1.0000 - val_loss: 5.1418e-10 - val_accuracy: 1.0000 - val_precision_11: 1.0000 - val_recall_11: 1.0000\n",
      "Epoch 82/100\n",
      "346/346 [==============================] - 1s 3ms/step - loss: 1.1269e-04 - accuracy: 1.0000 - precision_11: 1.0000 - recall_11: 1.0000 - val_loss: 4.9961e-09 - val_accuracy: 1.0000 - val_precision_11: 1.0000 - val_recall_11: 1.0000\n",
      "Epoch 83/100\n",
      "346/346 [==============================] - 1s 3ms/step - loss: 6.6418e-04 - accuracy: 0.9998 - precision_11: 1.0000 - recall_11: 0.9997 - val_loss: 2.5584e-09 - val_accuracy: 1.0000 - val_precision_11: 1.0000 - val_recall_11: 1.0000\n",
      "Epoch 84/100\n",
      "346/346 [==============================] - 1s 3ms/step - loss: 4.6243e-04 - accuracy: 0.9998 - precision_11: 1.0000 - recall_11: 0.9997 - val_loss: 1.1590e-09 - val_accuracy: 1.0000 - val_precision_11: 1.0000 - val_recall_11: 1.0000\n",
      "Epoch 85/100\n",
      "346/346 [==============================] - 1s 2ms/step - loss: 8.1694e-05 - accuracy: 1.0000 - precision_11: 1.0000 - recall_11: 1.0000 - val_loss: 5.4680e-10 - val_accuracy: 1.0000 - val_precision_11: 1.0000 - val_recall_11: 1.0000\n",
      "Epoch 86/100\n",
      "346/346 [==============================] - 1s 3ms/step - loss: 3.2234e-05 - accuracy: 1.0000 - precision_11: 1.0000 - recall_11: 1.0000 - val_loss: 4.0623e-10 - val_accuracy: 1.0000 - val_precision_11: 1.0000 - val_recall_11: 1.0000\n",
      "Epoch 87/100\n",
      "346/346 [==============================] - 1s 3ms/step - loss: 6.3014e-05 - accuracy: 1.0000 - precision_11: 1.0000 - recall_11: 1.0000 - val_loss: 5.9001e-10 - val_accuracy: 1.0000 - val_precision_11: 1.0000 - val_recall_11: 1.0000\n",
      "Epoch 88/100\n",
      "346/346 [==============================] - 1s 2ms/step - loss: 7.5633e-05 - accuracy: 1.0000 - precision_11: 1.0000 - recall_11: 1.0000 - val_loss: 2.4205e-10 - val_accuracy: 1.0000 - val_precision_11: 1.0000 - val_recall_11: 1.0000\n",
      "Epoch 89/100\n",
      "346/346 [==============================] - 1s 2ms/step - loss: 4.5628e-05 - accuracy: 1.0000 - precision_11: 1.0000 - recall_11: 1.0000 - val_loss: 3.2761e-10 - val_accuracy: 1.0000 - val_precision_11: 1.0000 - val_recall_11: 1.0000\n",
      "Epoch 90/100\n",
      "346/346 [==============================] - 1s 3ms/step - loss: 5.5954e-05 - accuracy: 1.0000 - precision_11: 1.0000 - recall_11: 1.0000 - val_loss: 1.8607e-10 - val_accuracy: 1.0000 - val_precision_11: 1.0000 - val_recall_11: 1.0000\n",
      "Epoch 91/100\n",
      "346/346 [==============================] - 1s 2ms/step - loss: 2.0247e-05 - accuracy: 1.0000 - precision_11: 1.0000 - recall_11: 1.0000 - val_loss: 9.0573e-11 - val_accuracy: 1.0000 - val_precision_11: 1.0000 - val_recall_11: 1.0000\n",
      "Epoch 92/100\n",
      "346/346 [==============================] - 1s 2ms/step - loss: 6.8596e-04 - accuracy: 0.9998 - precision_11: 1.0000 - recall_11: 0.9997 - val_loss: 8.0441e-11 - val_accuracy: 1.0000 - val_precision_11: 1.0000 - val_recall_11: 1.0000\n",
      "Epoch 93/100\n",
      "346/346 [==============================] - 1s 2ms/step - loss: 4.8190e-05 - accuracy: 1.0000 - precision_11: 1.0000 - recall_11: 1.0000 - val_loss: 6.7344e-11 - val_accuracy: 1.0000 - val_precision_11: 1.0000 - val_recall_11: 1.0000\n",
      "Epoch 94/100\n",
      "346/346 [==============================] - 1s 3ms/step - loss: 5.2258e-05 - accuracy: 1.0000 - precision_11: 1.0000 - recall_11: 1.0000 - val_loss: 4.5692e-11 - val_accuracy: 1.0000 - val_precision_11: 1.0000 - val_recall_11: 1.0000\n",
      "Epoch 95/100\n",
      "346/346 [==============================] - 1s 3ms/step - loss: 1.1364e-04 - accuracy: 1.0000 - precision_11: 1.0000 - recall_11: 1.0000 - val_loss: 8.4225e-11 - val_accuracy: 1.0000 - val_precision_11: 1.0000 - val_recall_11: 1.0000\n",
      "Epoch 96/100\n",
      "346/346 [==============================] - 1s 3ms/step - loss: 2.0525e-04 - accuracy: 0.9998 - precision_11: 0.9997 - recall_11: 1.0000 - val_loss: 2.0629e-11 - val_accuracy: 1.0000 - val_precision_11: 1.0000 - val_recall_11: 1.0000\n",
      "Epoch 97/100\n",
      "346/346 [==============================] - 1s 2ms/step - loss: 1.3966e-05 - accuracy: 1.0000 - precision_11: 1.0000 - recall_11: 1.0000 - val_loss: 1.7313e-11 - val_accuracy: 1.0000 - val_precision_11: 1.0000 - val_recall_11: 1.0000\n",
      "Epoch 98/100\n",
      "346/346 [==============================] - 1s 2ms/step - loss: 3.7397e-05 - accuracy: 1.0000 - precision_11: 1.0000 - recall_11: 1.0000 - val_loss: 2.4256e-11 - val_accuracy: 1.0000 - val_precision_11: 1.0000 - val_recall_11: 1.0000\n",
      "Epoch 99/100\n",
      "346/346 [==============================] - 1s 2ms/step - loss: 7.0888e-04 - accuracy: 0.9998 - precision_11: 1.0000 - recall_11: 0.9997 - val_loss: 6.8962e-12 - val_accuracy: 1.0000 - val_precision_11: 1.0000 - val_recall_11: 1.0000\n",
      "Epoch 100/100\n",
      "346/346 [==============================] - 1s 2ms/step - loss: 1.4896e-05 - accuracy: 1.0000 - precision_11: 1.0000 - recall_11: 1.0000 - val_loss: 6.6293e-12 - val_accuracy: 1.0000 - val_precision_11: 1.0000 - val_recall_11: 1.0000\n"
     ]
    }
   ],
   "source": [
    "model = build_model()\n",
    "\n",
    "training_history = model.fit(dataset_train, epochs=num_epochs, validation_data=dataset_val)"
   ]
  },
  {
   "cell_type": "markdown",
   "metadata": {},
   "source": [
    "Plotting accuracy"
   ]
  },
  {
   "cell_type": "code",
   "execution_count": 377,
   "metadata": {},
   "outputs": [
    {
     "data": {
      "text/plain": [
       "dict_keys(['loss', 'accuracy', 'precision_11', 'recall_11', 'val_loss', 'val_accuracy', 'val_precision_11', 'val_recall_11'])"
      ]
     },
     "execution_count": 377,
     "metadata": {},
     "output_type": "execute_result"
    }
   ],
   "source": [
    "training_history.history.keys()"
   ]
  },
  {
   "cell_type": "code",
   "execution_count": 379,
   "metadata": {},
   "outputs": [
    {
     "data": {
      "text/plain": [
       "<matplotlib.legend.Legend at 0x196ddd2e708>"
      ]
     },
     "execution_count": 379,
     "metadata": {},
     "output_type": "execute_result"
    },
    {
     "data": {
      "image/png": "[encoded data removed]",
      "text/plain": [
       "<Figure size 1008x576 with 2 Axes>"
      ]
     },
     "metadata": {
      "needs_background": "light"
     },
     "output_type": "display_data"
    }
   ],
   "source": [
    "train_acc = training_history.history['accuracy']\n",
    "train_loss = training_history.history['loss']\n",
    "\n",
    "precision = training_history.history['precision_11']\n",
    "recall = training_history.history['recall_11']\n",
    "\n",
    "epochs_range = range(num_epochs)\n",
    "\n",
    "plt.figure(figsize=(14, 8))\n",
    "\n",
    "plt.subplot(1, 2, 1)\n",
    "\n",
    "plt.plot(epochs_range, train_acc, label='Training Accuracy')\n",
    "plt.plot(epochs_range, train_loss, label='Training Loss')\n",
    "\n",
    "plt.title('Accuracy and Loss')\n",
    "plt.legend()\n",
    "\n",
    "plt.subplot(1, 2, 2)\n",
    "\n",
    "plt.plot(epochs_range, precision, label='Precision')\n",
    "plt.plot(epochs_range, recall, label='Recall')\n",
    "\n",
    "plt.title('Precision and Recall')\n",
    "plt.legend()"
   ]
  },
  {
   "cell_type": "markdown",
   "metadata": {},
   "source": [
    "Model evaluation"
   ]
  },
  {
   "cell_type": "code",
   "execution_count": 380,
   "metadata": {},
   "outputs": [
    {
     "name": "stdout",
     "output_type": "stream",
     "text": [
      "1625/1625 [==============================] - 0s 31us/sample - loss: 3.6621e-07 - accuracy: 1.0000 - precision_11: 1.0000 - recall_11: 1.0000\n"
     ]
    },
    {
     "data": {
      "text/plain": [
       "loss            3.662073e-07\n",
       "accuracy        1.000000e+00\n",
       "precision_11    1.000000e+00\n",
       "recall_11       1.000000e+00\n",
       "dtype: float64"
      ]
     },
     "execution_count": 380,
     "metadata": {},
     "output_type": "execute_result"
    }
   ],
   "source": [
    "score = model.evaluate(x_test, y_test)\n",
    "\n",
    "score_df = pd.Series(score, index = model.metrics_names)\n",
    "\n",
    "score_df"
   ]
  },
  {
   "cell_type": "markdown",
   "metadata": {},
   "source": [
    "Prediction"
   ]
  },
  {
   "cell_type": "code",
   "execution_count": 381,
   "metadata": {},
   "outputs": [
    {
     "data": {
      "text/plain": [
       "array([[1.],\n",
       "       [0.],\n",
       "       [0.],\n",
       "       [0.],\n",
       "       [1.],\n",
       "       [0.],\n",
       "       [0.],\n",
       "       [1.],\n",
       "       [0.],\n",
       "       [0.]], dtype=float32)"
      ]
     },
     "execution_count": 381,
     "metadata": {},
     "output_type": "execute_result"
    }
   ],
   "source": [
    "y_pred = model.predict(x_test)\n",
    "\n",
    "y_pred[:10]"
   ]
  },
  {
   "cell_type": "code",
   "execution_count": 382,
   "metadata": {},
   "outputs": [],
   "source": [
    "y_pred = np.where(y_pred>=0.5, 1, y_pred)\n",
    "\n",
    "y_pred = np.where(y_pred<0.5, 0, y_pred)"
   ]
  },
  {
   "cell_type": "code",
   "execution_count": 383,
   "metadata": {},
   "outputs": [
    {
     "data": {
      "text/plain": [
       "array([[1.],\n",
       "       [0.],\n",
       "       [0.],\n",
       "       [0.],\n",
       "       [1.],\n",
       "       [0.],\n",
       "       [0.],\n",
       "       [1.],\n",
       "       [0.],\n",
       "       [0.]], dtype=float32)"
      ]
     },
     "execution_count": 383,
     "metadata": {},
     "output_type": "execute_result"
    }
   ],
   "source": [
    "y_pred[:10]"
   ]
  },
  {
   "cell_type": "code",
   "execution_count": 384,
   "metadata": {},
   "outputs": [],
   "source": [
    "pred_results = pd.DataFrame({'y_test': y_test.values.flatten(),\n",
    "                             'y_pred': y_pred.flatten().astype('int32') }, index = range(len(y_pred)))"
   ]
  },
  {
   "cell_type": "code",
   "execution_count": 385,
   "metadata": {},
   "outputs": [
    {
     "data": {
      "text/html": [
       "<div>\n",
       "<style scoped>\n",
       "    .dataframe tbody tr th:only-of-type {\n",
       "        vertical-align: middle;\n",
       "    }\n",
       "\n",
       "    .dataframe tbody tr th {\n",
       "        vertical-align: top;\n",
       "    }\n",
       "\n",
       "    .dataframe thead th {\n",
       "        text-align: right;\n",
       "    }\n",
       "</style>\n",
       "<table border=\"1\" class=\"dataframe\">\n",
       "  <thead>\n",
       "    <tr style=\"text-align: right;\">\n",
       "      <th></th>\n",
       "      <th>y_test</th>\n",
       "      <th>y_pred</th>\n",
       "    </tr>\n",
       "  </thead>\n",
       "  <tbody>\n",
       "    <tr>\n",
       "      <th>1456</th>\n",
       "      <td>1</td>\n",
       "      <td>1</td>\n",
       "    </tr>\n",
       "    <tr>\n",
       "      <th>464</th>\n",
       "      <td>1</td>\n",
       "      <td>1</td>\n",
       "    </tr>\n",
       "    <tr>\n",
       "      <th>1405</th>\n",
       "      <td>0</td>\n",
       "      <td>0</td>\n",
       "    </tr>\n",
       "    <tr>\n",
       "      <th>471</th>\n",
       "      <td>0</td>\n",
       "      <td>0</td>\n",
       "    </tr>\n",
       "    <tr>\n",
       "      <th>246</th>\n",
       "      <td>1</td>\n",
       "      <td>1</td>\n",
       "    </tr>\n",
       "    <tr>\n",
       "      <th>776</th>\n",
       "      <td>1</td>\n",
       "      <td>1</td>\n",
       "    </tr>\n",
       "    <tr>\n",
       "      <th>437</th>\n",
       "      <td>0</td>\n",
       "      <td>0</td>\n",
       "    </tr>\n",
       "    <tr>\n",
       "      <th>1250</th>\n",
       "      <td>0</td>\n",
       "      <td>0</td>\n",
       "    </tr>\n",
       "    <tr>\n",
       "      <th>515</th>\n",
       "      <td>1</td>\n",
       "      <td>1</td>\n",
       "    </tr>\n",
       "    <tr>\n",
       "      <th>1482</th>\n",
       "      <td>1</td>\n",
       "      <td>1</td>\n",
       "    </tr>\n",
       "  </tbody>\n",
       "</table>\n",
       "</div>"
      ],
      "text/plain": [
       "      y_test  y_pred\n",
       "1456       1       1\n",
       "464        1       1\n",
       "1405       0       0\n",
       "471        0       0\n",
       "246        1       1\n",
       "776        1       1\n",
       "437        0       0\n",
       "1250       0       0\n",
       "515        1       1\n",
       "1482       1       1"
      ]
     },
     "execution_count": 385,
     "metadata": {},
     "output_type": "execute_result"
    }
   ],
   "source": [
    "pred_results.sample(10)"
   ]
  },
  {
   "cell_type": "code",
   "execution_count": 386,
   "metadata": {},
   "outputs": [
    {
     "data": {
      "text/html": [
       "<div>\n",
       "<style scoped>\n",
       "    .dataframe tbody tr th:only-of-type {\n",
       "        vertical-align: middle;\n",
       "    }\n",
       "\n",
       "    .dataframe tbody tr th {\n",
       "        vertical-align: top;\n",
       "    }\n",
       "\n",
       "    .dataframe thead th {\n",
       "        text-align: right;\n",
       "    }\n",
       "</style>\n",
       "<table border=\"1\" class=\"dataframe\">\n",
       "  <thead>\n",
       "    <tr style=\"text-align: right;\">\n",
       "      <th>y_test</th>\n",
       "      <th>0</th>\n",
       "      <th>1</th>\n",
       "    </tr>\n",
       "    <tr>\n",
       "      <th>y_pred</th>\n",
       "      <th></th>\n",
       "      <th></th>\n",
       "    </tr>\n",
       "  </thead>\n",
       "  <tbody>\n",
       "    <tr>\n",
       "      <th>0</th>\n",
       "      <td>805</td>\n",
       "      <td>0</td>\n",
       "    </tr>\n",
       "    <tr>\n",
       "      <th>1</th>\n",
       "      <td>0</td>\n",
       "      <td>820</td>\n",
       "    </tr>\n",
       "  </tbody>\n",
       "</table>\n",
       "</div>"
      ],
      "text/plain": [
       "y_test    0    1\n",
       "y_pred          \n",
       "0       805    0\n",
       "1         0  820"
      ]
     },
     "execution_count": 386,
     "metadata": {},
     "output_type": "execute_result"
    }
   ],
   "source": [
    "pd.crosstab(pred_results.y_pred, pred_results.y_test)"
   ]
  },
  {
   "cell_type": "code",
   "execution_count": 387,
   "metadata": {},
   "outputs": [],
   "source": [
    "from sklearn.metrics import accuracy_score, precision_score, recall_score"
   ]
  },
  {
   "cell_type": "code",
   "execution_count": 388,
   "metadata": {},
   "outputs": [
    {
     "data": {
      "text/plain": [
       "1.0"
      ]
     },
     "execution_count": 388,
     "metadata": {},
     "output_type": "execute_result"
    }
   ],
   "source": [
    "accuracy_score(y_test, y_pred)"
   ]
  },
  {
   "cell_type": "code",
   "execution_count": 389,
   "metadata": {},
   "outputs": [
    {
     "data": {
      "text/plain": [
       "1.0"
      ]
     },
     "execution_count": 389,
     "metadata": {},
     "output_type": "execute_result"
    }
   ],
   "source": [
    "precision_score(y_test, y_pred)"
   ]
  },
  {
   "cell_type": "code",
   "execution_count": 390,
   "metadata": {},
   "outputs": [
    {
     "data": {
      "text/plain": [
       "1.0"
      ]
     },
     "execution_count": 390,
     "metadata": {},
     "output_type": "execute_result"
    }
   ],
   "source": [
    "recall_score(y_test, y_pred)"
   ]
  },
  {
   "cell_type": "code",
   "execution_count": null,
   "metadata": {},
   "outputs": [],
   "source": []
  }
 ],
 "metadata": {
  "kernelspec": {
   "display_name": "Python 3",
   "language": "python",
   "name": "python3"
  },
  "language_info": {
   "codemirror_mode": {
    "name": "ipython",
    "version": 3
   },
   "file_extension": ".py",
   "mimetype": "text/x-python",
   "name": "python",
   "nbconvert_exporter": "python",
   "pygments_lexer": "ipython3",
   "version": "3.7.4"
  }
 },
 "nbformat": 4,
 "nbformat_minor": 4
}
